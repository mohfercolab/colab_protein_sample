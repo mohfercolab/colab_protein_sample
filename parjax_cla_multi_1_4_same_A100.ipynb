{
  "cells": [
    {
      "cell_type": "markdown",
      "metadata": {
        "id": "view-in-github",
        "colab_type": "text"
      },
      "source": [
        "<a href=\"https://colab.research.google.com/github/mohfercolab/colab_protein_sample/blob/main/parjax_cla_multi_1_4_same_A100.ipynb\" target=\"_parent\"><img src=\"https://colab.research.google.com/assets/colab-badge.svg\" alt=\"Open In Colab\"/></a>"
      ]
    },
    {
      "cell_type": "code",
      "source": [
        "#@title Initialize_time\n",
        "import time\n",
        "\n",
        "# Initialize an empty file\n",
        "with open('/content/time_cell_11_15_Z_A_A100.txt', 'w') as file:\n",
        "    file.write('')\n",
        "\n",
        "\n",
        "def log_execution_time(start_time, cell_title):\n",
        "    end_time = time.time()\n",
        "    execution_time = end_time - start_time\n",
        "\n",
        "    with open('/content/time_cell_11_15_Z_A_A100.txt', 'a') as file:\n",
        "        file.write(f\"execution_time_{cell_title}, {execution_time}\\n\")\n",
        "\n",
        "from_beginning_to_end = \"Start_running_the_code\"\n",
        "code_start_time = time.time()"
      ],
      "metadata": {
        "id": "el4dU4_088Xh"
      },
      "execution_count": null,
      "outputs": []
    },
    {
      "cell_type": "code",
      "execution_count": null,
      "metadata": {
        "id": "Iu_wXmRquKlk"
      },
      "outputs": [],
      "source": [
        "#@title clone\n",
        "%%capture\n",
        "cell_title = \"clone\"\n",
        "start_time = time.time()\n",
        "\n",
        "!git clone https://github.com/Zuricho/ParallelFold.git\n",
        "!git clone https://github.com/fereidoon27/jaxalpha.git\n",
        "\n",
        "log_execution_time(start_time, cell_title)"
      ]
    },
    {
      "cell_type": "code",
      "execution_count": null,
      "metadata": {
        "collapsed": true,
        "id": "71M2Wr3NuZfM",
        "cellView": "form"
      },
      "outputs": [],
      "source": [
        "#@title Miniconda\n",
        "%%capture\n",
        "cell_title = \"Miniconda\"\n",
        "start_time = time.time()\n",
        "\n",
        "# Install Miniconda\n",
        "!wget https://repo.anaconda.com/miniconda/Miniconda3-latest-Linux-x86_64.sh\n",
        "!chmod +x Miniconda3-latest-Linux-x86_64.sh\n",
        "!bash ./Miniconda3-latest-Linux-x86_64.sh -b -f -p /usr/local\n",
        "\n",
        "# Initialize Conda\n",
        "import sys\n",
        "sys.path.append('/usr/local/lib/python3.8/site-packages')\n",
        "\n",
        "# Configure conda\n",
        "!conda init bash\n",
        "!source ~/.bashrc\n",
        "\n",
        "# Update conda\n",
        "!conda update conda -y\n",
        "\n",
        "log_execution_time(start_time, cell_title)"
      ]
    },
    {
      "cell_type": "code",
      "execution_count": null,
      "metadata": {
        "collapsed": true,
        "id": "lr6PZXRiufLc",
        "cellView": "form"
      },
      "outputs": [],
      "source": [
        "#@title parafold_env\n",
        "%%capture\n",
        "cell_title = \"parafold_env\"\n",
        "start_time = time.time()\n",
        "\n",
        "# Recommend you to use python 3.8, version < 3.7 have missing packages, python versions newer than 3.8 were not tested\n",
        "!conda create -n parafold python=3.8 -y\n",
        "\n",
        "log_execution_time(start_time, cell_title)"
      ]
    },
    {
      "cell_type": "code",
      "execution_count": null,
      "metadata": {
        "id": "ag5mSJ5fvZRA",
        "cellView": "form"
      },
      "outputs": [],
      "source": [
        "#@title testing_activate_parafold\n",
        "%%capture\n",
        "cell_title = \"testing_activate_parafold\"\n",
        "start_time = time.time()\n",
        "\n",
        "!source activate parafold && { \\\n",
        "    echo \"Setting up the parafold environment\"; \\\n",
        "    echo \"Current Python version:\"; \\\n",
        "    python --version; \\\n",
        "    }\n",
        "\n",
        "log_execution_time(start_time, cell_title)"
      ]
    },
    {
      "cell_type": "code",
      "execution_count": null,
      "metadata": {
        "id": "qw3B2zQgxgw1",
        "cellView": "form"
      },
      "outputs": [],
      "source": [
        "#@title install_py3dmol\n",
        "%%capture\n",
        "cell_title = \"install_py3dmol\"\n",
        "start_time = time.time()\n",
        "\n",
        "#install py3dmol\n",
        "!source activate parafold && pip install py3dmol\n",
        "\n",
        "log_execution_time(start_time, cell_title)"
      ]
    },
    {
      "cell_type": "code",
      "execution_count": null,
      "metadata": {
        "collapsed": true,
        "id": "nhH-cpF51ao4",
        "cellView": "form"
      },
      "outputs": [],
      "source": [
        "#@title install_openmm\n",
        "%%capture\n",
        "cell_title = \"install_openmm\"\n",
        "start_time = time.time()\n",
        "\n",
        "# openmm 7.7 is recommended (original alphafold using 7.5.1, but it is not supported now)\n",
        "!source activate parafold && conda install -c conda-forge openmm=7.7 pdbfixer -y\n",
        "\n",
        "log_execution_time(start_time, cell_title)"
      ]
    },
    {
      "cell_type": "code",
      "execution_count": null,
      "metadata": {
        "collapsed": true,
        "id": "uW7VE2hi1jwl",
        "cellView": "form"
      },
      "outputs": [],
      "source": [
        "#@title install_requirements\n",
        "%%capture\n",
        "cell_title = \"install_requirements\"\n",
        "start_time = time.time()\n",
        "\n",
        "%cd ParallelFold\n",
        "#install requirements\n",
        "!source activate parafold && pip3 install -r requirements.txt\n",
        "\n",
        "log_execution_time(start_time, cell_title)"
      ]
    },
    {
      "cell_type": "code",
      "execution_count": null,
      "metadata": {
        "collapsed": true,
        "id": "1P1qlWikHrT4",
        "cellView": "form"
      },
      "outputs": [],
      "source": [
        "#@title install_cuda_and_cudnn\n",
        "%%capture\n",
        "cell_title = \"install_cuda_and_cudnn\"\n",
        "start_time = time.time()\n",
        "\n",
        "# cudatoolkit 11.3.1 matches cudnn 8.2.1\n",
        "!source activate parafold && echo 'y' | conda install cudatoolkit=11.3 cudnn -y\n",
        "\n",
        "log_execution_time(start_time, cell_title)"
      ]
    },
    {
      "cell_type": "code",
      "execution_count": null,
      "metadata": {
        "collapsed": true,
        "id": "BdbRAX2JI44X",
        "cellView": "form"
      },
      "outputs": [],
      "source": [
        "#@title downgrade_jaxlib\n",
        "%%capture\n",
        "cell_title = \"downgrade_jaxlib\"\n",
        "start_time = time.time()\n",
        "\n",
        "# downgrade jaxlib to the correct version, matches with cuda and cudnn version\n",
        "!source activate parafold && pip3 install --upgrade --no-cache-dir jax==0.3.25 jaxlib==0.3.25+cuda11.cudnn82 -f https://storage.googleapis.com/jax-releases/jax_cuda_releases.html\n",
        "\n",
        "log_execution_time(start_time, cell_title)"
      ]
    },
    {
      "cell_type": "code",
      "execution_count": null,
      "metadata": {
        "collapsed": true,
        "id": "-O_Df8cdJAKj",
        "cellView": "form"
      },
      "outputs": [],
      "source": [
        "#@title packages_for_MSA\n",
        "%%capture\n",
        "cell_title = \"packages_for_MSA\"\n",
        "start_time = time.time()\n",
        "\n",
        "# install packages for multiple sequence alignment\n",
        "!source activate parafold && conda install -c bioconda hmmer=3.3.2 hhsuite=3.3.0 kalign2=2.04 -y\n",
        "\n",
        "log_execution_time(start_time, cell_title)"
      ]
    },
    {
      "cell_type": "code",
      "execution_count": null,
      "metadata": {
        "collapsed": true,
        "id": "zmue22y1c7LC",
        "cellView": "form"
      },
      "outputs": [],
      "source": [
        "#@title aria2\n",
        "%%capture\n",
        "cell_title = \"aria2\"\n",
        "start_time = time.time()\n",
        "\n",
        "!source activate parafold && conda install aria2 -y\n",
        "\n",
        "log_execution_time(start_time, cell_title)"
      ]
    },
    {
      "cell_type": "code",
      "source": [
        "#@title alphafold_params\n",
        "%%capture\n",
        "cell_title = \"alphafold_params\"\n",
        "start_time = time.time()\n",
        "\n",
        "!source activate parafold && bash /content/ParallelFold/scripts/download_alphafold_params.sh /content/ParallelFold\n",
        "\n",
        "log_execution_time(start_time, cell_title)"
      ],
      "metadata": {
        "id": "iglOn5cGF7gC",
        "cellView": "form"
      },
      "execution_count": null,
      "outputs": []
    },
    {
      "cell_type": "code",
      "execution_count": null,
      "metadata": {
        "collapsed": true,
        "id": "IOE5ESGGOaT5"
      },
      "outputs": [],
      "source": [
        "#@title directory\n",
        "!mv /content/jaxalpha/parjax_cla_multi_GoogleColab.py /content/ParallelFold\n",
        "%cd /content/ParallelFold/\n",
        "#!chmod +x parjax_cla_multi_GoogleColab.sh"
      ]
    },
    {
      "cell_type": "code",
      "source": [
        "cell_title = \"prediction_1_4_same_A100\"\n",
        "start_time = time.time()"
      ],
      "metadata": {
        "id": "QzSv4dVwHnr1"
      },
      "execution_count": 45,
      "outputs": []
    },
    {
      "cell_type": "code",
      "execution_count": 46,
      "metadata": {
        "collapsed": true,
        "id": "HiqjNrx6jnLE",
        "colab": {
          "base_uri": "https://localhost:8080/"
        },
        "outputId": "66ba8757-d48a-43e1-ec7a-8520622c9b7c"
      },
      "outputs": [
        {
          "output_type": "stream",
          "name": "stderr",
          "text": [
            "I0713 13:35:43.761560 137421280343872 xla_bridge.py:353] Unable to initialize backend 'tpu_driver': NOT_FOUND: Unable to find driver in registry given worker: \n",
            "I0713 13:35:43.874001 137421280343872 xla_bridge.py:353] Unable to initialize backend 'rocm': NOT_FOUND: Could not find registered platform with name: \"rocm\". Available platform names are: CUDA Host Interpreter\n",
            "I0713 13:35:43.874447 137421280343872 xla_bridge.py:353] Unable to initialize backend 'tpu': module 'jaxlib.xla_extension' has no attribute 'get_tpu_client'\n",
            "I0713 13:35:43.874552 137421280343872 xla_bridge.py:353] Unable to initialize backend 'plugin': xla_extension has no attributes named get_plugin_device_client. Compile TensorFlow with //tensorflow/compiler/xla/python:enable_plugin_device set to true (defaults to false) to enable this.\n",
            "I0713 13:35:48.460497 137421280343872 parjax_cla_multi_GoogleColab.py:279] Have 5 models: ['model_1_pred_0', 'model_2_pred_0', 'model_3_pred_0', 'model_4_pred_0', 'model_5_pred_0']\n",
            "I0713 13:35:48.460688 137421280343872 parjax_cla_multi_GoogleColab.py:293] Using random seed 825409601494041193 for the data pipeline\n",
            "I0713 13:35:48.460946 137421280343872 parjax_cla_multi_GoogleColab.py:107] Predicting 2LHG\n",
            "I0713 13:35:48.461825 137421280343872 parjax_cla_multi_GoogleColab.py:132] Running model model_1_pred_0 on 2LHG\n",
            "W0713 13:35:49.222934 137421280343872 deprecation.py:350] From /usr/local/envs/parafold/lib/python3.8/site-packages/tensorflow/python/autograph/pyct/static_analysis/liveness.py:83: Analyzer.lamba_check (from tensorflow.python.autograph.pyct.static_analysis.liveness) is deprecated and will be removed after 2023-09-23.\n",
            "Instructions for updating:\n",
            "Lambda fuctions will be no more assumed to be used in the statement where they are used, or at least in the same block. https://github.com/tensorflow/tensorflow/issues/56089\n",
            "I0713 13:35:51.915694 137421280343872 model.py:165] Running predict with shape(feat) = {'aatype': (4, 56), 'residue_index': (4, 56), 'seq_length': (4,), 'template_aatype': (4, 4, 56), 'template_all_atom_masks': (4, 4, 56, 37), 'template_all_atom_positions': (4, 4, 56, 37, 3), 'template_sum_probs': (4, 4, 1), 'is_distillation': (4,), 'seq_mask': (4, 56), 'msa_mask': (4, 508, 56), 'msa_row_mask': (4, 508), 'random_crop_to_size_seed': (4, 2), 'template_mask': (4, 4), 'template_pseudo_beta': (4, 4, 56, 3), 'template_pseudo_beta_mask': (4, 4, 56), 'atom14_atom_exists': (4, 56, 14), 'residx_atom14_to_atom37': (4, 56, 14), 'residx_atom37_to_atom14': (4, 56, 37), 'atom37_atom_exists': (4, 56, 37), 'extra_msa': (4, 5120, 56), 'extra_msa_mask': (4, 5120, 56), 'extra_msa_row_mask': (4, 5120), 'bert_mask': (4, 508, 56), 'true_msa': (4, 508, 56), 'extra_has_deletion': (4, 5120, 56), 'extra_deletion_value': (4, 5120, 56), 'msa_feat': (4, 508, 56, 49), 'target_feat': (4, 56, 22)}\n",
            "I0713 13:38:08.617298 137421280343872 model.py:175] Output shape was {'distogram': {'bin_edges': (63,), 'logits': (56, 56, 64)}, 'experimentally_resolved': {'logits': (56, 37)}, 'masked_msa': {'logits': (508, 56, 23)}, 'predicted_lddt': {'logits': (56, 50)}, 'structure_module': {'final_atom_mask': (56, 37), 'final_atom_positions': (56, 37, 3)}, 'plddt': (56,), 'ranking_confidence': ()}\n",
            "I0713 13:38:08.617483 137421280343872 parjax_cla_multi_GoogleColab.py:144] Total JAX model model_1_pred_0 on 2LHG predict time (includes compilation time, see --benchmark): 136.7s\n",
            "I0713 13:38:08.629903 137421280343872 parjax_cla_multi_GoogleColab.py:132] Running model model_2_pred_0 on 2LHG\n",
            "I0713 13:38:10.575292 137421280343872 model.py:165] Running predict with shape(feat) = {'aatype': (4, 56), 'residue_index': (4, 56), 'seq_length': (4,), 'template_aatype': (4, 4, 56), 'template_all_atom_masks': (4, 4, 56, 37), 'template_all_atom_positions': (4, 4, 56, 37, 3), 'template_sum_probs': (4, 4, 1), 'is_distillation': (4,), 'seq_mask': (4, 56), 'msa_mask': (4, 508, 56), 'msa_row_mask': (4, 508), 'random_crop_to_size_seed': (4, 2), 'template_mask': (4, 4), 'template_pseudo_beta': (4, 4, 56, 3), 'template_pseudo_beta_mask': (4, 4, 56), 'atom14_atom_exists': (4, 56, 14), 'residx_atom14_to_atom37': (4, 56, 14), 'residx_atom37_to_atom14': (4, 56, 37), 'atom37_atom_exists': (4, 56, 37), 'extra_msa': (4, 1024, 56), 'extra_msa_mask': (4, 1024, 56), 'extra_msa_row_mask': (4, 1024), 'bert_mask': (4, 508, 56), 'true_msa': (4, 508, 56), 'extra_has_deletion': (4, 1024, 56), 'extra_deletion_value': (4, 1024, 56), 'msa_feat': (4, 508, 56, 49), 'target_feat': (4, 56, 22)}\n",
            "I0713 13:40:34.190099 137421280343872 model.py:175] Output shape was {'distogram': {'bin_edges': (63,), 'logits': (56, 56, 64)}, 'experimentally_resolved': {'logits': (56, 37)}, 'masked_msa': {'logits': (508, 56, 23)}, 'predicted_lddt': {'logits': (56, 50)}, 'structure_module': {'final_atom_mask': (56, 37), 'final_atom_positions': (56, 37, 3)}, 'plddt': (56,), 'ranking_confidence': ()}\n",
            "I0713 13:40:34.190297 137421280343872 parjax_cla_multi_GoogleColab.py:144] Total JAX model model_2_pred_0 on 2LHG predict time (includes compilation time, see --benchmark): 143.6s\n",
            "I0713 13:40:34.202836 137421280343872 parjax_cla_multi_GoogleColab.py:132] Running model model_3_pred_0 on 2LHG\n",
            "I0713 13:40:35.778228 137421280343872 model.py:165] Running predict with shape(feat) = {'aatype': (4, 56), 'residue_index': (4, 56), 'seq_length': (4,), 'is_distillation': (4,), 'seq_mask': (4, 56), 'msa_mask': (4, 512, 56), 'msa_row_mask': (4, 512), 'random_crop_to_size_seed': (4, 2), 'atom14_atom_exists': (4, 56, 14), 'residx_atom14_to_atom37': (4, 56, 14), 'residx_atom37_to_atom14': (4, 56, 37), 'atom37_atom_exists': (4, 56, 37), 'extra_msa': (4, 5120, 56), 'extra_msa_mask': (4, 5120, 56), 'extra_msa_row_mask': (4, 5120), 'bert_mask': (4, 512, 56), 'true_msa': (4, 512, 56), 'extra_has_deletion': (4, 5120, 56), 'extra_deletion_value': (4, 5120, 56), 'msa_feat': (4, 512, 56, 49), 'target_feat': (4, 56, 22)}\n",
            "I0713 13:42:27.415785 137421280343872 model.py:175] Output shape was {'distogram': {'bin_edges': (63,), 'logits': (56, 56, 64)}, 'experimentally_resolved': {'logits': (56, 37)}, 'masked_msa': {'logits': (512, 56, 23)}, 'predicted_lddt': {'logits': (56, 50)}, 'structure_module': {'final_atom_mask': (56, 37), 'final_atom_positions': (56, 37, 3)}, 'plddt': (56,), 'ranking_confidence': ()}\n",
            "I0713 13:42:27.416000 137421280343872 parjax_cla_multi_GoogleColab.py:144] Total JAX model model_3_pred_0 on 2LHG predict time (includes compilation time, see --benchmark): 111.6s\n",
            "I0713 13:42:27.429676 137421280343872 parjax_cla_multi_GoogleColab.py:132] Running model model_4_pred_0 on 2LHG\n",
            "I0713 13:42:29.161879 137421280343872 model.py:165] Running predict with shape(feat) = {'aatype': (4, 56), 'residue_index': (4, 56), 'seq_length': (4,), 'is_distillation': (4,), 'seq_mask': (4, 56), 'msa_mask': (4, 512, 56), 'msa_row_mask': (4, 512), 'random_crop_to_size_seed': (4, 2), 'atom14_atom_exists': (4, 56, 14), 'residx_atom14_to_atom37': (4, 56, 14), 'residx_atom37_to_atom14': (4, 56, 37), 'atom37_atom_exists': (4, 56, 37), 'extra_msa': (4, 5120, 56), 'extra_msa_mask': (4, 5120, 56), 'extra_msa_row_mask': (4, 5120), 'bert_mask': (4, 512, 56), 'true_msa': (4, 512, 56), 'extra_has_deletion': (4, 5120, 56), 'extra_deletion_value': (4, 5120, 56), 'msa_feat': (4, 512, 56, 49), 'target_feat': (4, 56, 22)}\n",
            "I0713 13:44:20.970007 137421280343872 model.py:175] Output shape was {'distogram': {'bin_edges': (63,), 'logits': (56, 56, 64)}, 'experimentally_resolved': {'logits': (56, 37)}, 'masked_msa': {'logits': (512, 56, 23)}, 'predicted_lddt': {'logits': (56, 50)}, 'structure_module': {'final_atom_mask': (56, 37), 'final_atom_positions': (56, 37, 3)}, 'plddt': (56,), 'ranking_confidence': ()}\n",
            "I0713 13:44:20.970254 137421280343872 parjax_cla_multi_GoogleColab.py:144] Total JAX model model_4_pred_0 on 2LHG predict time (includes compilation time, see --benchmark): 111.8s\n",
            "I0713 13:44:20.982991 137421280343872 parjax_cla_multi_GoogleColab.py:132] Running model model_5_pred_0 on 2LHG\n",
            "I0713 13:44:22.650297 137421280343872 model.py:165] Running predict with shape(feat) = {'aatype': (4, 56), 'residue_index': (4, 56), 'seq_length': (4,), 'is_distillation': (4,), 'seq_mask': (4, 56), 'msa_mask': (4, 512, 56), 'msa_row_mask': (4, 512), 'random_crop_to_size_seed': (4, 2), 'atom14_atom_exists': (4, 56, 14), 'residx_atom14_to_atom37': (4, 56, 14), 'residx_atom37_to_atom14': (4, 56, 37), 'atom37_atom_exists': (4, 56, 37), 'extra_msa': (4, 1024, 56), 'extra_msa_mask': (4, 1024, 56), 'extra_msa_row_mask': (4, 1024), 'bert_mask': (4, 512, 56), 'true_msa': (4, 512, 56), 'extra_has_deletion': (4, 1024, 56), 'extra_deletion_value': (4, 1024, 56), 'msa_feat': (4, 512, 56, 49), 'target_feat': (4, 56, 22)}\n",
            "I0713 13:46:15.471384 137421280343872 model.py:175] Output shape was {'distogram': {'bin_edges': (63,), 'logits': (56, 56, 64)}, 'experimentally_resolved': {'logits': (56, 37)}, 'masked_msa': {'logits': (512, 56, 23)}, 'predicted_lddt': {'logits': (56, 50)}, 'structure_module': {'final_atom_mask': (56, 37), 'final_atom_positions': (56, 37, 3)}, 'plddt': (56,), 'ranking_confidence': ()}\n",
            "I0713 13:46:15.471585 137421280343872 parjax_cla_multi_GoogleColab.py:144] Total JAX model model_5_pred_0 on 2LHG predict time (includes compilation time, see --benchmark): 112.8s\n",
            "W0713 13:46:15.589422 137421280343872 __init__.py:5] Warning: importing 'simtk.openmm' is deprecated.  Import 'openmm' instead.\n",
            "I0713 13:46:16.963990 137421280343872 amber_minimize.py:178] alterations info: {'nonstandard_residues': [], 'removed_heterogens': set(), 'missing_residues': {}, 'missing_heavy_atoms': {}, 'missing_terminals': {<Residue 55 (GLU) of chain 0>: ['OXT']}, 'Se_in_MET': [], 'removed_chains': {0: []}}\n",
            "I0713 13:46:17.032535 137421280343872 amber_minimize.py:408] Minimizing protein, attempt 1 of 100.\n",
            "I0713 13:46:17.193877 137421280343872 amber_minimize.py:69] Restraining 453 / 928 particles.\n",
            "I0713 13:46:18.808285 137421280343872 amber_minimize.py:178] alterations info: {'nonstandard_residues': [], 'removed_heterogens': set(), 'missing_residues': {}, 'missing_heavy_atoms': {}, 'missing_terminals': {}, 'Se_in_MET': [], 'removed_chains': {0: []}}\n",
            "I0713 13:46:20.983610 137421280343872 amber_minimize.py:500] Iteration completed: Einit 1507.61 Efinal -937.07 Time 0.93 s num residue violations 0 num residue exclusions 0 \n",
            "I0713 13:46:21.031354 137421280343872 parjax_cla_multi_GoogleColab.py:231] Final timings for 2LHG: {'process_features_model_1_pred_0': 3.4533703327178955, 'predict_and_compile_model_1_pred_0': 136.70217204093933, 'process_features_model_2_pred_0': 1.9449617862701416, 'predict_and_compile_model_2_pred_0': 143.61529207229614, 'process_features_model_3_pred_0': 1.5751211643218994, 'predict_and_compile_model_3_pred_0': 111.63789319992065, 'process_features_model_4_pred_0': 1.7319178581237793, 'predict_and_compile_model_4_pred_0': 111.80850148200989, 'process_features_model_5_pred_0': 1.6670138835906982, 'predict_and_compile_model_5_pred_0': 112.82141423225403, 'relax_model_3_pred_0': 5.5462024211883545}\n",
            "I0713 13:46:21.031962 137421280343872 parjax_cla_multi_GoogleColab.py:308] 2LHG AlphaFold structure prediction COMPLETE\n",
            "I0713 13:46:21.032085 137421280343872 parjax_cla_multi_GoogleColab.py:107] Predicting 2LHE\n",
            "I0713 13:46:21.032829 137421280343872 parjax_cla_multi_GoogleColab.py:132] Running model model_1_pred_0 on 2LHE\n",
            "I0713 13:46:23.125466 137421280343872 model.py:165] Running predict with shape(feat) = {'aatype': (4, 56), 'residue_index': (4, 56), 'seq_length': (4,), 'template_aatype': (4, 4, 56), 'template_all_atom_masks': (4, 4, 56, 37), 'template_all_atom_positions': (4, 4, 56, 37, 3), 'template_sum_probs': (4, 4, 1), 'is_distillation': (4,), 'seq_mask': (4, 56), 'msa_mask': (4, 508, 56), 'msa_row_mask': (4, 508), 'random_crop_to_size_seed': (4, 2), 'template_mask': (4, 4), 'template_pseudo_beta': (4, 4, 56, 3), 'template_pseudo_beta_mask': (4, 4, 56), 'atom14_atom_exists': (4, 56, 14), 'residx_atom14_to_atom37': (4, 56, 14), 'residx_atom37_to_atom14': (4, 56, 37), 'atom37_atom_exists': (4, 56, 37), 'extra_msa': (4, 5120, 56), 'extra_msa_mask': (4, 5120, 56), 'extra_msa_row_mask': (4, 5120), 'bert_mask': (4, 508, 56), 'true_msa': (4, 508, 56), 'extra_has_deletion': (4, 5120, 56), 'extra_deletion_value': (4, 5120, 56), 'msa_feat': (4, 508, 56, 49), 'target_feat': (4, 56, 22)}\n",
            "I0713 13:46:30.673406 137421280343872 model.py:175] Output shape was {'distogram': {'bin_edges': (63,), 'logits': (56, 56, 64)}, 'experimentally_resolved': {'logits': (56, 37)}, 'masked_msa': {'logits': (508, 56, 23)}, 'predicted_lddt': {'logits': (56, 50)}, 'structure_module': {'final_atom_mask': (56, 37), 'final_atom_positions': (56, 37, 3)}, 'plddt': (56,), 'ranking_confidence': ()}\n",
            "I0713 13:46:30.673599 137421280343872 parjax_cla_multi_GoogleColab.py:144] Total JAX model model_1_pred_0 on 2LHE predict time (includes compilation time, see --benchmark): 7.5s\n",
            "I0713 13:46:30.686173 137421280343872 parjax_cla_multi_GoogleColab.py:132] Running model model_2_pred_0 on 2LHE\n",
            "I0713 13:46:32.685240 137421280343872 model.py:165] Running predict with shape(feat) = {'aatype': (4, 56), 'residue_index': (4, 56), 'seq_length': (4,), 'template_aatype': (4, 4, 56), 'template_all_atom_masks': (4, 4, 56, 37), 'template_all_atom_positions': (4, 4, 56, 37, 3), 'template_sum_probs': (4, 4, 1), 'is_distillation': (4,), 'seq_mask': (4, 56), 'msa_mask': (4, 508, 56), 'msa_row_mask': (4, 508), 'random_crop_to_size_seed': (4, 2), 'template_mask': (4, 4), 'template_pseudo_beta': (4, 4, 56, 3), 'template_pseudo_beta_mask': (4, 4, 56), 'atom14_atom_exists': (4, 56, 14), 'residx_atom14_to_atom37': (4, 56, 14), 'residx_atom37_to_atom14': (4, 56, 37), 'atom37_atom_exists': (4, 56, 37), 'extra_msa': (4, 1024, 56), 'extra_msa_mask': (4, 1024, 56), 'extra_msa_row_mask': (4, 1024), 'bert_mask': (4, 508, 56), 'true_msa': (4, 508, 56), 'extra_has_deletion': (4, 1024, 56), 'extra_deletion_value': (4, 1024, 56), 'msa_feat': (4, 508, 56, 49), 'target_feat': (4, 56, 22)}\n",
            "I0713 13:46:38.353297 137421280343872 model.py:175] Output shape was {'distogram': {'bin_edges': (63,), 'logits': (56, 56, 64)}, 'experimentally_resolved': {'logits': (56, 37)}, 'masked_msa': {'logits': (508, 56, 23)}, 'predicted_lddt': {'logits': (56, 50)}, 'structure_module': {'final_atom_mask': (56, 37), 'final_atom_positions': (56, 37, 3)}, 'plddt': (56,), 'ranking_confidence': ()}\n",
            "I0713 13:46:38.353489 137421280343872 parjax_cla_multi_GoogleColab.py:144] Total JAX model model_2_pred_0 on 2LHE predict time (includes compilation time, see --benchmark): 5.7s\n",
            "I0713 13:46:38.366006 137421280343872 parjax_cla_multi_GoogleColab.py:132] Running model model_3_pred_0 on 2LHE\n",
            "I0713 13:46:40.209826 137421280343872 model.py:165] Running predict with shape(feat) = {'aatype': (4, 56), 'residue_index': (4, 56), 'seq_length': (4,), 'is_distillation': (4,), 'seq_mask': (4, 56), 'msa_mask': (4, 512, 56), 'msa_row_mask': (4, 512), 'random_crop_to_size_seed': (4, 2), 'atom14_atom_exists': (4, 56, 14), 'residx_atom14_to_atom37': (4, 56, 14), 'residx_atom37_to_atom14': (4, 56, 37), 'atom37_atom_exists': (4, 56, 37), 'extra_msa': (4, 5120, 56), 'extra_msa_mask': (4, 5120, 56), 'extra_msa_row_mask': (4, 5120), 'bert_mask': (4, 512, 56), 'true_msa': (4, 512, 56), 'extra_has_deletion': (4, 5120, 56), 'extra_deletion_value': (4, 5120, 56), 'msa_feat': (4, 512, 56, 49), 'target_feat': (4, 56, 22)}\n",
            "I0713 13:46:47.708369 137421280343872 model.py:175] Output shape was {'distogram': {'bin_edges': (63,), 'logits': (56, 56, 64)}, 'experimentally_resolved': {'logits': (56, 37)}, 'masked_msa': {'logits': (512, 56, 23)}, 'predicted_lddt': {'logits': (56, 50)}, 'structure_module': {'final_atom_mask': (56, 37), 'final_atom_positions': (56, 37, 3)}, 'plddt': (56,), 'ranking_confidence': ()}\n",
            "I0713 13:46:47.708564 137421280343872 parjax_cla_multi_GoogleColab.py:144] Total JAX model model_3_pred_0 on 2LHE predict time (includes compilation time, see --benchmark): 7.5s\n",
            "I0713 13:46:47.721242 137421280343872 parjax_cla_multi_GoogleColab.py:132] Running model model_4_pred_0 on 2LHE\n",
            "I0713 13:46:49.253130 137421280343872 model.py:165] Running predict with shape(feat) = {'aatype': (4, 56), 'residue_index': (4, 56), 'seq_length': (4,), 'is_distillation': (4,), 'seq_mask': (4, 56), 'msa_mask': (4, 512, 56), 'msa_row_mask': (4, 512), 'random_crop_to_size_seed': (4, 2), 'atom14_atom_exists': (4, 56, 14), 'residx_atom14_to_atom37': (4, 56, 14), 'residx_atom37_to_atom14': (4, 56, 37), 'atom37_atom_exists': (4, 56, 37), 'extra_msa': (4, 5120, 56), 'extra_msa_mask': (4, 5120, 56), 'extra_msa_row_mask': (4, 5120), 'bert_mask': (4, 512, 56), 'true_msa': (4, 512, 56), 'extra_has_deletion': (4, 5120, 56), 'extra_deletion_value': (4, 5120, 56), 'msa_feat': (4, 512, 56, 49), 'target_feat': (4, 56, 22)}\n",
            "I0713 13:46:56.815885 137421280343872 model.py:175] Output shape was {'distogram': {'bin_edges': (63,), 'logits': (56, 56, 64)}, 'experimentally_resolved': {'logits': (56, 37)}, 'masked_msa': {'logits': (512, 56, 23)}, 'predicted_lddt': {'logits': (56, 50)}, 'structure_module': {'final_atom_mask': (56, 37), 'final_atom_positions': (56, 37, 3)}, 'plddt': (56,), 'ranking_confidence': ()}\n",
            "I0713 13:46:56.816140 137421280343872 parjax_cla_multi_GoogleColab.py:144] Total JAX model model_4_pred_0 on 2LHE predict time (includes compilation time, see --benchmark): 7.6s\n",
            "I0713 13:46:56.828676 137421280343872 parjax_cla_multi_GoogleColab.py:132] Running model model_5_pred_0 on 2LHE\n",
            "I0713 13:46:58.319299 137421280343872 model.py:165] Running predict with shape(feat) = {'aatype': (4, 56), 'residue_index': (4, 56), 'seq_length': (4,), 'is_distillation': (4,), 'seq_mask': (4, 56), 'msa_mask': (4, 512, 56), 'msa_row_mask': (4, 512), 'random_crop_to_size_seed': (4, 2), 'atom14_atom_exists': (4, 56, 14), 'residx_atom14_to_atom37': (4, 56, 14), 'residx_atom37_to_atom14': (4, 56, 37), 'atom37_atom_exists': (4, 56, 37), 'extra_msa': (4, 1024, 56), 'extra_msa_mask': (4, 1024, 56), 'extra_msa_row_mask': (4, 1024), 'bert_mask': (4, 512, 56), 'true_msa': (4, 512, 56), 'extra_has_deletion': (4, 1024, 56), 'extra_deletion_value': (4, 1024, 56), 'msa_feat': (4, 512, 56, 49), 'target_feat': (4, 56, 22)}\n",
            "I0713 13:47:03.899899 137421280343872 model.py:175] Output shape was {'distogram': {'bin_edges': (63,), 'logits': (56, 56, 64)}, 'experimentally_resolved': {'logits': (56, 37)}, 'masked_msa': {'logits': (512, 56, 23)}, 'predicted_lddt': {'logits': (56, 50)}, 'structure_module': {'final_atom_mask': (56, 37), 'final_atom_positions': (56, 37, 3)}, 'plddt': (56,), 'ranking_confidence': ()}\n",
            "I0713 13:47:03.900107 137421280343872 parjax_cla_multi_GoogleColab.py:144] Total JAX model model_5_pred_0 on 2LHE predict time (includes compilation time, see --benchmark): 5.6s\n",
            "I0713 13:47:05.629884 137421280343872 amber_minimize.py:178] alterations info: {'nonstandard_residues': [], 'removed_heterogens': set(), 'missing_residues': {}, 'missing_heavy_atoms': {}, 'missing_terminals': {<Residue 55 (GLU) of chain 0>: ['OXT']}, 'Se_in_MET': [], 'removed_chains': {0: []}}\n",
            "I0713 13:47:05.697021 137421280343872 amber_minimize.py:408] Minimizing protein, attempt 1 of 100.\n",
            "I0713 13:47:05.974219 137421280343872 amber_minimize.py:69] Restraining 450 / 919 particles.\n",
            "I0713 13:47:07.563051 137421280343872 amber_minimize.py:178] alterations info: {'nonstandard_residues': [], 'removed_heterogens': set(), 'missing_residues': {}, 'missing_heavy_atoms': {}, 'missing_terminals': {}, 'Se_in_MET': [], 'removed_chains': {0: []}}\n",
            "I0713 13:47:07.666998 137421280343872 amber_minimize.py:500] Iteration completed: Einit 1385.59 Efinal -935.28 Time 1.04 s num residue violations 0 num residue exclusions 0 \n",
            "I0713 13:47:07.698383 137421280343872 parjax_cla_multi_GoogleColab.py:231] Final timings for 2LHE: {'process_features_model_1_pred_0': 2.090775489807129, 'predict_and_compile_model_1_pred_0': 7.549897193908691, 'process_features_model_2_pred_0': 1.9984691143035889, 'predict_and_compile_model_2_pred_0': 5.668713092803955, 'process_features_model_3_pred_0': 1.8435397148132324, 'predict_and_compile_model_3_pred_0': 7.498860597610474, 'process_features_model_4_pred_0': 1.5316100120544434, 'predict_and_compile_model_4_pred_0': 7.563138484954834, 'process_features_model_5_pred_0': 1.4903643131256104, 'predict_and_compile_model_5_pred_0': 5.580935955047607, 'relax_model_3_pred_0': 3.784701108932495}\n",
            "I0713 13:47:07.699022 137421280343872 parjax_cla_multi_GoogleColab.py:308] 2LHE AlphaFold structure prediction COMPLETE\n",
            "I0713 13:47:07.699149 137421280343872 parjax_cla_multi_GoogleColab.py:107] Predicting 2LHD\n",
            "I0713 13:47:07.699991 137421280343872 parjax_cla_multi_GoogleColab.py:132] Running model model_1_pred_0 on 2LHD\n",
            "I0713 13:47:09.765326 137421280343872 model.py:165] Running predict with shape(feat) = {'aatype': (4, 56), 'residue_index': (4, 56), 'seq_length': (4,), 'template_aatype': (4, 4, 56), 'template_all_atom_masks': (4, 4, 56, 37), 'template_all_atom_positions': (4, 4, 56, 37, 3), 'template_sum_probs': (4, 4, 1), 'is_distillation': (4,), 'seq_mask': (4, 56), 'msa_mask': (4, 508, 56), 'msa_row_mask': (4, 508), 'random_crop_to_size_seed': (4, 2), 'template_mask': (4, 4), 'template_pseudo_beta': (4, 4, 56, 3), 'template_pseudo_beta_mask': (4, 4, 56), 'atom14_atom_exists': (4, 56, 14), 'residx_atom14_to_atom37': (4, 56, 14), 'residx_atom37_to_atom14': (4, 56, 37), 'atom37_atom_exists': (4, 56, 37), 'extra_msa': (4, 5120, 56), 'extra_msa_mask': (4, 5120, 56), 'extra_msa_row_mask': (4, 5120), 'bert_mask': (4, 508, 56), 'true_msa': (4, 508, 56), 'extra_has_deletion': (4, 5120, 56), 'extra_deletion_value': (4, 5120, 56), 'msa_feat': (4, 508, 56, 49), 'target_feat': (4, 56, 22)}\n",
            "I0713 13:47:17.371292 137421280343872 model.py:175] Output shape was {'distogram': {'bin_edges': (63,), 'logits': (56, 56, 64)}, 'experimentally_resolved': {'logits': (56, 37)}, 'masked_msa': {'logits': (508, 56, 23)}, 'predicted_lddt': {'logits': (56, 50)}, 'structure_module': {'final_atom_mask': (56, 37), 'final_atom_positions': (56, 37, 3)}, 'plddt': (56,), 'ranking_confidence': ()}\n",
            "I0713 13:47:17.371481 137421280343872 parjax_cla_multi_GoogleColab.py:144] Total JAX model model_1_pred_0 on 2LHD predict time (includes compilation time, see --benchmark): 7.6s\n",
            "I0713 13:47:17.384092 137421280343872 parjax_cla_multi_GoogleColab.py:132] Running model model_2_pred_0 on 2LHD\n",
            "I0713 13:47:19.691055 137421280343872 model.py:165] Running predict with shape(feat) = {'aatype': (4, 56), 'residue_index': (4, 56), 'seq_length': (4,), 'template_aatype': (4, 4, 56), 'template_all_atom_masks': (4, 4, 56, 37), 'template_all_atom_positions': (4, 4, 56, 37, 3), 'template_sum_probs': (4, 4, 1), 'is_distillation': (4,), 'seq_mask': (4, 56), 'msa_mask': (4, 508, 56), 'msa_row_mask': (4, 508), 'random_crop_to_size_seed': (4, 2), 'template_mask': (4, 4), 'template_pseudo_beta': (4, 4, 56, 3), 'template_pseudo_beta_mask': (4, 4, 56), 'atom14_atom_exists': (4, 56, 14), 'residx_atom14_to_atom37': (4, 56, 14), 'residx_atom37_to_atom14': (4, 56, 37), 'atom37_atom_exists': (4, 56, 37), 'extra_msa': (4, 1024, 56), 'extra_msa_mask': (4, 1024, 56), 'extra_msa_row_mask': (4, 1024), 'bert_mask': (4, 508, 56), 'true_msa': (4, 508, 56), 'extra_has_deletion': (4, 1024, 56), 'extra_deletion_value': (4, 1024, 56), 'msa_feat': (4, 508, 56, 49), 'target_feat': (4, 56, 22)}\n",
            "I0713 13:47:25.386270 137421280343872 model.py:175] Output shape was {'distogram': {'bin_edges': (63,), 'logits': (56, 56, 64)}, 'experimentally_resolved': {'logits': (56, 37)}, 'masked_msa': {'logits': (508, 56, 23)}, 'predicted_lddt': {'logits': (56, 50)}, 'structure_module': {'final_atom_mask': (56, 37), 'final_atom_positions': (56, 37, 3)}, 'plddt': (56,), 'ranking_confidence': ()}\n",
            "I0713 13:47:25.386461 137421280343872 parjax_cla_multi_GoogleColab.py:144] Total JAX model model_2_pred_0 on 2LHD predict time (includes compilation time, see --benchmark): 5.7s\n",
            "I0713 13:47:25.399042 137421280343872 parjax_cla_multi_GoogleColab.py:132] Running model model_3_pred_0 on 2LHD\n",
            "I0713 13:47:26.936544 137421280343872 model.py:165] Running predict with shape(feat) = {'aatype': (4, 56), 'residue_index': (4, 56), 'seq_length': (4,), 'is_distillation': (4,), 'seq_mask': (4, 56), 'msa_mask': (4, 512, 56), 'msa_row_mask': (4, 512), 'random_crop_to_size_seed': (4, 2), 'atom14_atom_exists': (4, 56, 14), 'residx_atom14_to_atom37': (4, 56, 14), 'residx_atom37_to_atom14': (4, 56, 37), 'atom37_atom_exists': (4, 56, 37), 'extra_msa': (4, 5120, 56), 'extra_msa_mask': (4, 5120, 56), 'extra_msa_row_mask': (4, 5120), 'bert_mask': (4, 512, 56), 'true_msa': (4, 512, 56), 'extra_has_deletion': (4, 5120, 56), 'extra_deletion_value': (4, 5120, 56), 'msa_feat': (4, 512, 56, 49), 'target_feat': (4, 56, 22)}\n",
            "I0713 13:47:34.412914 137421280343872 model.py:175] Output shape was {'distogram': {'bin_edges': (63,), 'logits': (56, 56, 64)}, 'experimentally_resolved': {'logits': (56, 37)}, 'masked_msa': {'logits': (512, 56, 23)}, 'predicted_lddt': {'logits': (56, 50)}, 'structure_module': {'final_atom_mask': (56, 37), 'final_atom_positions': (56, 37, 3)}, 'plddt': (56,), 'ranking_confidence': ()}\n",
            "I0713 13:47:34.413126 137421280343872 parjax_cla_multi_GoogleColab.py:144] Total JAX model model_3_pred_0 on 2LHD predict time (includes compilation time, see --benchmark): 7.5s\n",
            "I0713 13:47:34.425714 137421280343872 parjax_cla_multi_GoogleColab.py:132] Running model model_4_pred_0 on 2LHD\n",
            "I0713 13:47:35.930140 137421280343872 model.py:165] Running predict with shape(feat) = {'aatype': (4, 56), 'residue_index': (4, 56), 'seq_length': (4,), 'is_distillation': (4,), 'seq_mask': (4, 56), 'msa_mask': (4, 512, 56), 'msa_row_mask': (4, 512), 'random_crop_to_size_seed': (4, 2), 'atom14_atom_exists': (4, 56, 14), 'residx_atom14_to_atom37': (4, 56, 14), 'residx_atom37_to_atom14': (4, 56, 37), 'atom37_atom_exists': (4, 56, 37), 'extra_msa': (4, 5120, 56), 'extra_msa_mask': (4, 5120, 56), 'extra_msa_row_mask': (4, 5120), 'bert_mask': (4, 512, 56), 'true_msa': (4, 512, 56), 'extra_has_deletion': (4, 5120, 56), 'extra_deletion_value': (4, 5120, 56), 'msa_feat': (4, 512, 56, 49), 'target_feat': (4, 56, 22)}\n",
            "I0713 13:47:43.367853 137421280343872 model.py:175] Output shape was {'distogram': {'bin_edges': (63,), 'logits': (56, 56, 64)}, 'experimentally_resolved': {'logits': (56, 37)}, 'masked_msa': {'logits': (512, 56, 23)}, 'predicted_lddt': {'logits': (56, 50)}, 'structure_module': {'final_atom_mask': (56, 37), 'final_atom_positions': (56, 37, 3)}, 'plddt': (56,), 'ranking_confidence': ()}\n",
            "I0713 13:47:43.368052 137421280343872 parjax_cla_multi_GoogleColab.py:144] Total JAX model model_4_pred_0 on 2LHD predict time (includes compilation time, see --benchmark): 7.4s\n",
            "I0713 13:47:43.380828 137421280343872 parjax_cla_multi_GoogleColab.py:132] Running model model_5_pred_0 on 2LHD\n",
            "I0713 13:47:44.905637 137421280343872 model.py:165] Running predict with shape(feat) = {'aatype': (4, 56), 'residue_index': (4, 56), 'seq_length': (4,), 'is_distillation': (4,), 'seq_mask': (4, 56), 'msa_mask': (4, 512, 56), 'msa_row_mask': (4, 512), 'random_crop_to_size_seed': (4, 2), 'atom14_atom_exists': (4, 56, 14), 'residx_atom14_to_atom37': (4, 56, 14), 'residx_atom37_to_atom14': (4, 56, 37), 'atom37_atom_exists': (4, 56, 37), 'extra_msa': (4, 1024, 56), 'extra_msa_mask': (4, 1024, 56), 'extra_msa_row_mask': (4, 1024), 'bert_mask': (4, 512, 56), 'true_msa': (4, 512, 56), 'extra_has_deletion': (4, 1024, 56), 'extra_deletion_value': (4, 1024, 56), 'msa_feat': (4, 512, 56, 49), 'target_feat': (4, 56, 22)}\n",
            "I0713 13:47:50.467269 137421280343872 model.py:175] Output shape was {'distogram': {'bin_edges': (63,), 'logits': (56, 56, 64)}, 'experimentally_resolved': {'logits': (56, 37)}, 'masked_msa': {'logits': (512, 56, 23)}, 'predicted_lddt': {'logits': (56, 50)}, 'structure_module': {'final_atom_mask': (56, 37), 'final_atom_positions': (56, 37, 3)}, 'plddt': (56,), 'ranking_confidence': ()}\n",
            "I0713 13:47:50.467463 137421280343872 parjax_cla_multi_GoogleColab.py:144] Total JAX model model_5_pred_0 on 2LHD predict time (includes compilation time, see --benchmark): 5.6s\n",
            "I0713 13:47:52.324422 137421280343872 amber_minimize.py:178] alterations info: {'nonstandard_residues': [], 'removed_heterogens': set(), 'missing_residues': {}, 'missing_heavy_atoms': {}, 'missing_terminals': {<Residue 55 (GLU) of chain 0>: ['OXT']}, 'Se_in_MET': [], 'removed_chains': {0: []}}\n",
            "I0713 13:47:52.394008 137421280343872 amber_minimize.py:408] Minimizing protein, attempt 1 of 100.\n",
            "I0713 13:47:52.663695 137421280343872 amber_minimize.py:69] Restraining 452 / 923 particles.\n",
            "I0713 13:47:54.223962 137421280343872 amber_minimize.py:178] alterations info: {'nonstandard_residues': [], 'removed_heterogens': set(), 'missing_residues': {}, 'missing_heavy_atoms': {}, 'missing_terminals': {}, 'Se_in_MET': [], 'removed_chains': {0: []}}\n",
            "I0713 13:47:54.447634 137421280343872 amber_minimize.py:500] Iteration completed: Einit 117567.73 Efinal -349.93 Time 1.01 s num residue violations 0 num residue exclusions 0 \n",
            "I0713 13:47:54.479170 137421280343872 parjax_cla_multi_GoogleColab.py:231] Final timings for 2LHD: {'process_features_model_1_pred_0': 2.0637810230255127, 'predict_and_compile_model_1_pred_0': 7.607598543167114, 'process_features_model_2_pred_0': 2.3051328659057617, 'predict_and_compile_model_2_pred_0': 5.69709587097168, 'process_features_model_3_pred_0': 1.5372138023376465, 'predict_and_compile_model_3_pred_0': 7.476706027984619, 'process_features_model_4_pred_0': 1.5041322708129883, 'predict_and_compile_model_4_pred_0': 7.438048839569092, 'process_features_model_5_pred_0': 1.5245397090911865, 'predict_and_compile_model_5_pred_0': 5.561952352523804, 'relax_model_2_pred_0': 3.9982635974884033}\n",
            "I0713 13:47:54.479797 137421280343872 parjax_cla_multi_GoogleColab.py:308] 2LHD AlphaFold structure prediction COMPLETE\n",
            "I0713 13:47:54.479929 137421280343872 parjax_cla_multi_GoogleColab.py:107] Predicting 2LHC\n",
            "I0713 13:47:54.480765 137421280343872 parjax_cla_multi_GoogleColab.py:132] Running model model_1_pred_0 on 2LHC\n",
            "I0713 13:47:56.555445 137421280343872 model.py:165] Running predict with shape(feat) = {'aatype': (4, 56), 'residue_index': (4, 56), 'seq_length': (4,), 'template_aatype': (4, 4, 56), 'template_all_atom_masks': (4, 4, 56, 37), 'template_all_atom_positions': (4, 4, 56, 37, 3), 'template_sum_probs': (4, 4, 1), 'is_distillation': (4,), 'seq_mask': (4, 56), 'msa_mask': (4, 508, 56), 'msa_row_mask': (4, 508), 'random_crop_to_size_seed': (4, 2), 'template_mask': (4, 4), 'template_pseudo_beta': (4, 4, 56, 3), 'template_pseudo_beta_mask': (4, 4, 56), 'atom14_atom_exists': (4, 56, 14), 'residx_atom14_to_atom37': (4, 56, 14), 'residx_atom37_to_atom14': (4, 56, 37), 'atom37_atom_exists': (4, 56, 37), 'extra_msa': (4, 5120, 56), 'extra_msa_mask': (4, 5120, 56), 'extra_msa_row_mask': (4, 5120), 'bert_mask': (4, 508, 56), 'true_msa': (4, 508, 56), 'extra_has_deletion': (4, 5120, 56), 'extra_deletion_value': (4, 5120, 56), 'msa_feat': (4, 508, 56, 49), 'target_feat': (4, 56, 22)}\n",
            "I0713 13:48:04.125899 137421280343872 model.py:175] Output shape was {'distogram': {'bin_edges': (63,), 'logits': (56, 56, 64)}, 'experimentally_resolved': {'logits': (56, 37)}, 'masked_msa': {'logits': (508, 56, 23)}, 'predicted_lddt': {'logits': (56, 50)}, 'structure_module': {'final_atom_mask': (56, 37), 'final_atom_positions': (56, 37, 3)}, 'plddt': (56,), 'ranking_confidence': ()}\n",
            "I0713 13:48:04.126101 137421280343872 parjax_cla_multi_GoogleColab.py:144] Total JAX model model_1_pred_0 on 2LHC predict time (includes compilation time, see --benchmark): 7.6s\n",
            "I0713 13:48:04.138557 137421280343872 parjax_cla_multi_GoogleColab.py:132] Running model model_2_pred_0 on 2LHC\n",
            "I0713 13:48:06.125931 137421280343872 model.py:165] Running predict with shape(feat) = {'aatype': (4, 56), 'residue_index': (4, 56), 'seq_length': (4,), 'template_aatype': (4, 4, 56), 'template_all_atom_masks': (4, 4, 56, 37), 'template_all_atom_positions': (4, 4, 56, 37, 3), 'template_sum_probs': (4, 4, 1), 'is_distillation': (4,), 'seq_mask': (4, 56), 'msa_mask': (4, 508, 56), 'msa_row_mask': (4, 508), 'random_crop_to_size_seed': (4, 2), 'template_mask': (4, 4), 'template_pseudo_beta': (4, 4, 56, 3), 'template_pseudo_beta_mask': (4, 4, 56), 'atom14_atom_exists': (4, 56, 14), 'residx_atom14_to_atom37': (4, 56, 14), 'residx_atom37_to_atom14': (4, 56, 37), 'atom37_atom_exists': (4, 56, 37), 'extra_msa': (4, 1024, 56), 'extra_msa_mask': (4, 1024, 56), 'extra_msa_row_mask': (4, 1024), 'bert_mask': (4, 508, 56), 'true_msa': (4, 508, 56), 'extra_has_deletion': (4, 1024, 56), 'extra_deletion_value': (4, 1024, 56), 'msa_feat': (4, 508, 56, 49), 'target_feat': (4, 56, 22)}\n",
            "I0713 13:48:11.902673 137421280343872 model.py:175] Output shape was {'distogram': {'bin_edges': (63,), 'logits': (56, 56, 64)}, 'experimentally_resolved': {'logits': (56, 37)}, 'masked_msa': {'logits': (508, 56, 23)}, 'predicted_lddt': {'logits': (56, 50)}, 'structure_module': {'final_atom_mask': (56, 37), 'final_atom_positions': (56, 37, 3)}, 'plddt': (56,), 'ranking_confidence': ()}\n",
            "I0713 13:48:11.902873 137421280343872 parjax_cla_multi_GoogleColab.py:144] Total JAX model model_2_pred_0 on 2LHC predict time (includes compilation time, see --benchmark): 5.8s\n",
            "I0713 13:48:11.915435 137421280343872 parjax_cla_multi_GoogleColab.py:132] Running model model_3_pred_0 on 2LHC\n",
            "I0713 13:48:13.428110 137421280343872 model.py:165] Running predict with shape(feat) = {'aatype': (4, 56), 'residue_index': (4, 56), 'seq_length': (4,), 'is_distillation': (4,), 'seq_mask': (4, 56), 'msa_mask': (4, 512, 56), 'msa_row_mask': (4, 512), 'random_crop_to_size_seed': (4, 2), 'atom14_atom_exists': (4, 56, 14), 'residx_atom14_to_atom37': (4, 56, 14), 'residx_atom37_to_atom14': (4, 56, 37), 'atom37_atom_exists': (4, 56, 37), 'extra_msa': (4, 5120, 56), 'extra_msa_mask': (4, 5120, 56), 'extra_msa_row_mask': (4, 5120), 'bert_mask': (4, 512, 56), 'true_msa': (4, 512, 56), 'extra_has_deletion': (4, 5120, 56), 'extra_deletion_value': (4, 5120, 56), 'msa_feat': (4, 512, 56, 49), 'target_feat': (4, 56, 22)}\n",
            "I0713 13:48:20.841414 137421280343872 model.py:175] Output shape was {'distogram': {'bin_edges': (63,), 'logits': (56, 56, 64)}, 'experimentally_resolved': {'logits': (56, 37)}, 'masked_msa': {'logits': (512, 56, 23)}, 'predicted_lddt': {'logits': (56, 50)}, 'structure_module': {'final_atom_mask': (56, 37), 'final_atom_positions': (56, 37, 3)}, 'plddt': (56,), 'ranking_confidence': ()}\n",
            "I0713 13:48:20.841606 137421280343872 parjax_cla_multi_GoogleColab.py:144] Total JAX model model_3_pred_0 on 2LHC predict time (includes compilation time, see --benchmark): 7.4s\n",
            "I0713 13:48:20.854010 137421280343872 parjax_cla_multi_GoogleColab.py:132] Running model model_4_pred_0 on 2LHC\n",
            "I0713 13:48:22.806406 137421280343872 model.py:165] Running predict with shape(feat) = {'aatype': (4, 56), 'residue_index': (4, 56), 'seq_length': (4,), 'is_distillation': (4,), 'seq_mask': (4, 56), 'msa_mask': (4, 512, 56), 'msa_row_mask': (4, 512), 'random_crop_to_size_seed': (4, 2), 'atom14_atom_exists': (4, 56, 14), 'residx_atom14_to_atom37': (4, 56, 14), 'residx_atom37_to_atom14': (4, 56, 37), 'atom37_atom_exists': (4, 56, 37), 'extra_msa': (4, 5120, 56), 'extra_msa_mask': (4, 5120, 56), 'extra_msa_row_mask': (4, 5120), 'bert_mask': (4, 512, 56), 'true_msa': (4, 512, 56), 'extra_has_deletion': (4, 5120, 56), 'extra_deletion_value': (4, 5120, 56), 'msa_feat': (4, 512, 56, 49), 'target_feat': (4, 56, 22)}\n",
            "I0713 13:48:30.325350 137421280343872 model.py:175] Output shape was {'distogram': {'bin_edges': (63,), 'logits': (56, 56, 64)}, 'experimentally_resolved': {'logits': (56, 37)}, 'masked_msa': {'logits': (512, 56, 23)}, 'predicted_lddt': {'logits': (56, 50)}, 'structure_module': {'final_atom_mask': (56, 37), 'final_atom_positions': (56, 37, 3)}, 'plddt': (56,), 'ranking_confidence': ()}\n",
            "I0713 13:48:30.325545 137421280343872 parjax_cla_multi_GoogleColab.py:144] Total JAX model model_4_pred_0 on 2LHC predict time (includes compilation time, see --benchmark): 7.5s\n",
            "I0713 13:48:30.338022 137421280343872 parjax_cla_multi_GoogleColab.py:132] Running model model_5_pred_0 on 2LHC\n",
            "I0713 13:48:31.914852 137421280343872 model.py:165] Running predict with shape(feat) = {'aatype': (4, 56), 'residue_index': (4, 56), 'seq_length': (4,), 'is_distillation': (4,), 'seq_mask': (4, 56), 'msa_mask': (4, 512, 56), 'msa_row_mask': (4, 512), 'random_crop_to_size_seed': (4, 2), 'atom14_atom_exists': (4, 56, 14), 'residx_atom14_to_atom37': (4, 56, 14), 'residx_atom37_to_atom14': (4, 56, 37), 'atom37_atom_exists': (4, 56, 37), 'extra_msa': (4, 1024, 56), 'extra_msa_mask': (4, 1024, 56), 'extra_msa_row_mask': (4, 1024), 'bert_mask': (4, 512, 56), 'true_msa': (4, 512, 56), 'extra_has_deletion': (4, 1024, 56), 'extra_deletion_value': (4, 1024, 56), 'msa_feat': (4, 512, 56, 49), 'target_feat': (4, 56, 22)}\n",
            "I0713 13:48:37.548814 137421280343872 model.py:175] Output shape was {'distogram': {'bin_edges': (63,), 'logits': (56, 56, 64)}, 'experimentally_resolved': {'logits': (56, 37)}, 'masked_msa': {'logits': (512, 56, 23)}, 'predicted_lddt': {'logits': (56, 50)}, 'structure_module': {'final_atom_mask': (56, 37), 'final_atom_positions': (56, 37, 3)}, 'plddt': (56,), 'ranking_confidence': ()}\n",
            "I0713 13:48:37.549003 137421280343872 parjax_cla_multi_GoogleColab.py:144] Total JAX model model_5_pred_0 on 2LHC predict time (includes compilation time, see --benchmark): 5.6s\n",
            "I0713 13:48:39.042468 137421280343872 amber_minimize.py:178] alterations info: {'nonstandard_residues': [], 'removed_heterogens': set(), 'missing_residues': {}, 'missing_heavy_atoms': {}, 'missing_terminals': {<Residue 55 (GLU) of chain 0>: ['OXT']}, 'Se_in_MET': [], 'removed_chains': {0: []}}\n",
            "I0713 13:48:39.322094 137421280343872 amber_minimize.py:408] Minimizing protein, attempt 1 of 100.\n",
            "I0713 13:48:39.471841 137421280343872 amber_minimize.py:69] Restraining 448 / 921 particles.\n",
            "I0713 13:48:41.141249 137421280343872 amber_minimize.py:178] alterations info: {'nonstandard_residues': [], 'removed_heterogens': set(), 'missing_residues': {}, 'missing_heavy_atoms': {}, 'missing_terminals': {}, 'Se_in_MET': [], 'removed_chains': {0: []}}\n",
            "I0713 13:48:41.245436 137421280343872 amber_minimize.py:500] Iteration completed: Einit 1657.99 Efinal -579.18 Time 0.87 s num residue violations 0 num residue exclusions 0 \n",
            "I0713 13:48:41.276292 137421280343872 parjax_cla_multi_GoogleColab.py:231] Final timings for 2LHC: {'process_features_model_1_pred_0': 2.0730061531066895, 'predict_and_compile_model_1_pred_0': 7.572218656539917, 'process_features_model_2_pred_0': 1.9867897033691406, 'predict_and_compile_model_2_pred_0': 5.777389287948608, 'process_features_model_3_pred_0': 1.5123920440673828, 'predict_and_compile_model_3_pred_0': 7.413641929626465, 'process_features_model_4_pred_0': 1.952111005783081, 'predict_and_compile_model_4_pred_0': 7.519268274307251, 'process_features_model_5_pred_0': 1.576535940170288, 'predict_and_compile_model_5_pred_0': 5.634284973144531, 'relax_model_4_pred_0': 3.7136740684509277}\n",
            "I0713 13:48:41.276966 137421280343872 parjax_cla_multi_GoogleColab.py:308] 2LHC AlphaFold structure prediction COMPLETE\n"
          ]
        }
      ],
      "source": [
        "%%bash\n",
        "source activate parafold\n",
        "\n",
        "python parjax_cla_multi_GoogleColab.py \\\n",
        "  --fasta_paths=/content/jaxalpha/multi/2LHG/2LHG.fasta,/content/jaxalpha/multi/2LHE/2LHE.fasta,/content/jaxalpha/multi/2LHD/2LHD.fasta,/content/jaxalpha/multi/2LHC/2LHC.fasta  \\\n",
        "  --output_dir=/content/jaxalpha/multi/out_multi_same \\\n",
        "  --parameter_path=/content/ParallelFold/params \\\n",
        "  --feature_files=/content/jaxalpha/multi/2LHG/feature.pkl,/content/jaxalpha/multi/2LHE/feature.pkl,/content/jaxalpha/multi/2LHD/feature.pkl,/content/jaxalpha/multi/2LHC/feature.pkl \\\n",
        "  --use_gpu_relax=true\n",
        "\n"
      ]
    },
    {
      "cell_type": "code",
      "source": [
        "log_execution_time(start_time, cell_title)"
      ],
      "metadata": {
        "id": "VHsqPxzNHonp"
      },
      "execution_count": 47,
      "outputs": []
    },
    {
      "cell_type": "code",
      "execution_count": 48,
      "metadata": {
        "id": "W-_pdPajkI_n"
      },
      "outputs": [],
      "source": [
        "#@title zip_output\n",
        "%%capture\n",
        "cell_title = \"zip_output\"\n",
        "start_time = time.time()\n",
        "\n",
        "import zipfile\n",
        "import os\n",
        "from google.colab import drive\n",
        "\n",
        "# Mount Google Drive\n",
        "drive.mount('/content/drive')\n",
        "\n",
        "# Define the folder to zip\n",
        "folder_to_zip = '/content/jaxalpha/multi/out_multi_same'\n",
        "\n",
        "# Define the output zip file name and path (in Google Drive)\n",
        "output_filename = '/content/drive/My Drive/parjax_cla_multi_1_4_same_A100.zip'\n",
        "\n",
        "# Create the zip file\n",
        "with zipfile.ZipFile(output_filename, 'w', zipfile.ZIP_DEFLATED) as zipf:\n",
        "    for root, dirs, files in os.walk(folder_to_zip):\n",
        "        for file in files:\n",
        "            zipf.write(os.path.join(root, file),\n",
        "                       os.path.relpath(os.path.join(root, file),\n",
        "                                       os.path.join(folder_to_zip, '..')))\n",
        "\n",
        "log_execution_time(start_time, cell_title)"
      ]
    },
    {
      "cell_type": "code",
      "source": [
        "#log_execution_time(code_start_time, from_beginning_to_end)"
      ],
      "metadata": {
        "id": "b-pu4avGY3cU"
      },
      "execution_count": 49,
      "outputs": []
    }
  ],
  "metadata": {
    "colab": {
      "provenance": [],
      "machine_shape": "hm",
      "gpuType": "A100",
      "include_colab_link": true
    },
    "kernelspec": {
      "display_name": "Python 3",
      "name": "python3"
    },
    "language_info": {
      "name": "python"
    },
    "accelerator": "GPU"
  },
  "nbformat": 4,
  "nbformat_minor": 0
}