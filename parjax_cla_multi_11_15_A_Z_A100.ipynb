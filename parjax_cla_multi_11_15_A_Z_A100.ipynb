{
  "cells": [
    {
      "cell_type": "markdown",
      "metadata": {
        "id": "view-in-github",
        "colab_type": "text"
      },
      "source": [
        "<a href=\"https://colab.research.google.com/github/mohfercolab/colab_protein_sample/blob/main/parjax_cla_multi_11_15_A_Z_A100.ipynb\" target=\"_parent\"><img src=\"https://colab.research.google.com/assets/colab-badge.svg\" alt=\"Open In Colab\"/></a>"
      ]
    },
    {
      "cell_type": "code",
      "source": [
        "#@title Initialize_time\n",
        "import time\n",
        "\n",
        "# Initialize an empty file\n",
        "with open('/content/time_cell_11_15_Z_A_A100.txt', 'w') as file:\n",
        "    file.write('')\n",
        "\n",
        "\n",
        "def log_execution_time(start_time, cell_title):\n",
        "    end_time = time.time()\n",
        "    execution_time = end_time - start_time\n",
        "\n",
        "    with open('/content/time_cell_11_15_Z_A_A100.txt', 'a') as file:\n",
        "        file.write(f\"execution_time_{cell_title}, {execution_time}\\n\")\n",
        "\n",
        "from_beginning_to_end = \"Start_running_the_code\"\n",
        "code_start_time = time.time()"
      ],
      "metadata": {
        "id": "el4dU4_088Xh"
      },
      "execution_count": null,
      "outputs": []
    },
    {
      "cell_type": "code",
      "execution_count": null,
      "metadata": {
        "id": "Iu_wXmRquKlk"
      },
      "outputs": [],
      "source": [
        "#@title clone\n",
        "%%capture\n",
        "cell_title = \"clone\"\n",
        "start_time = time.time()\n",
        "\n",
        "!git clone https://github.com/Zuricho/ParallelFold.git\n",
        "!git clone https://github.com/fereidoon27/jaxalpha.git\n",
        "\n",
        "log_execution_time(start_time, cell_title)"
      ]
    },
    {
      "cell_type": "code",
      "execution_count": null,
      "metadata": {
        "collapsed": true,
        "id": "71M2Wr3NuZfM",
        "cellView": "form"
      },
      "outputs": [],
      "source": [
        "#@title Miniconda\n",
        "%%capture\n",
        "cell_title = \"Miniconda\"\n",
        "start_time = time.time()\n",
        "\n",
        "# Install Miniconda\n",
        "!wget https://repo.anaconda.com/miniconda/Miniconda3-latest-Linux-x86_64.sh\n",
        "!chmod +x Miniconda3-latest-Linux-x86_64.sh\n",
        "!bash ./Miniconda3-latest-Linux-x86_64.sh -b -f -p /usr/local\n",
        "\n",
        "# Initialize Conda\n",
        "import sys\n",
        "sys.path.append('/usr/local/lib/python3.8/site-packages')\n",
        "\n",
        "# Configure conda\n",
        "!conda init bash\n",
        "!source ~/.bashrc\n",
        "\n",
        "# Update conda\n",
        "!conda update conda -y\n",
        "\n",
        "log_execution_time(start_time, cell_title)"
      ]
    },
    {
      "cell_type": "code",
      "execution_count": null,
      "metadata": {
        "collapsed": true,
        "id": "lr6PZXRiufLc",
        "cellView": "form"
      },
      "outputs": [],
      "source": [
        "#@title parafold_env\n",
        "%%capture\n",
        "cell_title = \"parafold_env\"\n",
        "start_time = time.time()\n",
        "\n",
        "# Recommend you to use python 3.8, version < 3.7 have missing packages, python versions newer than 3.8 were not tested\n",
        "!conda create -n parafold python=3.8 -y\n",
        "\n",
        "log_execution_time(start_time, cell_title)"
      ]
    },
    {
      "cell_type": "code",
      "execution_count": null,
      "metadata": {
        "id": "ag5mSJ5fvZRA",
        "cellView": "form"
      },
      "outputs": [],
      "source": [
        "#@title testing_activate_parafold\n",
        "%%capture\n",
        "cell_title = \"testing_activate_parafold\"\n",
        "start_time = time.time()\n",
        "\n",
        "!source activate parafold && { \\\n",
        "    echo \"Setting up the parafold environment\"; \\\n",
        "    echo \"Current Python version:\"; \\\n",
        "    python --version; \\\n",
        "    }\n",
        "\n",
        "log_execution_time(start_time, cell_title)"
      ]
    },
    {
      "cell_type": "code",
      "execution_count": null,
      "metadata": {
        "id": "qw3B2zQgxgw1",
        "cellView": "form"
      },
      "outputs": [],
      "source": [
        "#@title install_py3dmol\n",
        "%%capture\n",
        "cell_title = \"install_py3dmol\"\n",
        "start_time = time.time()\n",
        "\n",
        "#install py3dmol\n",
        "!source activate parafold && pip install py3dmol\n",
        "\n",
        "log_execution_time(start_time, cell_title)"
      ]
    },
    {
      "cell_type": "code",
      "execution_count": null,
      "metadata": {
        "collapsed": true,
        "id": "nhH-cpF51ao4",
        "cellView": "form"
      },
      "outputs": [],
      "source": [
        "#@title install_openmm\n",
        "%%capture\n",
        "cell_title = \"install_openmm\"\n",
        "start_time = time.time()\n",
        "\n",
        "# openmm 7.7 is recommended (original alphafold using 7.5.1, but it is not supported now)\n",
        "!source activate parafold && conda install -c conda-forge openmm=7.7 pdbfixer -y\n",
        "\n",
        "log_execution_time(start_time, cell_title)"
      ]
    },
    {
      "cell_type": "code",
      "execution_count": null,
      "metadata": {
        "collapsed": true,
        "id": "uW7VE2hi1jwl",
        "cellView": "form"
      },
      "outputs": [],
      "source": [
        "#@title install_requirements\n",
        "%%capture\n",
        "cell_title = \"install_requirements\"\n",
        "start_time = time.time()\n",
        "\n",
        "%cd ParallelFold\n",
        "#install requirements\n",
        "!source activate parafold && pip3 install -r requirements.txt\n",
        "\n",
        "log_execution_time(start_time, cell_title)"
      ]
    },
    {
      "cell_type": "code",
      "execution_count": null,
      "metadata": {
        "collapsed": true,
        "id": "1P1qlWikHrT4",
        "cellView": "form"
      },
      "outputs": [],
      "source": [
        "#@title install_cuda_and_cudnn\n",
        "%%capture\n",
        "cell_title = \"install_cuda_and_cudnn\"\n",
        "start_time = time.time()\n",
        "\n",
        "# cudatoolkit 11.3.1 matches cudnn 8.2.1\n",
        "!source activate parafold && echo 'y' | conda install cudatoolkit=11.3 cudnn -y\n",
        "\n",
        "log_execution_time(start_time, cell_title)"
      ]
    },
    {
      "cell_type": "code",
      "execution_count": null,
      "metadata": {
        "collapsed": true,
        "id": "BdbRAX2JI44X",
        "cellView": "form"
      },
      "outputs": [],
      "source": [
        "#@title downgrade_jaxlib\n",
        "%%capture\n",
        "cell_title = \"downgrade_jaxlib\"\n",
        "start_time = time.time()\n",
        "\n",
        "# downgrade jaxlib to the correct version, matches with cuda and cudnn version\n",
        "!source activate parafold && pip3 install --upgrade --no-cache-dir jax==0.3.25 jaxlib==0.3.25+cuda11.cudnn82 -f https://storage.googleapis.com/jax-releases/jax_cuda_releases.html\n",
        "\n",
        "log_execution_time(start_time, cell_title)"
      ]
    },
    {
      "cell_type": "code",
      "execution_count": null,
      "metadata": {
        "collapsed": true,
        "id": "-O_Df8cdJAKj",
        "cellView": "form"
      },
      "outputs": [],
      "source": [
        "#@title packages_for_MSA\n",
        "%%capture\n",
        "cell_title = \"packages_for_MSA\"\n",
        "start_time = time.time()\n",
        "\n",
        "# install packages for multiple sequence alignment\n",
        "!source activate parafold && conda install -c bioconda hmmer=3.3.2 hhsuite=3.3.0 kalign2=2.04 -y\n",
        "\n",
        "log_execution_time(start_time, cell_title)"
      ]
    },
    {
      "cell_type": "code",
      "execution_count": null,
      "metadata": {
        "collapsed": true,
        "id": "zmue22y1c7LC",
        "cellView": "form"
      },
      "outputs": [],
      "source": [
        "#@title aria2\n",
        "%%capture\n",
        "cell_title = \"aria2\"\n",
        "start_time = time.time()\n",
        "\n",
        "!source activate parafold && conda install aria2 -y\n",
        "\n",
        "log_execution_time(start_time, cell_title)"
      ]
    },
    {
      "cell_type": "code",
      "source": [
        "#@title alphafold_params\n",
        "%%capture\n",
        "cell_title = \"alphafold_params\"\n",
        "start_time = time.time()\n",
        "\n",
        "!source activate parafold && bash /content/ParallelFold/scripts/download_alphafold_params.sh /content/ParallelFold\n",
        "\n",
        "log_execution_time(start_time, cell_title)"
      ],
      "metadata": {
        "id": "iglOn5cGF7gC",
        "cellView": "form"
      },
      "execution_count": null,
      "outputs": []
    },
    {
      "cell_type": "code",
      "execution_count": null,
      "metadata": {
        "collapsed": true,
        "id": "IOE5ESGGOaT5"
      },
      "outputs": [],
      "source": [
        "#@title directory\n",
        "!mv /content/jaxalpha/parjax_cla_multi_GoogleColab.py /content/ParallelFold\n",
        "%cd /content/ParallelFold/\n",
        "#!chmod +x parjax_cla_multi_GoogleColab.sh"
      ]
    },
    {
      "cell_type": "code",
      "source": [
        "%cd /content\n",
        "!rm -r /content/jaxalpha\n",
        "!git clone https://github.com/fereidoon27/jaxalpha.git"
      ],
      "metadata": {
        "colab": {
          "base_uri": "https://localhost:8080/"
        },
        "id": "AIUbOdB6tq0e",
        "outputId": "839433a1-90e7-40a6-8106-d8d6c11378a6"
      },
      "execution_count": 28,
      "outputs": [
        {
          "output_type": "stream",
          "name": "stdout",
          "text": [
            "/content\n",
            "Cloning into 'jaxalpha'...\n",
            "remote: Enumerating objects: 569, done.\u001b[K\n",
            "remote: Counting objects: 100% (124/124), done.\u001b[K\n",
            "remote: Compressing objects: 100% (106/106), done.\u001b[K\n",
            "remote: Total 569 (delta 32), reused 108 (delta 16), pack-reused 445\u001b[K\n",
            "Receiving objects: 100% (569/569), 669.76 MiB | 15.68 MiB/s, done.\n",
            "Resolving deltas: 100% (125/125), done.\n",
            "Updating files: 100% (508/508), done.\n"
          ]
        }
      ]
    },
    {
      "cell_type": "code",
      "source": [
        "!mv /content/jaxalpha/parjax_cla_multi_GoogleColab.py /content/ParallelFold\n",
        "%cd /content/ParallelFold/"
      ],
      "metadata": {
        "colab": {
          "base_uri": "https://localhost:8080/"
        },
        "id": "CN2wnJZ7uKEI",
        "outputId": "8a822ac6-6520-4c6b-8915-9d403e0dec35"
      },
      "execution_count": 29,
      "outputs": [
        {
          "output_type": "stream",
          "name": "stdout",
          "text": [
            "/content/ParallelFold\n"
          ]
        }
      ]
    },
    {
      "cell_type": "code",
      "source": [
        "cell_title = \"prediction_11_15_A_Z_A100\"\n",
        "start_time = time.time()"
      ],
      "metadata": {
        "id": "QzSv4dVwHnr1"
      },
      "execution_count": 30,
      "outputs": []
    },
    {
      "cell_type": "code",
      "execution_count": 31,
      "metadata": {
        "collapsed": true,
        "id": "HiqjNrx6jnLE",
        "colab": {
          "base_uri": "https://localhost:8080/"
        },
        "outputId": "dd595efe-e2fa-4d73-ba08-50f73c1bcddf"
      },
      "outputs": [
        {
          "output_type": "stream",
          "name": "stderr",
          "text": [
            "I0713 10:59:07.163610 134991412868928 xla_bridge.py:353] Unable to initialize backend 'tpu_driver': NOT_FOUND: Unable to find driver in registry given worker: \n",
            "I0713 10:59:07.275202 134991412868928 xla_bridge.py:353] Unable to initialize backend 'rocm': NOT_FOUND: Could not find registered platform with name: \"rocm\". Available platform names are: Interpreter Host CUDA\n",
            "I0713 10:59:07.275646 134991412868928 xla_bridge.py:353] Unable to initialize backend 'tpu': module 'jaxlib.xla_extension' has no attribute 'get_tpu_client'\n",
            "I0713 10:59:07.275767 134991412868928 xla_bridge.py:353] Unable to initialize backend 'plugin': xla_extension has no attributes named get_plugin_device_client. Compile TensorFlow with //tensorflow/compiler/xla/python:enable_plugin_device set to true (defaults to false) to enable this.\n",
            "I0713 10:59:11.765558 134991412868928 parjax_cla_multi_GoogleColab.py:279] Have 5 models: ['model_1_pred_0', 'model_2_pred_0', 'model_3_pred_0', 'model_4_pred_0', 'model_5_pred_0']\n",
            "I0713 10:59:11.765752 134991412868928 parjax_cla_multi_GoogleColab.py:293] Using random seed 1066771543389433144 for the data pipeline\n",
            "I0713 10:59:11.765994 134991412868928 parjax_cla_multi_GoogleColab.py:107] Predicting 8D27\n",
            "I0713 10:59:11.810052 134991412868928 parjax_cla_multi_GoogleColab.py:132] Running model model_1_pred_0 on 8D27\n",
            "W0713 10:59:12.629508 134991412868928 deprecation.py:350] From /usr/local/envs/parafold/lib/python3.8/site-packages/tensorflow/python/autograph/pyct/static_analysis/liveness.py:83: Analyzer.lamba_check (from tensorflow.python.autograph.pyct.static_analysis.liveness) is deprecated and will be removed after 2023-09-23.\n",
            "Instructions for updating:\n",
            "Lambda fuctions will be no more assumed to be used in the statement where they are used, or at least in the same block. https://github.com/tensorflow/tensorflow/issues/56089\n",
            "I0713 10:59:16.943989 134991412868928 model.py:165] Running predict with shape(feat) = {'aatype': (4, 287), 'residue_index': (4, 287), 'seq_length': (4,), 'template_aatype': (4, 4, 287), 'template_all_atom_masks': (4, 4, 287, 37), 'template_all_atom_positions': (4, 4, 287, 37, 3), 'template_sum_probs': (4, 4, 1), 'is_distillation': (4,), 'seq_mask': (4, 287), 'msa_mask': (4, 508, 287), 'msa_row_mask': (4, 508), 'random_crop_to_size_seed': (4, 2), 'template_mask': (4, 4), 'template_pseudo_beta': (4, 4, 287, 3), 'template_pseudo_beta_mask': (4, 4, 287), 'atom14_atom_exists': (4, 287, 14), 'residx_atom14_to_atom37': (4, 287, 14), 'residx_atom37_to_atom14': (4, 287, 37), 'atom37_atom_exists': (4, 287, 37), 'extra_msa': (4, 5120, 287), 'extra_msa_mask': (4, 5120, 287), 'extra_msa_row_mask': (4, 5120), 'bert_mask': (4, 508, 287), 'true_msa': (4, 508, 287), 'extra_has_deletion': (4, 5120, 287), 'extra_deletion_value': (4, 5120, 287), 'msa_feat': (4, 508, 287, 49), 'target_feat': (4, 287, 22)}\n",
            "I0713 11:02:03.362492 134991412868928 model.py:175] Output shape was {'distogram': {'bin_edges': (63,), 'logits': (287, 287, 64)}, 'experimentally_resolved': {'logits': (287, 37)}, 'masked_msa': {'logits': (508, 287, 23)}, 'predicted_lddt': {'logits': (287, 50)}, 'structure_module': {'final_atom_mask': (287, 37), 'final_atom_positions': (287, 37, 3)}, 'plddt': (287,), 'ranking_confidence': ()}\n",
            "I0713 11:02:03.362679 134991412868928 parjax_cla_multi_GoogleColab.py:144] Total JAX model model_1_pred_0 on 8D27 predict time (includes compilation time, see --benchmark): 166.4s\n",
            "I0713 11:02:03.443176 134991412868928 parjax_cla_multi_GoogleColab.py:132] Running model model_2_pred_0 on 8D27\n",
            "I0713 11:02:07.088401 134991412868928 model.py:165] Running predict with shape(feat) = {'aatype': (4, 287), 'residue_index': (4, 287), 'seq_length': (4,), 'template_aatype': (4, 4, 287), 'template_all_atom_masks': (4, 4, 287, 37), 'template_all_atom_positions': (4, 4, 287, 37, 3), 'template_sum_probs': (4, 4, 1), 'is_distillation': (4,), 'seq_mask': (4, 287), 'msa_mask': (4, 508, 287), 'msa_row_mask': (4, 508), 'random_crop_to_size_seed': (4, 2), 'template_mask': (4, 4), 'template_pseudo_beta': (4, 4, 287, 3), 'template_pseudo_beta_mask': (4, 4, 287), 'atom14_atom_exists': (4, 287, 14), 'residx_atom14_to_atom37': (4, 287, 14), 'residx_atom37_to_atom14': (4, 287, 37), 'atom37_atom_exists': (4, 287, 37), 'extra_msa': (4, 1024, 287), 'extra_msa_mask': (4, 1024, 287), 'extra_msa_row_mask': (4, 1024), 'bert_mask': (4, 508, 287), 'true_msa': (4, 508, 287), 'extra_has_deletion': (4, 1024, 287), 'extra_deletion_value': (4, 1024, 287), 'msa_feat': (4, 508, 287, 49), 'target_feat': (4, 287, 22)}\n",
            "I0713 11:04:57.755843 134991412868928 model.py:175] Output shape was {'distogram': {'bin_edges': (63,), 'logits': (287, 287, 64)}, 'experimentally_resolved': {'logits': (287, 37)}, 'masked_msa': {'logits': (508, 287, 23)}, 'predicted_lddt': {'logits': (287, 50)}, 'structure_module': {'final_atom_mask': (287, 37), 'final_atom_positions': (287, 37, 3)}, 'plddt': (287,), 'ranking_confidence': ()}\n",
            "I0713 11:04:57.756088 134991412868928 parjax_cla_multi_GoogleColab.py:144] Total JAX model model_2_pred_0 on 8D27 predict time (includes compilation time, see --benchmark): 170.7s\n",
            "I0713 11:04:57.839717 134991412868928 parjax_cla_multi_GoogleColab.py:132] Running model model_3_pred_0 on 8D27\n",
            "I0713 11:05:01.228723 134991412868928 model.py:165] Running predict with shape(feat) = {'aatype': (4, 287), 'residue_index': (4, 287), 'seq_length': (4,), 'is_distillation': (4,), 'seq_mask': (4, 287), 'msa_mask': (4, 512, 287), 'msa_row_mask': (4, 512), 'random_crop_to_size_seed': (4, 2), 'atom14_atom_exists': (4, 287, 14), 'residx_atom14_to_atom37': (4, 287, 14), 'residx_atom37_to_atom14': (4, 287, 37), 'atom37_atom_exists': (4, 287, 37), 'extra_msa': (4, 5120, 287), 'extra_msa_mask': (4, 5120, 287), 'extra_msa_row_mask': (4, 5120), 'bert_mask': (4, 512, 287), 'true_msa': (4, 512, 287), 'extra_has_deletion': (4, 5120, 287), 'extra_deletion_value': (4, 5120, 287), 'msa_feat': (4, 512, 287, 49), 'target_feat': (4, 287, 22)}\n",
            "I0713 11:07:16.777944 134991412868928 model.py:175] Output shape was {'distogram': {'bin_edges': (63,), 'logits': (287, 287, 64)}, 'experimentally_resolved': {'logits': (287, 37)}, 'masked_msa': {'logits': (512, 287, 23)}, 'predicted_lddt': {'logits': (287, 50)}, 'structure_module': {'final_atom_mask': (287, 37), 'final_atom_positions': (287, 37, 3)}, 'plddt': (287,), 'ranking_confidence': ()}\n",
            "I0713 11:07:16.778179 134991412868928 parjax_cla_multi_GoogleColab.py:144] Total JAX model model_3_pred_0 on 8D27 predict time (includes compilation time, see --benchmark): 135.5s\n",
            "I0713 11:07:16.863437 134991412868928 parjax_cla_multi_GoogleColab.py:132] Running model model_4_pred_0 on 8D27\n",
            "I0713 11:07:20.224641 134991412868928 model.py:165] Running predict with shape(feat) = {'aatype': (4, 287), 'residue_index': (4, 287), 'seq_length': (4,), 'is_distillation': (4,), 'seq_mask': (4, 287), 'msa_mask': (4, 512, 287), 'msa_row_mask': (4, 512), 'random_crop_to_size_seed': (4, 2), 'atom14_atom_exists': (4, 287, 14), 'residx_atom14_to_atom37': (4, 287, 14), 'residx_atom37_to_atom14': (4, 287, 37), 'atom37_atom_exists': (4, 287, 37), 'extra_msa': (4, 5120, 287), 'extra_msa_mask': (4, 5120, 287), 'extra_msa_row_mask': (4, 5120), 'bert_mask': (4, 512, 287), 'true_msa': (4, 512, 287), 'extra_has_deletion': (4, 5120, 287), 'extra_deletion_value': (4, 5120, 287), 'msa_feat': (4, 512, 287, 49), 'target_feat': (4, 287, 22)}\n",
            "I0713 11:09:33.947309 134991412868928 model.py:175] Output shape was {'distogram': {'bin_edges': (63,), 'logits': (287, 287, 64)}, 'experimentally_resolved': {'logits': (287, 37)}, 'masked_msa': {'logits': (512, 287, 23)}, 'predicted_lddt': {'logits': (287, 50)}, 'structure_module': {'final_atom_mask': (287, 37), 'final_atom_positions': (287, 37, 3)}, 'plddt': (287,), 'ranking_confidence': ()}\n",
            "I0713 11:09:33.947525 134991412868928 parjax_cla_multi_GoogleColab.py:144] Total JAX model model_4_pred_0 on 8D27 predict time (includes compilation time, see --benchmark): 133.7s\n",
            "I0713 11:09:34.043024 134991412868928 parjax_cla_multi_GoogleColab.py:132] Running model model_5_pred_0 on 8D27\n",
            "I0713 11:09:37.512908 134991412868928 model.py:165] Running predict with shape(feat) = {'aatype': (4, 287), 'residue_index': (4, 287), 'seq_length': (4,), 'is_distillation': (4,), 'seq_mask': (4, 287), 'msa_mask': (4, 512, 287), 'msa_row_mask': (4, 512), 'random_crop_to_size_seed': (4, 2), 'atom14_atom_exists': (4, 287, 14), 'residx_atom14_to_atom37': (4, 287, 14), 'residx_atom37_to_atom14': (4, 287, 37), 'atom37_atom_exists': (4, 287, 37), 'extra_msa': (4, 1024, 287), 'extra_msa_mask': (4, 1024, 287), 'extra_msa_row_mask': (4, 1024), 'bert_mask': (4, 512, 287), 'true_msa': (4, 512, 287), 'extra_has_deletion': (4, 1024, 287), 'extra_deletion_value': (4, 1024, 287), 'msa_feat': (4, 512, 287, 49), 'target_feat': (4, 287, 22)}\n",
            "I0713 11:11:51.214182 134991412868928 model.py:175] Output shape was {'distogram': {'bin_edges': (63,), 'logits': (287, 287, 64)}, 'experimentally_resolved': {'logits': (287, 37)}, 'masked_msa': {'logits': (512, 287, 23)}, 'predicted_lddt': {'logits': (287, 50)}, 'structure_module': {'final_atom_mask': (287, 37), 'final_atom_positions': (287, 37, 3)}, 'plddt': (287,), 'ranking_confidence': ()}\n",
            "I0713 11:11:51.214390 134991412868928 parjax_cla_multi_GoogleColab.py:144] Total JAX model model_5_pred_0 on 8D27 predict time (includes compilation time, see --benchmark): 133.7s\n",
            "W0713 11:11:51.740497 134991412868928 __init__.py:5] Warning: importing 'simtk.openmm' is deprecated.  Import 'openmm' instead.\n",
            "I0713 11:11:54.544939 134991412868928 amber_minimize.py:178] alterations info: {'nonstandard_residues': [], 'removed_heterogens': set(), 'missing_residues': {}, 'missing_heavy_atoms': {}, 'missing_terminals': {<Residue 286 (TYR) of chain 0>: ['OXT']}, 'Se_in_MET': [], 'removed_chains': {0: []}}\n",
            "I0713 11:11:55.160328 134991412868928 amber_minimize.py:408] Minimizing protein, attempt 1 of 100.\n",
            "I0713 11:11:55.818966 134991412868928 amber_minimize.py:69] Restraining 2251 / 4495 particles.\n",
            "I0713 11:11:59.328623 134991412868928 amber_minimize.py:178] alterations info: {'nonstandard_residues': [], 'removed_heterogens': set(), 'missing_residues': {}, 'missing_heavy_atoms': {}, 'missing_terminals': {}, 'Se_in_MET': [], 'removed_chains': {0: []}}\n",
            "I0713 11:12:02.842247 134991412868928 amber_minimize.py:500] Iteration completed: Einit 6105.48 Efinal -5062.76 Time 1.59 s num residue violations 0 num residue exclusions 0 \n",
            "I0713 11:12:03.003760 134991412868928 parjax_cla_multi_GoogleColab.py:231] Final timings for 8D27: {'process_features_model_1_pred_0': 5.133375644683838, 'predict_and_compile_model_1_pred_0': 166.4190788269043, 'process_features_model_2_pred_0': 3.644788980484009, 'predict_and_compile_model_2_pred_0': 170.66795134544373, 'process_features_model_3_pred_0': 3.38869309425354, 'predict_and_compile_model_3_pred_0': 135.5495948791504, 'process_features_model_4_pred_0': 3.3609063625335693, 'predict_and_compile_model_4_pred_0': 133.72302222251892, 'process_features_model_5_pred_0': 3.469559669494629, 'predict_and_compile_model_5_pred_0': 133.70161867141724, 'relax_model_3_pred_0': 11.699958562850952}\n",
            "I0713 11:12:03.004648 134991412868928 parjax_cla_multi_GoogleColab.py:308] 8D27 AlphaFold structure prediction COMPLETE\n",
            "I0713 11:12:03.004791 134991412868928 parjax_cla_multi_GoogleColab.py:107] Predicting 7PZT\n",
            "I0713 11:12:03.005778 134991412868928 parjax_cla_multi_GoogleColab.py:132] Running model model_1_pred_0 on 7PZT\n",
            "I0713 11:12:05.075756 134991412868928 model.py:165] Running predict with shape(feat) = {'aatype': (4, 160), 'residue_index': (4, 160), 'seq_length': (4,), 'template_aatype': (4, 4, 160), 'template_all_atom_masks': (4, 4, 160, 37), 'template_all_atom_positions': (4, 4, 160, 37, 3), 'template_sum_probs': (4, 4, 1), 'is_distillation': (4,), 'seq_mask': (4, 160), 'msa_mask': (4, 508, 160), 'msa_row_mask': (4, 508), 'random_crop_to_size_seed': (4, 2), 'template_mask': (4, 4), 'template_pseudo_beta': (4, 4, 160, 3), 'template_pseudo_beta_mask': (4, 4, 160), 'atom14_atom_exists': (4, 160, 14), 'residx_atom14_to_atom37': (4, 160, 14), 'residx_atom37_to_atom14': (4, 160, 37), 'atom37_atom_exists': (4, 160, 37), 'extra_msa': (4, 5120, 160), 'extra_msa_mask': (4, 5120, 160), 'extra_msa_row_mask': (4, 5120), 'bert_mask': (4, 508, 160), 'true_msa': (4, 508, 160), 'extra_has_deletion': (4, 5120, 160), 'extra_deletion_value': (4, 5120, 160), 'msa_feat': (4, 508, 160, 49), 'target_feat': (4, 160, 22)}\n",
            "I0713 11:14:45.284935 134991412868928 model.py:175] Output shape was {'distogram': {'bin_edges': (63,), 'logits': (160, 160, 64)}, 'experimentally_resolved': {'logits': (160, 37)}, 'masked_msa': {'logits': (508, 160, 23)}, 'predicted_lddt': {'logits': (160, 50)}, 'structure_module': {'final_atom_mask': (160, 37), 'final_atom_positions': (160, 37, 3)}, 'plddt': (160,), 'ranking_confidence': ()}\n",
            "I0713 11:14:45.285205 134991412868928 parjax_cla_multi_GoogleColab.py:144] Total JAX model model_1_pred_0 on 7PZT predict time (includes compilation time, see --benchmark): 160.2s\n",
            "I0713 11:14:45.323981 134991412868928 parjax_cla_multi_GoogleColab.py:132] Running model model_2_pred_0 on 7PZT\n",
            "I0713 11:14:47.491018 134991412868928 model.py:165] Running predict with shape(feat) = {'aatype': (4, 160), 'residue_index': (4, 160), 'seq_length': (4,), 'template_aatype': (4, 4, 160), 'template_all_atom_masks': (4, 4, 160, 37), 'template_all_atom_positions': (4, 4, 160, 37, 3), 'template_sum_probs': (4, 4, 1), 'is_distillation': (4,), 'seq_mask': (4, 160), 'msa_mask': (4, 508, 160), 'msa_row_mask': (4, 508), 'random_crop_to_size_seed': (4, 2), 'template_mask': (4, 4), 'template_pseudo_beta': (4, 4, 160, 3), 'template_pseudo_beta_mask': (4, 4, 160), 'atom14_atom_exists': (4, 160, 14), 'residx_atom14_to_atom37': (4, 160, 14), 'residx_atom37_to_atom14': (4, 160, 37), 'atom37_atom_exists': (4, 160, 37), 'extra_msa': (4, 1024, 160), 'extra_msa_mask': (4, 1024, 160), 'extra_msa_row_mask': (4, 1024), 'bert_mask': (4, 508, 160), 'true_msa': (4, 508, 160), 'extra_has_deletion': (4, 1024, 160), 'extra_deletion_value': (4, 1024, 160), 'msa_feat': (4, 508, 160, 49), 'target_feat': (4, 160, 22)}\n",
            "I0713 11:17:25.318847 134991412868928 model.py:175] Output shape was {'distogram': {'bin_edges': (63,), 'logits': (160, 160, 64)}, 'experimentally_resolved': {'logits': (160, 37)}, 'masked_msa': {'logits': (508, 160, 23)}, 'predicted_lddt': {'logits': (160, 50)}, 'structure_module': {'final_atom_mask': (160, 37), 'final_atom_positions': (160, 37, 3)}, 'plddt': (160,), 'ranking_confidence': ()}\n",
            "I0713 11:17:25.319074 134991412868928 parjax_cla_multi_GoogleColab.py:144] Total JAX model model_2_pred_0 on 7PZT predict time (includes compilation time, see --benchmark): 157.8s\n",
            "I0713 11:17:25.358123 134991412868928 parjax_cla_multi_GoogleColab.py:132] Running model model_3_pred_0 on 7PZT\n",
            "I0713 11:17:27.075362 134991412868928 model.py:165] Running predict with shape(feat) = {'aatype': (4, 160), 'residue_index': (4, 160), 'seq_length': (4,), 'is_distillation': (4,), 'seq_mask': (4, 160), 'msa_mask': (4, 512, 160), 'msa_row_mask': (4, 512), 'random_crop_to_size_seed': (4, 2), 'atom14_atom_exists': (4, 160, 14), 'residx_atom14_to_atom37': (4, 160, 14), 'residx_atom37_to_atom14': (4, 160, 37), 'atom37_atom_exists': (4, 160, 37), 'extra_msa': (4, 5120, 160), 'extra_msa_mask': (4, 5120, 160), 'extra_msa_row_mask': (4, 5120), 'bert_mask': (4, 512, 160), 'true_msa': (4, 512, 160), 'extra_has_deletion': (4, 5120, 160), 'extra_deletion_value': (4, 5120, 160), 'msa_feat': (4, 512, 160, 49), 'target_feat': (4, 160, 22)}\n",
            "I0713 11:19:30.683262 134991412868928 model.py:175] Output shape was {'distogram': {'bin_edges': (63,), 'logits': (160, 160, 64)}, 'experimentally_resolved': {'logits': (160, 37)}, 'masked_msa': {'logits': (512, 160, 23)}, 'predicted_lddt': {'logits': (160, 50)}, 'structure_module': {'final_atom_mask': (160, 37), 'final_atom_positions': (160, 37, 3)}, 'plddt': (160,), 'ranking_confidence': ()}\n",
            "I0713 11:19:30.683475 134991412868928 parjax_cla_multi_GoogleColab.py:144] Total JAX model model_3_pred_0 on 7PZT predict time (includes compilation time, see --benchmark): 123.6s\n",
            "I0713 11:19:30.724269 134991412868928 parjax_cla_multi_GoogleColab.py:132] Running model model_4_pred_0 on 7PZT\n",
            "I0713 11:19:32.508904 134991412868928 model.py:165] Running predict with shape(feat) = {'aatype': (4, 160), 'residue_index': (4, 160), 'seq_length': (4,), 'is_distillation': (4,), 'seq_mask': (4, 160), 'msa_mask': (4, 512, 160), 'msa_row_mask': (4, 512), 'random_crop_to_size_seed': (4, 2), 'atom14_atom_exists': (4, 160, 14), 'residx_atom14_to_atom37': (4, 160, 14), 'residx_atom37_to_atom14': (4, 160, 37), 'atom37_atom_exists': (4, 160, 37), 'extra_msa': (4, 5120, 160), 'extra_msa_mask': (4, 5120, 160), 'extra_msa_row_mask': (4, 5120), 'bert_mask': (4, 512, 160), 'true_msa': (4, 512, 160), 'extra_has_deletion': (4, 5120, 160), 'extra_deletion_value': (4, 5120, 160), 'msa_feat': (4, 512, 160, 49), 'target_feat': (4, 160, 22)}\n",
            "I0713 11:21:36.562734 134991412868928 model.py:175] Output shape was {'distogram': {'bin_edges': (63,), 'logits': (160, 160, 64)}, 'experimentally_resolved': {'logits': (160, 37)}, 'masked_msa': {'logits': (512, 160, 23)}, 'predicted_lddt': {'logits': (160, 50)}, 'structure_module': {'final_atom_mask': (160, 37), 'final_atom_positions': (160, 37, 3)}, 'plddt': (160,), 'ranking_confidence': ()}\n",
            "I0713 11:21:36.562977 134991412868928 parjax_cla_multi_GoogleColab.py:144] Total JAX model model_4_pred_0 on 7PZT predict time (includes compilation time, see --benchmark): 124.1s\n",
            "I0713 11:21:36.602033 134991412868928 parjax_cla_multi_GoogleColab.py:132] Running model model_5_pred_0 on 7PZT\n",
            "I0713 11:21:38.345739 134991412868928 model.py:165] Running predict with shape(feat) = {'aatype': (4, 160), 'residue_index': (4, 160), 'seq_length': (4,), 'is_distillation': (4,), 'seq_mask': (4, 160), 'msa_mask': (4, 512, 160), 'msa_row_mask': (4, 512), 'random_crop_to_size_seed': (4, 2), 'atom14_atom_exists': (4, 160, 14), 'residx_atom14_to_atom37': (4, 160, 14), 'residx_atom37_to_atom14': (4, 160, 37), 'atom37_atom_exists': (4, 160, 37), 'extra_msa': (4, 1024, 160), 'extra_msa_mask': (4, 1024, 160), 'extra_msa_row_mask': (4, 1024), 'bert_mask': (4, 512, 160), 'true_msa': (4, 512, 160), 'extra_has_deletion': (4, 1024, 160), 'extra_deletion_value': (4, 1024, 160), 'msa_feat': (4, 512, 160, 49), 'target_feat': (4, 160, 22)}\n",
            "I0713 11:23:40.447750 134991412868928 model.py:175] Output shape was {'distogram': {'bin_edges': (63,), 'logits': (160, 160, 64)}, 'experimentally_resolved': {'logits': (160, 37)}, 'masked_msa': {'logits': (512, 160, 23)}, 'predicted_lddt': {'logits': (160, 50)}, 'structure_module': {'final_atom_mask': (160, 37), 'final_atom_positions': (160, 37, 3)}, 'plddt': (160,), 'ranking_confidence': ()}\n",
            "I0713 11:23:40.447971 134991412868928 parjax_cla_multi_GoogleColab.py:144] Total JAX model model_5_pred_0 on 7PZT predict time (includes compilation time, see --benchmark): 122.1s\n",
            "I0713 11:23:42.614975 134991412868928 amber_minimize.py:178] alterations info: {'nonstandard_residues': [], 'removed_heterogens': set(), 'missing_residues': {}, 'missing_heavy_atoms': {}, 'missing_terminals': {<Residue 159 (LEU) of chain 0>: ['OXT']}, 'Se_in_MET': [], 'removed_chains': {0: []}}\n",
            "I0713 11:23:42.937454 134991412868928 amber_minimize.py:408] Minimizing protein, attempt 1 of 100.\n",
            "I0713 11:23:43.377029 134991412868928 amber_minimize.py:69] Restraining 1245 / 2476 particles.\n",
            "I0713 11:23:45.980927 134991412868928 amber_minimize.py:178] alterations info: {'nonstandard_residues': [], 'removed_heterogens': set(), 'missing_residues': {}, 'missing_heavy_atoms': {}, 'missing_terminals': {}, 'Se_in_MET': [], 'removed_chains': {0: []}}\n",
            "I0713 11:23:48.354513 134991412868928 amber_minimize.py:500] Iteration completed: Einit 2769.65 Efinal -3577.11 Time 1.50 s num residue violations 0 num residue exclusions 0 \n",
            "I0713 11:23:48.435360 134991412868928 parjax_cla_multi_GoogleColab.py:231] Final timings for 7PZT: {'process_features_model_1_pred_0': 2.06844162940979, 'predict_and_compile_model_1_pred_0': 160.21086978912354, 'process_features_model_2_pred_0': 2.164670467376709, 'predict_and_compile_model_2_pred_0': 157.83023691177368, 'process_features_model_3_pred_0': 1.7169568538665771, 'predict_and_compile_model_3_pred_0': 123.60824871063232, 'process_features_model_4_pred_0': 1.7843382358551025, 'predict_and_compile_model_4_pred_0': 124.05420684814453, 'process_features_model_5_pred_0': 1.7433955669403076, 'predict_and_compile_model_5_pred_0': 122.10236358642578, 'relax_model_5_pred_0': 7.94720983505249}\n",
            "I0713 11:23:48.436138 134991412868928 parjax_cla_multi_GoogleColab.py:308] 7PZT AlphaFold structure prediction COMPLETE\n",
            "I0713 11:23:48.436272 134991412868928 parjax_cla_multi_GoogleColab.py:107] Predicting 7ROA\n",
            "I0713 11:23:48.437034 134991412868928 parjax_cla_multi_GoogleColab.py:132] Running model model_1_pred_0 on 7ROA\n",
            "I0713 11:23:50.611527 134991412868928 model.py:165] Running predict with shape(feat) = {'aatype': (4, 136), 'residue_index': (4, 136), 'seq_length': (4,), 'template_aatype': (4, 4, 136), 'template_all_atom_masks': (4, 4, 136, 37), 'template_all_atom_positions': (4, 4, 136, 37, 3), 'template_sum_probs': (4, 4, 1), 'is_distillation': (4,), 'seq_mask': (4, 136), 'msa_mask': (4, 508, 136), 'msa_row_mask': (4, 508), 'random_crop_to_size_seed': (4, 2), 'template_mask': (4, 4), 'template_pseudo_beta': (4, 4, 136, 3), 'template_pseudo_beta_mask': (4, 4, 136), 'atom14_atom_exists': (4, 136, 14), 'residx_atom14_to_atom37': (4, 136, 14), 'residx_atom37_to_atom14': (4, 136, 37), 'atom37_atom_exists': (4, 136, 37), 'extra_msa': (4, 5120, 136), 'extra_msa_mask': (4, 5120, 136), 'extra_msa_row_mask': (4, 5120), 'bert_mask': (4, 508, 136), 'true_msa': (4, 508, 136), 'extra_has_deletion': (4, 5120, 136), 'extra_deletion_value': (4, 5120, 136), 'msa_feat': (4, 508, 136, 49), 'target_feat': (4, 136, 22)}\n",
            "I0713 11:26:32.183167 134991412868928 model.py:175] Output shape was {'distogram': {'bin_edges': (63,), 'logits': (136, 136, 64)}, 'experimentally_resolved': {'logits': (136, 37)}, 'masked_msa': {'logits': (508, 136, 23)}, 'predicted_lddt': {'logits': (136, 50)}, 'structure_module': {'final_atom_mask': (136, 37), 'final_atom_positions': (136, 37, 3)}, 'plddt': (136,), 'ranking_confidence': ()}\n",
            "I0713 11:26:32.183375 134991412868928 parjax_cla_multi_GoogleColab.py:144] Total JAX model model_1_pred_0 on 7ROA predict time (includes compilation time, see --benchmark): 161.6s\n",
            "I0713 11:26:32.215959 134991412868928 parjax_cla_multi_GoogleColab.py:132] Running model model_2_pred_0 on 7ROA\n",
            "I0713 11:26:34.552845 134991412868928 model.py:165] Running predict with shape(feat) = {'aatype': (4, 136), 'residue_index': (4, 136), 'seq_length': (4,), 'template_aatype': (4, 4, 136), 'template_all_atom_masks': (4, 4, 136, 37), 'template_all_atom_positions': (4, 4, 136, 37, 3), 'template_sum_probs': (4, 4, 1), 'is_distillation': (4,), 'seq_mask': (4, 136), 'msa_mask': (4, 508, 136), 'msa_row_mask': (4, 508), 'random_crop_to_size_seed': (4, 2), 'template_mask': (4, 4), 'template_pseudo_beta': (4, 4, 136, 3), 'template_pseudo_beta_mask': (4, 4, 136), 'atom14_atom_exists': (4, 136, 14), 'residx_atom14_to_atom37': (4, 136, 14), 'residx_atom37_to_atom14': (4, 136, 37), 'atom37_atom_exists': (4, 136, 37), 'extra_msa': (4, 1024, 136), 'extra_msa_mask': (4, 1024, 136), 'extra_msa_row_mask': (4, 1024), 'bert_mask': (4, 508, 136), 'true_msa': (4, 508, 136), 'extra_has_deletion': (4, 1024, 136), 'extra_deletion_value': (4, 1024, 136), 'msa_feat': (4, 508, 136, 49), 'target_feat': (4, 136, 22)}\n",
            "I0713 11:29:13.572106 134991412868928 model.py:175] Output shape was {'distogram': {'bin_edges': (63,), 'logits': (136, 136, 64)}, 'experimentally_resolved': {'logits': (136, 37)}, 'masked_msa': {'logits': (508, 136, 23)}, 'predicted_lddt': {'logits': (136, 50)}, 'structure_module': {'final_atom_mask': (136, 37), 'final_atom_positions': (136, 37, 3)}, 'plddt': (136,), 'ranking_confidence': ()}\n",
            "I0713 11:29:13.572312 134991412868928 parjax_cla_multi_GoogleColab.py:144] Total JAX model model_2_pred_0 on 7ROA predict time (includes compilation time, see --benchmark): 159.0s\n",
            "I0713 11:29:13.604346 134991412868928 parjax_cla_multi_GoogleColab.py:132] Running model model_3_pred_0 on 7ROA\n",
            "I0713 11:29:15.400268 134991412868928 model.py:165] Running predict with shape(feat) = {'aatype': (4, 136), 'residue_index': (4, 136), 'seq_length': (4,), 'is_distillation': (4,), 'seq_mask': (4, 136), 'msa_mask': (4, 512, 136), 'msa_row_mask': (4, 512), 'random_crop_to_size_seed': (4, 2), 'atom14_atom_exists': (4, 136, 14), 'residx_atom14_to_atom37': (4, 136, 14), 'residx_atom37_to_atom14': (4, 136, 37), 'atom37_atom_exists': (4, 136, 37), 'extra_msa': (4, 5120, 136), 'extra_msa_mask': (4, 5120, 136), 'extra_msa_row_mask': (4, 5120), 'bert_mask': (4, 512, 136), 'true_msa': (4, 512, 136), 'extra_has_deletion': (4, 5120, 136), 'extra_deletion_value': (4, 5120, 136), 'msa_feat': (4, 512, 136, 49), 'target_feat': (4, 136, 22)}\n",
            "I0713 11:31:18.322844 134991412868928 model.py:175] Output shape was {'distogram': {'bin_edges': (63,), 'logits': (136, 136, 64)}, 'experimentally_resolved': {'logits': (136, 37)}, 'masked_msa': {'logits': (512, 136, 23)}, 'predicted_lddt': {'logits': (136, 50)}, 'structure_module': {'final_atom_mask': (136, 37), 'final_atom_positions': (136, 37, 3)}, 'plddt': (136,), 'ranking_confidence': ()}\n",
            "I0713 11:31:18.323056 134991412868928 parjax_cla_multi_GoogleColab.py:144] Total JAX model model_3_pred_0 on 7ROA predict time (includes compilation time, see --benchmark): 122.9s\n",
            "I0713 11:31:18.355309 134991412868928 parjax_cla_multi_GoogleColab.py:132] Running model model_4_pred_0 on 7ROA\n",
            "I0713 11:31:20.139384 134991412868928 model.py:165] Running predict with shape(feat) = {'aatype': (4, 136), 'residue_index': (4, 136), 'seq_length': (4,), 'is_distillation': (4,), 'seq_mask': (4, 136), 'msa_mask': (4, 512, 136), 'msa_row_mask': (4, 512), 'random_crop_to_size_seed': (4, 2), 'atom14_atom_exists': (4, 136, 14), 'residx_atom14_to_atom37': (4, 136, 14), 'residx_atom37_to_atom14': (4, 136, 37), 'atom37_atom_exists': (4, 136, 37), 'extra_msa': (4, 5120, 136), 'extra_msa_mask': (4, 5120, 136), 'extra_msa_row_mask': (4, 5120), 'bert_mask': (4, 512, 136), 'true_msa': (4, 512, 136), 'extra_has_deletion': (4, 5120, 136), 'extra_deletion_value': (4, 5120, 136), 'msa_feat': (4, 512, 136, 49), 'target_feat': (4, 136, 22)}\n",
            "I0713 11:33:20.078442 134991412868928 model.py:175] Output shape was {'distogram': {'bin_edges': (63,), 'logits': (136, 136, 64)}, 'experimentally_resolved': {'logits': (136, 37)}, 'masked_msa': {'logits': (512, 136, 23)}, 'predicted_lddt': {'logits': (136, 50)}, 'structure_module': {'final_atom_mask': (136, 37), 'final_atom_positions': (136, 37, 3)}, 'plddt': (136,), 'ranking_confidence': ()}\n",
            "I0713 11:33:20.078649 134991412868928 parjax_cla_multi_GoogleColab.py:144] Total JAX model model_4_pred_0 on 7ROA predict time (includes compilation time, see --benchmark): 119.9s\n",
            "I0713 11:33:20.110448 134991412868928 parjax_cla_multi_GoogleColab.py:132] Running model model_5_pred_0 on 7ROA\n",
            "I0713 11:33:21.859671 134991412868928 model.py:165] Running predict with shape(feat) = {'aatype': (4, 136), 'residue_index': (4, 136), 'seq_length': (4,), 'is_distillation': (4,), 'seq_mask': (4, 136), 'msa_mask': (4, 512, 136), 'msa_row_mask': (4, 512), 'random_crop_to_size_seed': (4, 2), 'atom14_atom_exists': (4, 136, 14), 'residx_atom14_to_atom37': (4, 136, 14), 'residx_atom37_to_atom14': (4, 136, 37), 'atom37_atom_exists': (4, 136, 37), 'extra_msa': (4, 1024, 136), 'extra_msa_mask': (4, 1024, 136), 'extra_msa_row_mask': (4, 1024), 'bert_mask': (4, 512, 136), 'true_msa': (4, 512, 136), 'extra_has_deletion': (4, 1024, 136), 'extra_deletion_value': (4, 1024, 136), 'msa_feat': (4, 512, 136, 49), 'target_feat': (4, 136, 22)}\n",
            "I0713 11:35:22.108876 134991412868928 model.py:175] Output shape was {'distogram': {'bin_edges': (63,), 'logits': (136, 136, 64)}, 'experimentally_resolved': {'logits': (136, 37)}, 'masked_msa': {'logits': (512, 136, 23)}, 'predicted_lddt': {'logits': (136, 50)}, 'structure_module': {'final_atom_mask': (136, 37), 'final_atom_positions': (136, 37, 3)}, 'plddt': (136,), 'ranking_confidence': ()}\n",
            "I0713 11:35:22.109134 134991412868928 parjax_cla_multi_GoogleColab.py:144] Total JAX model model_5_pred_0 on 7ROA predict time (includes compilation time, see --benchmark): 120.2s\n",
            "I0713 11:35:26.133153 134991412868928 amber_minimize.py:178] alterations info: {'nonstandard_residues': [], 'removed_heterogens': set(), 'missing_residues': {}, 'missing_heavy_atoms': {}, 'missing_terminals': {<Residue 135 (SER) of chain 0>: ['OXT']}, 'Se_in_MET': [], 'removed_chains': {0: []}}\n",
            "I0713 11:35:26.288776 134991412868928 amber_minimize.py:408] Minimizing protein, attempt 1 of 100.\n",
            "I0713 11:35:26.682465 134991412868928 amber_minimize.py:69] Restraining 1043 / 2084 particles.\n",
            "I0713 11:35:29.762825 134991412868928 amber_minimize.py:178] alterations info: {'nonstandard_residues': [], 'removed_heterogens': set(), 'missing_residues': {}, 'missing_heavy_atoms': {}, 'missing_terminals': {}, 'Se_in_MET': [], 'removed_chains': {0: []}}\n",
            "I0713 11:35:32.140467 134991412868928 amber_minimize.py:500] Iteration completed: Einit 12924.32 Efinal -2294.47 Time 2.23 s num residue violations 0 num residue exclusions 0 \n",
            "I0713 11:35:32.211580 134991412868928 parjax_cla_multi_GoogleColab.py:231] Final timings for 7ROA: {'process_features_model_1_pred_0': 2.172172784805298, 'predict_and_compile_model_1_pred_0': 161.57405185699463, 'process_features_model_2_pred_0': 2.333146572113037, 'predict_and_compile_model_2_pred_0': 159.02300095558167, 'process_features_model_3_pred_0': 1.7956280708312988, 'predict_and_compile_model_3_pred_0': 122.92292499542236, 'process_features_model_4_pred_0': 1.7837913036346436, 'predict_and_compile_model_4_pred_0': 119.93939900398254, 'process_features_model_5_pred_0': 1.7489402294158936, 'predict_and_compile_model_5_pred_0': 120.24958419799805, 'relax_model_4_pred_0': 10.069264888763428}\n",
            "I0713 11:35:32.212355 134991412868928 parjax_cla_multi_GoogleColab.py:308] 7ROA AlphaFold structure prediction COMPLETE\n",
            "I0713 11:35:32.212484 134991412868928 parjax_cla_multi_GoogleColab.py:107] Predicting 8PBV\n",
            "I0713 11:35:32.213218 134991412868928 parjax_cla_multi_GoogleColab.py:132] Running model model_1_pred_0 on 8PBV\n",
            "I0713 11:35:34.366811 134991412868928 model.py:165] Running predict with shape(feat) = {'aatype': (4, 116), 'residue_index': (4, 116), 'seq_length': (4,), 'template_aatype': (4, 4, 116), 'template_all_atom_masks': (4, 4, 116, 37), 'template_all_atom_positions': (4, 4, 116, 37, 3), 'template_sum_probs': (4, 4, 1), 'is_distillation': (4,), 'seq_mask': (4, 116), 'msa_mask': (4, 508, 116), 'msa_row_mask': (4, 508), 'random_crop_to_size_seed': (4, 2), 'template_mask': (4, 4), 'template_pseudo_beta': (4, 4, 116, 3), 'template_pseudo_beta_mask': (4, 4, 116), 'atom14_atom_exists': (4, 116, 14), 'residx_atom14_to_atom37': (4, 116, 14), 'residx_atom37_to_atom14': (4, 116, 37), 'atom37_atom_exists': (4, 116, 37), 'extra_msa': (4, 5120, 116), 'extra_msa_mask': (4, 5120, 116), 'extra_msa_row_mask': (4, 5120), 'bert_mask': (4, 508, 116), 'true_msa': (4, 508, 116), 'extra_has_deletion': (4, 5120, 116), 'extra_deletion_value': (4, 5120, 116), 'msa_feat': (4, 508, 116, 49), 'target_feat': (4, 116, 22)}\n",
            "I0713 11:38:12.690630 134991412868928 model.py:175] Output shape was {'distogram': {'bin_edges': (63,), 'logits': (116, 116, 64)}, 'experimentally_resolved': {'logits': (116, 37)}, 'masked_msa': {'logits': (508, 116, 23)}, 'predicted_lddt': {'logits': (116, 50)}, 'structure_module': {'final_atom_mask': (116, 37), 'final_atom_positions': (116, 37, 3)}, 'plddt': (116,), 'ranking_confidence': ()}\n",
            "I0713 11:38:12.690845 134991412868928 parjax_cla_multi_GoogleColab.py:144] Total JAX model model_1_pred_0 on 8PBV predict time (includes compilation time, see --benchmark): 158.3s\n",
            "I0713 11:38:12.717816 134991412868928 parjax_cla_multi_GoogleColab.py:132] Running model model_2_pred_0 on 8PBV\n",
            "I0713 11:38:14.996551 134991412868928 model.py:165] Running predict with shape(feat) = {'aatype': (4, 116), 'residue_index': (4, 116), 'seq_length': (4,), 'template_aatype': (4, 4, 116), 'template_all_atom_masks': (4, 4, 116, 37), 'template_all_atom_positions': (4, 4, 116, 37, 3), 'template_sum_probs': (4, 4, 1), 'is_distillation': (4,), 'seq_mask': (4, 116), 'msa_mask': (4, 508, 116), 'msa_row_mask': (4, 508), 'random_crop_to_size_seed': (4, 2), 'template_mask': (4, 4), 'template_pseudo_beta': (4, 4, 116, 3), 'template_pseudo_beta_mask': (4, 4, 116), 'atom14_atom_exists': (4, 116, 14), 'residx_atom14_to_atom37': (4, 116, 14), 'residx_atom37_to_atom14': (4, 116, 37), 'atom37_atom_exists': (4, 116, 37), 'extra_msa': (4, 1024, 116), 'extra_msa_mask': (4, 1024, 116), 'extra_msa_row_mask': (4, 1024), 'bert_mask': (4, 508, 116), 'true_msa': (4, 508, 116), 'extra_has_deletion': (4, 1024, 116), 'extra_deletion_value': (4, 1024, 116), 'msa_feat': (4, 508, 116, 49), 'target_feat': (4, 116, 22)}\n",
            "I0713 11:40:51.085747 134991412868928 model.py:175] Output shape was {'distogram': {'bin_edges': (63,), 'logits': (116, 116, 64)}, 'experimentally_resolved': {'logits': (116, 37)}, 'masked_msa': {'logits': (508, 116, 23)}, 'predicted_lddt': {'logits': (116, 50)}, 'structure_module': {'final_atom_mask': (116, 37), 'final_atom_positions': (116, 37, 3)}, 'plddt': (116,), 'ranking_confidence': ()}\n",
            "I0713 11:40:51.085952 134991412868928 parjax_cla_multi_GoogleColab.py:144] Total JAX model model_2_pred_0 on 8PBV predict time (includes compilation time, see --benchmark): 156.1s\n",
            "I0713 11:40:51.113180 134991412868928 parjax_cla_multi_GoogleColab.py:132] Running model model_3_pred_0 on 8PBV\n",
            "I0713 11:40:52.886790 134991412868928 model.py:165] Running predict with shape(feat) = {'aatype': (4, 116), 'residue_index': (4, 116), 'seq_length': (4,), 'is_distillation': (4,), 'seq_mask': (4, 116), 'msa_mask': (4, 512, 116), 'msa_row_mask': (4, 512), 'random_crop_to_size_seed': (4, 2), 'atom14_atom_exists': (4, 116, 14), 'residx_atom14_to_atom37': (4, 116, 14), 'residx_atom37_to_atom14': (4, 116, 37), 'atom37_atom_exists': (4, 116, 37), 'extra_msa': (4, 5120, 116), 'extra_msa_mask': (4, 5120, 116), 'extra_msa_row_mask': (4, 5120), 'bert_mask': (4, 512, 116), 'true_msa': (4, 512, 116), 'extra_has_deletion': (4, 5120, 116), 'extra_deletion_value': (4, 5120, 116), 'msa_feat': (4, 512, 116, 49), 'target_feat': (4, 116, 22)}\n",
            "I0713 11:42:53.219133 134991412868928 model.py:175] Output shape was {'distogram': {'bin_edges': (63,), 'logits': (116, 116, 64)}, 'experimentally_resolved': {'logits': (116, 37)}, 'masked_msa': {'logits': (512, 116, 23)}, 'predicted_lddt': {'logits': (116, 50)}, 'structure_module': {'final_atom_mask': (116, 37), 'final_atom_positions': (116, 37, 3)}, 'plddt': (116,), 'ranking_confidence': ()}\n",
            "I0713 11:42:53.219323 134991412868928 parjax_cla_multi_GoogleColab.py:144] Total JAX model model_3_pred_0 on 8PBV predict time (includes compilation time, see --benchmark): 120.3s\n",
            "I0713 11:42:53.246706 134991412868928 parjax_cla_multi_GoogleColab.py:132] Running model model_4_pred_0 on 8PBV\n",
            "I0713 11:42:55.023543 134991412868928 model.py:165] Running predict with shape(feat) = {'aatype': (4, 116), 'residue_index': (4, 116), 'seq_length': (4,), 'is_distillation': (4,), 'seq_mask': (4, 116), 'msa_mask': (4, 512, 116), 'msa_row_mask': (4, 512), 'random_crop_to_size_seed': (4, 2), 'atom14_atom_exists': (4, 116, 14), 'residx_atom14_to_atom37': (4, 116, 14), 'residx_atom37_to_atom14': (4, 116, 37), 'atom37_atom_exists': (4, 116, 37), 'extra_msa': (4, 5120, 116), 'extra_msa_mask': (4, 5120, 116), 'extra_msa_row_mask': (4, 5120), 'bert_mask': (4, 512, 116), 'true_msa': (4, 512, 116), 'extra_has_deletion': (4, 5120, 116), 'extra_deletion_value': (4, 5120, 116), 'msa_feat': (4, 512, 116, 49), 'target_feat': (4, 116, 22)}\n",
            "I0713 11:44:53.196957 134991412868928 model.py:175] Output shape was {'distogram': {'bin_edges': (63,), 'logits': (116, 116, 64)}, 'experimentally_resolved': {'logits': (116, 37)}, 'masked_msa': {'logits': (512, 116, 23)}, 'predicted_lddt': {'logits': (116, 50)}, 'structure_module': {'final_atom_mask': (116, 37), 'final_atom_positions': (116, 37, 3)}, 'plddt': (116,), 'ranking_confidence': ()}\n",
            "I0713 11:44:53.197186 134991412868928 parjax_cla_multi_GoogleColab.py:144] Total JAX model model_4_pred_0 on 8PBV predict time (includes compilation time, see --benchmark): 118.2s\n",
            "I0713 11:44:53.224186 134991412868928 parjax_cla_multi_GoogleColab.py:132] Running model model_5_pred_0 on 8PBV\n",
            "I0713 11:44:54.956531 134991412868928 model.py:165] Running predict with shape(feat) = {'aatype': (4, 116), 'residue_index': (4, 116), 'seq_length': (4,), 'is_distillation': (4,), 'seq_mask': (4, 116), 'msa_mask': (4, 512, 116), 'msa_row_mask': (4, 512), 'random_crop_to_size_seed': (4, 2), 'atom14_atom_exists': (4, 116, 14), 'residx_atom14_to_atom37': (4, 116, 14), 'residx_atom37_to_atom14': (4, 116, 37), 'atom37_atom_exists': (4, 116, 37), 'extra_msa': (4, 1024, 116), 'extra_msa_mask': (4, 1024, 116), 'extra_msa_row_mask': (4, 1024), 'bert_mask': (4, 512, 116), 'true_msa': (4, 512, 116), 'extra_has_deletion': (4, 1024, 116), 'extra_deletion_value': (4, 1024, 116), 'msa_feat': (4, 512, 116, 49), 'target_feat': (4, 116, 22)}\n",
            "I0713 11:46:52.317219 134991412868928 model.py:175] Output shape was {'distogram': {'bin_edges': (63,), 'logits': (116, 116, 64)}, 'experimentally_resolved': {'logits': (116, 37)}, 'masked_msa': {'logits': (512, 116, 23)}, 'predicted_lddt': {'logits': (116, 50)}, 'structure_module': {'final_atom_mask': (116, 37), 'final_atom_positions': (116, 37, 3)}, 'plddt': (116,), 'ranking_confidence': ()}\n",
            "I0713 11:46:52.317426 134991412868928 parjax_cla_multi_GoogleColab.py:144] Total JAX model model_5_pred_0 on 8PBV predict time (includes compilation time, see --benchmark): 117.4s\n",
            "I0713 11:46:54.164366 134991412868928 amber_minimize.py:178] alterations info: {'nonstandard_residues': [], 'removed_heterogens': set(), 'missing_residues': {}, 'missing_heavy_atoms': {}, 'missing_terminals': {<Residue 115 (GLN) of chain 0>: ['OXT']}, 'Se_in_MET': [], 'removed_chains': {0: []}}\n",
            "I0713 11:46:54.440820 134991412868928 amber_minimize.py:408] Minimizing protein, attempt 1 of 100.\n",
            "I0713 11:46:54.823087 134991412868928 amber_minimize.py:69] Restraining 915 / 1820 particles.\n",
            "I0713 11:46:56.892302 134991412868928 amber_minimize.py:178] alterations info: {'nonstandard_residues': [], 'removed_heterogens': set(), 'missing_residues': {}, 'missing_heavy_atoms': {}, 'missing_terminals': {}, 'Se_in_MET': [], 'removed_chains': {0: []}}\n",
            "I0713 11:46:59.211752 134991412868928 amber_minimize.py:500] Iteration completed: Einit 208977.56 Efinal -2232.14 Time 1.32 s num residue violations 0 num residue exclusions 0 \n",
            "I0713 11:46:59.273413 134991412868928 parjax_cla_multi_GoogleColab.py:231] Final timings for 8PBV: {'process_features_model_1_pred_0': 2.151423215866089, 'predict_and_compile_model_1_pred_0': 158.32610416412354, 'process_features_model_2_pred_0': 2.2760448455810547, 'predict_and_compile_model_2_pred_0': 156.09193658828735, 'process_features_model_3_pred_0': 1.7733149528503418, 'predict_and_compile_model_3_pred_0': 120.33267831802368, 'process_features_model_4_pred_0': 1.7765350341796875, 'predict_and_compile_model_4_pred_0': 118.1737802028656, 'process_features_model_5_pred_0': 1.7320597171783447, 'predict_and_compile_model_5_pred_0': 117.36102962493896, 'relax_model_4_pred_0': 6.927749395370483}\n",
            "I0713 11:46:59.274176 134991412868928 parjax_cla_multi_GoogleColab.py:308] 8PBV AlphaFold structure prediction COMPLETE\n",
            "I0713 11:46:59.274306 134991412868928 parjax_cla_multi_GoogleColab.py:107] Predicting 8EM5\n",
            "I0713 11:46:59.277213 134991412868928 parjax_cla_multi_GoogleColab.py:132] Running model model_1_pred_0 on 8EM5\n",
            "I0713 11:47:01.507938 134991412868928 model.py:165] Running predict with shape(feat) = {'aatype': (4, 103), 'residue_index': (4, 103), 'seq_length': (4,), 'template_aatype': (4, 4, 103), 'template_all_atom_masks': (4, 4, 103, 37), 'template_all_atom_positions': (4, 4, 103, 37, 3), 'template_sum_probs': (4, 4, 1), 'is_distillation': (4,), 'seq_mask': (4, 103), 'msa_mask': (4, 508, 103), 'msa_row_mask': (4, 508), 'random_crop_to_size_seed': (4, 2), 'template_mask': (4, 4), 'template_pseudo_beta': (4, 4, 103, 3), 'template_pseudo_beta_mask': (4, 4, 103), 'atom14_atom_exists': (4, 103, 14), 'residx_atom14_to_atom37': (4, 103, 14), 'residx_atom37_to_atom14': (4, 103, 37), 'atom37_atom_exists': (4, 103, 37), 'extra_msa': (4, 5120, 103), 'extra_msa_mask': (4, 5120, 103), 'extra_msa_row_mask': (4, 5120), 'bert_mask': (4, 508, 103), 'true_msa': (4, 508, 103), 'extra_has_deletion': (4, 5120, 103), 'extra_deletion_value': (4, 5120, 103), 'msa_feat': (4, 508, 103, 49), 'target_feat': (4, 103, 22)}\n",
            "I0713 11:49:50.121427 134991412868928 model.py:175] Output shape was {'distogram': {'bin_edges': (63,), 'logits': (103, 103, 64)}, 'experimentally_resolved': {'logits': (103, 37)}, 'masked_msa': {'logits': (508, 103, 23)}, 'predicted_lddt': {'logits': (103, 50)}, 'structure_module': {'final_atom_mask': (103, 37), 'final_atom_positions': (103, 37, 3)}, 'plddt': (103,), 'ranking_confidence': ()}\n",
            "I0713 11:49:50.121650 134991412868928 parjax_cla_multi_GoogleColab.py:144] Total JAX model model_1_pred_0 on 8EM5 predict time (includes compilation time, see --benchmark): 168.6s\n",
            "I0713 11:49:50.145418 134991412868928 parjax_cla_multi_GoogleColab.py:132] Running model model_2_pred_0 on 8EM5\n",
            "I0713 11:49:52.580222 134991412868928 model.py:165] Running predict with shape(feat) = {'aatype': (4, 103), 'residue_index': (4, 103), 'seq_length': (4,), 'template_aatype': (4, 4, 103), 'template_all_atom_masks': (4, 4, 103, 37), 'template_all_atom_positions': (4, 4, 103, 37, 3), 'template_sum_probs': (4, 4, 1), 'is_distillation': (4,), 'seq_mask': (4, 103), 'msa_mask': (4, 508, 103), 'msa_row_mask': (4, 508), 'random_crop_to_size_seed': (4, 2), 'template_mask': (4, 4), 'template_pseudo_beta': (4, 4, 103, 3), 'template_pseudo_beta_mask': (4, 4, 103), 'atom14_atom_exists': (4, 103, 14), 'residx_atom14_to_atom37': (4, 103, 14), 'residx_atom37_to_atom14': (4, 103, 37), 'atom37_atom_exists': (4, 103, 37), 'extra_msa': (4, 1024, 103), 'extra_msa_mask': (4, 1024, 103), 'extra_msa_row_mask': (4, 1024), 'bert_mask': (4, 508, 103), 'true_msa': (4, 508, 103), 'extra_has_deletion': (4, 1024, 103), 'extra_deletion_value': (4, 1024, 103), 'msa_feat': (4, 508, 103, 49), 'target_feat': (4, 103, 22)}\n",
            "I0713 11:52:40.841057 134991412868928 model.py:175] Output shape was {'distogram': {'bin_edges': (63,), 'logits': (103, 103, 64)}, 'experimentally_resolved': {'logits': (103, 37)}, 'masked_msa': {'logits': (508, 103, 23)}, 'predicted_lddt': {'logits': (103, 50)}, 'structure_module': {'final_atom_mask': (103, 37), 'final_atom_positions': (103, 37, 3)}, 'plddt': (103,), 'ranking_confidence': ()}\n",
            "I0713 11:52:40.841287 134991412868928 parjax_cla_multi_GoogleColab.py:144] Total JAX model model_2_pred_0 on 8EM5 predict time (includes compilation time, see --benchmark): 168.3s\n",
            "I0713 11:52:40.864597 134991412868928 parjax_cla_multi_GoogleColab.py:132] Running model model_3_pred_0 on 8EM5\n",
            "I0713 11:52:42.758834 134991412868928 model.py:165] Running predict with shape(feat) = {'aatype': (4, 103), 'residue_index': (4, 103), 'seq_length': (4,), 'is_distillation': (4,), 'seq_mask': (4, 103), 'msa_mask': (4, 512, 103), 'msa_row_mask': (4, 512), 'random_crop_to_size_seed': (4, 2), 'atom14_atom_exists': (4, 103, 14), 'residx_atom14_to_atom37': (4, 103, 14), 'residx_atom37_to_atom14': (4, 103, 37), 'atom37_atom_exists': (4, 103, 37), 'extra_msa': (4, 5120, 103), 'extra_msa_mask': (4, 5120, 103), 'extra_msa_row_mask': (4, 5120), 'bert_mask': (4, 512, 103), 'true_msa': (4, 512, 103), 'extra_has_deletion': (4, 5120, 103), 'extra_deletion_value': (4, 5120, 103), 'msa_feat': (4, 512, 103, 49), 'target_feat': (4, 103, 22)}\n",
            "I0713 11:54:48.840346 134991412868928 model.py:175] Output shape was {'distogram': {'bin_edges': (63,), 'logits': (103, 103, 64)}, 'experimentally_resolved': {'logits': (103, 37)}, 'masked_msa': {'logits': (512, 103, 23)}, 'predicted_lddt': {'logits': (103, 50)}, 'structure_module': {'final_atom_mask': (103, 37), 'final_atom_positions': (103, 37, 3)}, 'plddt': (103,), 'ranking_confidence': ()}\n",
            "I0713 11:54:48.840574 134991412868928 parjax_cla_multi_GoogleColab.py:144] Total JAX model model_3_pred_0 on 8EM5 predict time (includes compilation time, see --benchmark): 126.1s\n",
            "I0713 11:54:48.864039 134991412868928 parjax_cla_multi_GoogleColab.py:132] Running model model_4_pred_0 on 8EM5\n",
            "I0713 11:54:50.803763 134991412868928 model.py:165] Running predict with shape(feat) = {'aatype': (4, 103), 'residue_index': (4, 103), 'seq_length': (4,), 'is_distillation': (4,), 'seq_mask': (4, 103), 'msa_mask': (4, 512, 103), 'msa_row_mask': (4, 512), 'random_crop_to_size_seed': (4, 2), 'atom14_atom_exists': (4, 103, 14), 'residx_atom14_to_atom37': (4, 103, 14), 'residx_atom37_to_atom14': (4, 103, 37), 'atom37_atom_exists': (4, 103, 37), 'extra_msa': (4, 5120, 103), 'extra_msa_mask': (4, 5120, 103), 'extra_msa_row_mask': (4, 5120), 'bert_mask': (4, 512, 103), 'true_msa': (4, 512, 103), 'extra_has_deletion': (4, 5120, 103), 'extra_deletion_value': (4, 5120, 103), 'msa_feat': (4, 512, 103, 49), 'target_feat': (4, 103, 22)}\n",
            "I0713 11:56:57.136845 134991412868928 model.py:175] Output shape was {'distogram': {'bin_edges': (63,), 'logits': (103, 103, 64)}, 'experimentally_resolved': {'logits': (103, 37)}, 'masked_msa': {'logits': (512, 103, 23)}, 'predicted_lddt': {'logits': (103, 50)}, 'structure_module': {'final_atom_mask': (103, 37), 'final_atom_positions': (103, 37, 3)}, 'plddt': (103,), 'ranking_confidence': ()}\n",
            "I0713 11:56:57.137078 134991412868928 parjax_cla_multi_GoogleColab.py:144] Total JAX model model_4_pred_0 on 8EM5 predict time (includes compilation time, see --benchmark): 126.3s\n",
            "I0713 11:56:57.160772 134991412868928 parjax_cla_multi_GoogleColab.py:132] Running model model_5_pred_0 on 8EM5\n",
            "I0713 11:56:59.024495 134991412868928 model.py:165] Running predict with shape(feat) = {'aatype': (4, 103), 'residue_index': (4, 103), 'seq_length': (4,), 'is_distillation': (4,), 'seq_mask': (4, 103), 'msa_mask': (4, 512, 103), 'msa_row_mask': (4, 512), 'random_crop_to_size_seed': (4, 2), 'atom14_atom_exists': (4, 103, 14), 'residx_atom14_to_atom37': (4, 103, 14), 'residx_atom37_to_atom14': (4, 103, 37), 'atom37_atom_exists': (4, 103, 37), 'extra_msa': (4, 1024, 103), 'extra_msa_mask': (4, 1024, 103), 'extra_msa_row_mask': (4, 1024), 'bert_mask': (4, 512, 103), 'true_msa': (4, 512, 103), 'extra_has_deletion': (4, 1024, 103), 'extra_deletion_value': (4, 1024, 103), 'msa_feat': (4, 512, 103, 49), 'target_feat': (4, 103, 22)}\n",
            "I0713 11:59:01.574818 134991412868928 model.py:175] Output shape was {'distogram': {'bin_edges': (63,), 'logits': (103, 103, 64)}, 'experimentally_resolved': {'logits': (103, 37)}, 'masked_msa': {'logits': (512, 103, 23)}, 'predicted_lddt': {'logits': (103, 50)}, 'structure_module': {'final_atom_mask': (103, 37), 'final_atom_positions': (103, 37, 3)}, 'plddt': (103,), 'ranking_confidence': ()}\n",
            "I0713 11:59:01.575025 134991412868928 parjax_cla_multi_GoogleColab.py:144] Total JAX model model_5_pred_0 on 8EM5 predict time (includes compilation time, see --benchmark): 122.6s\n",
            "I0713 11:59:03.336898 134991412868928 amber_minimize.py:178] alterations info: {'nonstandard_residues': [], 'removed_heterogens': set(), 'missing_residues': {}, 'missing_heavy_atoms': {}, 'missing_terminals': {<Residue 102 (ALA) of chain 0>: ['OXT']}, 'Se_in_MET': [], 'removed_chains': {0: []}}\n",
            "I0713 11:59:03.584515 134991412868928 amber_minimize.py:408] Minimizing protein, attempt 1 of 100.\n",
            "I0713 11:59:03.799644 134991412868928 amber_minimize.py:69] Restraining 771 / 1522 particles.\n",
            "I0713 11:59:05.942610 134991412868928 amber_minimize.py:178] alterations info: {'nonstandard_residues': [], 'removed_heterogens': set(), 'missing_residues': {}, 'missing_heavy_atoms': {}, 'missing_terminals': {}, 'Se_in_MET': [], 'removed_chains': {0: []}}\n",
            "I0713 11:59:07.912330 134991412868928 amber_minimize.py:500] Iteration completed: Einit 22002.28 Efinal -1456.51 Time 1.10 s num residue violations 0 num residue exclusions 0 \n",
            "I0713 11:59:08.084483 134991412868928 parjax_cla_multi_GoogleColab.py:231] Final timings for 8EM5: {'process_features_model_1_pred_0': 2.2281835079193115, 'predict_and_compile_model_1_pred_0': 168.6161344051361, 'process_features_model_2_pred_0': 2.431706190109253, 'predict_and_compile_model_2_pred_0': 168.2640082836151, 'process_features_model_3_pred_0': 1.8939335346221924, 'predict_and_compile_model_3_pred_0': 126.081876039505, 'process_features_model_4_pred_0': 1.9393954277038574, 'predict_and_compile_model_4_pred_0': 126.33344268798828, 'process_features_model_5_pred_0': 1.8634345531463623, 'predict_and_compile_model_5_pred_0': 122.5506660938263, 'relax_model_4_pred_0': 6.485039472579956}\n",
            "I0713 11:59:08.085282 134991412868928 parjax_cla_multi_GoogleColab.py:308] 8EM5 AlphaFold structure prediction COMPLETE\n"
          ]
        }
      ],
      "source": [
        "%%bash\n",
        "source activate parafold\n",
        "\n",
        "python parjax_cla_multi_GoogleColab.py \\\n",
        "  --fasta_paths=/content/jaxalpha/multi/8D27/8D27.fasta,/content/jaxalpha/multi/7PZT/7PZT.fasta,/content/jaxalpha/multi/7ROA/7ROA.fasta,/content/jaxalpha/multi/8PBV/8PBV.fasta,/content/jaxalpha/multi/8EM5/8EM5.fasta  \\\n",
        "  --output_dir=/content/jaxalpha/multi/out_multi_A_Z/11_15 \\\n",
        "  --parameter_path=/content/ParallelFold/params \\\n",
        "  --feature_files=/content/jaxalpha/multi/8D27/feature.pkl,/content/jaxalpha/multi/7PZT/feature.pkl,/content/jaxalpha/multi/7ROA/feature.pkl,/content/jaxalpha/multi/8PBV/feature.pkl,/content/jaxalpha/multi/8EM5/feature.pkl \\\n",
        "  --use_gpu_relax=true\n",
        "\n"
      ]
    },
    {
      "cell_type": "code",
      "source": [
        "#log_execution_time(start_time, cell_title)"
      ],
      "metadata": {
        "id": "VHsqPxzNHonp"
      },
      "execution_count": 32,
      "outputs": []
    },
    {
      "cell_type": "code",
      "execution_count": 33,
      "metadata": {
        "id": "W-_pdPajkI_n"
      },
      "outputs": [],
      "source": [
        "#@title zip_output\n",
        "%%capture\n",
        "cell_title = \"zip_output\"\n",
        "start_time = time.time()\n",
        "\n",
        "import zipfile\n",
        "import os\n",
        "from google.colab import drive\n",
        "\n",
        "# Mount Google Drive\n",
        "drive.mount('/content/drive')\n",
        "\n",
        "# Define the folder to zip\n",
        "folder_to_zip = '/content/jaxalpha/multi/out_multi_A_Z/11_15'\n",
        "\n",
        "# Define the output zip file name and path (in Google Drive)\n",
        "output_filename = '/content/drive/My Drive/parjax_cla_multi_11_15_A_Z_A100.zip'\n",
        "\n",
        "# Create the zip file\n",
        "with zipfile.ZipFile(output_filename, 'w', zipfile.ZIP_DEFLATED) as zipf:\n",
        "    for root, dirs, files in os.walk(folder_to_zip):\n",
        "        for file in files:\n",
        "            zipf.write(os.path.join(root, file),\n",
        "                       os.path.relpath(os.path.join(root, file),\n",
        "                                       os.path.join(folder_to_zip, '..')))\n",
        "\n",
        "log_execution_time(start_time, cell_title)"
      ]
    },
    {
      "cell_type": "code",
      "source": [
        "#log_execution_time(code_start_time, from_beginning_to_end)"
      ],
      "metadata": {
        "id": "b-pu4avGY3cU"
      },
      "execution_count": 34,
      "outputs": []
    }
  ],
  "metadata": {
    "colab": {
      "provenance": [],
      "machine_shape": "hm",
      "gpuType": "A100",
      "include_colab_link": true
    },
    "kernelspec": {
      "display_name": "Python 3",
      "name": "python3"
    },
    "language_info": {
      "name": "python"
    },
    "accelerator": "GPU"
  },
  "nbformat": 4,
  "nbformat_minor": 0
}