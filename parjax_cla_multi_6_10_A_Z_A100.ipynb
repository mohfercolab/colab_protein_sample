{
  "cells": [
    {
      "cell_type": "markdown",
      "metadata": {
        "id": "view-in-github",
        "colab_type": "text"
      },
      "source": [
        "<a href=\"https://colab.research.google.com/github/mohfercolab/colab_protein_sample/blob/main/parjax_cla_multi_6_10_A_Z_A100.ipynb\" target=\"_parent\"><img src=\"https://colab.research.google.com/assets/colab-badge.svg\" alt=\"Open In Colab\"/></a>"
      ]
    },
    {
      "cell_type": "code",
      "source": [
        "#@title Initialize_time\n",
        "import time\n",
        "\n",
        "# Initialize an empty file\n",
        "with open('/content/time_cell_11_15_Z_A_A100.txt', 'w') as file:\n",
        "    file.write('')\n",
        "\n",
        "\n",
        "def log_execution_time(start_time, cell_title):\n",
        "    end_time = time.time()\n",
        "    execution_time = end_time - start_time\n",
        "\n",
        "    with open('/content/time_cell_11_15_Z_A_A100.txt', 'a') as file:\n",
        "        file.write(f\"execution_time_{cell_title}, {execution_time}\\n\")\n",
        "\n",
        "from_beginning_to_end = \"Start_running_the_code\"\n",
        "code_start_time = time.time()"
      ],
      "metadata": {
        "id": "el4dU4_088Xh"
      },
      "execution_count": null,
      "outputs": []
    },
    {
      "cell_type": "code",
      "execution_count": null,
      "metadata": {
        "id": "Iu_wXmRquKlk"
      },
      "outputs": [],
      "source": [
        "#@title clone\n",
        "%%capture\n",
        "cell_title = \"clone\"\n",
        "start_time = time.time()\n",
        "\n",
        "!git clone https://github.com/Zuricho/ParallelFold.git\n",
        "!git clone https://github.com/fereidoon27/jaxalpha.git\n",
        "\n",
        "log_execution_time(start_time, cell_title)"
      ]
    },
    {
      "cell_type": "code",
      "execution_count": null,
      "metadata": {
        "collapsed": true,
        "id": "71M2Wr3NuZfM",
        "cellView": "form"
      },
      "outputs": [],
      "source": [
        "#@title Miniconda\n",
        "%%capture\n",
        "cell_title = \"Miniconda\"\n",
        "start_time = time.time()\n",
        "\n",
        "# Install Miniconda\n",
        "!wget https://repo.anaconda.com/miniconda/Miniconda3-latest-Linux-x86_64.sh\n",
        "!chmod +x Miniconda3-latest-Linux-x86_64.sh\n",
        "!bash ./Miniconda3-latest-Linux-x86_64.sh -b -f -p /usr/local\n",
        "\n",
        "# Initialize Conda\n",
        "import sys\n",
        "sys.path.append('/usr/local/lib/python3.8/site-packages')\n",
        "\n",
        "# Configure conda\n",
        "!conda init bash\n",
        "!source ~/.bashrc\n",
        "\n",
        "# Update conda\n",
        "!conda update conda -y\n",
        "\n",
        "log_execution_time(start_time, cell_title)"
      ]
    },
    {
      "cell_type": "code",
      "execution_count": null,
      "metadata": {
        "collapsed": true,
        "id": "lr6PZXRiufLc",
        "cellView": "form"
      },
      "outputs": [],
      "source": [
        "#@title parafold_env\n",
        "%%capture\n",
        "cell_title = \"parafold_env\"\n",
        "start_time = time.time()\n",
        "\n",
        "# Recommend you to use python 3.8, version < 3.7 have missing packages, python versions newer than 3.8 were not tested\n",
        "!conda create -n parafold python=3.8 -y\n",
        "\n",
        "log_execution_time(start_time, cell_title)"
      ]
    },
    {
      "cell_type": "code",
      "execution_count": null,
      "metadata": {
        "id": "ag5mSJ5fvZRA",
        "cellView": "form"
      },
      "outputs": [],
      "source": [
        "#@title testing_activate_parafold\n",
        "%%capture\n",
        "cell_title = \"testing_activate_parafold\"\n",
        "start_time = time.time()\n",
        "\n",
        "!source activate parafold && { \\\n",
        "    echo \"Setting up the parafold environment\"; \\\n",
        "    echo \"Current Python version:\"; \\\n",
        "    python --version; \\\n",
        "    }\n",
        "\n",
        "log_execution_time(start_time, cell_title)"
      ]
    },
    {
      "cell_type": "code",
      "execution_count": null,
      "metadata": {
        "id": "qw3B2zQgxgw1",
        "cellView": "form"
      },
      "outputs": [],
      "source": [
        "#@title install_py3dmol\n",
        "%%capture\n",
        "cell_title = \"install_py3dmol\"\n",
        "start_time = time.time()\n",
        "\n",
        "#install py3dmol\n",
        "!source activate parafold && pip install py3dmol\n",
        "\n",
        "log_execution_time(start_time, cell_title)"
      ]
    },
    {
      "cell_type": "code",
      "execution_count": null,
      "metadata": {
        "collapsed": true,
        "id": "nhH-cpF51ao4",
        "cellView": "form"
      },
      "outputs": [],
      "source": [
        "#@title install_openmm\n",
        "%%capture\n",
        "cell_title = \"install_openmm\"\n",
        "start_time = time.time()\n",
        "\n",
        "# openmm 7.7 is recommended (original alphafold using 7.5.1, but it is not supported now)\n",
        "!source activate parafold && conda install -c conda-forge openmm=7.7 pdbfixer -y\n",
        "\n",
        "log_execution_time(start_time, cell_title)"
      ]
    },
    {
      "cell_type": "code",
      "execution_count": null,
      "metadata": {
        "collapsed": true,
        "id": "uW7VE2hi1jwl",
        "cellView": "form"
      },
      "outputs": [],
      "source": [
        "#@title install_requirements\n",
        "%%capture\n",
        "cell_title = \"install_requirements\"\n",
        "start_time = time.time()\n",
        "\n",
        "%cd ParallelFold\n",
        "#install requirements\n",
        "!source activate parafold && pip3 install -r requirements.txt\n",
        "\n",
        "log_execution_time(start_time, cell_title)"
      ]
    },
    {
      "cell_type": "code",
      "execution_count": null,
      "metadata": {
        "collapsed": true,
        "id": "1P1qlWikHrT4",
        "cellView": "form"
      },
      "outputs": [],
      "source": [
        "#@title install_cuda_and_cudnn\n",
        "%%capture\n",
        "cell_title = \"install_cuda_and_cudnn\"\n",
        "start_time = time.time()\n",
        "\n",
        "# cudatoolkit 11.3.1 matches cudnn 8.2.1\n",
        "!source activate parafold && echo 'y' | conda install cudatoolkit=11.3 cudnn -y\n",
        "\n",
        "log_execution_time(start_time, cell_title)"
      ]
    },
    {
      "cell_type": "code",
      "execution_count": null,
      "metadata": {
        "collapsed": true,
        "id": "BdbRAX2JI44X",
        "cellView": "form"
      },
      "outputs": [],
      "source": [
        "#@title downgrade_jaxlib\n",
        "%%capture\n",
        "cell_title = \"downgrade_jaxlib\"\n",
        "start_time = time.time()\n",
        "\n",
        "# downgrade jaxlib to the correct version, matches with cuda and cudnn version\n",
        "!source activate parafold && pip3 install --upgrade --no-cache-dir jax==0.3.25 jaxlib==0.3.25+cuda11.cudnn82 -f https://storage.googleapis.com/jax-releases/jax_cuda_releases.html\n",
        "\n",
        "log_execution_time(start_time, cell_title)"
      ]
    },
    {
      "cell_type": "code",
      "execution_count": null,
      "metadata": {
        "collapsed": true,
        "id": "-O_Df8cdJAKj",
        "cellView": "form"
      },
      "outputs": [],
      "source": [
        "#@title packages_for_MSA\n",
        "%%capture\n",
        "cell_title = \"packages_for_MSA\"\n",
        "start_time = time.time()\n",
        "\n",
        "# install packages for multiple sequence alignment\n",
        "!source activate parafold && conda install -c bioconda hmmer=3.3.2 hhsuite=3.3.0 kalign2=2.04 -y\n",
        "\n",
        "log_execution_time(start_time, cell_title)"
      ]
    },
    {
      "cell_type": "code",
      "execution_count": null,
      "metadata": {
        "collapsed": true,
        "id": "zmue22y1c7LC",
        "cellView": "form"
      },
      "outputs": [],
      "source": [
        "#@title aria2\n",
        "%%capture\n",
        "cell_title = \"aria2\"\n",
        "start_time = time.time()\n",
        "\n",
        "!source activate parafold && conda install aria2 -y\n",
        "\n",
        "log_execution_time(start_time, cell_title)"
      ]
    },
    {
      "cell_type": "code",
      "source": [
        "#@title alphafold_params\n",
        "%%capture\n",
        "cell_title = \"alphafold_params\"\n",
        "start_time = time.time()\n",
        "\n",
        "!source activate parafold && bash /content/ParallelFold/scripts/download_alphafold_params.sh /content/ParallelFold\n",
        "\n",
        "log_execution_time(start_time, cell_title)"
      ],
      "metadata": {
        "id": "iglOn5cGF7gC",
        "cellView": "form"
      },
      "execution_count": null,
      "outputs": []
    },
    {
      "cell_type": "code",
      "execution_count": null,
      "metadata": {
        "collapsed": true,
        "id": "IOE5ESGGOaT5"
      },
      "outputs": [],
      "source": [
        "#@title directory\n",
        "!mv /content/jaxalpha/parjax_cla_multi_GoogleColab.py /content/ParallelFold\n",
        "%cd /content/ParallelFold/\n",
        "#!chmod +x parjax_cla_multi_GoogleColab.sh"
      ]
    },
    {
      "cell_type": "code",
      "source": [
        "cell_title = \"prediction_6_10_A_Z_A100\"\n",
        "start_time = time.time()"
      ],
      "metadata": {
        "id": "QzSv4dVwHnr1"
      },
      "execution_count": 35,
      "outputs": []
    },
    {
      "cell_type": "code",
      "execution_count": 36,
      "metadata": {
        "collapsed": true,
        "id": "HiqjNrx6jnLE",
        "colab": {
          "base_uri": "https://localhost:8080/"
        },
        "outputId": "f1faed3a-a840-4c8e-b774-173465b4bce3"
      },
      "outputs": [
        {
          "output_type": "stream",
          "name": "stderr",
          "text": [
            "I0713 12:02:50.526017 132316651489088 xla_bridge.py:353] Unable to initialize backend 'tpu_driver': NOT_FOUND: Unable to find driver in registry given worker: \n",
            "I0713 12:02:50.645778 132316651489088 xla_bridge.py:353] Unable to initialize backend 'rocm': NOT_FOUND: Could not find registered platform with name: \"rocm\". Available platform names are: Interpreter CUDA Host\n",
            "I0713 12:02:50.646228 132316651489088 xla_bridge.py:353] Unable to initialize backend 'tpu': module 'jaxlib.xla_extension' has no attribute 'get_tpu_client'\n",
            "I0713 12:02:50.646334 132316651489088 xla_bridge.py:353] Unable to initialize backend 'plugin': xla_extension has no attributes named get_plugin_device_client. Compile TensorFlow with //tensorflow/compiler/xla/python:enable_plugin_device set to true (defaults to false) to enable this.\n",
            "I0713 12:02:55.128601 132316651489088 parjax_cla_multi_GoogleColab.py:279] Have 5 models: ['model_1_pred_0', 'model_2_pred_0', 'model_3_pred_0', 'model_4_pred_0', 'model_5_pred_0']\n",
            "I0713 12:02:55.128790 132316651489088 parjax_cla_multi_GoogleColab.py:293] Using random seed 1042421813019364706 for the data pipeline\n",
            "I0713 12:02:55.129045 132316651489088 parjax_cla_multi_GoogleColab.py:107] Predicting 6ZYC\n",
            "I0713 12:02:55.129777 132316651489088 parjax_cla_multi_GoogleColab.py:132] Running model model_1_pred_0 on 6ZYC\n",
            "W0713 12:02:55.892597 132316651489088 deprecation.py:350] From /usr/local/envs/parafold/lib/python3.8/site-packages/tensorflow/python/autograph/pyct/static_analysis/liveness.py:83: Analyzer.lamba_check (from tensorflow.python.autograph.pyct.static_analysis.liveness) is deprecated and will be removed after 2023-09-23.\n",
            "Instructions for updating:\n",
            "Lambda fuctions will be no more assumed to be used in the statement where they are used, or at least in the same block. https://github.com/tensorflow/tensorflow/issues/56089\n",
            "I0713 12:02:58.578383 132316651489088 model.py:165] Running predict with shape(feat) = {'aatype': (4, 148), 'residue_index': (4, 148), 'seq_length': (4,), 'template_aatype': (4, 4, 148), 'template_all_atom_masks': (4, 4, 148, 37), 'template_all_atom_positions': (4, 4, 148, 37, 3), 'template_sum_probs': (4, 4, 1), 'is_distillation': (4,), 'seq_mask': (4, 148), 'msa_mask': (4, 508, 148), 'msa_row_mask': (4, 508), 'random_crop_to_size_seed': (4, 2), 'template_mask': (4, 4), 'template_pseudo_beta': (4, 4, 148, 3), 'template_pseudo_beta_mask': (4, 4, 148), 'atom14_atom_exists': (4, 148, 14), 'residx_atom14_to_atom37': (4, 148, 14), 'residx_atom37_to_atom14': (4, 148, 37), 'atom37_atom_exists': (4, 148, 37), 'extra_msa': (4, 5120, 148), 'extra_msa_mask': (4, 5120, 148), 'extra_msa_row_mask': (4, 5120), 'bert_mask': (4, 508, 148), 'true_msa': (4, 508, 148), 'extra_has_deletion': (4, 5120, 148), 'extra_deletion_value': (4, 5120, 148), 'msa_feat': (4, 508, 148, 49), 'target_feat': (4, 148, 22)}\n",
            "I0713 12:05:20.998873 132316651489088 model.py:175] Output shape was {'distogram': {'bin_edges': (63,), 'logits': (148, 148, 64)}, 'experimentally_resolved': {'logits': (148, 37)}, 'masked_msa': {'logits': (508, 148, 23)}, 'predicted_lddt': {'logits': (148, 50)}, 'structure_module': {'final_atom_mask': (148, 37), 'final_atom_positions': (148, 37, 3)}, 'plddt': (148,), 'ranking_confidence': ()}\n",
            "I0713 12:05:20.999054 132316651489088 parjax_cla_multi_GoogleColab.py:144] Total JAX model model_1_pred_0 on 6ZYC predict time (includes compilation time, see --benchmark): 142.4s\n",
            "I0713 12:05:21.034619 132316651489088 parjax_cla_multi_GoogleColab.py:132] Running model model_2_pred_0 on 6ZYC\n",
            "I0713 12:05:23.016453 132316651489088 model.py:165] Running predict with shape(feat) = {'aatype': (4, 148), 'residue_index': (4, 148), 'seq_length': (4,), 'template_aatype': (4, 4, 148), 'template_all_atom_masks': (4, 4, 148, 37), 'template_all_atom_positions': (4, 4, 148, 37, 3), 'template_sum_probs': (4, 4, 1), 'is_distillation': (4,), 'seq_mask': (4, 148), 'msa_mask': (4, 508, 148), 'msa_row_mask': (4, 508), 'random_crop_to_size_seed': (4, 2), 'template_mask': (4, 4), 'template_pseudo_beta': (4, 4, 148, 3), 'template_pseudo_beta_mask': (4, 4, 148), 'atom14_atom_exists': (4, 148, 14), 'residx_atom14_to_atom37': (4, 148, 14), 'residx_atom37_to_atom14': (4, 148, 37), 'atom37_atom_exists': (4, 148, 37), 'extra_msa': (4, 1024, 148), 'extra_msa_mask': (4, 1024, 148), 'extra_msa_row_mask': (4, 1024), 'bert_mask': (4, 508, 148), 'true_msa': (4, 508, 148), 'extra_has_deletion': (4, 1024, 148), 'extra_deletion_value': (4, 1024, 148), 'msa_feat': (4, 508, 148, 49), 'target_feat': (4, 148, 22)}\n",
            "I0713 12:07:51.178271 132316651489088 model.py:175] Output shape was {'distogram': {'bin_edges': (63,), 'logits': (148, 148, 64)}, 'experimentally_resolved': {'logits': (148, 37)}, 'masked_msa': {'logits': (508, 148, 23)}, 'predicted_lddt': {'logits': (148, 50)}, 'structure_module': {'final_atom_mask': (148, 37), 'final_atom_positions': (148, 37, 3)}, 'plddt': (148,), 'ranking_confidence': ()}\n",
            "I0713 12:07:51.178480 132316651489088 parjax_cla_multi_GoogleColab.py:144] Total JAX model model_2_pred_0 on 6ZYC predict time (includes compilation time, see --benchmark): 148.2s\n",
            "I0713 12:07:51.213768 132316651489088 parjax_cla_multi_GoogleColab.py:132] Running model model_3_pred_0 on 6ZYC\n",
            "I0713 12:07:52.774663 132316651489088 model.py:165] Running predict with shape(feat) = {'aatype': (4, 148), 'residue_index': (4, 148), 'seq_length': (4,), 'is_distillation': (4,), 'seq_mask': (4, 148), 'msa_mask': (4, 512, 148), 'msa_row_mask': (4, 512), 'random_crop_to_size_seed': (4, 2), 'atom14_atom_exists': (4, 148, 14), 'residx_atom14_to_atom37': (4, 148, 14), 'residx_atom37_to_atom14': (4, 148, 37), 'atom37_atom_exists': (4, 148, 37), 'extra_msa': (4, 5120, 148), 'extra_msa_mask': (4, 5120, 148), 'extra_msa_row_mask': (4, 5120), 'bert_mask': (4, 512, 148), 'true_msa': (4, 512, 148), 'extra_has_deletion': (4, 5120, 148), 'extra_deletion_value': (4, 5120, 148), 'msa_feat': (4, 512, 148, 49), 'target_feat': (4, 148, 22)}\n",
            "I0713 12:09:48.990573 132316651489088 model.py:175] Output shape was {'distogram': {'bin_edges': (63,), 'logits': (148, 148, 64)}, 'experimentally_resolved': {'logits': (148, 37)}, 'masked_msa': {'logits': (512, 148, 23)}, 'predicted_lddt': {'logits': (148, 50)}, 'structure_module': {'final_atom_mask': (148, 37), 'final_atom_positions': (148, 37, 3)}, 'plddt': (148,), 'ranking_confidence': ()}\n",
            "I0713 12:09:48.990789 132316651489088 parjax_cla_multi_GoogleColab.py:144] Total JAX model model_3_pred_0 on 6ZYC predict time (includes compilation time, see --benchmark): 116.2s\n",
            "I0713 12:09:49.026123 132316651489088 parjax_cla_multi_GoogleColab.py:132] Running model model_4_pred_0 on 6ZYC\n",
            "I0713 12:09:50.742466 132316651489088 model.py:165] Running predict with shape(feat) = {'aatype': (4, 148), 'residue_index': (4, 148), 'seq_length': (4,), 'is_distillation': (4,), 'seq_mask': (4, 148), 'msa_mask': (4, 512, 148), 'msa_row_mask': (4, 512), 'random_crop_to_size_seed': (4, 2), 'atom14_atom_exists': (4, 148, 14), 'residx_atom14_to_atom37': (4, 148, 14), 'residx_atom37_to_atom14': (4, 148, 37), 'atom37_atom_exists': (4, 148, 37), 'extra_msa': (4, 5120, 148), 'extra_msa_mask': (4, 5120, 148), 'extra_msa_row_mask': (4, 5120), 'bert_mask': (4, 512, 148), 'true_msa': (4, 512, 148), 'extra_has_deletion': (4, 5120, 148), 'extra_deletion_value': (4, 5120, 148), 'msa_feat': (4, 512, 148, 49), 'target_feat': (4, 148, 22)}\n",
            "I0713 12:11:46.899846 132316651489088 model.py:175] Output shape was {'distogram': {'bin_edges': (63,), 'logits': (148, 148, 64)}, 'experimentally_resolved': {'logits': (148, 37)}, 'masked_msa': {'logits': (512, 148, 23)}, 'predicted_lddt': {'logits': (148, 50)}, 'structure_module': {'final_atom_mask': (148, 37), 'final_atom_positions': (148, 37, 3)}, 'plddt': (148,), 'ranking_confidence': ()}\n",
            "I0713 12:11:46.900050 132316651489088 parjax_cla_multi_GoogleColab.py:144] Total JAX model model_4_pred_0 on 6ZYC predict time (includes compilation time, see --benchmark): 116.2s\n",
            "I0713 12:11:46.935054 132316651489088 parjax_cla_multi_GoogleColab.py:132] Running model model_5_pred_0 on 6ZYC\n",
            "I0713 12:11:48.542729 132316651489088 model.py:165] Running predict with shape(feat) = {'aatype': (4, 148), 'residue_index': (4, 148), 'seq_length': (4,), 'is_distillation': (4,), 'seq_mask': (4, 148), 'msa_mask': (4, 512, 148), 'msa_row_mask': (4, 512), 'random_crop_to_size_seed': (4, 2), 'atom14_atom_exists': (4, 148, 14), 'residx_atom14_to_atom37': (4, 148, 14), 'residx_atom37_to_atom14': (4, 148, 37), 'atom37_atom_exists': (4, 148, 37), 'extra_msa': (4, 1024, 148), 'extra_msa_mask': (4, 1024, 148), 'extra_msa_row_mask': (4, 1024), 'bert_mask': (4, 512, 148), 'true_msa': (4, 512, 148), 'extra_has_deletion': (4, 1024, 148), 'extra_deletion_value': (4, 1024, 148), 'msa_feat': (4, 512, 148, 49), 'target_feat': (4, 148, 22)}\n",
            "I0713 12:13:45.045610 132316651489088 model.py:175] Output shape was {'distogram': {'bin_edges': (63,), 'logits': (148, 148, 64)}, 'experimentally_resolved': {'logits': (148, 37)}, 'masked_msa': {'logits': (512, 148, 23)}, 'predicted_lddt': {'logits': (148, 50)}, 'structure_module': {'final_atom_mask': (148, 37), 'final_atom_positions': (148, 37, 3)}, 'plddt': (148,), 'ranking_confidence': ()}\n",
            "I0713 12:13:45.045829 132316651489088 parjax_cla_multi_GoogleColab.py:144] Total JAX model model_5_pred_0 on 6ZYC predict time (includes compilation time, see --benchmark): 116.5s\n",
            "W0713 12:13:45.383108 132316651489088 __init__.py:5] Warning: importing 'simtk.openmm' is deprecated.  Import 'openmm' instead.\n",
            "I0713 12:13:47.202337 132316651489088 amber_minimize.py:178] alterations info: {'nonstandard_residues': [], 'removed_heterogens': set(), 'missing_residues': {}, 'missing_heavy_atoms': {}, 'missing_terminals': {<Residue 147 (GLU) of chain 0>: ['OXT']}, 'Se_in_MET': [], 'removed_chains': {0: []}}\n",
            "I0713 12:13:47.370649 132316651489088 amber_minimize.py:408] Minimizing protein, attempt 1 of 100.\n",
            "I0713 12:13:47.778053 132316651489088 amber_minimize.py:69] Restraining 1171 / 2323 particles.\n",
            "I0713 12:13:50.187954 132316651489088 amber_minimize.py:178] alterations info: {'nonstandard_residues': [], 'removed_heterogens': set(), 'missing_residues': {}, 'missing_heavy_atoms': {}, 'missing_terminals': {}, 'Se_in_MET': [], 'removed_chains': {0: []}}\n",
            "I0713 12:13:52.728931 132316651489088 amber_minimize.py:500] Iteration completed: Einit 3821.49 Efinal -3337.77 Time 1.43 s num residue violations 0 num residue exclusions 0 \n",
            "I0713 12:13:52.822205 132316651489088 parjax_cla_multi_GoogleColab.py:231] Final timings for 6ZYC: {'process_features_model_1_pred_0': 3.4481019973754883, 'predict_and_compile_model_1_pred_0': 142.4210648536682, 'process_features_model_2_pred_0': 1.9811646938323975, 'predict_and_compile_model_2_pred_0': 148.16255283355713, 'process_features_model_3_pred_0': 1.5606231689453125, 'predict_and_compile_model_3_pred_0': 116.21624946594238, 'process_features_model_4_pred_0': 1.7160756587982178, 'predict_and_compile_model_4_pred_0': 116.15771269798279, 'process_features_model_5_pred_0': 1.6073880195617676, 'predict_and_compile_model_5_pred_0': 116.50322365760803, 'relax_model_1_pred_0': 7.7391862869262695}\n",
            "I0713 12:13:52.822984 132316651489088 parjax_cla_multi_GoogleColab.py:308] 6ZYC AlphaFold structure prediction COMPLETE\n",
            "I0713 12:13:52.823117 132316651489088 parjax_cla_multi_GoogleColab.py:107] Predicting 6Y4F\n",
            "I0713 12:13:52.824005 132316651489088 parjax_cla_multi_GoogleColab.py:132] Running model model_1_pred_0 on 6Y4F\n",
            "I0713 12:13:54.884591 132316651489088 model.py:165] Running predict with shape(feat) = {'aatype': (4, 141), 'residue_index': (4, 141), 'seq_length': (4,), 'template_aatype': (4, 4, 141), 'template_all_atom_masks': (4, 4, 141, 37), 'template_all_atom_positions': (4, 4, 141, 37, 3), 'template_sum_probs': (4, 4, 1), 'is_distillation': (4,), 'seq_mask': (4, 141), 'msa_mask': (4, 508, 141), 'msa_row_mask': (4, 508), 'random_crop_to_size_seed': (4, 2), 'template_mask': (4, 4), 'template_pseudo_beta': (4, 4, 141, 3), 'template_pseudo_beta_mask': (4, 4, 141), 'atom14_atom_exists': (4, 141, 14), 'residx_atom14_to_atom37': (4, 141, 14), 'residx_atom37_to_atom14': (4, 141, 37), 'atom37_atom_exists': (4, 141, 37), 'extra_msa': (4, 5120, 141), 'extra_msa_mask': (4, 5120, 141), 'extra_msa_row_mask': (4, 5120), 'bert_mask': (4, 508, 141), 'true_msa': (4, 508, 141), 'extra_has_deletion': (4, 5120, 141), 'extra_deletion_value': (4, 5120, 141), 'msa_feat': (4, 508, 141, 49), 'target_feat': (4, 141, 22)}\n",
            "I0713 12:16:42.817152 132316651489088 model.py:175] Output shape was {'distogram': {'bin_edges': (63,), 'logits': (141, 141, 64)}, 'experimentally_resolved': {'logits': (141, 37)}, 'masked_msa': {'logits': (508, 141, 23)}, 'predicted_lddt': {'logits': (141, 50)}, 'structure_module': {'final_atom_mask': (141, 37), 'final_atom_positions': (141, 37, 3)}, 'plddt': (141,), 'ranking_confidence': ()}\n",
            "I0713 12:16:42.817361 132316651489088 parjax_cla_multi_GoogleColab.py:144] Total JAX model model_1_pred_0 on 6Y4F predict time (includes compilation time, see --benchmark): 167.9s\n",
            "I0713 12:16:42.850378 132316651489088 parjax_cla_multi_GoogleColab.py:132] Running model model_2_pred_0 on 6Y4F\n",
            "I0713 12:16:45.036695 132316651489088 model.py:165] Running predict with shape(feat) = {'aatype': (4, 141), 'residue_index': (4, 141), 'seq_length': (4,), 'template_aatype': (4, 4, 141), 'template_all_atom_masks': (4, 4, 141, 37), 'template_all_atom_positions': (4, 4, 141, 37, 3), 'template_sum_probs': (4, 4, 1), 'is_distillation': (4,), 'seq_mask': (4, 141), 'msa_mask': (4, 508, 141), 'msa_row_mask': (4, 508), 'random_crop_to_size_seed': (4, 2), 'template_mask': (4, 4), 'template_pseudo_beta': (4, 4, 141, 3), 'template_pseudo_beta_mask': (4, 4, 141), 'atom14_atom_exists': (4, 141, 14), 'residx_atom14_to_atom37': (4, 141, 14), 'residx_atom37_to_atom14': (4, 141, 37), 'atom37_atom_exists': (4, 141, 37), 'extra_msa': (4, 1024, 141), 'extra_msa_mask': (4, 1024, 141), 'extra_msa_row_mask': (4, 1024), 'bert_mask': (4, 508, 141), 'true_msa': (4, 508, 141), 'extra_has_deletion': (4, 1024, 141), 'extra_deletion_value': (4, 1024, 141), 'msa_feat': (4, 508, 141, 49), 'target_feat': (4, 141, 22)}\n",
            "I0713 12:19:32.024346 132316651489088 model.py:175] Output shape was {'distogram': {'bin_edges': (63,), 'logits': (141, 141, 64)}, 'experimentally_resolved': {'logits': (141, 37)}, 'masked_msa': {'logits': (508, 141, 23)}, 'predicted_lddt': {'logits': (141, 50)}, 'structure_module': {'final_atom_mask': (141, 37), 'final_atom_positions': (141, 37, 3)}, 'plddt': (141,), 'ranking_confidence': ()}\n",
            "I0713 12:19:32.024548 132316651489088 parjax_cla_multi_GoogleColab.py:144] Total JAX model model_2_pred_0 on 6Y4F predict time (includes compilation time, see --benchmark): 167.0s\n",
            "I0713 12:19:32.057866 132316651489088 parjax_cla_multi_GoogleColab.py:132] Running model model_3_pred_0 on 6Y4F\n",
            "I0713 12:19:33.777440 132316651489088 model.py:165] Running predict with shape(feat) = {'aatype': (4, 141), 'residue_index': (4, 141), 'seq_length': (4,), 'is_distillation': (4,), 'seq_mask': (4, 141), 'msa_mask': (4, 512, 141), 'msa_row_mask': (4, 512), 'random_crop_to_size_seed': (4, 2), 'atom14_atom_exists': (4, 141, 14), 'residx_atom14_to_atom37': (4, 141, 14), 'residx_atom37_to_atom14': (4, 141, 37), 'atom37_atom_exists': (4, 141, 37), 'extra_msa': (4, 5120, 141), 'extra_msa_mask': (4, 5120, 141), 'extra_msa_row_mask': (4, 5120), 'bert_mask': (4, 512, 141), 'true_msa': (4, 512, 141), 'extra_has_deletion': (4, 5120, 141), 'extra_deletion_value': (4, 5120, 141), 'msa_feat': (4, 512, 141, 49), 'target_feat': (4, 141, 22)}\n",
            "I0713 12:21:41.248331 132316651489088 model.py:175] Output shape was {'distogram': {'bin_edges': (63,), 'logits': (141, 141, 64)}, 'experimentally_resolved': {'logits': (141, 37)}, 'masked_msa': {'logits': (512, 141, 23)}, 'predicted_lddt': {'logits': (141, 50)}, 'structure_module': {'final_atom_mask': (141, 37), 'final_atom_positions': (141, 37, 3)}, 'plddt': (141,), 'ranking_confidence': ()}\n",
            "I0713 12:21:41.248536 132316651489088 parjax_cla_multi_GoogleColab.py:144] Total JAX model model_3_pred_0 on 6Y4F predict time (includes compilation time, see --benchmark): 127.5s\n",
            "I0713 12:21:41.281796 132316651489088 parjax_cla_multi_GoogleColab.py:132] Running model model_4_pred_0 on 6Y4F\n",
            "I0713 12:21:42.984149 132316651489088 model.py:165] Running predict with shape(feat) = {'aatype': (4, 141), 'residue_index': (4, 141), 'seq_length': (4,), 'is_distillation': (4,), 'seq_mask': (4, 141), 'msa_mask': (4, 512, 141), 'msa_row_mask': (4, 512), 'random_crop_to_size_seed': (4, 2), 'atom14_atom_exists': (4, 141, 14), 'residx_atom14_to_atom37': (4, 141, 14), 'residx_atom37_to_atom14': (4, 141, 37), 'atom37_atom_exists': (4, 141, 37), 'extra_msa': (4, 5120, 141), 'extra_msa_mask': (4, 5120, 141), 'extra_msa_row_mask': (4, 5120), 'bert_mask': (4, 512, 141), 'true_msa': (4, 512, 141), 'extra_has_deletion': (4, 5120, 141), 'extra_deletion_value': (4, 5120, 141), 'msa_feat': (4, 512, 141, 49), 'target_feat': (4, 141, 22)}\n",
            "I0713 12:23:47.598759 132316651489088 model.py:175] Output shape was {'distogram': {'bin_edges': (63,), 'logits': (141, 141, 64)}, 'experimentally_resolved': {'logits': (141, 37)}, 'masked_msa': {'logits': (512, 141, 23)}, 'predicted_lddt': {'logits': (141, 50)}, 'structure_module': {'final_atom_mask': (141, 37), 'final_atom_positions': (141, 37, 3)}, 'plddt': (141,), 'ranking_confidence': ()}\n",
            "I0713 12:23:47.598964 132316651489088 parjax_cla_multi_GoogleColab.py:144] Total JAX model model_4_pred_0 on 6Y4F predict time (includes compilation time, see --benchmark): 124.6s\n",
            "I0713 12:23:47.634542 132316651489088 parjax_cla_multi_GoogleColab.py:132] Running model model_5_pred_0 on 6Y4F\n",
            "I0713 12:23:49.378018 132316651489088 model.py:165] Running predict with shape(feat) = {'aatype': (4, 141), 'residue_index': (4, 141), 'seq_length': (4,), 'is_distillation': (4,), 'seq_mask': (4, 141), 'msa_mask': (4, 512, 141), 'msa_row_mask': (4, 512), 'random_crop_to_size_seed': (4, 2), 'atom14_atom_exists': (4, 141, 14), 'residx_atom14_to_atom37': (4, 141, 14), 'residx_atom37_to_atom14': (4, 141, 37), 'atom37_atom_exists': (4, 141, 37), 'extra_msa': (4, 1024, 141), 'extra_msa_mask': (4, 1024, 141), 'extra_msa_row_mask': (4, 1024), 'bert_mask': (4, 512, 141), 'true_msa': (4, 512, 141), 'extra_has_deletion': (4, 1024, 141), 'extra_deletion_value': (4, 1024, 141), 'msa_feat': (4, 512, 141, 49), 'target_feat': (4, 141, 22)}\n",
            "I0713 12:25:54.916854 132316651489088 model.py:175] Output shape was {'distogram': {'bin_edges': (63,), 'logits': (141, 141, 64)}, 'experimentally_resolved': {'logits': (141, 37)}, 'masked_msa': {'logits': (512, 141, 23)}, 'predicted_lddt': {'logits': (141, 50)}, 'structure_module': {'final_atom_mask': (141, 37), 'final_atom_positions': (141, 37, 3)}, 'plddt': (141,), 'ranking_confidence': ()}\n",
            "I0713 12:25:54.917081 132316651489088 parjax_cla_multi_GoogleColab.py:144] Total JAX model model_5_pred_0 on 6Y4F predict time (includes compilation time, see --benchmark): 125.5s\n",
            "I0713 12:25:57.404382 132316651489088 amber_minimize.py:178] alterations info: {'nonstandard_residues': [], 'removed_heterogens': set(), 'missing_residues': {}, 'missing_heavy_atoms': {}, 'missing_terminals': {<Residue 140 (HIS) of chain 0>: ['OXT']}, 'Se_in_MET': [], 'removed_chains': {0: []}}\n",
            "I0713 12:25:57.568594 132316651489088 amber_minimize.py:408] Minimizing protein, attempt 1 of 100.\n",
            "I0713 12:25:57.965373 132316651489088 amber_minimize.py:69] Restraining 1097 / 2154 particles.\n",
            "I0713 12:26:00.758195 132316651489088 amber_minimize.py:178] alterations info: {'nonstandard_residues': [], 'removed_heterogens': set(), 'missing_residues': {}, 'missing_heavy_atoms': {}, 'missing_terminals': {}, 'Se_in_MET': [], 'removed_chains': {0: []}}\n",
            "I0713 12:26:03.090451 132316651489088 amber_minimize.py:500] Iteration completed: Einit 13550.86 Efinal -2871.62 Time 1.45 s num residue violations 0 num residue exclusions 0 \n",
            "I0713 12:26:03.160711 132316651489088 parjax_cla_multi_GoogleColab.py:231] Final timings for 6Y4F: {'process_features_model_1_pred_0': 2.059082508087158, 'predict_and_compile_model_1_pred_0': 167.93415927886963, 'process_features_model_2_pred_0': 2.18414044380188, 'predict_and_compile_model_2_pred_0': 166.989887714386, 'process_features_model_3_pred_0': 1.7192997932434082, 'predict_and_compile_model_3_pred_0': 127.47122573852539, 'process_features_model_4_pred_0': 1.7020671367645264, 'predict_and_compile_model_4_pred_0': 124.61496019363403, 'process_features_model_5_pred_0': 1.7431809902191162, 'predict_and_compile_model_5_pred_0': 125.53918528556824, 'relax_model_3_pred_0': 8.208898544311523}\n",
            "I0713 12:26:03.161484 132316651489088 parjax_cla_multi_GoogleColab.py:308] 6Y4F AlphaFold structure prediction COMPLETE\n",
            "I0713 12:26:03.161603 132316651489088 parjax_cla_multi_GoogleColab.py:107] Predicting 7CWP\n",
            "I0713 12:26:03.162650 132316651489088 parjax_cla_multi_GoogleColab.py:132] Running model model_1_pred_0 on 7CWP\n",
            "I0713 12:26:05.358103 132316651489088 model.py:165] Running predict with shape(feat) = {'aatype': (4, 138), 'residue_index': (4, 138), 'seq_length': (4,), 'template_aatype': (4, 4, 138), 'template_all_atom_masks': (4, 4, 138, 37), 'template_all_atom_positions': (4, 4, 138, 37, 3), 'template_sum_probs': (4, 4, 1), 'is_distillation': (4,), 'seq_mask': (4, 138), 'msa_mask': (4, 508, 138), 'msa_row_mask': (4, 508), 'random_crop_to_size_seed': (4, 2), 'template_mask': (4, 4), 'template_pseudo_beta': (4, 4, 138, 3), 'template_pseudo_beta_mask': (4, 4, 138), 'atom14_atom_exists': (4, 138, 14), 'residx_atom14_to_atom37': (4, 138, 14), 'residx_atom37_to_atom14': (4, 138, 37), 'atom37_atom_exists': (4, 138, 37), 'extra_msa': (4, 5120, 138), 'extra_msa_mask': (4, 5120, 138), 'extra_msa_row_mask': (4, 5120), 'bert_mask': (4, 508, 138), 'true_msa': (4, 508, 138), 'extra_has_deletion': (4, 5120, 138), 'extra_deletion_value': (4, 5120, 138), 'msa_feat': (4, 508, 138, 49), 'target_feat': (4, 138, 22)}\n",
            "I0713 12:28:54.473560 132316651489088 model.py:175] Output shape was {'distogram': {'bin_edges': (63,), 'logits': (138, 138, 64)}, 'experimentally_resolved': {'logits': (138, 37)}, 'masked_msa': {'logits': (508, 138, 23)}, 'predicted_lddt': {'logits': (138, 50)}, 'structure_module': {'final_atom_mask': (138, 37), 'final_atom_positions': (138, 37, 3)}, 'plddt': (138,), 'ranking_confidence': ()}\n",
            "I0713 12:28:54.473771 132316651489088 parjax_cla_multi_GoogleColab.py:144] Total JAX model model_1_pred_0 on 7CWP predict time (includes compilation time, see --benchmark): 169.1s\n",
            "I0713 12:28:54.505684 132316651489088 parjax_cla_multi_GoogleColab.py:132] Running model model_2_pred_0 on 7CWP\n",
            "I0713 12:28:56.720748 132316651489088 model.py:165] Running predict with shape(feat) = {'aatype': (4, 138), 'residue_index': (4, 138), 'seq_length': (4,), 'template_aatype': (4, 4, 138), 'template_all_atom_masks': (4, 4, 138, 37), 'template_all_atom_positions': (4, 4, 138, 37, 3), 'template_sum_probs': (4, 4, 1), 'is_distillation': (4,), 'seq_mask': (4, 138), 'msa_mask': (4, 508, 138), 'msa_row_mask': (4, 508), 'random_crop_to_size_seed': (4, 2), 'template_mask': (4, 4), 'template_pseudo_beta': (4, 4, 138, 3), 'template_pseudo_beta_mask': (4, 4, 138), 'atom14_atom_exists': (4, 138, 14), 'residx_atom14_to_atom37': (4, 138, 14), 'residx_atom37_to_atom14': (4, 138, 37), 'atom37_atom_exists': (4, 138, 37), 'extra_msa': (4, 1024, 138), 'extra_msa_mask': (4, 1024, 138), 'extra_msa_row_mask': (4, 1024), 'bert_mask': (4, 508, 138), 'true_msa': (4, 508, 138), 'extra_has_deletion': (4, 1024, 138), 'extra_deletion_value': (4, 1024, 138), 'msa_feat': (4, 508, 138, 49), 'target_feat': (4, 138, 22)}\n",
            "I0713 12:31:43.320416 132316651489088 model.py:175] Output shape was {'distogram': {'bin_edges': (63,), 'logits': (138, 138, 64)}, 'experimentally_resolved': {'logits': (138, 37)}, 'masked_msa': {'logits': (508, 138, 23)}, 'predicted_lddt': {'logits': (138, 50)}, 'structure_module': {'final_atom_mask': (138, 37), 'final_atom_positions': (138, 37, 3)}, 'plddt': (138,), 'ranking_confidence': ()}\n",
            "I0713 12:31:43.320619 132316651489088 parjax_cla_multi_GoogleColab.py:144] Total JAX model model_2_pred_0 on 7CWP predict time (includes compilation time, see --benchmark): 166.6s\n",
            "I0713 12:31:43.352919 132316651489088 parjax_cla_multi_GoogleColab.py:132] Running model model_3_pred_0 on 7CWP\n",
            "I0713 12:31:45.236416 132316651489088 model.py:165] Running predict with shape(feat) = {'aatype': (4, 138), 'residue_index': (4, 138), 'seq_length': (4,), 'is_distillation': (4,), 'seq_mask': (4, 138), 'msa_mask': (4, 512, 138), 'msa_row_mask': (4, 512), 'random_crop_to_size_seed': (4, 2), 'atom14_atom_exists': (4, 138, 14), 'residx_atom14_to_atom37': (4, 138, 14), 'residx_atom37_to_atom14': (4, 138, 37), 'atom37_atom_exists': (4, 138, 37), 'extra_msa': (4, 5120, 138), 'extra_msa_mask': (4, 5120, 138), 'extra_msa_row_mask': (4, 5120), 'bert_mask': (4, 512, 138), 'true_msa': (4, 512, 138), 'extra_has_deletion': (4, 5120, 138), 'extra_deletion_value': (4, 5120, 138), 'msa_feat': (4, 512, 138, 49), 'target_feat': (4, 138, 22)}\n",
            "I0713 12:33:52.182528 132316651489088 model.py:175] Output shape was {'distogram': {'bin_edges': (63,), 'logits': (138, 138, 64)}, 'experimentally_resolved': {'logits': (138, 37)}, 'masked_msa': {'logits': (512, 138, 23)}, 'predicted_lddt': {'logits': (138, 50)}, 'structure_module': {'final_atom_mask': (138, 37), 'final_atom_positions': (138, 37, 3)}, 'plddt': (138,), 'ranking_confidence': ()}\n",
            "I0713 12:33:52.182756 132316651489088 parjax_cla_multi_GoogleColab.py:144] Total JAX model model_3_pred_0 on 7CWP predict time (includes compilation time, see --benchmark): 126.9s\n",
            "I0713 12:33:52.214958 132316651489088 parjax_cla_multi_GoogleColab.py:132] Running model model_4_pred_0 on 7CWP\n",
            "I0713 12:33:53.979335 132316651489088 model.py:165] Running predict with shape(feat) = {'aatype': (4, 138), 'residue_index': (4, 138), 'seq_length': (4,), 'is_distillation': (4,), 'seq_mask': (4, 138), 'msa_mask': (4, 512, 138), 'msa_row_mask': (4, 512), 'random_crop_to_size_seed': (4, 2), 'atom14_atom_exists': (4, 138, 14), 'residx_atom14_to_atom37': (4, 138, 14), 'residx_atom37_to_atom14': (4, 138, 37), 'atom37_atom_exists': (4, 138, 37), 'extra_msa': (4, 5120, 138), 'extra_msa_mask': (4, 5120, 138), 'extra_msa_row_mask': (4, 5120), 'bert_mask': (4, 512, 138), 'true_msa': (4, 512, 138), 'extra_has_deletion': (4, 5120, 138), 'extra_deletion_value': (4, 5120, 138), 'msa_feat': (4, 512, 138, 49), 'target_feat': (4, 138, 22)}\n",
            "I0713 12:35:58.875360 132316651489088 model.py:175] Output shape was {'distogram': {'bin_edges': (63,), 'logits': (138, 138, 64)}, 'experimentally_resolved': {'logits': (138, 37)}, 'masked_msa': {'logits': (512, 138, 23)}, 'predicted_lddt': {'logits': (138, 50)}, 'structure_module': {'final_atom_mask': (138, 37), 'final_atom_positions': (138, 37, 3)}, 'plddt': (138,), 'ranking_confidence': ()}\n",
            "I0713 12:35:58.875569 132316651489088 parjax_cla_multi_GoogleColab.py:144] Total JAX model model_4_pred_0 on 7CWP predict time (includes compilation time, see --benchmark): 124.9s\n",
            "I0713 12:35:58.907521 132316651489088 parjax_cla_multi_GoogleColab.py:132] Running model model_5_pred_0 on 7CWP\n",
            "I0713 12:36:00.653546 132316651489088 model.py:165] Running predict with shape(feat) = {'aatype': (4, 138), 'residue_index': (4, 138), 'seq_length': (4,), 'is_distillation': (4,), 'seq_mask': (4, 138), 'msa_mask': (4, 512, 138), 'msa_row_mask': (4, 512), 'random_crop_to_size_seed': (4, 2), 'atom14_atom_exists': (4, 138, 14), 'residx_atom14_to_atom37': (4, 138, 14), 'residx_atom37_to_atom14': (4, 138, 37), 'atom37_atom_exists': (4, 138, 37), 'extra_msa': (4, 1024, 138), 'extra_msa_mask': (4, 1024, 138), 'extra_msa_row_mask': (4, 1024), 'bert_mask': (4, 512, 138), 'true_msa': (4, 512, 138), 'extra_has_deletion': (4, 1024, 138), 'extra_deletion_value': (4, 1024, 138), 'msa_feat': (4, 512, 138, 49), 'target_feat': (4, 138, 22)}\n",
            "I0713 12:38:06.074094 132316651489088 model.py:175] Output shape was {'distogram': {'bin_edges': (63,), 'logits': (138, 138, 64)}, 'experimentally_resolved': {'logits': (138, 37)}, 'masked_msa': {'logits': (512, 138, 23)}, 'predicted_lddt': {'logits': (138, 50)}, 'structure_module': {'final_atom_mask': (138, 37), 'final_atom_positions': (138, 37, 3)}, 'plddt': (138,), 'ranking_confidence': ()}\n",
            "I0713 12:38:06.074299 132316651489088 parjax_cla_multi_GoogleColab.py:144] Total JAX model model_5_pred_0 on 7CWP predict time (includes compilation time, see --benchmark): 125.4s\n",
            "I0713 12:38:10.333703 132316651489088 amber_minimize.py:178] alterations info: {'nonstandard_residues': [], 'removed_heterogens': set(), 'missing_residues': {}, 'missing_heavy_atoms': {}, 'missing_terminals': {<Residue 137 (HIS) of chain 0>: ['OXT']}, 'Se_in_MET': [], 'removed_chains': {0: []}}\n",
            "I0713 12:38:10.624294 132316651489088 amber_minimize.py:408] Minimizing protein, attempt 1 of 100.\n",
            "I0713 12:38:10.892729 132316651489088 amber_minimize.py:69] Restraining 1034 / 2016 particles.\n",
            "I0713 12:38:14.270564 132316651489088 amber_minimize.py:178] alterations info: {'nonstandard_residues': [], 'removed_heterogens': set(), 'missing_residues': {}, 'missing_heavy_atoms': {}, 'missing_terminals': {}, 'Se_in_MET': [], 'removed_chains': {0: []}}\n",
            "I0713 12:38:16.528040 132316651489088 amber_minimize.py:500] Iteration completed: Einit 2909.43 Efinal -1820.20 Time 2.05 s num residue violations 0 num residue exclusions 0 \n",
            "I0713 12:38:16.601492 132316651489088 parjax_cla_multi_GoogleColab.py:231] Final timings for 7CWP: {'process_features_model_1_pred_0': 2.193448543548584, 'predict_and_compile_model_1_pred_0': 169.11756706237793, 'process_features_model_2_pred_0': 2.212409257888794, 'predict_and_compile_model_2_pred_0': 166.60237407684326, 'process_features_model_3_pred_0': 1.88321852684021, 'predict_and_compile_model_3_pred_0': 126.94646430015564, 'process_features_model_4_pred_0': 1.764087200164795, 'predict_and_compile_model_4_pred_0': 124.8963623046875, 'process_features_model_5_pred_0': 1.7457520961761475, 'predict_and_compile_model_5_pred_0': 125.42088055610657, 'relax_model_3_pred_0': 10.493293046951294}\n",
            "I0713 12:38:16.602315 132316651489088 parjax_cla_multi_GoogleColab.py:308] 7CWP AlphaFold structure prediction COMPLETE\n",
            "I0713 12:38:16.602435 132316651489088 parjax_cla_multi_GoogleColab.py:107] Predicting 7JTL\n",
            "I0713 12:38:16.603089 132316651489088 parjax_cla_multi_GoogleColab.py:132] Running model model_1_pred_0 on 7JTL\n",
            "I0713 12:38:18.788262 132316651489088 model.py:165] Running predict with shape(feat) = {'aatype': (4, 107), 'residue_index': (4, 107), 'seq_length': (4,), 'template_aatype': (4, 4, 107), 'template_all_atom_masks': (4, 4, 107, 37), 'template_all_atom_positions': (4, 4, 107, 37, 3), 'template_sum_probs': (4, 4, 1), 'is_distillation': (4,), 'seq_mask': (4, 107), 'msa_mask': (4, 508, 107), 'msa_row_mask': (4, 508), 'random_crop_to_size_seed': (4, 2), 'template_mask': (4, 4), 'template_pseudo_beta': (4, 4, 107, 3), 'template_pseudo_beta_mask': (4, 4, 107), 'atom14_atom_exists': (4, 107, 14), 'residx_atom14_to_atom37': (4, 107, 14), 'residx_atom37_to_atom14': (4, 107, 37), 'atom37_atom_exists': (4, 107, 37), 'extra_msa': (4, 5120, 107), 'extra_msa_mask': (4, 5120, 107), 'extra_msa_row_mask': (4, 5120), 'bert_mask': (4, 508, 107), 'true_msa': (4, 508, 107), 'extra_has_deletion': (4, 5120, 107), 'extra_deletion_value': (4, 5120, 107), 'msa_feat': (4, 508, 107, 49), 'target_feat': (4, 107, 22)}\n",
            "I0713 12:41:05.501321 132316651489088 model.py:175] Output shape was {'distogram': {'bin_edges': (63,), 'logits': (107, 107, 64)}, 'experimentally_resolved': {'logits': (107, 37)}, 'masked_msa': {'logits': (508, 107, 23)}, 'predicted_lddt': {'logits': (107, 50)}, 'structure_module': {'final_atom_mask': (107, 37), 'final_atom_positions': (107, 37, 3)}, 'plddt': (107,), 'ranking_confidence': ()}\n",
            "I0713 12:41:05.501530 132316651489088 parjax_cla_multi_GoogleColab.py:144] Total JAX model model_1_pred_0 on 7JTL predict time (includes compilation time, see --benchmark): 166.7s\n",
            "I0713 12:41:05.526007 132316651489088 parjax_cla_multi_GoogleColab.py:132] Running model model_2_pred_0 on 7JTL\n",
            "I0713 12:41:07.819112 132316651489088 model.py:165] Running predict with shape(feat) = {'aatype': (4, 107), 'residue_index': (4, 107), 'seq_length': (4,), 'template_aatype': (4, 4, 107), 'template_all_atom_masks': (4, 4, 107, 37), 'template_all_atom_positions': (4, 4, 107, 37, 3), 'template_sum_probs': (4, 4, 1), 'is_distillation': (4,), 'seq_mask': (4, 107), 'msa_mask': (4, 508, 107), 'msa_row_mask': (4, 508), 'random_crop_to_size_seed': (4, 2), 'template_mask': (4, 4), 'template_pseudo_beta': (4, 4, 107, 3), 'template_pseudo_beta_mask': (4, 4, 107), 'atom14_atom_exists': (4, 107, 14), 'residx_atom14_to_atom37': (4, 107, 14), 'residx_atom37_to_atom14': (4, 107, 37), 'atom37_atom_exists': (4, 107, 37), 'extra_msa': (4, 1024, 107), 'extra_msa_mask': (4, 1024, 107), 'extra_msa_row_mask': (4, 1024), 'bert_mask': (4, 508, 107), 'true_msa': (4, 508, 107), 'extra_has_deletion': (4, 1024, 107), 'extra_deletion_value': (4, 1024, 107), 'msa_feat': (4, 508, 107, 49), 'target_feat': (4, 107, 22)}\n",
            "I0713 12:43:54.600363 132316651489088 model.py:175] Output shape was {'distogram': {'bin_edges': (63,), 'logits': (107, 107, 64)}, 'experimentally_resolved': {'logits': (107, 37)}, 'masked_msa': {'logits': (508, 107, 23)}, 'predicted_lddt': {'logits': (107, 50)}, 'structure_module': {'final_atom_mask': (107, 37), 'final_atom_positions': (107, 37, 3)}, 'plddt': (107,), 'ranking_confidence': ()}\n",
            "I0713 12:43:54.600570 132316651489088 parjax_cla_multi_GoogleColab.py:144] Total JAX model model_2_pred_0 on 7JTL predict time (includes compilation time, see --benchmark): 166.8s\n",
            "I0713 12:43:54.625320 132316651489088 parjax_cla_multi_GoogleColab.py:132] Running model model_3_pred_0 on 7JTL\n",
            "I0713 12:43:56.492454 132316651489088 model.py:165] Running predict with shape(feat) = {'aatype': (4, 107), 'residue_index': (4, 107), 'seq_length': (4,), 'is_distillation': (4,), 'seq_mask': (4, 107), 'msa_mask': (4, 512, 107), 'msa_row_mask': (4, 512), 'random_crop_to_size_seed': (4, 2), 'atom14_atom_exists': (4, 107, 14), 'residx_atom14_to_atom37': (4, 107, 14), 'residx_atom37_to_atom14': (4, 107, 37), 'atom37_atom_exists': (4, 107, 37), 'extra_msa': (4, 5120, 107), 'extra_msa_mask': (4, 5120, 107), 'extra_msa_row_mask': (4, 5120), 'bert_mask': (4, 512, 107), 'true_msa': (4, 512, 107), 'extra_has_deletion': (4, 5120, 107), 'extra_deletion_value': (4, 5120, 107), 'msa_feat': (4, 512, 107, 49), 'target_feat': (4, 107, 22)}\n",
            "I0713 12:46:02.094089 132316651489088 model.py:175] Output shape was {'distogram': {'bin_edges': (63,), 'logits': (107, 107, 64)}, 'experimentally_resolved': {'logits': (107, 37)}, 'masked_msa': {'logits': (512, 107, 23)}, 'predicted_lddt': {'logits': (107, 50)}, 'structure_module': {'final_atom_mask': (107, 37), 'final_atom_positions': (107, 37, 3)}, 'plddt': (107,), 'ranking_confidence': ()}\n",
            "I0713 12:46:02.094295 132316651489088 parjax_cla_multi_GoogleColab.py:144] Total JAX model model_3_pred_0 on 7JTL predict time (includes compilation time, see --benchmark): 125.6s\n",
            "I0713 12:46:02.119045 132316651489088 parjax_cla_multi_GoogleColab.py:132] Running model model_4_pred_0 on 7JTL\n",
            "I0713 12:46:03.933481 132316651489088 model.py:165] Running predict with shape(feat) = {'aatype': (4, 107), 'residue_index': (4, 107), 'seq_length': (4,), 'is_distillation': (4,), 'seq_mask': (4, 107), 'msa_mask': (4, 512, 107), 'msa_row_mask': (4, 512), 'random_crop_to_size_seed': (4, 2), 'atom14_atom_exists': (4, 107, 14), 'residx_atom14_to_atom37': (4, 107, 14), 'residx_atom37_to_atom14': (4, 107, 37), 'atom37_atom_exists': (4, 107, 37), 'extra_msa': (4, 5120, 107), 'extra_msa_mask': (4, 5120, 107), 'extra_msa_row_mask': (4, 5120), 'bert_mask': (4, 512, 107), 'true_msa': (4, 512, 107), 'extra_has_deletion': (4, 5120, 107), 'extra_deletion_value': (4, 5120, 107), 'msa_feat': (4, 512, 107, 49), 'target_feat': (4, 107, 22)}\n",
            "I0713 12:48:08.261346 132316651489088 model.py:175] Output shape was {'distogram': {'bin_edges': (63,), 'logits': (107, 107, 64)}, 'experimentally_resolved': {'logits': (107, 37)}, 'masked_msa': {'logits': (512, 107, 23)}, 'predicted_lddt': {'logits': (107, 50)}, 'structure_module': {'final_atom_mask': (107, 37), 'final_atom_positions': (107, 37, 3)}, 'plddt': (107,), 'ranking_confidence': ()}\n",
            "I0713 12:48:08.261561 132316651489088 parjax_cla_multi_GoogleColab.py:144] Total JAX model model_4_pred_0 on 7JTL predict time (includes compilation time, see --benchmark): 124.3s\n",
            "I0713 12:48:08.286422 132316651489088 parjax_cla_multi_GoogleColab.py:132] Running model model_5_pred_0 on 7JTL\n",
            "I0713 12:48:10.081362 132316651489088 model.py:165] Running predict with shape(feat) = {'aatype': (4, 107), 'residue_index': (4, 107), 'seq_length': (4,), 'is_distillation': (4,), 'seq_mask': (4, 107), 'msa_mask': (4, 512, 107), 'msa_row_mask': (4, 512), 'random_crop_to_size_seed': (4, 2), 'atom14_atom_exists': (4, 107, 14), 'residx_atom14_to_atom37': (4, 107, 14), 'residx_atom37_to_atom14': (4, 107, 37), 'atom37_atom_exists': (4, 107, 37), 'extra_msa': (4, 1024, 107), 'extra_msa_mask': (4, 1024, 107), 'extra_msa_row_mask': (4, 1024), 'bert_mask': (4, 512, 107), 'true_msa': (4, 512, 107), 'extra_has_deletion': (4, 1024, 107), 'extra_deletion_value': (4, 1024, 107), 'msa_feat': (4, 512, 107, 49), 'target_feat': (4, 107, 22)}\n",
            "I0713 12:50:13.037100 132316651489088 model.py:175] Output shape was {'distogram': {'bin_edges': (63,), 'logits': (107, 107, 64)}, 'experimentally_resolved': {'logits': (107, 37)}, 'masked_msa': {'logits': (512, 107, 23)}, 'predicted_lddt': {'logits': (107, 50)}, 'structure_module': {'final_atom_mask': (107, 37), 'final_atom_positions': (107, 37, 3)}, 'plddt': (107,), 'ranking_confidence': ()}\n",
            "I0713 12:50:13.037302 132316651489088 parjax_cla_multi_GoogleColab.py:144] Total JAX model model_5_pred_0 on 7JTL predict time (includes compilation time, see --benchmark): 123.0s\n",
            "I0713 12:50:14.839887 132316651489088 amber_minimize.py:178] alterations info: {'nonstandard_residues': [], 'removed_heterogens': set(), 'missing_residues': {}, 'missing_heavy_atoms': {}, 'missing_terminals': {<Residue 106 (ILE) of chain 0>: ['OXT']}, 'Se_in_MET': [], 'removed_chains': {0: []}}\n",
            "I0713 12:50:14.970087 132316651489088 amber_minimize.py:408] Minimizing protein, attempt 1 of 100.\n",
            "I0713 12:50:15.341320 132316651489088 amber_minimize.py:69] Restraining 858 / 1680 particles.\n",
            "I0713 12:50:17.451834 132316651489088 amber_minimize.py:178] alterations info: {'nonstandard_residues': [], 'removed_heterogens': set(), 'missing_residues': {}, 'missing_heavy_atoms': {}, 'missing_terminals': {}, 'Se_in_MET': [], 'removed_chains': {0: []}}\n",
            "I0713 12:50:19.495846 132316651489088 amber_minimize.py:500] Iteration completed: Einit 4671.14 Efinal -986.27 Time 1.24 s num residue violations 0 num residue exclusions 0 \n",
            "I0713 12:50:19.557709 132316651489088 parjax_cla_multi_GoogleColab.py:231] Final timings for 7JTL: {'process_features_model_1_pred_0': 2.1832199096679688, 'predict_and_compile_model_1_pred_0': 166.71512007713318, 'process_features_model_2_pred_0': 2.290039300918579, 'predict_and_compile_model_2_pred_0': 166.7843520641327, 'process_features_model_3_pred_0': 1.8668537139892578, 'predict_and_compile_model_3_pred_0': 125.60197138786316, 'process_features_model_4_pred_0': 1.8141350746154785, 'predict_and_compile_model_4_pred_0': 124.32821130752563, 'process_features_model_5_pred_0': 1.7946629524230957, 'predict_and_compile_model_5_pred_0': 122.95606875419617, 'relax_model_5_pred_0': 6.494537830352783}\n",
            "I0713 12:50:19.558448 132316651489088 parjax_cla_multi_GoogleColab.py:308] 7JTL AlphaFold structure prediction COMPLETE\n",
            "I0713 12:50:19.558575 132316651489088 parjax_cla_multi_GoogleColab.py:107] Predicting 7CN6\n",
            "I0713 12:50:19.559321 132316651489088 parjax_cla_multi_GoogleColab.py:132] Running model model_1_pred_0 on 7CN6\n",
            "I0713 12:50:21.898153 132316651489088 model.py:165] Running predict with shape(feat) = {'aatype': (4, 75), 'residue_index': (4, 75), 'seq_length': (4,), 'template_aatype': (4, 4, 75), 'template_all_atom_masks': (4, 4, 75, 37), 'template_all_atom_positions': (4, 4, 75, 37, 3), 'template_sum_probs': (4, 4, 1), 'is_distillation': (4,), 'seq_mask': (4, 75), 'msa_mask': (4, 508, 75), 'msa_row_mask': (4, 508), 'random_crop_to_size_seed': (4, 2), 'template_mask': (4, 4), 'template_pseudo_beta': (4, 4, 75, 3), 'template_pseudo_beta_mask': (4, 4, 75), 'atom14_atom_exists': (4, 75, 14), 'residx_atom14_to_atom37': (4, 75, 14), 'residx_atom37_to_atom14': (4, 75, 37), 'atom37_atom_exists': (4, 75, 37), 'extra_msa': (4, 5120, 75), 'extra_msa_mask': (4, 5120, 75), 'extra_msa_row_mask': (4, 5120), 'bert_mask': (4, 508, 75), 'true_msa': (4, 508, 75), 'extra_has_deletion': (4, 5120, 75), 'extra_deletion_value': (4, 5120, 75), 'msa_feat': (4, 508, 75, 49), 'target_feat': (4, 75, 22)}\n",
            "I0713 12:53:06.301536 132316651489088 model.py:175] Output shape was {'distogram': {'bin_edges': (63,), 'logits': (75, 75, 64)}, 'experimentally_resolved': {'logits': (75, 37)}, 'masked_msa': {'logits': (508, 75, 23)}, 'predicted_lddt': {'logits': (75, 50)}, 'structure_module': {'final_atom_mask': (75, 37), 'final_atom_positions': (75, 37, 3)}, 'plddt': (75,), 'ranking_confidence': ()}\n",
            "I0713 12:53:06.301742 132316651489088 parjax_cla_multi_GoogleColab.py:144] Total JAX model model_1_pred_0 on 7CN6 predict time (includes compilation time, see --benchmark): 164.4s\n",
            "I0713 12:53:06.318629 132316651489088 parjax_cla_multi_GoogleColab.py:132] Running model model_2_pred_0 on 7CN6\n",
            "I0713 12:53:08.525382 132316651489088 model.py:165] Running predict with shape(feat) = {'aatype': (4, 75), 'residue_index': (4, 75), 'seq_length': (4,), 'template_aatype': (4, 4, 75), 'template_all_atom_masks': (4, 4, 75, 37), 'template_all_atom_positions': (4, 4, 75, 37, 3), 'template_sum_probs': (4, 4, 1), 'is_distillation': (4,), 'seq_mask': (4, 75), 'msa_mask': (4, 508, 75), 'msa_row_mask': (4, 508), 'random_crop_to_size_seed': (4, 2), 'template_mask': (4, 4), 'template_pseudo_beta': (4, 4, 75, 3), 'template_pseudo_beta_mask': (4, 4, 75), 'atom14_atom_exists': (4, 75, 14), 'residx_atom14_to_atom37': (4, 75, 14), 'residx_atom37_to_atom14': (4, 75, 37), 'atom37_atom_exists': (4, 75, 37), 'extra_msa': (4, 1024, 75), 'extra_msa_mask': (4, 1024, 75), 'extra_msa_row_mask': (4, 1024), 'bert_mask': (4, 508, 75), 'true_msa': (4, 508, 75), 'extra_has_deletion': (4, 1024, 75), 'extra_deletion_value': (4, 1024, 75), 'msa_feat': (4, 508, 75, 49), 'target_feat': (4, 75, 22)}\n",
            "I0713 12:55:51.371905 132316651489088 model.py:175] Output shape was {'distogram': {'bin_edges': (63,), 'logits': (75, 75, 64)}, 'experimentally_resolved': {'logits': (75, 37)}, 'masked_msa': {'logits': (508, 75, 23)}, 'predicted_lddt': {'logits': (75, 50)}, 'structure_module': {'final_atom_mask': (75, 37), 'final_atom_positions': (75, 37, 3)}, 'plddt': (75,), 'ranking_confidence': ()}\n",
            "I0713 12:55:51.372146 132316651489088 parjax_cla_multi_GoogleColab.py:144] Total JAX model model_2_pred_0 on 7CN6 predict time (includes compilation time, see --benchmark): 162.8s\n",
            "I0713 12:55:51.389143 132316651489088 parjax_cla_multi_GoogleColab.py:132] Running model model_3_pred_0 on 7CN6\n",
            "I0713 12:55:53.150162 132316651489088 model.py:165] Running predict with shape(feat) = {'aatype': (4, 75), 'residue_index': (4, 75), 'seq_length': (4,), 'is_distillation': (4,), 'seq_mask': (4, 75), 'msa_mask': (4, 512, 75), 'msa_row_mask': (4, 512), 'random_crop_to_size_seed': (4, 2), 'atom14_atom_exists': (4, 75, 14), 'residx_atom14_to_atom37': (4, 75, 14), 'residx_atom37_to_atom14': (4, 75, 37), 'atom37_atom_exists': (4, 75, 37), 'extra_msa': (4, 5120, 75), 'extra_msa_mask': (4, 5120, 75), 'extra_msa_row_mask': (4, 5120), 'bert_mask': (4, 512, 75), 'true_msa': (4, 512, 75), 'extra_has_deletion': (4, 5120, 75), 'extra_deletion_value': (4, 5120, 75), 'msa_feat': (4, 512, 75, 49), 'target_feat': (4, 75, 22)}\n",
            "I0713 12:57:56.090128 132316651489088 model.py:175] Output shape was {'distogram': {'bin_edges': (63,), 'logits': (75, 75, 64)}, 'experimentally_resolved': {'logits': (75, 37)}, 'masked_msa': {'logits': (512, 75, 23)}, 'predicted_lddt': {'logits': (75, 50)}, 'structure_module': {'final_atom_mask': (75, 37), 'final_atom_positions': (75, 37, 3)}, 'plddt': (75,), 'ranking_confidence': ()}\n",
            "I0713 12:57:56.090339 132316651489088 parjax_cla_multi_GoogleColab.py:144] Total JAX model model_3_pred_0 on 7CN6 predict time (includes compilation time, see --benchmark): 122.9s\n",
            "I0713 12:57:56.107414 132316651489088 parjax_cla_multi_GoogleColab.py:132] Running model model_4_pred_0 on 7CN6\n",
            "I0713 12:57:57.854285 132316651489088 model.py:165] Running predict with shape(feat) = {'aatype': (4, 75), 'residue_index': (4, 75), 'seq_length': (4,), 'is_distillation': (4,), 'seq_mask': (4, 75), 'msa_mask': (4, 512, 75), 'msa_row_mask': (4, 512), 'random_crop_to_size_seed': (4, 2), 'atom14_atom_exists': (4, 75, 14), 'residx_atom14_to_atom37': (4, 75, 14), 'residx_atom37_to_atom14': (4, 75, 37), 'atom37_atom_exists': (4, 75, 37), 'extra_msa': (4, 5120, 75), 'extra_msa_mask': (4, 5120, 75), 'extra_msa_row_mask': (4, 5120), 'bert_mask': (4, 512, 75), 'true_msa': (4, 512, 75), 'extra_has_deletion': (4, 5120, 75), 'extra_deletion_value': (4, 5120, 75), 'msa_feat': (4, 512, 75, 49), 'target_feat': (4, 75, 22)}\n",
            "I0713 12:59:58.228991 132316651489088 model.py:175] Output shape was {'distogram': {'bin_edges': (63,), 'logits': (75, 75, 64)}, 'experimentally_resolved': {'logits': (75, 37)}, 'masked_msa': {'logits': (512, 75, 23)}, 'predicted_lddt': {'logits': (75, 50)}, 'structure_module': {'final_atom_mask': (75, 37), 'final_atom_positions': (75, 37, 3)}, 'plddt': (75,), 'ranking_confidence': ()}\n",
            "I0713 12:59:58.229224 132316651489088 parjax_cla_multi_GoogleColab.py:144] Total JAX model model_4_pred_0 on 7CN6 predict time (includes compilation time, see --benchmark): 120.4s\n",
            "I0713 12:59:58.246151 132316651489088 parjax_cla_multi_GoogleColab.py:132] Running model model_5_pred_0 on 7CN6\n",
            "I0713 12:59:59.998717 132316651489088 model.py:165] Running predict with shape(feat) = {'aatype': (4, 75), 'residue_index': (4, 75), 'seq_length': (4,), 'is_distillation': (4,), 'seq_mask': (4, 75), 'msa_mask': (4, 512, 75), 'msa_row_mask': (4, 512), 'random_crop_to_size_seed': (4, 2), 'atom14_atom_exists': (4, 75, 14), 'residx_atom14_to_atom37': (4, 75, 14), 'residx_atom37_to_atom14': (4, 75, 37), 'atom37_atom_exists': (4, 75, 37), 'extra_msa': (4, 1024, 75), 'extra_msa_mask': (4, 1024, 75), 'extra_msa_row_mask': (4, 1024), 'bert_mask': (4, 512, 75), 'true_msa': (4, 512, 75), 'extra_has_deletion': (4, 1024, 75), 'extra_deletion_value': (4, 1024, 75), 'msa_feat': (4, 512, 75, 49), 'target_feat': (4, 75, 22)}\n",
            "I0713 13:02:01.231996 132316651489088 model.py:175] Output shape was {'distogram': {'bin_edges': (63,), 'logits': (75, 75, 64)}, 'experimentally_resolved': {'logits': (75, 37)}, 'masked_msa': {'logits': (512, 75, 23)}, 'predicted_lddt': {'logits': (75, 50)}, 'structure_module': {'final_atom_mask': (75, 37), 'final_atom_positions': (75, 37, 3)}, 'plddt': (75,), 'ranking_confidence': ()}\n",
            "I0713 13:02:01.232239 132316651489088 parjax_cla_multi_GoogleColab.py:144] Total JAX model model_5_pred_0 on 7CN6 predict time (includes compilation time, see --benchmark): 121.2s\n",
            "I0713 13:02:02.783715 132316651489088 amber_minimize.py:178] alterations info: {'nonstandard_residues': [], 'removed_heterogens': set(), 'missing_residues': {}, 'missing_heavy_atoms': {}, 'missing_terminals': {<Residue 74 (GLU) of chain 0>: ['OXT']}, 'Se_in_MET': [], 'removed_chains': {0: []}}\n",
            "I0713 13:02:02.872887 132316651489088 amber_minimize.py:408] Minimizing protein, attempt 1 of 100.\n",
            "I0713 13:02:03.055879 132316651489088 amber_minimize.py:69] Restraining 605 / 1192 particles.\n",
            "I0713 13:02:04.872996 132316651489088 amber_minimize.py:178] alterations info: {'nonstandard_residues': [], 'removed_heterogens': set(), 'missing_residues': {}, 'missing_heavy_atoms': {}, 'missing_terminals': {}, 'Se_in_MET': [], 'removed_chains': {0: []}}\n",
            "I0713 13:02:06.777039 132316651489088 amber_minimize.py:500] Iteration completed: Einit 1768.19 Efinal -1416.86 Time 0.98 s num residue violations 0 num residue exclusions 0 \n",
            "I0713 13:02:06.819023 132316651489088 parjax_cla_multi_GoogleColab.py:231] Final timings for 7CN6: {'process_features_model_1_pred_0': 2.336611270904541, 'predict_and_compile_model_1_pred_0': 164.40570759773254, 'process_features_model_2_pred_0': 2.2044613361358643, 'predict_and_compile_model_2_pred_0': 162.84891867637634, 'process_features_model_3_pred_0': 1.7607378959655762, 'predict_and_compile_model_3_pred_0': 122.94031739234924, 'process_features_model_4_pred_0': 1.7466051578521729, 'predict_and_compile_model_4_pred_0': 120.37506413459778, 'process_features_model_5_pred_0': 1.7522830963134766, 'predict_and_compile_model_5_pred_0': 121.23364090919495, 'relax_model_4_pred_0': 5.568734169006348}\n",
            "I0713 13:02:06.819744 132316651489088 parjax_cla_multi_GoogleColab.py:308] 7CN6 AlphaFold structure prediction COMPLETE\n"
          ]
        }
      ],
      "source": [
        "%%bash\n",
        "source activate parafold\n",
        "\n",
        "python parjax_cla_multi_GoogleColab.py \\\n",
        "  --fasta_paths=/content/jaxalpha/multi/6ZYC/6ZYC.fasta,/content/jaxalpha/multi/6Y4F/6Y4F.fasta,/content/jaxalpha/multi/7CWP/7CWP.fasta,/content/jaxalpha/multi/7JTL/7JTL.fasta,/content/jaxalpha/multi/7CN6/7CN6.fasta  \\\n",
        "  --output_dir=/content/jaxalpha/multi/out_multi_A_Z/6_10 \\\n",
        "  --parameter_path=/content/ParallelFold/params \\\n",
        "  --feature_files=/content/jaxalpha/multi/6ZYC/feature.pkl,/content/jaxalpha/multi/6Y4F/feature.pkl,/content/jaxalpha/multi/7CWP/feature.pkl,/content/jaxalpha/multi/7JTL/feature.pkl,/content/jaxalpha/multi/7CN6/feature.pkl \\\n",
        "  --use_gpu_relax=true\n",
        "\n"
      ]
    },
    {
      "cell_type": "code",
      "source": [
        "#log_execution_time(start_time, cell_title)"
      ],
      "metadata": {
        "id": "VHsqPxzNHonp"
      },
      "execution_count": 37,
      "outputs": []
    },
    {
      "cell_type": "code",
      "execution_count": 38,
      "metadata": {
        "id": "W-_pdPajkI_n"
      },
      "outputs": [],
      "source": [
        "#@title zip_output\n",
        "%%capture\n",
        "cell_title = \"zip_output\"\n",
        "start_time = time.time()\n",
        "\n",
        "import zipfile\n",
        "import os\n",
        "from google.colab import drive\n",
        "\n",
        "# Mount Google Drive\n",
        "drive.mount('/content/drive')\n",
        "\n",
        "# Define the folder to zip\n",
        "folder_to_zip = '/content/jaxalpha/multi/out_multi_A_Z/6_10'\n",
        "\n",
        "# Define the output zip file name and path (in Google Drive)\n",
        "output_filename = '/content/drive/My Drive/parjax_cla_multi_6_10_A_Z_A100.zip'\n",
        "\n",
        "# Create the zip file\n",
        "with zipfile.ZipFile(output_filename, 'w', zipfile.ZIP_DEFLATED) as zipf:\n",
        "    for root, dirs, files in os.walk(folder_to_zip):\n",
        "        for file in files:\n",
        "            zipf.write(os.path.join(root, file),\n",
        "                       os.path.relpath(os.path.join(root, file),\n",
        "                                       os.path.join(folder_to_zip, '..')))\n",
        "\n",
        "log_execution_time(start_time, cell_title)"
      ]
    },
    {
      "cell_type": "code",
      "source": [
        "#log_execution_time(code_start_time, from_beginning_to_end)"
      ],
      "metadata": {
        "id": "b-pu4avGY3cU"
      },
      "execution_count": 39,
      "outputs": []
    }
  ],
  "metadata": {
    "colab": {
      "provenance": [],
      "machine_shape": "hm",
      "gpuType": "A100",
      "include_colab_link": true
    },
    "kernelspec": {
      "display_name": "Python 3",
      "name": "python3"
    },
    "language_info": {
      "name": "python"
    },
    "accelerator": "GPU"
  },
  "nbformat": 4,
  "nbformat_minor": 0
}