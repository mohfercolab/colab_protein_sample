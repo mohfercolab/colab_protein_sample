{
  "cells": [
    {
      "cell_type": "markdown",
      "metadata": {
        "id": "view-in-github",
        "colab_type": "text"
      },
      "source": [
        "<a href=\"https://colab.research.google.com/github/mohfercolab/colab_protein_sample/blob/main/batch_6_10_ascend_T4.ipynb\" target=\"_parent\"><img src=\"https://colab.research.google.com/assets/colab-badge.svg\" alt=\"Open In Colab\"/></a>"
      ]
    },
    {
      "cell_type": "code",
      "source": [
        "#@title Initialize_time\n",
        "import time\n",
        "\n",
        "# Initialize an empty file\n",
        "with open('/content/time_cell_batch.txt', 'w') as file:\n",
        "    file.write('')\n",
        "\n",
        "\n",
        "def log_execution_time(start_time, cell_title):\n",
        "    end_time = time.time()\n",
        "    execution_time = end_time - start_time\n",
        "\n",
        "    with open('/content/time_cell_batch.txt', 'a') as file:\n",
        "        file.write(f\"execution_time_{cell_title}, {execution_time}\\n\")\n",
        "\n",
        "from_beginning_to_end = \"Start_running_the_code\"\n",
        "code_start_time = time.time()"
      ],
      "metadata": {
        "id": "el4dU4_088Xh",
        "cellView": "form"
      },
      "execution_count": 1,
      "outputs": []
    },
    {
      "cell_type": "code",
      "execution_count": 2,
      "metadata": {
        "id": "Iu_wXmRquKlk",
        "cellView": "form"
      },
      "outputs": [],
      "source": [
        "#@title clone\n",
        "%%capture\n",
        "cell_title = \"clone\"\n",
        "start_time = time.time()\n",
        "\n",
        "!git clone https://github.com/Zuricho/ParallelFold.git\n",
        "!git clone https://github.com/fereidoon27/jaxalpha.git\n",
        "\n",
        "log_execution_time(start_time, cell_title)"
      ]
    },
    {
      "cell_type": "code",
      "execution_count": 3,
      "metadata": {
        "collapsed": true,
        "id": "71M2Wr3NuZfM",
        "cellView": "form"
      },
      "outputs": [],
      "source": [
        "#@title Miniconda\n",
        "%%capture\n",
        "cell_title = \"Miniconda\"\n",
        "start_time = time.time()\n",
        "\n",
        "# Install Miniconda\n",
        "!wget https://repo.anaconda.com/miniconda/Miniconda3-latest-Linux-x86_64.sh\n",
        "!chmod +x Miniconda3-latest-Linux-x86_64.sh\n",
        "!bash ./Miniconda3-latest-Linux-x86_64.sh -b -f -p /usr/local\n",
        "\n",
        "# Initialize Conda\n",
        "import sys\n",
        "sys.path.append('/usr/local/lib/python3.8/site-packages')\n",
        "\n",
        "# Configure conda\n",
        "!conda init bash\n",
        "!source ~/.bashrc\n",
        "\n",
        "# Update conda\n",
        "!conda update conda -y\n",
        "\n",
        "log_execution_time(start_time, cell_title)"
      ]
    },
    {
      "cell_type": "code",
      "execution_count": 4,
      "metadata": {
        "collapsed": true,
        "id": "lr6PZXRiufLc",
        "cellView": "form"
      },
      "outputs": [],
      "source": [
        "#@title parafold_env\n",
        "%%capture\n",
        "cell_title = \"parafold_env\"\n",
        "start_time = time.time()\n",
        "\n",
        "# Recommend you to use python 3.8, version < 3.7 have missing packages, python versions newer than 3.8 were not tested\n",
        "!conda create -n parafold python=3.8 -y\n",
        "\n",
        "log_execution_time(start_time, cell_title)"
      ]
    },
    {
      "cell_type": "code",
      "execution_count": 5,
      "metadata": {
        "id": "ag5mSJ5fvZRA",
        "cellView": "form"
      },
      "outputs": [],
      "source": [
        "#@title testing_activate_parafold\n",
        "%%capture\n",
        "cell_title = \"testing_activate_parafold\"\n",
        "start_time = time.time()\n",
        "\n",
        "!source activate parafold && { \\\n",
        "    echo \"Setting up the parafold environment\"; \\\n",
        "    echo \"Current Python version:\"; \\\n",
        "    python --version; \\\n",
        "    }\n",
        "\n",
        "log_execution_time(start_time, cell_title)"
      ]
    },
    {
      "cell_type": "code",
      "execution_count": 6,
      "metadata": {
        "id": "qw3B2zQgxgw1",
        "cellView": "form"
      },
      "outputs": [],
      "source": [
        "#@title install_py3dmol\n",
        "%%capture\n",
        "cell_title = \"install_py3dmol\"\n",
        "start_time = time.time()\n",
        "\n",
        "#install py3dmol\n",
        "!source activate parafold && pip install py3dmol\n",
        "\n",
        "log_execution_time(start_time, cell_title)"
      ]
    },
    {
      "cell_type": "code",
      "execution_count": 7,
      "metadata": {
        "collapsed": true,
        "id": "nhH-cpF51ao4",
        "cellView": "form"
      },
      "outputs": [],
      "source": [
        "#@title install_openmm\n",
        "%%capture\n",
        "cell_title = \"install_openmm\"\n",
        "start_time = time.time()\n",
        "\n",
        "# openmm 7.7 is recommended (original alphafold using 7.5.1, but it is not supported now)\n",
        "!source activate parafold && conda install -c conda-forge openmm=7.7 pdbfixer -y\n",
        "\n",
        "log_execution_time(start_time, cell_title)"
      ]
    },
    {
      "cell_type": "code",
      "execution_count": 8,
      "metadata": {
        "collapsed": true,
        "id": "uW7VE2hi1jwl",
        "cellView": "form"
      },
      "outputs": [],
      "source": [
        "#@title install_requirements\n",
        "%%capture\n",
        "cell_title = \"install_requirements\"\n",
        "start_time = time.time()\n",
        "\n",
        "%cd ParallelFold\n",
        "#install requirements\n",
        "!source activate parafold && pip3 install -r requirements.txt\n",
        "\n",
        "log_execution_time(start_time, cell_title)"
      ]
    },
    {
      "cell_type": "code",
      "execution_count": 9,
      "metadata": {
        "collapsed": true,
        "id": "1P1qlWikHrT4",
        "cellView": "form"
      },
      "outputs": [],
      "source": [
        "#@title install_cuda_and_cudnn\n",
        "%%capture\n",
        "cell_title = \"install_cuda_and_cudnn\"\n",
        "start_time = time.time()\n",
        "\n",
        "# cudatoolkit 11.3.1 matches cudnn 8.2.1\n",
        "!source activate parafold && echo 'y' | conda install cudatoolkit=11.3 cudnn -y\n",
        "\n",
        "log_execution_time(start_time, cell_title)"
      ]
    },
    {
      "cell_type": "code",
      "execution_count": 10,
      "metadata": {
        "collapsed": true,
        "id": "BdbRAX2JI44X",
        "cellView": "form"
      },
      "outputs": [],
      "source": [
        "#@title downgrade_jaxlib\n",
        "%%capture\n",
        "cell_title = \"downgrade_jaxlib\"\n",
        "start_time = time.time()\n",
        "\n",
        "# downgrade jaxlib to the correct version, matches with cuda and cudnn version\n",
        "!source activate parafold && pip3 install --upgrade --no-cache-dir jax==0.3.25 jaxlib==0.3.25+cuda11.cudnn82 -f https://storage.googleapis.com/jax-releases/jax_cuda_releases.html\n",
        "\n",
        "log_execution_time(start_time, cell_title)"
      ]
    },
    {
      "cell_type": "code",
      "execution_count": 11,
      "metadata": {
        "collapsed": true,
        "id": "-O_Df8cdJAKj",
        "cellView": "form"
      },
      "outputs": [],
      "source": [
        "#@title packages_for_MSA\n",
        "%%capture\n",
        "cell_title = \"packages_for_MSA\"\n",
        "start_time = time.time()\n",
        "\n",
        "# install packages for multiple sequence alignment\n",
        "!source activate parafold && conda install -c bioconda hmmer=3.3.2 hhsuite=3.3.0 kalign2=2.04 -y\n",
        "\n",
        "log_execution_time(start_time, cell_title)"
      ]
    },
    {
      "cell_type": "code",
      "execution_count": 12,
      "metadata": {
        "collapsed": true,
        "id": "zmue22y1c7LC",
        "cellView": "form"
      },
      "outputs": [],
      "source": [
        "#@title aria2\n",
        "%%capture\n",
        "cell_title = \"aria2\"\n",
        "start_time = time.time()\n",
        "\n",
        "!source activate parafold && conda install aria2 -y\n",
        "\n",
        "log_execution_time(start_time, cell_title)"
      ]
    },
    {
      "cell_type": "code",
      "source": [
        "#@title alphafold_params\n",
        "%%capture\n",
        "cell_title = \"alphafold_params\"\n",
        "start_time = time.time()\n",
        "\n",
        "!source activate parafold && bash /content/ParallelFold/scripts/download_alphafold_params.sh /content/ParallelFold\n",
        "\n",
        "log_execution_time(start_time, cell_title)"
      ],
      "metadata": {
        "id": "iglOn5cGF7gC",
        "cellView": "form"
      },
      "execution_count": 13,
      "outputs": []
    },
    {
      "cell_type": "code",
      "execution_count": 14,
      "metadata": {
        "collapsed": true,
        "id": "IOE5ESGGOaT5",
        "colab": {
          "base_uri": "https://localhost:8080/"
        },
        "outputId": "9ceabdd5-65c2-4cc7-d5e3-84124f2aa6ba"
      },
      "outputs": [
        {
          "output_type": "stream",
          "name": "stdout",
          "text": [
            "/content/ParallelFold\n"
          ]
        }
      ],
      "source": [
        "#@title directory\n",
        "!mv /content/jaxalpha/parjax_cla_multi_GoogleColab.py /content/ParallelFold\n",
        "%cd /content/ParallelFold/\n",
        "#!chmod +x parjax_cla_multi_GoogleColab.sh"
      ]
    },
    {
      "cell_type": "code",
      "source": [
        "cell_title = \"batch_6_10_ascend_T4\"\n",
        "start_time = time.time()"
      ],
      "metadata": {
        "id": "QzSv4dVwHnr1"
      },
      "execution_count": 15,
      "outputs": []
    },
    {
      "cell_type": "code",
      "execution_count": 16,
      "metadata": {
        "collapsed": true,
        "id": "HiqjNrx6jnLE",
        "colab": {
          "base_uri": "https://localhost:8080/"
        },
        "outputId": "89669046-e769-42ad-b5b3-6f5eb890a2ee"
      },
      "outputs": [
        {
          "output_type": "stream",
          "name": "stderr",
          "text": [
            "I0715 09:22:39.559705 136188801627968 xla_bridge.py:353] Unable to initialize backend 'tpu_driver': NOT_FOUND: Unable to find driver in registry given worker: \n",
            "I0715 09:22:39.780695 136188801627968 xla_bridge.py:353] Unable to initialize backend 'rocm': NOT_FOUND: Could not find registered platform with name: \"rocm\". Available platform names are: CUDA Interpreter Host\n",
            "I0715 09:22:39.781089 136188801627968 xla_bridge.py:353] Unable to initialize backend 'tpu': module 'jaxlib.xla_extension' has no attribute 'get_tpu_client'\n",
            "I0715 09:22:39.781188 136188801627968 xla_bridge.py:353] Unable to initialize backend 'plugin': xla_extension has no attributes named get_plugin_device_client. Compile TensorFlow with //tensorflow/compiler/xla/python:enable_plugin_device set to true (defaults to false) to enable this.\n",
            "I0715 09:22:43.495449 136188801627968 parjax_cla_multi_GoogleColab.py:279] Have 5 models: ['model_1_pred_0', 'model_2_pred_0', 'model_3_pred_0', 'model_4_pred_0', 'model_5_pred_0']\n",
            "I0715 09:22:43.495625 136188801627968 parjax_cla_multi_GoogleColab.py:293] Using random seed 888615080790952362 for the data pipeline\n",
            "I0715 09:22:43.495847 136188801627968 parjax_cla_multi_GoogleColab.py:107] Predicting 7CN6\n",
            "I0715 09:22:43.496515 136188801627968 parjax_cla_multi_GoogleColab.py:132] Running model model_1_pred_0 on 7CN6\n",
            "W0715 09:22:44.190514 136188801627968 deprecation.py:350] From /usr/local/envs/parafold/lib/python3.8/site-packages/tensorflow/python/autograph/pyct/static_analysis/liveness.py:83: Analyzer.lamba_check (from tensorflow.python.autograph.pyct.static_analysis.liveness) is deprecated and will be removed after 2023-09-23.\n",
            "Instructions for updating:\n",
            "Lambda fuctions will be no more assumed to be used in the statement where they are used, or at least in the same block. https://github.com/tensorflow/tensorflow/issues/56089\n",
            "I0715 09:22:46.536688 136188801627968 model.py:165] Running predict with shape(feat) = {'aatype': (4, 75), 'residue_index': (4, 75), 'seq_length': (4,), 'template_aatype': (4, 4, 75), 'template_all_atom_masks': (4, 4, 75, 37), 'template_all_atom_positions': (4, 4, 75, 37, 3), 'template_sum_probs': (4, 4, 1), 'is_distillation': (4,), 'seq_mask': (4, 75), 'msa_mask': (4, 508, 75), 'msa_row_mask': (4, 508), 'random_crop_to_size_seed': (4, 2), 'template_mask': (4, 4), 'template_pseudo_beta': (4, 4, 75, 3), 'template_pseudo_beta_mask': (4, 4, 75), 'atom14_atom_exists': (4, 75, 14), 'residx_atom14_to_atom37': (4, 75, 14), 'residx_atom37_to_atom14': (4, 75, 37), 'atom37_atom_exists': (4, 75, 37), 'extra_msa': (4, 5120, 75), 'extra_msa_mask': (4, 5120, 75), 'extra_msa_row_mask': (4, 5120), 'bert_mask': (4, 508, 75), 'true_msa': (4, 508, 75), 'extra_has_deletion': (4, 5120, 75), 'extra_deletion_value': (4, 5120, 75), 'msa_feat': (4, 508, 75, 49), 'target_feat': (4, 75, 22)}\n",
            "I0715 09:25:18.989045 136188801627968 model.py:175] Output shape was {'distogram': {'bin_edges': (63,), 'logits': (75, 75, 64)}, 'experimentally_resolved': {'logits': (75, 37)}, 'masked_msa': {'logits': (508, 75, 23)}, 'predicted_lddt': {'logits': (75, 50)}, 'structure_module': {'final_atom_mask': (75, 37), 'final_atom_positions': (75, 37, 3)}, 'plddt': (75,), 'ranking_confidence': ()}\n",
            "I0715 09:25:18.989254 136188801627968 parjax_cla_multi_GoogleColab.py:144] Total JAX model model_1_pred_0 on 7CN6 predict time (includes compilation time, see --benchmark): 152.5s\n",
            "I0715 09:25:19.005113 136188801627968 parjax_cla_multi_GoogleColab.py:132] Running model model_2_pred_0 on 7CN6\n",
            "I0715 09:25:20.783314 136188801627968 model.py:165] Running predict with shape(feat) = {'aatype': (4, 75), 'residue_index': (4, 75), 'seq_length': (4,), 'template_aatype': (4, 4, 75), 'template_all_atom_masks': (4, 4, 75, 37), 'template_all_atom_positions': (4, 4, 75, 37, 3), 'template_sum_probs': (4, 4, 1), 'is_distillation': (4,), 'seq_mask': (4, 75), 'msa_mask': (4, 508, 75), 'msa_row_mask': (4, 508), 'random_crop_to_size_seed': (4, 2), 'template_mask': (4, 4), 'template_pseudo_beta': (4, 4, 75, 3), 'template_pseudo_beta_mask': (4, 4, 75), 'atom14_atom_exists': (4, 75, 14), 'residx_atom14_to_atom37': (4, 75, 14), 'residx_atom37_to_atom14': (4, 75, 37), 'atom37_atom_exists': (4, 75, 37), 'extra_msa': (4, 1024, 75), 'extra_msa_mask': (4, 1024, 75), 'extra_msa_row_mask': (4, 1024), 'bert_mask': (4, 508, 75), 'true_msa': (4, 508, 75), 'extra_has_deletion': (4, 1024, 75), 'extra_deletion_value': (4, 1024, 75), 'msa_feat': (4, 508, 75, 49), 'target_feat': (4, 75, 22)}\n",
            "I0715 09:27:51.903721 136188801627968 model.py:175] Output shape was {'distogram': {'bin_edges': (63,), 'logits': (75, 75, 64)}, 'experimentally_resolved': {'logits': (75, 37)}, 'masked_msa': {'logits': (508, 75, 23)}, 'predicted_lddt': {'logits': (75, 50)}, 'structure_module': {'final_atom_mask': (75, 37), 'final_atom_positions': (75, 37, 3)}, 'plddt': (75,), 'ranking_confidence': ()}\n",
            "I0715 09:27:51.903920 136188801627968 parjax_cla_multi_GoogleColab.py:144] Total JAX model model_2_pred_0 on 7CN6 predict time (includes compilation time, see --benchmark): 151.1s\n",
            "I0715 09:27:51.919757 136188801627968 parjax_cla_multi_GoogleColab.py:132] Running model model_3_pred_0 on 7CN6\n",
            "I0715 09:27:53.315794 136188801627968 model.py:165] Running predict with shape(feat) = {'aatype': (4, 75), 'residue_index': (4, 75), 'seq_length': (4,), 'is_distillation': (4,), 'seq_mask': (4, 75), 'msa_mask': (4, 512, 75), 'msa_row_mask': (4, 512), 'random_crop_to_size_seed': (4, 2), 'atom14_atom_exists': (4, 75, 14), 'residx_atom14_to_atom37': (4, 75, 14), 'residx_atom37_to_atom14': (4, 75, 37), 'atom37_atom_exists': (4, 75, 37), 'extra_msa': (4, 5120, 75), 'extra_msa_mask': (4, 5120, 75), 'extra_msa_row_mask': (4, 5120), 'bert_mask': (4, 512, 75), 'true_msa': (4, 512, 75), 'extra_has_deletion': (4, 5120, 75), 'extra_deletion_value': (4, 5120, 75), 'msa_feat': (4, 512, 75, 49), 'target_feat': (4, 75, 22)}\n",
            "I0715 09:29:53.875335 136188801627968 model.py:175] Output shape was {'distogram': {'bin_edges': (63,), 'logits': (75, 75, 64)}, 'experimentally_resolved': {'logits': (75, 37)}, 'masked_msa': {'logits': (512, 75, 23)}, 'predicted_lddt': {'logits': (75, 50)}, 'structure_module': {'final_atom_mask': (75, 37), 'final_atom_positions': (75, 37, 3)}, 'plddt': (75,), 'ranking_confidence': ()}\n",
            "I0715 09:29:53.875547 136188801627968 parjax_cla_multi_GoogleColab.py:144] Total JAX model model_3_pred_0 on 7CN6 predict time (includes compilation time, see --benchmark): 120.6s\n",
            "I0715 09:29:53.892230 136188801627968 parjax_cla_multi_GoogleColab.py:132] Running model model_4_pred_0 on 7CN6\n",
            "I0715 09:29:55.310146 136188801627968 model.py:165] Running predict with shape(feat) = {'aatype': (4, 75), 'residue_index': (4, 75), 'seq_length': (4,), 'is_distillation': (4,), 'seq_mask': (4, 75), 'msa_mask': (4, 512, 75), 'msa_row_mask': (4, 512), 'random_crop_to_size_seed': (4, 2), 'atom14_atom_exists': (4, 75, 14), 'residx_atom14_to_atom37': (4, 75, 14), 'residx_atom37_to_atom14': (4, 75, 37), 'atom37_atom_exists': (4, 75, 37), 'extra_msa': (4, 5120, 75), 'extra_msa_mask': (4, 5120, 75), 'extra_msa_row_mask': (4, 5120), 'bert_mask': (4, 512, 75), 'true_msa': (4, 512, 75), 'extra_has_deletion': (4, 5120, 75), 'extra_deletion_value': (4, 5120, 75), 'msa_feat': (4, 512, 75, 49), 'target_feat': (4, 75, 22)}\n",
            "I0715 09:31:54.533642 136188801627968 model.py:175] Output shape was {'distogram': {'bin_edges': (63,), 'logits': (75, 75, 64)}, 'experimentally_resolved': {'logits': (75, 37)}, 'masked_msa': {'logits': (512, 75, 23)}, 'predicted_lddt': {'logits': (75, 50)}, 'structure_module': {'final_atom_mask': (75, 37), 'final_atom_positions': (75, 37, 3)}, 'plddt': (75,), 'ranking_confidence': ()}\n",
            "I0715 09:31:54.533851 136188801627968 parjax_cla_multi_GoogleColab.py:144] Total JAX model model_4_pred_0 on 7CN6 predict time (includes compilation time, see --benchmark): 119.2s\n",
            "I0715 09:31:54.549706 136188801627968 parjax_cla_multi_GoogleColab.py:132] Running model model_5_pred_0 on 7CN6\n",
            "I0715 09:31:56.000362 136188801627968 model.py:165] Running predict with shape(feat) = {'aatype': (4, 75), 'residue_index': (4, 75), 'seq_length': (4,), 'is_distillation': (4,), 'seq_mask': (4, 75), 'msa_mask': (4, 512, 75), 'msa_row_mask': (4, 512), 'random_crop_to_size_seed': (4, 2), 'atom14_atom_exists': (4, 75, 14), 'residx_atom14_to_atom37': (4, 75, 14), 'residx_atom37_to_atom14': (4, 75, 37), 'atom37_atom_exists': (4, 75, 37), 'extra_msa': (4, 1024, 75), 'extra_msa_mask': (4, 1024, 75), 'extra_msa_row_mask': (4, 1024), 'bert_mask': (4, 512, 75), 'true_msa': (4, 512, 75), 'extra_has_deletion': (4, 1024, 75), 'extra_deletion_value': (4, 1024, 75), 'msa_feat': (4, 512, 75, 49), 'target_feat': (4, 75, 22)}\n",
            "I0715 09:33:55.535089 136188801627968 model.py:175] Output shape was {'distogram': {'bin_edges': (63,), 'logits': (75, 75, 64)}, 'experimentally_resolved': {'logits': (75, 37)}, 'masked_msa': {'logits': (512, 75, 23)}, 'predicted_lddt': {'logits': (75, 50)}, 'structure_module': {'final_atom_mask': (75, 37), 'final_atom_positions': (75, 37, 3)}, 'plddt': (75,), 'ranking_confidence': ()}\n",
            "I0715 09:33:55.535285 136188801627968 parjax_cla_multi_GoogleColab.py:144] Total JAX model model_5_pred_0 on 7CN6 predict time (includes compilation time, see --benchmark): 119.5s\n",
            "W0715 09:33:55.665248 136188801627968 __init__.py:5] Warning: importing 'simtk.openmm' is deprecated.  Import 'openmm' instead.\n",
            "I0715 09:34:00.463689 136188801627968 amber_minimize.py:178] alterations info: {'nonstandard_residues': [], 'removed_heterogens': set(), 'missing_residues': {}, 'missing_heavy_atoms': {}, 'missing_terminals': {<Residue 74 (GLU) of chain 0>: ['OXT']}, 'Se_in_MET': [], 'removed_chains': {0: []}}\n",
            "I0715 09:34:00.545033 136188801627968 amber_minimize.py:408] Minimizing protein, attempt 1 of 100.\n",
            "I0715 09:34:00.819730 136188801627968 amber_minimize.py:69] Restraining 605 / 1192 particles.\n",
            "I0715 09:34:02.575244 136188801627968 amber_minimize.py:178] alterations info: {'nonstandard_residues': [], 'removed_heterogens': set(), 'missing_residues': {}, 'missing_heavy_atoms': {}, 'missing_terminals': {}, 'Se_in_MET': [], 'removed_chains': {0: []}}\n",
            "I0715 09:34:04.454415 136188801627968 amber_minimize.py:500] Iteration completed: Einit 1803.90 Efinal -1437.36 Time 1.57 s num residue violations 0 num residue exclusions 0 \n",
            "I0715 09:34:04.504128 136188801627968 parjax_cla_multi_GoogleColab.py:231] Final timings for 7CN6: {'process_features_model_1_pred_0': 3.03964900970459, 'predict_and_compile_model_1_pred_0': 152.45295071601868, 'process_features_model_2_pred_0': 1.7778677940368652, 'predict_and_compile_model_2_pred_0': 151.1208074092865, 'process_features_model_3_pred_0': 1.3957622051239014, 'predict_and_compile_model_3_pred_0': 120.55987572669983, 'process_features_model_4_pred_0': 1.4176506996154785, 'predict_and_compile_model_4_pred_0': 119.2238416671753, 'process_features_model_5_pred_0': 1.4503867626190186, 'predict_and_compile_model_5_pred_0': 119.5350694656372, 'relax_model_1_pred_0': 8.951653242111206}\n",
            "I0715 09:34:04.504711 136188801627968 parjax_cla_multi_GoogleColab.py:308] 7CN6 AlphaFold structure prediction COMPLETE\n",
            "I0715 09:34:04.504820 136188801627968 parjax_cla_multi_GoogleColab.py:107] Predicting 7JTL\n",
            "I0715 09:34:04.505426 136188801627968 parjax_cla_multi_GoogleColab.py:132] Running model model_1_pred_0 on 7JTL\n",
            "I0715 09:34:06.313877 136188801627968 model.py:165] Running predict with shape(feat) = {'aatype': (4, 107), 'residue_index': (4, 107), 'seq_length': (4,), 'template_aatype': (4, 4, 107), 'template_all_atom_masks': (4, 4, 107, 37), 'template_all_atom_positions': (4, 4, 107, 37, 3), 'template_sum_probs': (4, 4, 1), 'is_distillation': (4,), 'seq_mask': (4, 107), 'msa_mask': (4, 508, 107), 'msa_row_mask': (4, 508), 'random_crop_to_size_seed': (4, 2), 'template_mask': (4, 4), 'template_pseudo_beta': (4, 4, 107, 3), 'template_pseudo_beta_mask': (4, 4, 107), 'atom14_atom_exists': (4, 107, 14), 'residx_atom14_to_atom37': (4, 107, 14), 'residx_atom37_to_atom14': (4, 107, 37), 'atom37_atom_exists': (4, 107, 37), 'extra_msa': (4, 5120, 107), 'extra_msa_mask': (4, 5120, 107), 'extra_msa_row_mask': (4, 5120), 'bert_mask': (4, 508, 107), 'true_msa': (4, 508, 107), 'extra_has_deletion': (4, 5120, 107), 'extra_deletion_value': (4, 5120, 107), 'msa_feat': (4, 508, 107, 49), 'target_feat': (4, 107, 22)}\n",
            "I0715 09:37:00.180831 136188801627968 model.py:175] Output shape was {'distogram': {'bin_edges': (63,), 'logits': (107, 107, 64)}, 'experimentally_resolved': {'logits': (107, 37)}, 'masked_msa': {'logits': (508, 107, 23)}, 'predicted_lddt': {'logits': (107, 50)}, 'structure_module': {'final_atom_mask': (107, 37), 'final_atom_positions': (107, 37, 3)}, 'plddt': (107,), 'ranking_confidence': ()}\n",
            "I0715 09:37:00.181039 136188801627968 parjax_cla_multi_GoogleColab.py:144] Total JAX model model_1_pred_0 on 7JTL predict time (includes compilation time, see --benchmark): 173.9s\n",
            "I0715 09:37:00.204113 136188801627968 parjax_cla_multi_GoogleColab.py:132] Running model model_2_pred_0 on 7JTL\n",
            "I0715 09:37:02.074737 136188801627968 model.py:165] Running predict with shape(feat) = {'aatype': (4, 107), 'residue_index': (4, 107), 'seq_length': (4,), 'template_aatype': (4, 4, 107), 'template_all_atom_masks': (4, 4, 107, 37), 'template_all_atom_positions': (4, 4, 107, 37, 3), 'template_sum_probs': (4, 4, 1), 'is_distillation': (4,), 'seq_mask': (4, 107), 'msa_mask': (4, 508, 107), 'msa_row_mask': (4, 508), 'random_crop_to_size_seed': (4, 2), 'template_mask': (4, 4), 'template_pseudo_beta': (4, 4, 107, 3), 'template_pseudo_beta_mask': (4, 4, 107), 'atom14_atom_exists': (4, 107, 14), 'residx_atom14_to_atom37': (4, 107, 14), 'residx_atom37_to_atom14': (4, 107, 37), 'atom37_atom_exists': (4, 107, 37), 'extra_msa': (4, 1024, 107), 'extra_msa_mask': (4, 1024, 107), 'extra_msa_row_mask': (4, 1024), 'bert_mask': (4, 508, 107), 'true_msa': (4, 508, 107), 'extra_has_deletion': (4, 1024, 107), 'extra_deletion_value': (4, 1024, 107), 'msa_feat': (4, 508, 107, 49), 'target_feat': (4, 107, 22)}\n",
            "I0715 09:39:48.640056 136188801627968 model.py:175] Output shape was {'distogram': {'bin_edges': (63,), 'logits': (107, 107, 64)}, 'experimentally_resolved': {'logits': (107, 37)}, 'masked_msa': {'logits': (508, 107, 23)}, 'predicted_lddt': {'logits': (107, 50)}, 'structure_module': {'final_atom_mask': (107, 37), 'final_atom_positions': (107, 37, 3)}, 'plddt': (107,), 'ranking_confidence': ()}\n",
            "I0715 09:39:48.640303 136188801627968 parjax_cla_multi_GoogleColab.py:144] Total JAX model model_2_pred_0 on 7JTL predict time (includes compilation time, see --benchmark): 166.6s\n",
            "I0715 09:39:48.663494 136188801627968 parjax_cla_multi_GoogleColab.py:132] Running model model_3_pred_0 on 7JTL\n",
            "I0715 09:39:50.176785 136188801627968 model.py:165] Running predict with shape(feat) = {'aatype': (4, 107), 'residue_index': (4, 107), 'seq_length': (4,), 'is_distillation': (4,), 'seq_mask': (4, 107), 'msa_mask': (4, 512, 107), 'msa_row_mask': (4, 512), 'random_crop_to_size_seed': (4, 2), 'atom14_atom_exists': (4, 107, 14), 'residx_atom14_to_atom37': (4, 107, 14), 'residx_atom37_to_atom14': (4, 107, 37), 'atom37_atom_exists': (4, 107, 37), 'extra_msa': (4, 5120, 107), 'extra_msa_mask': (4, 5120, 107), 'extra_msa_row_mask': (4, 5120), 'bert_mask': (4, 512, 107), 'true_msa': (4, 512, 107), 'extra_has_deletion': (4, 5120, 107), 'extra_deletion_value': (4, 5120, 107), 'msa_feat': (4, 512, 107, 49), 'target_feat': (4, 107, 22)}\n",
            "I0715 09:42:03.877716 136188801627968 model.py:175] Output shape was {'distogram': {'bin_edges': (63,), 'logits': (107, 107, 64)}, 'experimentally_resolved': {'logits': (107, 37)}, 'masked_msa': {'logits': (512, 107, 23)}, 'predicted_lddt': {'logits': (107, 50)}, 'structure_module': {'final_atom_mask': (107, 37), 'final_atom_positions': (107, 37, 3)}, 'plddt': (107,), 'ranking_confidence': ()}\n",
            "I0715 09:42:03.877917 136188801627968 parjax_cla_multi_GoogleColab.py:144] Total JAX model model_3_pred_0 on 7JTL predict time (includes compilation time, see --benchmark): 133.7s\n",
            "I0715 09:42:03.901732 136188801627968 parjax_cla_multi_GoogleColab.py:132] Running model model_4_pred_0 on 7JTL\n",
            "I0715 09:42:05.404802 136188801627968 model.py:165] Running predict with shape(feat) = {'aatype': (4, 107), 'residue_index': (4, 107), 'seq_length': (4,), 'is_distillation': (4,), 'seq_mask': (4, 107), 'msa_mask': (4, 512, 107), 'msa_row_mask': (4, 512), 'random_crop_to_size_seed': (4, 2), 'atom14_atom_exists': (4, 107, 14), 'residx_atom14_to_atom37': (4, 107, 14), 'residx_atom37_to_atom14': (4, 107, 37), 'atom37_atom_exists': (4, 107, 37), 'extra_msa': (4, 5120, 107), 'extra_msa_mask': (4, 5120, 107), 'extra_msa_row_mask': (4, 5120), 'bert_mask': (4, 512, 107), 'true_msa': (4, 512, 107), 'extra_has_deletion': (4, 5120, 107), 'extra_deletion_value': (4, 5120, 107), 'msa_feat': (4, 512, 107, 49), 'target_feat': (4, 107, 22)}\n",
            "I0715 09:44:16.202778 136188801627968 model.py:175] Output shape was {'distogram': {'bin_edges': (63,), 'logits': (107, 107, 64)}, 'experimentally_resolved': {'logits': (107, 37)}, 'masked_msa': {'logits': (512, 107, 23)}, 'predicted_lddt': {'logits': (107, 50)}, 'structure_module': {'final_atom_mask': (107, 37), 'final_atom_positions': (107, 37, 3)}, 'plddt': (107,), 'ranking_confidence': ()}\n",
            "I0715 09:44:16.202985 136188801627968 parjax_cla_multi_GoogleColab.py:144] Total JAX model model_4_pred_0 on 7JTL predict time (includes compilation time, see --benchmark): 130.8s\n",
            "I0715 09:44:16.226645 136188801627968 parjax_cla_multi_GoogleColab.py:132] Running model model_5_pred_0 on 7JTL\n",
            "I0715 09:44:17.787188 136188801627968 model.py:165] Running predict with shape(feat) = {'aatype': (4, 107), 'residue_index': (4, 107), 'seq_length': (4,), 'is_distillation': (4,), 'seq_mask': (4, 107), 'msa_mask': (4, 512, 107), 'msa_row_mask': (4, 512), 'random_crop_to_size_seed': (4, 2), 'atom14_atom_exists': (4, 107, 14), 'residx_atom14_to_atom37': (4, 107, 14), 'residx_atom37_to_atom14': (4, 107, 37), 'atom37_atom_exists': (4, 107, 37), 'extra_msa': (4, 1024, 107), 'extra_msa_mask': (4, 1024, 107), 'extra_msa_row_mask': (4, 1024), 'bert_mask': (4, 512, 107), 'true_msa': (4, 512, 107), 'extra_has_deletion': (4, 1024, 107), 'extra_deletion_value': (4, 1024, 107), 'msa_feat': (4, 512, 107, 49), 'target_feat': (4, 107, 22)}\n",
            "I0715 09:46:28.666258 136188801627968 model.py:175] Output shape was {'distogram': {'bin_edges': (63,), 'logits': (107, 107, 64)}, 'experimentally_resolved': {'logits': (107, 37)}, 'masked_msa': {'logits': (512, 107, 23)}, 'predicted_lddt': {'logits': (107, 50)}, 'structure_module': {'final_atom_mask': (107, 37), 'final_atom_positions': (107, 37, 3)}, 'plddt': (107,), 'ranking_confidence': ()}\n",
            "I0715 09:46:28.666459 136188801627968 parjax_cla_multi_GoogleColab.py:144] Total JAX model model_5_pred_0 on 7JTL predict time (includes compilation time, see --benchmark): 130.9s\n",
            "I0715 09:46:32.550630 136188801627968 amber_minimize.py:178] alterations info: {'nonstandard_residues': [], 'removed_heterogens': set(), 'missing_residues': {}, 'missing_heavy_atoms': {}, 'missing_terminals': {<Residue 106 (ILE) of chain 0>: ['OXT']}, 'Se_in_MET': [], 'removed_chains': {0: []}}\n",
            "I0715 09:46:32.786431 136188801627968 amber_minimize.py:408] Minimizing protein, attempt 1 of 100.\n",
            "I0715 09:46:32.993321 136188801627968 amber_minimize.py:69] Restraining 858 / 1680 particles.\n",
            "I0715 09:46:35.213370 136188801627968 amber_minimize.py:178] alterations info: {'nonstandard_residues': [], 'removed_heterogens': set(), 'missing_residues': {}, 'missing_heavy_atoms': {}, 'missing_terminals': {}, 'Se_in_MET': [], 'removed_chains': {0: []}}\n",
            "I0715 09:46:37.034563 136188801627968 amber_minimize.py:500] Iteration completed: Einit 16263571.70 Efinal -1078.01 Time 1.64 s num residue violations 0 num residue exclusions 0 \n",
            "I0715 09:46:37.085139 136188801627968 parjax_cla_multi_GoogleColab.py:231] Final timings for 7JTL: {'process_features_model_1_pred_0': 1.8073711395263672, 'predict_and_compile_model_1_pred_0': 173.8681559562683, 'process_features_model_2_pred_0': 1.8688123226165771, 'predict_and_compile_model_2_pred_0': 166.56723880767822, 'process_features_model_3_pred_0': 1.5129995346069336, 'predict_and_compile_model_3_pred_0': 133.7012722492218, 'process_features_model_4_pred_0': 1.5027964115142822, 'predict_and_compile_model_4_pred_0': 130.79831910133362, 'process_features_model_5_pred_0': 1.5602622032165527, 'predict_and_compile_model_5_pred_0': 130.87941312789917, 'relax_model_1_pred_0': 8.393954515457153}\n",
            "I0715 09:46:37.088862 136188801627968 parjax_cla_multi_GoogleColab.py:308] 7JTL AlphaFold structure prediction COMPLETE\n",
            "I0715 09:46:37.088976 136188801627968 parjax_cla_multi_GoogleColab.py:107] Predicting 7CWP\n",
            "I0715 09:46:37.089931 136188801627968 parjax_cla_multi_GoogleColab.py:132] Running model model_1_pred_0 on 7CWP\n",
            "I0715 09:46:39.068793 136188801627968 model.py:165] Running predict with shape(feat) = {'aatype': (4, 138), 'residue_index': (4, 138), 'seq_length': (4,), 'template_aatype': (4, 4, 138), 'template_all_atom_masks': (4, 4, 138, 37), 'template_all_atom_positions': (4, 4, 138, 37, 3), 'template_sum_probs': (4, 4, 1), 'is_distillation': (4,), 'seq_mask': (4, 138), 'msa_mask': (4, 508, 138), 'msa_row_mask': (4, 508), 'random_crop_to_size_seed': (4, 2), 'template_mask': (4, 4), 'template_pseudo_beta': (4, 4, 138, 3), 'template_pseudo_beta_mask': (4, 4, 138), 'atom14_atom_exists': (4, 138, 14), 'residx_atom14_to_atom37': (4, 138, 14), 'residx_atom37_to_atom14': (4, 138, 37), 'atom37_atom_exists': (4, 138, 37), 'extra_msa': (4, 5120, 138), 'extra_msa_mask': (4, 5120, 138), 'extra_msa_row_mask': (4, 5120), 'bert_mask': (4, 508, 138), 'true_msa': (4, 508, 138), 'extra_has_deletion': (4, 5120, 138), 'extra_deletion_value': (4, 5120, 138), 'msa_feat': (4, 508, 138, 49), 'target_feat': (4, 138, 22)}\n",
            "I0715 09:49:47.724922 136188801627968 model.py:175] Output shape was {'distogram': {'bin_edges': (63,), 'logits': (138, 138, 64)}, 'experimentally_resolved': {'logits': (138, 37)}, 'masked_msa': {'logits': (508, 138, 23)}, 'predicted_lddt': {'logits': (138, 50)}, 'structure_module': {'final_atom_mask': (138, 37), 'final_atom_positions': (138, 37, 3)}, 'plddt': (138,), 'ranking_confidence': ()}\n",
            "I0715 09:49:47.725117 136188801627968 parjax_cla_multi_GoogleColab.py:144] Total JAX model model_1_pred_0 on 7CWP predict time (includes compilation time, see --benchmark): 188.7s\n",
            "I0715 09:49:47.756008 136188801627968 parjax_cla_multi_GoogleColab.py:132] Running model model_2_pred_0 on 7CWP\n",
            "I0715 09:49:49.691066 136188801627968 model.py:165] Running predict with shape(feat) = {'aatype': (4, 138), 'residue_index': (4, 138), 'seq_length': (4,), 'template_aatype': (4, 4, 138), 'template_all_atom_masks': (4, 4, 138, 37), 'template_all_atom_positions': (4, 4, 138, 37, 3), 'template_sum_probs': (4, 4, 1), 'is_distillation': (4,), 'seq_mask': (4, 138), 'msa_mask': (4, 508, 138), 'msa_row_mask': (4, 508), 'random_crop_to_size_seed': (4, 2), 'template_mask': (4, 4), 'template_pseudo_beta': (4, 4, 138, 3), 'template_pseudo_beta_mask': (4, 4, 138), 'atom14_atom_exists': (4, 138, 14), 'residx_atom14_to_atom37': (4, 138, 14), 'residx_atom37_to_atom14': (4, 138, 37), 'atom37_atom_exists': (4, 138, 37), 'extra_msa': (4, 1024, 138), 'extra_msa_mask': (4, 1024, 138), 'extra_msa_row_mask': (4, 1024), 'bert_mask': (4, 508, 138), 'true_msa': (4, 508, 138), 'extra_has_deletion': (4, 1024, 138), 'extra_deletion_value': (4, 1024, 138), 'msa_feat': (4, 508, 138, 49), 'target_feat': (4, 138, 22)}\n",
            "I0715 09:52:48.049813 136188801627968 model.py:175] Output shape was {'distogram': {'bin_edges': (63,), 'logits': (138, 138, 64)}, 'experimentally_resolved': {'logits': (138, 37)}, 'masked_msa': {'logits': (508, 138, 23)}, 'predicted_lddt': {'logits': (138, 50)}, 'structure_module': {'final_atom_mask': (138, 37), 'final_atom_positions': (138, 37, 3)}, 'plddt': (138,), 'ranking_confidence': ()}\n",
            "I0715 09:52:48.050019 136188801627968 parjax_cla_multi_GoogleColab.py:144] Total JAX model model_2_pred_0 on 7CWP predict time (includes compilation time, see --benchmark): 178.4s\n",
            "I0715 09:52:48.080840 136188801627968 parjax_cla_multi_GoogleColab.py:132] Running model model_3_pred_0 on 7CWP\n",
            "I0715 09:52:49.610792 136188801627968 model.py:165] Running predict with shape(feat) = {'aatype': (4, 138), 'residue_index': (4, 138), 'seq_length': (4,), 'is_distillation': (4,), 'seq_mask': (4, 138), 'msa_mask': (4, 512, 138), 'msa_row_mask': (4, 512), 'random_crop_to_size_seed': (4, 2), 'atom14_atom_exists': (4, 138, 14), 'residx_atom14_to_atom37': (4, 138, 14), 'residx_atom37_to_atom14': (4, 138, 37), 'atom37_atom_exists': (4, 138, 37), 'extra_msa': (4, 5120, 138), 'extra_msa_mask': (4, 5120, 138), 'extra_msa_row_mask': (4, 5120), 'bert_mask': (4, 512, 138), 'true_msa': (4, 512, 138), 'extra_has_deletion': (4, 5120, 138), 'extra_deletion_value': (4, 5120, 138), 'msa_feat': (4, 512, 138, 49), 'target_feat': (4, 138, 22)}\n",
            "I0715 09:55:14.386392 136188801627968 model.py:175] Output shape was {'distogram': {'bin_edges': (63,), 'logits': (138, 138, 64)}, 'experimentally_resolved': {'logits': (138, 37)}, 'masked_msa': {'logits': (512, 138, 23)}, 'predicted_lddt': {'logits': (138, 50)}, 'structure_module': {'final_atom_mask': (138, 37), 'final_atom_positions': (138, 37, 3)}, 'plddt': (138,), 'ranking_confidence': ()}\n",
            "I0715 09:55:14.386631 136188801627968 parjax_cla_multi_GoogleColab.py:144] Total JAX model model_3_pred_0 on 7CWP predict time (includes compilation time, see --benchmark): 144.8s\n",
            "I0715 09:55:14.417653 136188801627968 parjax_cla_multi_GoogleColab.py:132] Running model model_4_pred_0 on 7CWP\n",
            "I0715 09:55:16.083286 136188801627968 model.py:165] Running predict with shape(feat) = {'aatype': (4, 138), 'residue_index': (4, 138), 'seq_length': (4,), 'is_distillation': (4,), 'seq_mask': (4, 138), 'msa_mask': (4, 512, 138), 'msa_row_mask': (4, 512), 'random_crop_to_size_seed': (4, 2), 'atom14_atom_exists': (4, 138, 14), 'residx_atom14_to_atom37': (4, 138, 14), 'residx_atom37_to_atom14': (4, 138, 37), 'atom37_atom_exists': (4, 138, 37), 'extra_msa': (4, 5120, 138), 'extra_msa_mask': (4, 5120, 138), 'extra_msa_row_mask': (4, 5120), 'bert_mask': (4, 512, 138), 'true_msa': (4, 512, 138), 'extra_has_deletion': (4, 5120, 138), 'extra_deletion_value': (4, 5120, 138), 'msa_feat': (4, 512, 138, 49), 'target_feat': (4, 138, 22)}\n",
            "I0715 09:57:37.857331 136188801627968 model.py:175] Output shape was {'distogram': {'bin_edges': (63,), 'logits': (138, 138, 64)}, 'experimentally_resolved': {'logits': (138, 37)}, 'masked_msa': {'logits': (512, 138, 23)}, 'predicted_lddt': {'logits': (138, 50)}, 'structure_module': {'final_atom_mask': (138, 37), 'final_atom_positions': (138, 37, 3)}, 'plddt': (138,), 'ranking_confidence': ()}\n",
            "I0715 09:57:37.857530 136188801627968 parjax_cla_multi_GoogleColab.py:144] Total JAX model model_4_pred_0 on 7CWP predict time (includes compilation time, see --benchmark): 141.8s\n",
            "I0715 09:57:37.888441 136188801627968 parjax_cla_multi_GoogleColab.py:132] Running model model_5_pred_0 on 7CWP\n",
            "I0715 09:57:39.489317 136188801627968 model.py:165] Running predict with shape(feat) = {'aatype': (4, 138), 'residue_index': (4, 138), 'seq_length': (4,), 'is_distillation': (4,), 'seq_mask': (4, 138), 'msa_mask': (4, 512, 138), 'msa_row_mask': (4, 512), 'random_crop_to_size_seed': (4, 2), 'atom14_atom_exists': (4, 138, 14), 'residx_atom14_to_atom37': (4, 138, 14), 'residx_atom37_to_atom14': (4, 138, 37), 'atom37_atom_exists': (4, 138, 37), 'extra_msa': (4, 1024, 138), 'extra_msa_mask': (4, 1024, 138), 'extra_msa_row_mask': (4, 1024), 'bert_mask': (4, 512, 138), 'true_msa': (4, 512, 138), 'extra_has_deletion': (4, 1024, 138), 'extra_deletion_value': (4, 1024, 138), 'msa_feat': (4, 512, 138, 49), 'target_feat': (4, 138, 22)}\n",
            "I0715 09:59:59.477137 136188801627968 model.py:175] Output shape was {'distogram': {'bin_edges': (63,), 'logits': (138, 138, 64)}, 'experimentally_resolved': {'logits': (138, 37)}, 'masked_msa': {'logits': (512, 138, 23)}, 'predicted_lddt': {'logits': (138, 50)}, 'structure_module': {'final_atom_mask': (138, 37), 'final_atom_positions': (138, 37, 3)}, 'plddt': (138,), 'ranking_confidence': ()}\n",
            "I0715 09:59:59.477340 136188801627968 parjax_cla_multi_GoogleColab.py:144] Total JAX model model_5_pred_0 on 7CWP predict time (includes compilation time, see --benchmark): 140.0s\n",
            "I0715 10:00:03.536347 136188801627968 amber_minimize.py:178] alterations info: {'nonstandard_residues': [], 'removed_heterogens': set(), 'missing_residues': {}, 'missing_heavy_atoms': {}, 'missing_terminals': {<Residue 137 (HIS) of chain 0>: ['OXT']}, 'Se_in_MET': [], 'removed_chains': {0: []}}\n",
            "I0715 10:00:03.801630 136188801627968 amber_minimize.py:408] Minimizing protein, attempt 1 of 100.\n",
            "I0715 10:00:04.145952 136188801627968 amber_minimize.py:69] Restraining 1034 / 2014 particles.\n",
            "I0715 10:00:06.436165 136188801627968 amber_minimize.py:178] alterations info: {'nonstandard_residues': [], 'removed_heterogens': set(), 'missing_residues': {}, 'missing_heavy_atoms': {}, 'missing_terminals': {}, 'Se_in_MET': [], 'removed_chains': {0: []}}\n",
            "I0715 10:00:08.447726 136188801627968 amber_minimize.py:500] Iteration completed: Einit 2927.76 Efinal -1825.93 Time 1.64 s num residue violations 0 num residue exclusions 0 \n",
            "I0715 10:00:08.509817 136188801627968 parjax_cla_multi_GoogleColab.py:231] Final timings for 7CWP: {'process_features_model_1_pred_0': 1.9770400524139404, 'predict_and_compile_model_1_pred_0': 188.65804934501648, 'process_features_model_2_pred_0': 1.9331536293029785, 'predict_and_compile_model_2_pred_0': 178.36072301864624, 'process_features_model_3_pred_0': 1.5296714305877686, 'predict_and_compile_model_3_pred_0': 144.77597975730896, 'process_features_model_4_pred_0': 1.6653578281402588, 'predict_and_compile_model_4_pred_0': 141.77437376976013, 'process_features_model_5_pred_0': 1.6005802154541016, 'predict_and_compile_model_5_pred_0': 139.98816633224487, 'relax_model_3_pred_0': 9.000847339630127}\n",
            "I0715 10:00:08.515650 136188801627968 parjax_cla_multi_GoogleColab.py:308] 7CWP AlphaFold structure prediction COMPLETE\n",
            "I0715 10:00:08.515765 136188801627968 parjax_cla_multi_GoogleColab.py:107] Predicting 6Y4F\n",
            "I0715 10:00:08.531713 136188801627968 parjax_cla_multi_GoogleColab.py:132] Running model model_1_pred_0 on 6Y4F\n",
            "I0715 10:00:10.450658 136188801627968 model.py:165] Running predict with shape(feat) = {'aatype': (4, 141), 'residue_index': (4, 141), 'seq_length': (4,), 'template_aatype': (4, 4, 141), 'template_all_atom_masks': (4, 4, 141, 37), 'template_all_atom_positions': (4, 4, 141, 37, 3), 'template_sum_probs': (4, 4, 1), 'is_distillation': (4,), 'seq_mask': (4, 141), 'msa_mask': (4, 508, 141), 'msa_row_mask': (4, 508), 'random_crop_to_size_seed': (4, 2), 'template_mask': (4, 4), 'template_pseudo_beta': (4, 4, 141, 3), 'template_pseudo_beta_mask': (4, 4, 141), 'atom14_atom_exists': (4, 141, 14), 'residx_atom14_to_atom37': (4, 141, 14), 'residx_atom37_to_atom14': (4, 141, 37), 'atom37_atom_exists': (4, 141, 37), 'extra_msa': (4, 5120, 141), 'extra_msa_mask': (4, 5120, 141), 'extra_msa_row_mask': (4, 5120), 'bert_mask': (4, 508, 141), 'true_msa': (4, 508, 141), 'extra_has_deletion': (4, 5120, 141), 'extra_deletion_value': (4, 5120, 141), 'msa_feat': (4, 508, 141, 49), 'target_feat': (4, 141, 22)}\n",
            "I0715 10:03:20.059845 136188801627968 model.py:175] Output shape was {'distogram': {'bin_edges': (63,), 'logits': (141, 141, 64)}, 'experimentally_resolved': {'logits': (141, 37)}, 'masked_msa': {'logits': (508, 141, 23)}, 'predicted_lddt': {'logits': (141, 50)}, 'structure_module': {'final_atom_mask': (141, 37), 'final_atom_positions': (141, 37, 3)}, 'plddt': (141,), 'ranking_confidence': ()}\n",
            "I0715 10:03:20.060037 136188801627968 parjax_cla_multi_GoogleColab.py:144] Total JAX model model_1_pred_0 on 6Y4F predict time (includes compilation time, see --benchmark): 189.6s\n",
            "I0715 10:03:20.092346 136188801627968 parjax_cla_multi_GoogleColab.py:132] Running model model_2_pred_0 on 6Y4F\n",
            "I0715 10:03:22.129173 136188801627968 model.py:165] Running predict with shape(feat) = {'aatype': (4, 141), 'residue_index': (4, 141), 'seq_length': (4,), 'template_aatype': (4, 4, 141), 'template_all_atom_masks': (4, 4, 141, 37), 'template_all_atom_positions': (4, 4, 141, 37, 3), 'template_sum_probs': (4, 4, 1), 'is_distillation': (4,), 'seq_mask': (4, 141), 'msa_mask': (4, 508, 141), 'msa_row_mask': (4, 508), 'random_crop_to_size_seed': (4, 2), 'template_mask': (4, 4), 'template_pseudo_beta': (4, 4, 141, 3), 'template_pseudo_beta_mask': (4, 4, 141), 'atom14_atom_exists': (4, 141, 14), 'residx_atom14_to_atom37': (4, 141, 14), 'residx_atom37_to_atom14': (4, 141, 37), 'atom37_atom_exists': (4, 141, 37), 'extra_msa': (4, 1024, 141), 'extra_msa_mask': (4, 1024, 141), 'extra_msa_row_mask': (4, 1024), 'bert_mask': (4, 508, 141), 'true_msa': (4, 508, 141), 'extra_has_deletion': (4, 1024, 141), 'extra_deletion_value': (4, 1024, 141), 'msa_feat': (4, 508, 141, 49), 'target_feat': (4, 141, 22)}\n",
            "I0715 10:06:20.764852 136188801627968 model.py:175] Output shape was {'distogram': {'bin_edges': (63,), 'logits': (141, 141, 64)}, 'experimentally_resolved': {'logits': (141, 37)}, 'masked_msa': {'logits': (508, 141, 23)}, 'predicted_lddt': {'logits': (141, 50)}, 'structure_module': {'final_atom_mask': (141, 37), 'final_atom_positions': (141, 37, 3)}, 'plddt': (141,), 'ranking_confidence': ()}\n",
            "I0715 10:06:20.765057 136188801627968 parjax_cla_multi_GoogleColab.py:144] Total JAX model model_2_pred_0 on 6Y4F predict time (includes compilation time, see --benchmark): 178.6s\n",
            "I0715 10:06:20.796610 136188801627968 parjax_cla_multi_GoogleColab.py:132] Running model model_3_pred_0 on 6Y4F\n",
            "I0715 10:06:22.449392 136188801627968 model.py:165] Running predict with shape(feat) = {'aatype': (4, 141), 'residue_index': (4, 141), 'seq_length': (4,), 'is_distillation': (4,), 'seq_mask': (4, 141), 'msa_mask': (4, 512, 141), 'msa_row_mask': (4, 512), 'random_crop_to_size_seed': (4, 2), 'atom14_atom_exists': (4, 141, 14), 'residx_atom14_to_atom37': (4, 141, 14), 'residx_atom37_to_atom14': (4, 141, 37), 'atom37_atom_exists': (4, 141, 37), 'extra_msa': (4, 5120, 141), 'extra_msa_mask': (4, 5120, 141), 'extra_msa_row_mask': (4, 5120), 'bert_mask': (4, 512, 141), 'true_msa': (4, 512, 141), 'extra_has_deletion': (4, 5120, 141), 'extra_deletion_value': (4, 5120, 141), 'msa_feat': (4, 512, 141, 49), 'target_feat': (4, 141, 22)}\n",
            "I0715 10:08:48.406368 136188801627968 model.py:175] Output shape was {'distogram': {'bin_edges': (63,), 'logits': (141, 141, 64)}, 'experimentally_resolved': {'logits': (141, 37)}, 'masked_msa': {'logits': (512, 141, 23)}, 'predicted_lddt': {'logits': (141, 50)}, 'structure_module': {'final_atom_mask': (141, 37), 'final_atom_positions': (141, 37, 3)}, 'plddt': (141,), 'ranking_confidence': ()}\n",
            "I0715 10:08:48.406614 136188801627968 parjax_cla_multi_GoogleColab.py:144] Total JAX model model_3_pred_0 on 6Y4F predict time (includes compilation time, see --benchmark): 146.0s\n",
            "I0715 10:08:48.438838 136188801627968 parjax_cla_multi_GoogleColab.py:132] Running model model_4_pred_0 on 6Y4F\n",
            "I0715 10:08:49.970104 136188801627968 model.py:165] Running predict with shape(feat) = {'aatype': (4, 141), 'residue_index': (4, 141), 'seq_length': (4,), 'is_distillation': (4,), 'seq_mask': (4, 141), 'msa_mask': (4, 512, 141), 'msa_row_mask': (4, 512), 'random_crop_to_size_seed': (4, 2), 'atom14_atom_exists': (4, 141, 14), 'residx_atom14_to_atom37': (4, 141, 14), 'residx_atom37_to_atom14': (4, 141, 37), 'atom37_atom_exists': (4, 141, 37), 'extra_msa': (4, 5120, 141), 'extra_msa_mask': (4, 5120, 141), 'extra_msa_row_mask': (4, 5120), 'bert_mask': (4, 512, 141), 'true_msa': (4, 512, 141), 'extra_has_deletion': (4, 5120, 141), 'extra_deletion_value': (4, 5120, 141), 'msa_feat': (4, 512, 141, 49), 'target_feat': (4, 141, 22)}\n",
            "I0715 10:11:12.115921 136188801627968 model.py:175] Output shape was {'distogram': {'bin_edges': (63,), 'logits': (141, 141, 64)}, 'experimentally_resolved': {'logits': (141, 37)}, 'masked_msa': {'logits': (512, 141, 23)}, 'predicted_lddt': {'logits': (141, 50)}, 'structure_module': {'final_atom_mask': (141, 37), 'final_atom_positions': (141, 37, 3)}, 'plddt': (141,), 'ranking_confidence': ()}\n",
            "I0715 10:11:12.116137 136188801627968 parjax_cla_multi_GoogleColab.py:144] Total JAX model model_4_pred_0 on 6Y4F predict time (includes compilation time, see --benchmark): 142.1s\n",
            "I0715 10:11:12.149400 136188801627968 parjax_cla_multi_GoogleColab.py:132] Running model model_5_pred_0 on 6Y4F\n",
            "I0715 10:11:13.688589 136188801627968 model.py:165] Running predict with shape(feat) = {'aatype': (4, 141), 'residue_index': (4, 141), 'seq_length': (4,), 'is_distillation': (4,), 'seq_mask': (4, 141), 'msa_mask': (4, 512, 141), 'msa_row_mask': (4, 512), 'random_crop_to_size_seed': (4, 2), 'atom14_atom_exists': (4, 141, 14), 'residx_atom14_to_atom37': (4, 141, 14), 'residx_atom37_to_atom14': (4, 141, 37), 'atom37_atom_exists': (4, 141, 37), 'extra_msa': (4, 1024, 141), 'extra_msa_mask': (4, 1024, 141), 'extra_msa_row_mask': (4, 1024), 'bert_mask': (4, 512, 141), 'true_msa': (4, 512, 141), 'extra_has_deletion': (4, 1024, 141), 'extra_deletion_value': (4, 1024, 141), 'msa_feat': (4, 512, 141, 49), 'target_feat': (4, 141, 22)}\n",
            "I0715 10:13:35.488566 136188801627968 model.py:175] Output shape was {'distogram': {'bin_edges': (63,), 'logits': (141, 141, 64)}, 'experimentally_resolved': {'logits': (141, 37)}, 'masked_msa': {'logits': (512, 141, 23)}, 'predicted_lddt': {'logits': (141, 50)}, 'structure_module': {'final_atom_mask': (141, 37), 'final_atom_positions': (141, 37, 3)}, 'plddt': (141,), 'ranking_confidence': ()}\n",
            "I0715 10:13:35.488751 136188801627968 parjax_cla_multi_GoogleColab.py:144] Total JAX model model_5_pred_0 on 6Y4F predict time (includes compilation time, see --benchmark): 141.8s\n",
            "I0715 10:13:39.853858 136188801627968 amber_minimize.py:178] alterations info: {'nonstandard_residues': [], 'removed_heterogens': set(), 'missing_residues': {}, 'missing_heavy_atoms': {}, 'missing_terminals': {<Residue 140 (HIS) of chain 0>: ['OXT']}, 'Se_in_MET': [], 'removed_chains': {0: []}}\n",
            "I0715 10:13:40.119026 136188801627968 amber_minimize.py:408] Minimizing protein, attempt 1 of 100.\n",
            "I0715 10:13:40.370323 136188801627968 amber_minimize.py:69] Restraining 1097 / 2154 particles.\n",
            "I0715 10:13:42.940394 136188801627968 amber_minimize.py:178] alterations info: {'nonstandard_residues': [], 'removed_heterogens': set(), 'missing_residues': {}, 'missing_heavy_atoms': {}, 'missing_terminals': {}, 'Se_in_MET': [], 'removed_chains': {0: []}}\n",
            "I0715 10:13:45.010571 136188801627968 amber_minimize.py:500] Iteration completed: Einit 3822.56 Efinal -2916.32 Time 1.58 s num residue violations 0 num residue exclusions 0 \n",
            "I0715 10:13:45.076116 136188801627968 parjax_cla_multi_GoogleColab.py:231] Final timings for 6Y4F: {'process_features_model_1_pred_0': 1.917069435119629, 'predict_and_compile_model_1_pred_0': 189.61115646362305, 'process_features_model_2_pred_0': 2.034825563430786, 'predict_and_compile_model_2_pred_0': 178.6377513408661, 'process_features_model_3_pred_0': 1.652503490447998, 'predict_and_compile_model_3_pred_0': 145.957359790802, 'process_features_model_4_pred_0': 1.5310041904449463, 'predict_and_compile_model_4_pred_0': 142.14616799354553, 'process_features_model_5_pred_0': 1.538905382156372, 'predict_and_compile_model_5_pred_0': 141.80031418800354, 'relax_model_1_pred_0': 9.554266452789307}\n",
            "I0715 10:13:45.080672 136188801627968 parjax_cla_multi_GoogleColab.py:308] 6Y4F AlphaFold structure prediction COMPLETE\n",
            "I0715 10:13:45.080789 136188801627968 parjax_cla_multi_GoogleColab.py:107] Predicting 6ZYC\n",
            "I0715 10:13:45.087181 136188801627968 parjax_cla_multi_GoogleColab.py:132] Running model model_1_pred_0 on 6ZYC\n",
            "I0715 10:13:47.020541 136188801627968 model.py:165] Running predict with shape(feat) = {'aatype': (4, 148), 'residue_index': (4, 148), 'seq_length': (4,), 'template_aatype': (4, 4, 148), 'template_all_atom_masks': (4, 4, 148, 37), 'template_all_atom_positions': (4, 4, 148, 37, 3), 'template_sum_probs': (4, 4, 1), 'is_distillation': (4,), 'seq_mask': (4, 148), 'msa_mask': (4, 508, 148), 'msa_row_mask': (4, 508), 'random_crop_to_size_seed': (4, 2), 'template_mask': (4, 4), 'template_pseudo_beta': (4, 4, 148, 3), 'template_pseudo_beta_mask': (4, 4, 148), 'atom14_atom_exists': (4, 148, 14), 'residx_atom14_to_atom37': (4, 148, 14), 'residx_atom37_to_atom14': (4, 148, 37), 'atom37_atom_exists': (4, 148, 37), 'extra_msa': (4, 5120, 148), 'extra_msa_mask': (4, 5120, 148), 'extra_msa_row_mask': (4, 5120), 'bert_mask': (4, 508, 148), 'true_msa': (4, 508, 148), 'extra_has_deletion': (4, 5120, 148), 'extra_deletion_value': (4, 5120, 148), 'msa_feat': (4, 508, 148, 49), 'target_feat': (4, 148, 22)}\n",
            "I0715 10:16:48.185991 136188801627968 model.py:175] Output shape was {'distogram': {'bin_edges': (63,), 'logits': (148, 148, 64)}, 'experimentally_resolved': {'logits': (148, 37)}, 'masked_msa': {'logits': (508, 148, 23)}, 'predicted_lddt': {'logits': (148, 50)}, 'structure_module': {'final_atom_mask': (148, 37), 'final_atom_positions': (148, 37, 3)}, 'plddt': (148,), 'ranking_confidence': ()}\n",
            "I0715 10:16:48.186175 136188801627968 parjax_cla_multi_GoogleColab.py:144] Total JAX model model_1_pred_0 on 6ZYC predict time (includes compilation time, see --benchmark): 181.2s\n",
            "I0715 10:16:48.220487 136188801627968 parjax_cla_multi_GoogleColab.py:132] Running model model_2_pred_0 on 6ZYC\n",
            "I0715 10:16:50.182219 136188801627968 model.py:165] Running predict with shape(feat) = {'aatype': (4, 148), 'residue_index': (4, 148), 'seq_length': (4,), 'template_aatype': (4, 4, 148), 'template_all_atom_masks': (4, 4, 148, 37), 'template_all_atom_positions': (4, 4, 148, 37, 3), 'template_sum_probs': (4, 4, 1), 'is_distillation': (4,), 'seq_mask': (4, 148), 'msa_mask': (4, 508, 148), 'msa_row_mask': (4, 508), 'random_crop_to_size_seed': (4, 2), 'template_mask': (4, 4), 'template_pseudo_beta': (4, 4, 148, 3), 'template_pseudo_beta_mask': (4, 4, 148), 'atom14_atom_exists': (4, 148, 14), 'residx_atom14_to_atom37': (4, 148, 14), 'residx_atom37_to_atom14': (4, 148, 37), 'atom37_atom_exists': (4, 148, 37), 'extra_msa': (4, 1024, 148), 'extra_msa_mask': (4, 1024, 148), 'extra_msa_row_mask': (4, 1024), 'bert_mask': (4, 508, 148), 'true_msa': (4, 508, 148), 'extra_has_deletion': (4, 1024, 148), 'extra_deletion_value': (4, 1024, 148), 'msa_feat': (4, 508, 148, 49), 'target_feat': (4, 148, 22)}\n",
            "I0715 10:19:42.131851 136188801627968 model.py:175] Output shape was {'distogram': {'bin_edges': (63,), 'logits': (148, 148, 64)}, 'experimentally_resolved': {'logits': (148, 37)}, 'masked_msa': {'logits': (508, 148, 23)}, 'predicted_lddt': {'logits': (148, 50)}, 'structure_module': {'final_atom_mask': (148, 37), 'final_atom_positions': (148, 37, 3)}, 'plddt': (148,), 'ranking_confidence': ()}\n",
            "I0715 10:19:42.132054 136188801627968 parjax_cla_multi_GoogleColab.py:144] Total JAX model model_2_pred_0 on 6ZYC predict time (includes compilation time, see --benchmark): 172.0s\n",
            "I0715 10:19:42.176209 136188801627968 parjax_cla_multi_GoogleColab.py:132] Running model model_3_pred_0 on 6ZYC\n",
            "I0715 10:19:43.818095 136188801627968 model.py:165] Running predict with shape(feat) = {'aatype': (4, 148), 'residue_index': (4, 148), 'seq_length': (4,), 'is_distillation': (4,), 'seq_mask': (4, 148), 'msa_mask': (4, 512, 148), 'msa_row_mask': (4, 512), 'random_crop_to_size_seed': (4, 2), 'atom14_atom_exists': (4, 148, 14), 'residx_atom14_to_atom37': (4, 148, 14), 'residx_atom37_to_atom14': (4, 148, 37), 'atom37_atom_exists': (4, 148, 37), 'extra_msa': (4, 5120, 148), 'extra_msa_mask': (4, 5120, 148), 'extra_msa_row_mask': (4, 5120), 'bert_mask': (4, 512, 148), 'true_msa': (4, 512, 148), 'extra_has_deletion': (4, 5120, 148), 'extra_deletion_value': (4, 5120, 148), 'msa_feat': (4, 512, 148, 49), 'target_feat': (4, 148, 22)}\n",
            "I0715 10:22:06.609364 136188801627968 model.py:175] Output shape was {'distogram': {'bin_edges': (63,), 'logits': (148, 148, 64)}, 'experimentally_resolved': {'logits': (148, 37)}, 'masked_msa': {'logits': (512, 148, 23)}, 'predicted_lddt': {'logits': (148, 50)}, 'structure_module': {'final_atom_mask': (148, 37), 'final_atom_positions': (148, 37, 3)}, 'plddt': (148,), 'ranking_confidence': ()}\n",
            "I0715 10:22:06.609577 136188801627968 parjax_cla_multi_GoogleColab.py:144] Total JAX model model_3_pred_0 on 6ZYC predict time (includes compilation time, see --benchmark): 142.8s\n",
            "I0715 10:22:06.643619 136188801627968 parjax_cla_multi_GoogleColab.py:132] Running model model_4_pred_0 on 6ZYC\n",
            "I0715 10:22:08.269622 136188801627968 model.py:165] Running predict with shape(feat) = {'aatype': (4, 148), 'residue_index': (4, 148), 'seq_length': (4,), 'is_distillation': (4,), 'seq_mask': (4, 148), 'msa_mask': (4, 512, 148), 'msa_row_mask': (4, 512), 'random_crop_to_size_seed': (4, 2), 'atom14_atom_exists': (4, 148, 14), 'residx_atom14_to_atom37': (4, 148, 14), 'residx_atom37_to_atom14': (4, 148, 37), 'atom37_atom_exists': (4, 148, 37), 'extra_msa': (4, 5120, 148), 'extra_msa_mask': (4, 5120, 148), 'extra_msa_row_mask': (4, 5120), 'bert_mask': (4, 512, 148), 'true_msa': (4, 512, 148), 'extra_has_deletion': (4, 5120, 148), 'extra_deletion_value': (4, 5120, 148), 'msa_feat': (4, 512, 148, 49), 'target_feat': (4, 148, 22)}\n",
            "I0715 10:24:27.901664 136188801627968 model.py:175] Output shape was {'distogram': {'bin_edges': (63,), 'logits': (148, 148, 64)}, 'experimentally_resolved': {'logits': (148, 37)}, 'masked_msa': {'logits': (512, 148, 23)}, 'predicted_lddt': {'logits': (148, 50)}, 'structure_module': {'final_atom_mask': (148, 37), 'final_atom_positions': (148, 37, 3)}, 'plddt': (148,), 'ranking_confidence': ()}\n",
            "I0715 10:24:27.901858 136188801627968 parjax_cla_multi_GoogleColab.py:144] Total JAX model model_4_pred_0 on 6ZYC predict time (includes compilation time, see --benchmark): 139.6s\n",
            "I0715 10:24:27.936309 136188801627968 parjax_cla_multi_GoogleColab.py:132] Running model model_5_pred_0 on 6ZYC\n",
            "I0715 10:24:29.470170 136188801627968 model.py:165] Running predict with shape(feat) = {'aatype': (4, 148), 'residue_index': (4, 148), 'seq_length': (4,), 'is_distillation': (4,), 'seq_mask': (4, 148), 'msa_mask': (4, 512, 148), 'msa_row_mask': (4, 512), 'random_crop_to_size_seed': (4, 2), 'atom14_atom_exists': (4, 148, 14), 'residx_atom14_to_atom37': (4, 148, 14), 'residx_atom37_to_atom14': (4, 148, 37), 'atom37_atom_exists': (4, 148, 37), 'extra_msa': (4, 1024, 148), 'extra_msa_mask': (4, 1024, 148), 'extra_msa_row_mask': (4, 1024), 'bert_mask': (4, 512, 148), 'true_msa': (4, 512, 148), 'extra_has_deletion': (4, 1024, 148), 'extra_deletion_value': (4, 1024, 148), 'msa_feat': (4, 512, 148, 49), 'target_feat': (4, 148, 22)}\n",
            "I0715 10:26:46.508415 136188801627968 model.py:175] Output shape was {'distogram': {'bin_edges': (63,), 'logits': (148, 148, 64)}, 'experimentally_resolved': {'logits': (148, 37)}, 'masked_msa': {'logits': (512, 148, 23)}, 'predicted_lddt': {'logits': (148, 50)}, 'structure_module': {'final_atom_mask': (148, 37), 'final_atom_positions': (148, 37, 3)}, 'plddt': (148,), 'ranking_confidence': ()}\n",
            "I0715 10:26:46.508640 136188801627968 parjax_cla_multi_GoogleColab.py:144] Total JAX model model_5_pred_0 on 6ZYC predict time (includes compilation time, see --benchmark): 137.0s\n",
            "I0715 10:26:50.419608 136188801627968 amber_minimize.py:178] alterations info: {'nonstandard_residues': [], 'removed_heterogens': set(), 'missing_residues': {}, 'missing_heavy_atoms': {}, 'missing_terminals': {<Residue 147 (GLU) of chain 0>: ['OXT']}, 'Se_in_MET': [], 'removed_chains': {0: []}}\n",
            "I0715 10:26:50.702149 136188801627968 amber_minimize.py:408] Minimizing protein, attempt 1 of 100.\n",
            "I0715 10:26:51.069071 136188801627968 amber_minimize.py:69] Restraining 1171 / 2323 particles.\n",
            "I0715 10:26:53.530278 136188801627968 amber_minimize.py:178] alterations info: {'nonstandard_residues': [], 'removed_heterogens': set(), 'missing_residues': {}, 'missing_heavy_atoms': {}, 'missing_terminals': {}, 'Se_in_MET': [], 'removed_chains': {0: []}}\n",
            "I0715 10:26:55.423162 136188801627968 amber_minimize.py:500] Iteration completed: Einit 3158.38 Efinal -3344.37 Time 1.87 s num residue violations 0 num residue exclusions 0 \n",
            "I0715 10:26:55.608845 136188801627968 parjax_cla_multi_GoogleColab.py:231] Final timings for 6ZYC: {'process_features_model_1_pred_0': 1.9316000938415527, 'predict_and_compile_model_1_pred_0': 181.16728496551514, 'process_features_model_2_pred_0': 1.9595425128936768, 'predict_and_compile_model_2_pred_0': 171.9518632888794, 'process_features_model_3_pred_0': 1.6415979862213135, 'predict_and_compile_model_3_pred_0': 142.79162526130676, 'process_features_model_4_pred_0': 1.625699520111084, 'predict_and_compile_model_4_pred_0': 139.63241815567017, 'process_features_model_5_pred_0': 1.533585786819458, 'predict_and_compile_model_5_pred_0': 137.03860425949097, 'relax_model_1_pred_0': 9.061783790588379}\n",
            "I0715 10:26:55.613557 136188801627968 parjax_cla_multi_GoogleColab.py:308] 6ZYC AlphaFold structure prediction COMPLETE\n"
          ]
        }
      ],
      "source": [
        "%%bash\n",
        "source activate parafold\n",
        "\n",
        "python parjax_cla_multi_GoogleColab.py \\\n",
        "  --fasta_paths=/content/jaxalpha/multi/7CN6/7CN6.fasta,/content/jaxalpha/multi/7JTL/7JTL.fasta,/content/jaxalpha/multi/7CWP/7CWP.fasta,/content/jaxalpha/multi/6Y4F/6Y4F.fasta,/content/jaxalpha/multi/6ZYC/6ZYC.fasta  \\\n",
        "  --output_dir=/content/jaxalpha/multi/out_multi_Z_A/6_10 \\\n",
        "  --parameter_path=/content/ParallelFold/params \\\n",
        "  --feature_files=/content/jaxalpha/multi/7CN6/feature.pkl,/content/jaxalpha/multi/7JTL/feature.pkl,/content/jaxalpha/multi/7CWP/feature.pkl,/content/jaxalpha/multi/6Y4F/feature.pkl,/content/jaxalpha/multi/6ZYC/feature.pkl \\\n",
        "  --use_gpu_relax=true\n",
        "\n"
      ]
    },
    {
      "cell_type": "code",
      "source": [
        "log_execution_time(start_time, cell_title)\n",
        "log_execution_time(code_start_time, from_beginning_to_end)"
      ],
      "metadata": {
        "id": "VHsqPxzNHonp"
      },
      "execution_count": 17,
      "outputs": []
    },
    {
      "cell_type": "code",
      "execution_count": 18,
      "metadata": {
        "id": "W-_pdPajkI_n"
      },
      "outputs": [],
      "source": [
        "#@title zip_output\n",
        "%%capture\n",
        "cell_title = \"zip_output\"\n",
        "start_time = time.time()\n",
        "\n",
        "import zipfile\n",
        "import os\n",
        "from google.colab import drive\n",
        "\n",
        "# Mount Google Drive\n",
        "drive.mount('/content/drive')\n",
        "\n",
        "!cp /content/time_cell_batch.txt /content/jaxalpha/multi/out_multi_Z_A/6_10\n",
        "# Define the folder to zip\n",
        "folder_to_zip = '/content/jaxalpha/multi/out_multi_Z_A/6_10'\n",
        "\n",
        "# Define the output zip file name and path (in Google Drive)\n",
        "output_filename = '/content/drive/My Drive/batch_6_10_ascend_T4.zip'\n",
        "\n",
        "# Create the zip file\n",
        "with zipfile.ZipFile(output_filename, 'w', zipfile.ZIP_DEFLATED) as zipf:\n",
        "    for root, dirs, files in os.walk(folder_to_zip):\n",
        "        for file in files:\n",
        "            zipf.write(os.path.join(root, file),\n",
        "                       os.path.relpath(os.path.join(root, file),\n",
        "                                       os.path.join(folder_to_zip, '..')))\n",
        "\n",
        "log_execution_time(start_time, cell_title)"
      ]
    }
  ],
  "metadata": {
    "colab": {
      "provenance": [],
      "machine_shape": "hm",
      "gpuType": "T4",
      "include_colab_link": true
    },
    "kernelspec": {
      "display_name": "Python 3",
      "name": "python3"
    },
    "language_info": {
      "name": "python"
    },
    "accelerator": "GPU"
  },
  "nbformat": 4,
  "nbformat_minor": 0
}