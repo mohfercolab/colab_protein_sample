{
  "cells": [
    {
      "cell_type": "markdown",
      "metadata": {
        "id": "view-in-github",
        "colab_type": "text"
      },
      "source": [
        "<a href=\"https://colab.research.google.com/github/mohfercolab/colab_protein_sample/blob/main/parjax_cla_multi_11_15_Z_A_A100.ipynb\" target=\"_parent\"><img src=\"https://colab.research.google.com/assets/colab-badge.svg\" alt=\"Open In Colab\"/></a>"
      ]
    },
    {
      "cell_type": "code",
      "source": [
        "#@title Initialize_time\n",
        "import time\n",
        "\n",
        "# Initialize an empty file\n",
        "with open('/content/time_cell_11_15_Z_A_A100.txt', 'w') as file:\n",
        "    file.write('')\n",
        "\n",
        "\n",
        "def log_execution_time(start_time, cell_title):\n",
        "    end_time = time.time()\n",
        "    execution_time = end_time - start_time\n",
        "\n",
        "    with open('/content/time_cell_11_15_Z_A_A100.txt', 'a') as file:\n",
        "        file.write(f\"execution_time_{cell_title}, {execution_time}\\n\")\n",
        "\n",
        "from_beginning_to_end = \"Start_running_the_code\"\n",
        "code_start_time = time.time()"
      ],
      "metadata": {
        "id": "el4dU4_088Xh"
      },
      "execution_count": null,
      "outputs": []
    },
    {
      "cell_type": "code",
      "execution_count": null,
      "metadata": {
        "id": "Iu_wXmRquKlk"
      },
      "outputs": [],
      "source": [
        "#@title clone\n",
        "%%capture\n",
        "cell_title = \"clone\"\n",
        "start_time = time.time()\n",
        "\n",
        "!git clone https://github.com/Zuricho/ParallelFold.git\n",
        "!git clone https://github.com/fereidoon27/jaxalpha.git\n",
        "\n",
        "log_execution_time(start_time, cell_title)"
      ]
    },
    {
      "cell_type": "code",
      "execution_count": null,
      "metadata": {
        "collapsed": true,
        "id": "71M2Wr3NuZfM",
        "cellView": "form"
      },
      "outputs": [],
      "source": [
        "#@title Miniconda\n",
        "%%capture\n",
        "cell_title = \"Miniconda\"\n",
        "start_time = time.time()\n",
        "\n",
        "# Install Miniconda\n",
        "!wget https://repo.anaconda.com/miniconda/Miniconda3-latest-Linux-x86_64.sh\n",
        "!chmod +x Miniconda3-latest-Linux-x86_64.sh\n",
        "!bash ./Miniconda3-latest-Linux-x86_64.sh -b -f -p /usr/local\n",
        "\n",
        "# Initialize Conda\n",
        "import sys\n",
        "sys.path.append('/usr/local/lib/python3.8/site-packages')\n",
        "\n",
        "# Configure conda\n",
        "!conda init bash\n",
        "!source ~/.bashrc\n",
        "\n",
        "# Update conda\n",
        "!conda update conda -y\n",
        "\n",
        "log_execution_time(start_time, cell_title)"
      ]
    },
    {
      "cell_type": "code",
      "execution_count": null,
      "metadata": {
        "collapsed": true,
        "id": "lr6PZXRiufLc",
        "cellView": "form"
      },
      "outputs": [],
      "source": [
        "#@title parafold_env\n",
        "%%capture\n",
        "cell_title = \"parafold_env\"\n",
        "start_time = time.time()\n",
        "\n",
        "# Recommend you to use python 3.8, version < 3.7 have missing packages, python versions newer than 3.8 were not tested\n",
        "!conda create -n parafold python=3.8 -y\n",
        "\n",
        "log_execution_time(start_time, cell_title)"
      ]
    },
    {
      "cell_type": "code",
      "execution_count": null,
      "metadata": {
        "id": "ag5mSJ5fvZRA",
        "cellView": "form"
      },
      "outputs": [],
      "source": [
        "#@title testing_activate_parafold\n",
        "%%capture\n",
        "cell_title = \"testing_activate_parafold\"\n",
        "start_time = time.time()\n",
        "\n",
        "!source activate parafold && { \\\n",
        "    echo \"Setting up the parafold environment\"; \\\n",
        "    echo \"Current Python version:\"; \\\n",
        "    python --version; \\\n",
        "    }\n",
        "\n",
        "log_execution_time(start_time, cell_title)"
      ]
    },
    {
      "cell_type": "code",
      "execution_count": null,
      "metadata": {
        "id": "qw3B2zQgxgw1",
        "cellView": "form"
      },
      "outputs": [],
      "source": [
        "#@title install_py3dmol\n",
        "%%capture\n",
        "cell_title = \"install_py3dmol\"\n",
        "start_time = time.time()\n",
        "\n",
        "#install py3dmol\n",
        "!source activate parafold && pip install py3dmol\n",
        "\n",
        "log_execution_time(start_time, cell_title)"
      ]
    },
    {
      "cell_type": "code",
      "execution_count": null,
      "metadata": {
        "collapsed": true,
        "id": "nhH-cpF51ao4",
        "cellView": "form"
      },
      "outputs": [],
      "source": [
        "#@title install_openmm\n",
        "%%capture\n",
        "cell_title = \"install_openmm\"\n",
        "start_time = time.time()\n",
        "\n",
        "# openmm 7.7 is recommended (original alphafold using 7.5.1, but it is not supported now)\n",
        "!source activate parafold && conda install -c conda-forge openmm=7.7 pdbfixer -y\n",
        "\n",
        "log_execution_time(start_time, cell_title)"
      ]
    },
    {
      "cell_type": "code",
      "execution_count": null,
      "metadata": {
        "collapsed": true,
        "id": "uW7VE2hi1jwl",
        "cellView": "form"
      },
      "outputs": [],
      "source": [
        "#@title install_requirements\n",
        "%%capture\n",
        "cell_title = \"install_requirements\"\n",
        "start_time = time.time()\n",
        "\n",
        "%cd ParallelFold\n",
        "#install requirements\n",
        "!source activate parafold && pip3 install -r requirements.txt\n",
        "\n",
        "log_execution_time(start_time, cell_title)"
      ]
    },
    {
      "cell_type": "code",
      "execution_count": null,
      "metadata": {
        "collapsed": true,
        "id": "1P1qlWikHrT4",
        "cellView": "form"
      },
      "outputs": [],
      "source": [
        "#@title install_cuda_and_cudnn\n",
        "%%capture\n",
        "cell_title = \"install_cuda_and_cudnn\"\n",
        "start_time = time.time()\n",
        "\n",
        "# cudatoolkit 11.3.1 matches cudnn 8.2.1\n",
        "!source activate parafold && echo 'y' | conda install cudatoolkit=11.3 cudnn -y\n",
        "\n",
        "log_execution_time(start_time, cell_title)"
      ]
    },
    {
      "cell_type": "code",
      "execution_count": null,
      "metadata": {
        "collapsed": true,
        "id": "BdbRAX2JI44X",
        "cellView": "form"
      },
      "outputs": [],
      "source": [
        "#@title downgrade_jaxlib\n",
        "%%capture\n",
        "cell_title = \"downgrade_jaxlib\"\n",
        "start_time = time.time()\n",
        "\n",
        "# downgrade jaxlib to the correct version, matches with cuda and cudnn version\n",
        "!source activate parafold && pip3 install --upgrade --no-cache-dir jax==0.3.25 jaxlib==0.3.25+cuda11.cudnn82 -f https://storage.googleapis.com/jax-releases/jax_cuda_releases.html\n",
        "\n",
        "log_execution_time(start_time, cell_title)"
      ]
    },
    {
      "cell_type": "code",
      "execution_count": null,
      "metadata": {
        "collapsed": true,
        "id": "-O_Df8cdJAKj",
        "cellView": "form"
      },
      "outputs": [],
      "source": [
        "#@title packages_for_MSA\n",
        "%%capture\n",
        "cell_title = \"packages_for_MSA\"\n",
        "start_time = time.time()\n",
        "\n",
        "# install packages for multiple sequence alignment\n",
        "!source activate parafold && conda install -c bioconda hmmer=3.3.2 hhsuite=3.3.0 kalign2=2.04 -y\n",
        "\n",
        "log_execution_time(start_time, cell_title)"
      ]
    },
    {
      "cell_type": "code",
      "execution_count": null,
      "metadata": {
        "collapsed": true,
        "id": "zmue22y1c7LC",
        "cellView": "form"
      },
      "outputs": [],
      "source": [
        "#@title aria2\n",
        "%%capture\n",
        "cell_title = \"aria2\"\n",
        "start_time = time.time()\n",
        "\n",
        "!source activate parafold && conda install aria2 -y\n",
        "\n",
        "log_execution_time(start_time, cell_title)"
      ]
    },
    {
      "cell_type": "code",
      "source": [
        "#@title alphafold_params\n",
        "%%capture\n",
        "cell_title = \"alphafold_params\"\n",
        "start_time = time.time()\n",
        "\n",
        "!source activate parafold && bash /content/ParallelFold/scripts/download_alphafold_params.sh /content/ParallelFold\n",
        "\n",
        "log_execution_time(start_time, cell_title)"
      ],
      "metadata": {
        "id": "iglOn5cGF7gC",
        "cellView": "form"
      },
      "execution_count": null,
      "outputs": []
    },
    {
      "cell_type": "code",
      "execution_count": null,
      "metadata": {
        "collapsed": true,
        "id": "IOE5ESGGOaT5"
      },
      "outputs": [],
      "source": [
        "#@title directory\n",
        "!mv /content/jaxalpha/parjax_cla_multi_GoogleColab.py /content/ParallelFold\n",
        "%cd /content/ParallelFold/\n",
        "#!chmod +x parjax_cla_multi_GoogleColab.sh"
      ]
    },
    {
      "cell_type": "code",
      "source": [
        "%cd /content\n",
        "!-rm -r /content/jaxalpha\n",
        "!git clone https://github.com/fereidoon27/jaxalpha.git"
      ],
      "metadata": {
        "id": "AIUbOdB6tq0e"
      },
      "execution_count": null,
      "outputs": []
    },
    {
      "cell_type": "code",
      "source": [
        "!mv /content/jaxalpha/parjax_cla_multi_GoogleColab.py /content/ParallelFold\n",
        "%cd /content/ParallelFold/"
      ],
      "metadata": {
        "id": "CN2wnJZ7uKEI"
      },
      "execution_count": null,
      "outputs": []
    },
    {
      "cell_type": "code",
      "source": [
        "cell_title = \"prediction_11_15_Z_A_A100\"\n",
        "start_time = time.time()"
      ],
      "metadata": {
        "id": "QzSv4dVwHnr1"
      },
      "execution_count": 22,
      "outputs": []
    },
    {
      "cell_type": "code",
      "execution_count": 23,
      "metadata": {
        "collapsed": true,
        "id": "HiqjNrx6jnLE",
        "colab": {
          "base_uri": "https://localhost:8080/"
        },
        "outputId": "66821d6c-487a-429d-8d92-cbd93dbc2a7f"
      },
      "outputs": [
        {
          "output_type": "stream",
          "name": "stderr",
          "text": [
            "I0713 09:51:20.079515 136655768037184 xla_bridge.py:353] Unable to initialize backend 'tpu_driver': NOT_FOUND: Unable to find driver in registry given worker: \n",
            "I0713 09:51:20.191205 136655768037184 xla_bridge.py:353] Unable to initialize backend 'rocm': NOT_FOUND: Could not find registered platform with name: \"rocm\". Available platform names are: CUDA Interpreter Host\n",
            "I0713 09:51:20.191641 136655768037184 xla_bridge.py:353] Unable to initialize backend 'tpu': module 'jaxlib.xla_extension' has no attribute 'get_tpu_client'\n",
            "I0713 09:51:20.191785 136655768037184 xla_bridge.py:353] Unable to initialize backend 'plugin': xla_extension has no attributes named get_plugin_device_client. Compile TensorFlow with //tensorflow/compiler/xla/python:enable_plugin_device set to true (defaults to false) to enable this.\n",
            "I0713 09:51:24.860941 136655768037184 parjax_cla_multi_GoogleColab.py:279] Have 5 models: ['model_1_pred_0', 'model_2_pred_0', 'model_3_pred_0', 'model_4_pred_0', 'model_5_pred_0']\n",
            "I0713 09:51:24.861144 136655768037184 parjax_cla_multi_GoogleColab.py:293] Using random seed 922653311627497498 for the data pipeline\n",
            "I0713 09:51:24.861383 136655768037184 parjax_cla_multi_GoogleColab.py:107] Predicting 8EM5\n",
            "I0713 09:51:24.864209 136655768037184 parjax_cla_multi_GoogleColab.py:132] Running model model_1_pred_0 on 8EM5\n",
            "W0713 09:51:25.631058 136655768037184 deprecation.py:350] From /usr/local/envs/parafold/lib/python3.8/site-packages/tensorflow/python/autograph/pyct/static_analysis/liveness.py:83: Analyzer.lamba_check (from tensorflow.python.autograph.pyct.static_analysis.liveness) is deprecated and will be removed after 2023-09-23.\n",
            "Instructions for updating:\n",
            "Lambda fuctions will be no more assumed to be used in the statement where they are used, or at least in the same block. https://github.com/tensorflow/tensorflow/issues/56089\n",
            "I0713 09:51:28.503938 136655768037184 model.py:165] Running predict with shape(feat) = {'aatype': (4, 103), 'residue_index': (4, 103), 'seq_length': (4,), 'template_aatype': (4, 4, 103), 'template_all_atom_masks': (4, 4, 103, 37), 'template_all_atom_positions': (4, 4, 103, 37, 3), 'template_sum_probs': (4, 4, 1), 'is_distillation': (4,), 'seq_mask': (4, 103), 'msa_mask': (4, 508, 103), 'msa_row_mask': (4, 508), 'random_crop_to_size_seed': (4, 2), 'template_mask': (4, 4), 'template_pseudo_beta': (4, 4, 103, 3), 'template_pseudo_beta_mask': (4, 4, 103), 'atom14_atom_exists': (4, 103, 14), 'residx_atom14_to_atom37': (4, 103, 14), 'residx_atom37_to_atom14': (4, 103, 37), 'atom37_atom_exists': (4, 103, 37), 'extra_msa': (4, 5120, 103), 'extra_msa_mask': (4, 5120, 103), 'extra_msa_row_mask': (4, 5120), 'bert_mask': (4, 508, 103), 'true_msa': (4, 508, 103), 'extra_has_deletion': (4, 5120, 103), 'extra_deletion_value': (4, 5120, 103), 'msa_feat': (4, 508, 103, 49), 'target_feat': (4, 103, 22)}\n",
            "I0713 09:53:58.189343 136655768037184 model.py:175] Output shape was {'distogram': {'bin_edges': (63,), 'logits': (103, 103, 64)}, 'experimentally_resolved': {'logits': (103, 37)}, 'masked_msa': {'logits': (508, 103, 23)}, 'predicted_lddt': {'logits': (103, 50)}, 'structure_module': {'final_atom_mask': (103, 37), 'final_atom_positions': (103, 37, 3)}, 'plddt': (103,), 'ranking_confidence': ()}\n",
            "I0713 09:53:58.189537 136655768037184 parjax_cla_multi_GoogleColab.py:144] Total JAX model model_1_pred_0 on 8EM5 predict time (includes compilation time, see --benchmark): 149.7s\n",
            "I0713 09:53:58.212945 136655768037184 parjax_cla_multi_GoogleColab.py:132] Running model model_2_pred_0 on 8EM5\n",
            "I0713 09:54:00.256986 136655768037184 model.py:165] Running predict with shape(feat) = {'aatype': (4, 103), 'residue_index': (4, 103), 'seq_length': (4,), 'template_aatype': (4, 4, 103), 'template_all_atom_masks': (4, 4, 103, 37), 'template_all_atom_positions': (4, 4, 103, 37, 3), 'template_sum_probs': (4, 4, 1), 'is_distillation': (4,), 'seq_mask': (4, 103), 'msa_mask': (4, 508, 103), 'msa_row_mask': (4, 508), 'random_crop_to_size_seed': (4, 2), 'template_mask': (4, 4), 'template_pseudo_beta': (4, 4, 103, 3), 'template_pseudo_beta_mask': (4, 4, 103), 'atom14_atom_exists': (4, 103, 14), 'residx_atom14_to_atom37': (4, 103, 14), 'residx_atom37_to_atom14': (4, 103, 37), 'atom37_atom_exists': (4, 103, 37), 'extra_msa': (4, 1024, 103), 'extra_msa_mask': (4, 1024, 103), 'extra_msa_row_mask': (4, 1024), 'bert_mask': (4, 508, 103), 'true_msa': (4, 508, 103), 'extra_has_deletion': (4, 1024, 103), 'extra_deletion_value': (4, 1024, 103), 'msa_feat': (4, 508, 103, 49), 'target_feat': (4, 103, 22)}\n",
            "I0713 09:56:33.867980 136655768037184 model.py:175] Output shape was {'distogram': {'bin_edges': (63,), 'logits': (103, 103, 64)}, 'experimentally_resolved': {'logits': (103, 37)}, 'masked_msa': {'logits': (508, 103, 23)}, 'predicted_lddt': {'logits': (103, 50)}, 'structure_module': {'final_atom_mask': (103, 37), 'final_atom_positions': (103, 37, 3)}, 'plddt': (103,), 'ranking_confidence': ()}\n",
            "I0713 09:56:33.868211 136655768037184 parjax_cla_multi_GoogleColab.py:144] Total JAX model model_2_pred_0 on 8EM5 predict time (includes compilation time, see --benchmark): 153.6s\n",
            "I0713 09:56:33.891615 136655768037184 parjax_cla_multi_GoogleColab.py:132] Running model model_3_pred_0 on 8EM5\n",
            "I0713 09:56:35.530659 136655768037184 model.py:165] Running predict with shape(feat) = {'aatype': (4, 103), 'residue_index': (4, 103), 'seq_length': (4,), 'is_distillation': (4,), 'seq_mask': (4, 103), 'msa_mask': (4, 512, 103), 'msa_row_mask': (4, 512), 'random_crop_to_size_seed': (4, 2), 'atom14_atom_exists': (4, 103, 14), 'residx_atom14_to_atom37': (4, 103, 14), 'residx_atom37_to_atom14': (4, 103, 37), 'atom37_atom_exists': (4, 103, 37), 'extra_msa': (4, 5120, 103), 'extra_msa_mask': (4, 5120, 103), 'extra_msa_row_mask': (4, 5120), 'bert_mask': (4, 512, 103), 'true_msa': (4, 512, 103), 'extra_has_deletion': (4, 5120, 103), 'extra_deletion_value': (4, 5120, 103), 'msa_feat': (4, 512, 103, 49), 'target_feat': (4, 103, 22)}\n",
            "I0713 09:58:33.526123 136655768037184 model.py:175] Output shape was {'distogram': {'bin_edges': (63,), 'logits': (103, 103, 64)}, 'experimentally_resolved': {'logits': (103, 37)}, 'masked_msa': {'logits': (512, 103, 23)}, 'predicted_lddt': {'logits': (103, 50)}, 'structure_module': {'final_atom_mask': (103, 37), 'final_atom_positions': (103, 37, 3)}, 'plddt': (103,), 'ranking_confidence': ()}\n",
            "I0713 09:58:33.526337 136655768037184 parjax_cla_multi_GoogleColab.py:144] Total JAX model model_3_pred_0 on 8EM5 predict time (includes compilation time, see --benchmark): 118.0s\n",
            "I0713 09:58:33.549669 136655768037184 parjax_cla_multi_GoogleColab.py:132] Running model model_4_pred_0 on 8EM5\n",
            "I0713 09:58:35.244486 136655768037184 model.py:165] Running predict with shape(feat) = {'aatype': (4, 103), 'residue_index': (4, 103), 'seq_length': (4,), 'is_distillation': (4,), 'seq_mask': (4, 103), 'msa_mask': (4, 512, 103), 'msa_row_mask': (4, 512), 'random_crop_to_size_seed': (4, 2), 'atom14_atom_exists': (4, 103, 14), 'residx_atom14_to_atom37': (4, 103, 14), 'residx_atom37_to_atom14': (4, 103, 37), 'atom37_atom_exists': (4, 103, 37), 'extra_msa': (4, 5120, 103), 'extra_msa_mask': (4, 5120, 103), 'extra_msa_row_mask': (4, 5120), 'bert_mask': (4, 512, 103), 'true_msa': (4, 512, 103), 'extra_has_deletion': (4, 5120, 103), 'extra_deletion_value': (4, 5120, 103), 'msa_feat': (4, 512, 103, 49), 'target_feat': (4, 103, 22)}\n",
            "I0713 10:00:32.909847 136655768037184 model.py:175] Output shape was {'distogram': {'bin_edges': (63,), 'logits': (103, 103, 64)}, 'experimentally_resolved': {'logits': (103, 37)}, 'masked_msa': {'logits': (512, 103, 23)}, 'predicted_lddt': {'logits': (103, 50)}, 'structure_module': {'final_atom_mask': (103, 37), 'final_atom_positions': (103, 37, 3)}, 'plddt': (103,), 'ranking_confidence': ()}\n",
            "I0713 10:00:32.910056 136655768037184 parjax_cla_multi_GoogleColab.py:144] Total JAX model model_4_pred_0 on 8EM5 predict time (includes compilation time, see --benchmark): 117.7s\n",
            "I0713 10:00:32.933705 136655768037184 parjax_cla_multi_GoogleColab.py:132] Running model model_5_pred_0 on 8EM5\n",
            "I0713 10:00:34.632927 136655768037184 model.py:165] Running predict with shape(feat) = {'aatype': (4, 103), 'residue_index': (4, 103), 'seq_length': (4,), 'is_distillation': (4,), 'seq_mask': (4, 103), 'msa_mask': (4, 512, 103), 'msa_row_mask': (4, 512), 'random_crop_to_size_seed': (4, 2), 'atom14_atom_exists': (4, 103, 14), 'residx_atom14_to_atom37': (4, 103, 14), 'residx_atom37_to_atom14': (4, 103, 37), 'atom37_atom_exists': (4, 103, 37), 'extra_msa': (4, 1024, 103), 'extra_msa_mask': (4, 1024, 103), 'extra_msa_row_mask': (4, 1024), 'bert_mask': (4, 512, 103), 'true_msa': (4, 512, 103), 'extra_has_deletion': (4, 1024, 103), 'extra_deletion_value': (4, 1024, 103), 'msa_feat': (4, 512, 103, 49), 'target_feat': (4, 103, 22)}\n",
            "I0713 10:02:33.670956 136655768037184 model.py:175] Output shape was {'distogram': {'bin_edges': (63,), 'logits': (103, 103, 64)}, 'experimentally_resolved': {'logits': (103, 37)}, 'masked_msa': {'logits': (512, 103, 23)}, 'predicted_lddt': {'logits': (103, 50)}, 'structure_module': {'final_atom_mask': (103, 37), 'final_atom_positions': (103, 37, 3)}, 'plddt': (103,), 'ranking_confidence': ()}\n",
            "I0713 10:02:33.671192 136655768037184 parjax_cla_multi_GoogleColab.py:144] Total JAX model model_5_pred_0 on 8EM5 predict time (includes compilation time, see --benchmark): 119.0s\n",
            "W0713 10:02:33.841567 136655768037184 __init__.py:5] Warning: importing 'simtk.openmm' is deprecated.  Import 'openmm' instead.\n",
            "I0713 10:02:38.628430 136655768037184 amber_minimize.py:178] alterations info: {'nonstandard_residues': [], 'removed_heterogens': set(), 'missing_residues': {}, 'missing_heavy_atoms': {}, 'missing_terminals': {<Residue 102 (ALA) of chain 0>: ['OXT']}, 'Se_in_MET': [], 'removed_chains': {0: []}}\n",
            "I0713 10:02:38.858461 136655768037184 amber_minimize.py:408] Minimizing protein, attempt 1 of 100.\n",
            "I0713 10:02:39.073345 136655768037184 amber_minimize.py:69] Restraining 771 / 1522 particles.\n",
            "I0713 10:02:41.886013 136655768037184 amber_minimize.py:178] alterations info: {'nonstandard_residues': [], 'removed_heterogens': set(), 'missing_residues': {}, 'missing_heavy_atoms': {}, 'missing_terminals': {}, 'Se_in_MET': [], 'removed_chains': {0: []}}\n",
            "I0713 10:02:43.992580 136655768037184 amber_minimize.py:500] Iteration completed: Einit 216384030.59 Efinal -1388.96 Time 1.88 s num residue violations 0 num residue exclusions 0 \n",
            "I0713 10:02:44.057036 136655768037184 parjax_cla_multi_GoogleColab.py:231] Final timings for 8EM5: {'process_features_model_1_pred_0': 3.639202117919922, 'predict_and_compile_model_1_pred_0': 149.6859953403473, 'process_features_model_2_pred_0': 2.043588876724243, 'predict_and_compile_model_2_pred_0': 153.6115119457245, 'process_features_model_3_pred_0': 1.6387643814086914, 'predict_and_compile_model_3_pred_0': 117.99580764770508, 'process_features_model_4_pred_0': 1.6945295333862305, 'predict_and_compile_model_4_pred_0': 117.66569828987122, 'process_features_model_5_pred_0': 1.6989431381225586, 'predict_and_compile_model_5_pred_0': 119.0383939743042, 'relax_model_4_pred_0': 10.361041784286499}\n",
            "I0713 10:02:44.057712 136655768037184 parjax_cla_multi_GoogleColab.py:308] 8EM5 AlphaFold structure prediction COMPLETE\n",
            "I0713 10:02:44.057836 136655768037184 parjax_cla_multi_GoogleColab.py:107] Predicting 8PBV\n",
            "I0713 10:02:44.058485 136655768037184 parjax_cla_multi_GoogleColab.py:132] Running model model_1_pred_0 on 8PBV\n",
            "I0713 10:02:46.214984 136655768037184 model.py:165] Running predict with shape(feat) = {'aatype': (4, 116), 'residue_index': (4, 116), 'seq_length': (4,), 'template_aatype': (4, 4, 116), 'template_all_atom_masks': (4, 4, 116, 37), 'template_all_atom_positions': (4, 4, 116, 37, 3), 'template_sum_probs': (4, 4, 1), 'is_distillation': (4,), 'seq_mask': (4, 116), 'msa_mask': (4, 508, 116), 'msa_row_mask': (4, 508), 'random_crop_to_size_seed': (4, 2), 'template_mask': (4, 4), 'template_pseudo_beta': (4, 4, 116, 3), 'template_pseudo_beta_mask': (4, 4, 116), 'atom14_atom_exists': (4, 116, 14), 'residx_atom14_to_atom37': (4, 116, 14), 'residx_atom37_to_atom14': (4, 116, 37), 'atom37_atom_exists': (4, 116, 37), 'extra_msa': (4, 5120, 116), 'extra_msa_mask': (4, 5120, 116), 'extra_msa_row_mask': (4, 5120), 'bert_mask': (4, 508, 116), 'true_msa': (4, 508, 116), 'extra_has_deletion': (4, 5120, 116), 'extra_deletion_value': (4, 5120, 116), 'msa_feat': (4, 508, 116, 49), 'target_feat': (4, 116, 22)}\n",
            "I0713 10:05:18.074646 136655768037184 model.py:175] Output shape was {'distogram': {'bin_edges': (63,), 'logits': (116, 116, 64)}, 'experimentally_resolved': {'logits': (116, 37)}, 'masked_msa': {'logits': (508, 116, 23)}, 'predicted_lddt': {'logits': (116, 50)}, 'structure_module': {'final_atom_mask': (116, 37), 'final_atom_positions': (116, 37, 3)}, 'plddt': (116,), 'ranking_confidence': ()}\n",
            "I0713 10:05:18.074865 136655768037184 parjax_cla_multi_GoogleColab.py:144] Total JAX model model_1_pred_0 on 8PBV predict time (includes compilation time, see --benchmark): 151.9s\n",
            "I0713 10:05:18.101912 136655768037184 parjax_cla_multi_GoogleColab.py:132] Running model model_2_pred_0 on 8PBV\n",
            "I0713 10:05:20.285631 136655768037184 model.py:165] Running predict with shape(feat) = {'aatype': (4, 116), 'residue_index': (4, 116), 'seq_length': (4,), 'template_aatype': (4, 4, 116), 'template_all_atom_masks': (4, 4, 116, 37), 'template_all_atom_positions': (4, 4, 116, 37, 3), 'template_sum_probs': (4, 4, 1), 'is_distillation': (4,), 'seq_mask': (4, 116), 'msa_mask': (4, 508, 116), 'msa_row_mask': (4, 508), 'random_crop_to_size_seed': (4, 2), 'template_mask': (4, 4), 'template_pseudo_beta': (4, 4, 116, 3), 'template_pseudo_beta_mask': (4, 4, 116), 'atom14_atom_exists': (4, 116, 14), 'residx_atom14_to_atom37': (4, 116, 14), 'residx_atom37_to_atom14': (4, 116, 37), 'atom37_atom_exists': (4, 116, 37), 'extra_msa': (4, 1024, 116), 'extra_msa_mask': (4, 1024, 116), 'extra_msa_row_mask': (4, 1024), 'bert_mask': (4, 508, 116), 'true_msa': (4, 508, 116), 'extra_has_deletion': (4, 1024, 116), 'extra_deletion_value': (4, 1024, 116), 'msa_feat': (4, 508, 116, 49), 'target_feat': (4, 116, 22)}\n",
            "I0713 10:07:51.277248 136655768037184 model.py:175] Output shape was {'distogram': {'bin_edges': (63,), 'logits': (116, 116, 64)}, 'experimentally_resolved': {'logits': (116, 37)}, 'masked_msa': {'logits': (508, 116, 23)}, 'predicted_lddt': {'logits': (116, 50)}, 'structure_module': {'final_atom_mask': (116, 37), 'final_atom_positions': (116, 37, 3)}, 'plddt': (116,), 'ranking_confidence': ()}\n",
            "I0713 10:07:51.277464 136655768037184 parjax_cla_multi_GoogleColab.py:144] Total JAX model model_2_pred_0 on 8PBV predict time (includes compilation time, see --benchmark): 151.0s\n",
            "I0713 10:07:51.304449 136655768037184 parjax_cla_multi_GoogleColab.py:132] Running model model_3_pred_0 on 8PBV\n",
            "I0713 10:07:52.943502 136655768037184 model.py:165] Running predict with shape(feat) = {'aatype': (4, 116), 'residue_index': (4, 116), 'seq_length': (4,), 'is_distillation': (4,), 'seq_mask': (4, 116), 'msa_mask': (4, 512, 116), 'msa_row_mask': (4, 512), 'random_crop_to_size_seed': (4, 2), 'atom14_atom_exists': (4, 116, 14), 'residx_atom14_to_atom37': (4, 116, 14), 'residx_atom37_to_atom14': (4, 116, 37), 'atom37_atom_exists': (4, 116, 37), 'extra_msa': (4, 5120, 116), 'extra_msa_mask': (4, 5120, 116), 'extra_msa_row_mask': (4, 5120), 'bert_mask': (4, 512, 116), 'true_msa': (4, 512, 116), 'extra_has_deletion': (4, 5120, 116), 'extra_deletion_value': (4, 5120, 116), 'msa_feat': (4, 512, 116, 49), 'target_feat': (4, 116, 22)}\n",
            "I0713 10:09:48.170431 136655768037184 model.py:175] Output shape was {'distogram': {'bin_edges': (63,), 'logits': (116, 116, 64)}, 'experimentally_resolved': {'logits': (116, 37)}, 'masked_msa': {'logits': (512, 116, 23)}, 'predicted_lddt': {'logits': (116, 50)}, 'structure_module': {'final_atom_mask': (116, 37), 'final_atom_positions': (116, 37, 3)}, 'plddt': (116,), 'ranking_confidence': ()}\n",
            "I0713 10:09:48.170647 136655768037184 parjax_cla_multi_GoogleColab.py:144] Total JAX model model_3_pred_0 on 8PBV predict time (includes compilation time, see --benchmark): 115.2s\n",
            "I0713 10:09:48.197634 136655768037184 parjax_cla_multi_GoogleColab.py:132] Running model model_4_pred_0 on 8PBV\n",
            "I0713 10:09:49.869651 136655768037184 model.py:165] Running predict with shape(feat) = {'aatype': (4, 116), 'residue_index': (4, 116), 'seq_length': (4,), 'is_distillation': (4,), 'seq_mask': (4, 116), 'msa_mask': (4, 512, 116), 'msa_row_mask': (4, 512), 'random_crop_to_size_seed': (4, 2), 'atom14_atom_exists': (4, 116, 14), 'residx_atom14_to_atom37': (4, 116, 14), 'residx_atom37_to_atom14': (4, 116, 37), 'atom37_atom_exists': (4, 116, 37), 'extra_msa': (4, 5120, 116), 'extra_msa_mask': (4, 5120, 116), 'extra_msa_row_mask': (4, 5120), 'bert_mask': (4, 512, 116), 'true_msa': (4, 512, 116), 'extra_has_deletion': (4, 5120, 116), 'extra_deletion_value': (4, 5120, 116), 'msa_feat': (4, 512, 116, 49), 'target_feat': (4, 116, 22)}\n",
            "I0713 10:11:43.895099 136655768037184 model.py:175] Output shape was {'distogram': {'bin_edges': (63,), 'logits': (116, 116, 64)}, 'experimentally_resolved': {'logits': (116, 37)}, 'masked_msa': {'logits': (512, 116, 23)}, 'predicted_lddt': {'logits': (116, 50)}, 'structure_module': {'final_atom_mask': (116, 37), 'final_atom_positions': (116, 37, 3)}, 'plddt': (116,), 'ranking_confidence': ()}\n",
            "I0713 10:11:43.895315 136655768037184 parjax_cla_multi_GoogleColab.py:144] Total JAX model model_4_pred_0 on 8PBV predict time (includes compilation time, see --benchmark): 114.0s\n",
            "I0713 10:11:43.922521 136655768037184 parjax_cla_multi_GoogleColab.py:132] Running model model_5_pred_0 on 8PBV\n",
            "I0713 10:11:45.679802 136655768037184 model.py:165] Running predict with shape(feat) = {'aatype': (4, 116), 'residue_index': (4, 116), 'seq_length': (4,), 'is_distillation': (4,), 'seq_mask': (4, 116), 'msa_mask': (4, 512, 116), 'msa_row_mask': (4, 512), 'random_crop_to_size_seed': (4, 2), 'atom14_atom_exists': (4, 116, 14), 'residx_atom14_to_atom37': (4, 116, 14), 'residx_atom37_to_atom14': (4, 116, 37), 'atom37_atom_exists': (4, 116, 37), 'extra_msa': (4, 1024, 116), 'extra_msa_mask': (4, 1024, 116), 'extra_msa_row_mask': (4, 1024), 'bert_mask': (4, 512, 116), 'true_msa': (4, 512, 116), 'extra_has_deletion': (4, 1024, 116), 'extra_deletion_value': (4, 1024, 116), 'msa_feat': (4, 512, 116, 49), 'target_feat': (4, 116, 22)}\n",
            "I0713 10:13:40.173176 136655768037184 model.py:175] Output shape was {'distogram': {'bin_edges': (63,), 'logits': (116, 116, 64)}, 'experimentally_resolved': {'logits': (116, 37)}, 'masked_msa': {'logits': (512, 116, 23)}, 'predicted_lddt': {'logits': (116, 50)}, 'structure_module': {'final_atom_mask': (116, 37), 'final_atom_positions': (116, 37, 3)}, 'plddt': (116,), 'ranking_confidence': ()}\n",
            "I0713 10:13:40.173383 136655768037184 parjax_cla_multi_GoogleColab.py:144] Total JAX model model_5_pred_0 on 8PBV predict time (includes compilation time, see --benchmark): 114.5s\n",
            "I0713 10:13:44.995455 136655768037184 amber_minimize.py:178] alterations info: {'nonstandard_residues': [], 'removed_heterogens': set(), 'missing_residues': {}, 'missing_heavy_atoms': {}, 'missing_terminals': {<Residue 115 (GLN) of chain 0>: ['OXT']}, 'Se_in_MET': [], 'removed_chains': {0: []}}\n",
            "I0713 10:13:45.128179 136655768037184 amber_minimize.py:408] Minimizing protein, attempt 1 of 100.\n",
            "I0713 10:13:45.493738 136655768037184 amber_minimize.py:69] Restraining 915 / 1820 particles.\n",
            "I0713 10:13:48.413741 136655768037184 amber_minimize.py:178] alterations info: {'nonstandard_residues': [], 'removed_heterogens': set(), 'missing_residues': {}, 'missing_heavy_atoms': {}, 'missing_terminals': {}, 'Se_in_MET': [], 'removed_chains': {0: []}}\n",
            "I0713 10:13:50.427992 136655768037184 amber_minimize.py:500] Iteration completed: Einit 51981.07 Efinal -2132.41 Time 2.14 s num residue violations 0 num residue exclusions 0 \n",
            "I0713 10:13:50.607604 136655768037184 parjax_cla_multi_GoogleColab.py:231] Final timings for 8PBV: {'process_features_model_1_pred_0': 2.155137538909912, 'predict_and_compile_model_1_pred_0': 151.86114621162415, 'process_features_model_2_pred_0': 2.181434392929077, 'predict_and_compile_model_2_pred_0': 150.9939682483673, 'process_features_model_3_pred_0': 1.6387739181518555, 'predict_and_compile_model_3_pred_0': 115.22727584838867, 'process_features_model_4_pred_0': 1.671736240386963, 'predict_and_compile_model_4_pred_0': 114.0257887840271, 'process_features_model_5_pred_0': 1.7570021152496338, 'predict_and_compile_model_5_pred_0': 114.49371409416199, 'relax_model_4_pred_0': 10.405984163284302}\n",
            "I0713 10:13:50.608269 136655768037184 parjax_cla_multi_GoogleColab.py:308] 8PBV AlphaFold structure prediction COMPLETE\n",
            "I0713 10:13:50.608392 136655768037184 parjax_cla_multi_GoogleColab.py:107] Predicting 7ROA\n",
            "I0713 10:13:50.609123 136655768037184 parjax_cla_multi_GoogleColab.py:132] Running model model_1_pred_0 on 7ROA\n",
            "I0713 10:13:52.783689 136655768037184 model.py:165] Running predict with shape(feat) = {'aatype': (4, 136), 'residue_index': (4, 136), 'seq_length': (4,), 'template_aatype': (4, 4, 136), 'template_all_atom_masks': (4, 4, 136, 37), 'template_all_atom_positions': (4, 4, 136, 37, 3), 'template_sum_probs': (4, 4, 1), 'is_distillation': (4,), 'seq_mask': (4, 136), 'msa_mask': (4, 508, 136), 'msa_row_mask': (4, 508), 'random_crop_to_size_seed': (4, 2), 'template_mask': (4, 4), 'template_pseudo_beta': (4, 4, 136, 3), 'template_pseudo_beta_mask': (4, 4, 136), 'atom14_atom_exists': (4, 136, 14), 'residx_atom14_to_atom37': (4, 136, 14), 'residx_atom37_to_atom14': (4, 136, 37), 'atom37_atom_exists': (4, 136, 37), 'extra_msa': (4, 5120, 136), 'extra_msa_mask': (4, 5120, 136), 'extra_msa_row_mask': (4, 5120), 'bert_mask': (4, 508, 136), 'true_msa': (4, 508, 136), 'extra_has_deletion': (4, 5120, 136), 'extra_deletion_value': (4, 5120, 136), 'msa_feat': (4, 508, 136, 49), 'target_feat': (4, 136, 22)}\n",
            "I0713 10:16:30.243205 136655768037184 model.py:175] Output shape was {'distogram': {'bin_edges': (63,), 'logits': (136, 136, 64)}, 'experimentally_resolved': {'logits': (136, 37)}, 'masked_msa': {'logits': (508, 136, 23)}, 'predicted_lddt': {'logits': (136, 50)}, 'structure_module': {'final_atom_mask': (136, 37), 'final_atom_positions': (136, 37, 3)}, 'plddt': (136,), 'ranking_confidence': ()}\n",
            "I0713 10:16:30.243408 136655768037184 parjax_cla_multi_GoogleColab.py:144] Total JAX model model_1_pred_0 on 7ROA predict time (includes compilation time, see --benchmark): 157.5s\n",
            "I0713 10:16:30.275439 136655768037184 parjax_cla_multi_GoogleColab.py:132] Running model model_2_pred_0 on 7ROA\n",
            "I0713 10:16:32.493708 136655768037184 model.py:165] Running predict with shape(feat) = {'aatype': (4, 136), 'residue_index': (4, 136), 'seq_length': (4,), 'template_aatype': (4, 4, 136), 'template_all_atom_masks': (4, 4, 136, 37), 'template_all_atom_positions': (4, 4, 136, 37, 3), 'template_sum_probs': (4, 4, 1), 'is_distillation': (4,), 'seq_mask': (4, 136), 'msa_mask': (4, 508, 136), 'msa_row_mask': (4, 508), 'random_crop_to_size_seed': (4, 2), 'template_mask': (4, 4), 'template_pseudo_beta': (4, 4, 136, 3), 'template_pseudo_beta_mask': (4, 4, 136), 'atom14_atom_exists': (4, 136, 14), 'residx_atom14_to_atom37': (4, 136, 14), 'residx_atom37_to_atom14': (4, 136, 37), 'atom37_atom_exists': (4, 136, 37), 'extra_msa': (4, 1024, 136), 'extra_msa_mask': (4, 1024, 136), 'extra_msa_row_mask': (4, 1024), 'bert_mask': (4, 508, 136), 'true_msa': (4, 508, 136), 'extra_has_deletion': (4, 1024, 136), 'extra_deletion_value': (4, 1024, 136), 'msa_feat': (4, 508, 136, 49), 'target_feat': (4, 136, 22)}\n",
            "I0713 10:19:08.445984 136655768037184 model.py:175] Output shape was {'distogram': {'bin_edges': (63,), 'logits': (136, 136, 64)}, 'experimentally_resolved': {'logits': (136, 37)}, 'masked_msa': {'logits': (508, 136, 23)}, 'predicted_lddt': {'logits': (136, 50)}, 'structure_module': {'final_atom_mask': (136, 37), 'final_atom_positions': (136, 37, 3)}, 'plddt': (136,), 'ranking_confidence': ()}\n",
            "I0713 10:19:08.446215 136655768037184 parjax_cla_multi_GoogleColab.py:144] Total JAX model model_2_pred_0 on 7ROA predict time (includes compilation time, see --benchmark): 156.0s\n",
            "I0713 10:19:08.479514 136655768037184 parjax_cla_multi_GoogleColab.py:132] Running model model_3_pred_0 on 7ROA\n",
            "I0713 10:19:10.215458 136655768037184 model.py:165] Running predict with shape(feat) = {'aatype': (4, 136), 'residue_index': (4, 136), 'seq_length': (4,), 'is_distillation': (4,), 'seq_mask': (4, 136), 'msa_mask': (4, 512, 136), 'msa_row_mask': (4, 512), 'random_crop_to_size_seed': (4, 2), 'atom14_atom_exists': (4, 136, 14), 'residx_atom14_to_atom37': (4, 136, 14), 'residx_atom37_to_atom14': (4, 136, 37), 'atom37_atom_exists': (4, 136, 37), 'extra_msa': (4, 5120, 136), 'extra_msa_mask': (4, 5120, 136), 'extra_msa_row_mask': (4, 5120), 'bert_mask': (4, 512, 136), 'true_msa': (4, 512, 136), 'extra_has_deletion': (4, 5120, 136), 'extra_deletion_value': (4, 5120, 136), 'msa_feat': (4, 512, 136, 49), 'target_feat': (4, 136, 22)}\n",
            "I0713 10:21:07.950619 136655768037184 model.py:175] Output shape was {'distogram': {'bin_edges': (63,), 'logits': (136, 136, 64)}, 'experimentally_resolved': {'logits': (136, 37)}, 'masked_msa': {'logits': (512, 136, 23)}, 'predicted_lddt': {'logits': (136, 50)}, 'structure_module': {'final_atom_mask': (136, 37), 'final_atom_positions': (136, 37, 3)}, 'plddt': (136,), 'ranking_confidence': ()}\n",
            "I0713 10:21:07.950848 136655768037184 parjax_cla_multi_GoogleColab.py:144] Total JAX model model_3_pred_0 on 7ROA predict time (includes compilation time, see --benchmark): 117.7s\n",
            "I0713 10:21:07.982948 136655768037184 parjax_cla_multi_GoogleColab.py:132] Running model model_4_pred_0 on 7ROA\n",
            "I0713 10:21:09.698955 136655768037184 model.py:165] Running predict with shape(feat) = {'aatype': (4, 136), 'residue_index': (4, 136), 'seq_length': (4,), 'is_distillation': (4,), 'seq_mask': (4, 136), 'msa_mask': (4, 512, 136), 'msa_row_mask': (4, 512), 'random_crop_to_size_seed': (4, 2), 'atom14_atom_exists': (4, 136, 14), 'residx_atom14_to_atom37': (4, 136, 14), 'residx_atom37_to_atom14': (4, 136, 37), 'atom37_atom_exists': (4, 136, 37), 'extra_msa': (4, 5120, 136), 'extra_msa_mask': (4, 5120, 136), 'extra_msa_row_mask': (4, 5120), 'bert_mask': (4, 512, 136), 'true_msa': (4, 512, 136), 'extra_has_deletion': (4, 5120, 136), 'extra_deletion_value': (4, 5120, 136), 'msa_feat': (4, 512, 136, 49), 'target_feat': (4, 136, 22)}\n",
            "I0713 10:23:05.584425 136655768037184 model.py:175] Output shape was {'distogram': {'bin_edges': (63,), 'logits': (136, 136, 64)}, 'experimentally_resolved': {'logits': (136, 37)}, 'masked_msa': {'logits': (512, 136, 23)}, 'predicted_lddt': {'logits': (136, 50)}, 'structure_module': {'final_atom_mask': (136, 37), 'final_atom_positions': (136, 37, 3)}, 'plddt': (136,), 'ranking_confidence': ()}\n",
            "I0713 10:23:05.584633 136655768037184 parjax_cla_multi_GoogleColab.py:144] Total JAX model model_4_pred_0 on 7ROA predict time (includes compilation time, see --benchmark): 115.9s\n",
            "I0713 10:23:05.616922 136655768037184 parjax_cla_multi_GoogleColab.py:132] Running model model_5_pred_0 on 7ROA\n",
            "I0713 10:23:07.322269 136655768037184 model.py:165] Running predict with shape(feat) = {'aatype': (4, 136), 'residue_index': (4, 136), 'seq_length': (4,), 'is_distillation': (4,), 'seq_mask': (4, 136), 'msa_mask': (4, 512, 136), 'msa_row_mask': (4, 512), 'random_crop_to_size_seed': (4, 2), 'atom14_atom_exists': (4, 136, 14), 'residx_atom14_to_atom37': (4, 136, 14), 'residx_atom37_to_atom14': (4, 136, 37), 'atom37_atom_exists': (4, 136, 37), 'extra_msa': (4, 1024, 136), 'extra_msa_mask': (4, 1024, 136), 'extra_msa_row_mask': (4, 1024), 'bert_mask': (4, 512, 136), 'true_msa': (4, 512, 136), 'extra_has_deletion': (4, 1024, 136), 'extra_deletion_value': (4, 1024, 136), 'msa_feat': (4, 512, 136, 49), 'target_feat': (4, 136, 22)}\n",
            "I0713 10:25:03.214379 136655768037184 model.py:175] Output shape was {'distogram': {'bin_edges': (63,), 'logits': (136, 136, 64)}, 'experimentally_resolved': {'logits': (136, 37)}, 'masked_msa': {'logits': (512, 136, 23)}, 'predicted_lddt': {'logits': (136, 50)}, 'structure_module': {'final_atom_mask': (136, 37), 'final_atom_positions': (136, 37, 3)}, 'plddt': (136,), 'ranking_confidence': ()}\n",
            "I0713 10:25:03.214591 136655768037184 parjax_cla_multi_GoogleColab.py:144] Total JAX model model_5_pred_0 on 7ROA predict time (includes compilation time, see --benchmark): 115.9s\n",
            "I0713 10:25:07.904649 136655768037184 amber_minimize.py:178] alterations info: {'nonstandard_residues': [], 'removed_heterogens': set(), 'missing_residues': {}, 'missing_heavy_atoms': {}, 'missing_terminals': {<Residue 135 (SER) of chain 0>: ['OXT']}, 'Se_in_MET': [], 'removed_chains': {0: []}}\n",
            "I0713 10:25:08.186945 136655768037184 amber_minimize.py:408] Minimizing protein, attempt 1 of 100.\n",
            "I0713 10:25:08.575610 136655768037184 amber_minimize.py:69] Restraining 1043 / 2082 particles.\n",
            "I0713 10:25:11.397230 136655768037184 amber_minimize.py:178] alterations info: {'nonstandard_residues': [], 'removed_heterogens': set(), 'missing_residues': {}, 'missing_heavy_atoms': {}, 'missing_terminals': {}, 'Se_in_MET': [], 'removed_chains': {0: []}}\n",
            "I0713 10:25:13.601101 136655768037184 amber_minimize.py:500] Iteration completed: Einit 4583.23 Efinal -2355.91 Time 2.13 s num residue violations 0 num residue exclusions 0 \n",
            "I0713 10:25:13.670202 136655768037184 parjax_cla_multi_GoogleColab.py:231] Final timings for 7ROA: {'process_features_model_1_pred_0': 2.1726717948913574, 'predict_and_compile_model_1_pred_0': 157.46151423454285, 'process_features_model_2_pred_0': 2.2150864601135254, 'predict_and_compile_model_2_pred_0': 155.9555413722992, 'process_features_model_3_pred_0': 1.7356672286987305, 'predict_and_compile_model_3_pred_0': 117.73551630973816, 'process_features_model_4_pred_0': 1.7157227993011475, 'predict_and_compile_model_4_pred_0': 115.88580894470215, 'process_features_model_5_pred_0': 1.7050747871398926, 'predict_and_compile_model_5_pred_0': 115.89245533943176, 'relax_model_4_pred_0': 10.422000408172607}\n",
            "I0713 10:25:13.670951 136655768037184 parjax_cla_multi_GoogleColab.py:308] 7ROA AlphaFold structure prediction COMPLETE\n",
            "I0713 10:25:13.671092 136655768037184 parjax_cla_multi_GoogleColab.py:107] Predicting 7PZT\n",
            "I0713 10:25:13.671885 136655768037184 parjax_cla_multi_GoogleColab.py:132] Running model model_1_pred_0 on 7PZT\n",
            "I0713 10:25:15.757001 136655768037184 model.py:165] Running predict with shape(feat) = {'aatype': (4, 160), 'residue_index': (4, 160), 'seq_length': (4,), 'template_aatype': (4, 4, 160), 'template_all_atom_masks': (4, 4, 160, 37), 'template_all_atom_positions': (4, 4, 160, 37, 3), 'template_sum_probs': (4, 4, 1), 'is_distillation': (4,), 'seq_mask': (4, 160), 'msa_mask': (4, 508, 160), 'msa_row_mask': (4, 508), 'random_crop_to_size_seed': (4, 2), 'template_mask': (4, 4), 'template_pseudo_beta': (4, 4, 160, 3), 'template_pseudo_beta_mask': (4, 4, 160), 'atom14_atom_exists': (4, 160, 14), 'residx_atom14_to_atom37': (4, 160, 14), 'residx_atom37_to_atom14': (4, 160, 37), 'atom37_atom_exists': (4, 160, 37), 'extra_msa': (4, 5120, 160), 'extra_msa_mask': (4, 5120, 160), 'extra_msa_row_mask': (4, 5120), 'bert_mask': (4, 508, 160), 'true_msa': (4, 508, 160), 'extra_has_deletion': (4, 5120, 160), 'extra_deletion_value': (4, 5120, 160), 'msa_feat': (4, 508, 160, 49), 'target_feat': (4, 160, 22)}\n",
            "I0713 10:27:52.353681 136655768037184 model.py:175] Output shape was {'distogram': {'bin_edges': (63,), 'logits': (160, 160, 64)}, 'experimentally_resolved': {'logits': (160, 37)}, 'masked_msa': {'logits': (508, 160, 23)}, 'predicted_lddt': {'logits': (160, 50)}, 'structure_module': {'final_atom_mask': (160, 37), 'final_atom_positions': (160, 37, 3)}, 'plddt': (160,), 'ranking_confidence': ()}\n",
            "I0713 10:27:52.353901 136655768037184 parjax_cla_multi_GoogleColab.py:144] Total JAX model model_1_pred_0 on 7PZT predict time (includes compilation time, see --benchmark): 156.6s\n",
            "I0713 10:27:52.392522 136655768037184 parjax_cla_multi_GoogleColab.py:132] Running model model_2_pred_0 on 7PZT\n",
            "I0713 10:27:54.577642 136655768037184 model.py:165] Running predict with shape(feat) = {'aatype': (4, 160), 'residue_index': (4, 160), 'seq_length': (4,), 'template_aatype': (4, 4, 160), 'template_all_atom_masks': (4, 4, 160, 37), 'template_all_atom_positions': (4, 4, 160, 37, 3), 'template_sum_probs': (4, 4, 1), 'is_distillation': (4,), 'seq_mask': (4, 160), 'msa_mask': (4, 508, 160), 'msa_row_mask': (4, 508), 'random_crop_to_size_seed': (4, 2), 'template_mask': (4, 4), 'template_pseudo_beta': (4, 4, 160, 3), 'template_pseudo_beta_mask': (4, 4, 160), 'atom14_atom_exists': (4, 160, 14), 'residx_atom14_to_atom37': (4, 160, 14), 'residx_atom37_to_atom14': (4, 160, 37), 'atom37_atom_exists': (4, 160, 37), 'extra_msa': (4, 1024, 160), 'extra_msa_mask': (4, 1024, 160), 'extra_msa_row_mask': (4, 1024), 'bert_mask': (4, 508, 160), 'true_msa': (4, 508, 160), 'extra_has_deletion': (4, 1024, 160), 'extra_deletion_value': (4, 1024, 160), 'msa_feat': (4, 508, 160, 49), 'target_feat': (4, 160, 22)}\n",
            "I0713 10:30:29.074628 136655768037184 model.py:175] Output shape was {'distogram': {'bin_edges': (63,), 'logits': (160, 160, 64)}, 'experimentally_resolved': {'logits': (160, 37)}, 'masked_msa': {'logits': (508, 160, 23)}, 'predicted_lddt': {'logits': (160, 50)}, 'structure_module': {'final_atom_mask': (160, 37), 'final_atom_positions': (160, 37, 3)}, 'plddt': (160,), 'ranking_confidence': ()}\n",
            "I0713 10:30:29.074854 136655768037184 parjax_cla_multi_GoogleColab.py:144] Total JAX model model_2_pred_0 on 7PZT predict time (includes compilation time, see --benchmark): 154.5s\n",
            "I0713 10:30:29.114238 136655768037184 parjax_cla_multi_GoogleColab.py:132] Running model model_3_pred_0 on 7PZT\n",
            "I0713 10:30:30.958364 136655768037184 model.py:165] Running predict with shape(feat) = {'aatype': (4, 160), 'residue_index': (4, 160), 'seq_length': (4,), 'is_distillation': (4,), 'seq_mask': (4, 160), 'msa_mask': (4, 512, 160), 'msa_row_mask': (4, 512), 'random_crop_to_size_seed': (4, 2), 'atom14_atom_exists': (4, 160, 14), 'residx_atom14_to_atom37': (4, 160, 14), 'residx_atom37_to_atom14': (4, 160, 37), 'atom37_atom_exists': (4, 160, 37), 'extra_msa': (4, 5120, 160), 'extra_msa_mask': (4, 5120, 160), 'extra_msa_row_mask': (4, 5120), 'bert_mask': (4, 512, 160), 'true_msa': (4, 512, 160), 'extra_has_deletion': (4, 5120, 160), 'extra_deletion_value': (4, 5120, 160), 'msa_feat': (4, 512, 160, 49), 'target_feat': (4, 160, 22)}\n",
            "I0713 10:32:30.012017 136655768037184 model.py:175] Output shape was {'distogram': {'bin_edges': (63,), 'logits': (160, 160, 64)}, 'experimentally_resolved': {'logits': (160, 37)}, 'masked_msa': {'logits': (512, 160, 23)}, 'predicted_lddt': {'logits': (160, 50)}, 'structure_module': {'final_atom_mask': (160, 37), 'final_atom_positions': (160, 37, 3)}, 'plddt': (160,), 'ranking_confidence': ()}\n",
            "I0713 10:32:30.012249 136655768037184 parjax_cla_multi_GoogleColab.py:144] Total JAX model model_3_pred_0 on 7PZT predict time (includes compilation time, see --benchmark): 119.1s\n",
            "I0713 10:32:30.050906 136655768037184 parjax_cla_multi_GoogleColab.py:132] Running model model_4_pred_0 on 7PZT\n",
            "I0713 10:32:31.772507 136655768037184 model.py:165] Running predict with shape(feat) = {'aatype': (4, 160), 'residue_index': (4, 160), 'seq_length': (4,), 'is_distillation': (4,), 'seq_mask': (4, 160), 'msa_mask': (4, 512, 160), 'msa_row_mask': (4, 512), 'random_crop_to_size_seed': (4, 2), 'atom14_atom_exists': (4, 160, 14), 'residx_atom14_to_atom37': (4, 160, 14), 'residx_atom37_to_atom14': (4, 160, 37), 'atom37_atom_exists': (4, 160, 37), 'extra_msa': (4, 5120, 160), 'extra_msa_mask': (4, 5120, 160), 'extra_msa_row_mask': (4, 5120), 'bert_mask': (4, 512, 160), 'true_msa': (4, 512, 160), 'extra_has_deletion': (4, 5120, 160), 'extra_deletion_value': (4, 5120, 160), 'msa_feat': (4, 512, 160, 49), 'target_feat': (4, 160, 22)}\n",
            "I0713 10:34:32.201093 136655768037184 model.py:175] Output shape was {'distogram': {'bin_edges': (63,), 'logits': (160, 160, 64)}, 'experimentally_resolved': {'logits': (160, 37)}, 'masked_msa': {'logits': (512, 160, 23)}, 'predicted_lddt': {'logits': (160, 50)}, 'structure_module': {'final_atom_mask': (160, 37), 'final_atom_positions': (160, 37, 3)}, 'plddt': (160,), 'ranking_confidence': ()}\n",
            "I0713 10:34:32.201306 136655768037184 parjax_cla_multi_GoogleColab.py:144] Total JAX model model_4_pred_0 on 7PZT predict time (includes compilation time, see --benchmark): 120.4s\n",
            "I0713 10:34:32.239885 136655768037184 parjax_cla_multi_GoogleColab.py:132] Running model model_5_pred_0 on 7PZT\n",
            "I0713 10:34:33.994366 136655768037184 model.py:165] Running predict with shape(feat) = {'aatype': (4, 160), 'residue_index': (4, 160), 'seq_length': (4,), 'is_distillation': (4,), 'seq_mask': (4, 160), 'msa_mask': (4, 512, 160), 'msa_row_mask': (4, 512), 'random_crop_to_size_seed': (4, 2), 'atom14_atom_exists': (4, 160, 14), 'residx_atom14_to_atom37': (4, 160, 14), 'residx_atom37_to_atom14': (4, 160, 37), 'atom37_atom_exists': (4, 160, 37), 'extra_msa': (4, 1024, 160), 'extra_msa_mask': (4, 1024, 160), 'extra_msa_row_mask': (4, 1024), 'bert_mask': (4, 512, 160), 'true_msa': (4, 512, 160), 'extra_has_deletion': (4, 1024, 160), 'extra_deletion_value': (4, 1024, 160), 'msa_feat': (4, 512, 160, 49), 'target_feat': (4, 160, 22)}\n",
            "I0713 10:36:35.652957 136655768037184 model.py:175] Output shape was {'distogram': {'bin_edges': (63,), 'logits': (160, 160, 64)}, 'experimentally_resolved': {'logits': (160, 37)}, 'masked_msa': {'logits': (512, 160, 23)}, 'predicted_lddt': {'logits': (160, 50)}, 'structure_module': {'final_atom_mask': (160, 37), 'final_atom_positions': (160, 37, 3)}, 'plddt': (160,), 'ranking_confidence': ()}\n",
            "I0713 10:36:35.653192 136655768037184 parjax_cla_multi_GoogleColab.py:144] Total JAX model model_5_pred_0 on 7PZT predict time (includes compilation time, see --benchmark): 121.7s\n",
            "I0713 10:36:41.004051 136655768037184 amber_minimize.py:178] alterations info: {'nonstandard_residues': [], 'removed_heterogens': set(), 'missing_residues': {}, 'missing_heavy_atoms': {}, 'missing_terminals': {<Residue 159 (LEU) of chain 0>: ['OXT']}, 'Se_in_MET': [], 'removed_chains': {0: []}}\n",
            "I0713 10:36:41.191112 136655768037184 amber_minimize.py:408] Minimizing protein, attempt 1 of 100.\n",
            "I0713 10:36:41.630187 136655768037184 amber_minimize.py:69] Restraining 1245 / 2476 particles.\n",
            "I0713 10:36:45.182616 136655768037184 amber_minimize.py:178] alterations info: {'nonstandard_residues': [], 'removed_heterogens': set(), 'missing_residues': {}, 'missing_heavy_atoms': {}, 'missing_terminals': {}, 'Se_in_MET': [], 'removed_chains': {0: []}}\n",
            "I0713 10:36:47.565250 136655768037184 amber_minimize.py:500] Iteration completed: Einit 4371.36 Efinal -3598.06 Time 2.43 s num residue violations 0 num residue exclusions 0 \n",
            "I0713 10:36:47.645001 136655768037184 parjax_cla_multi_GoogleColab.py:231] Final timings for 7PZT: {'process_features_model_1_pred_0': 2.082902669906616, 'predict_and_compile_model_1_pred_0': 156.5990023612976, 'process_features_model_2_pred_0': 2.1827809810638428, 'predict_and_compile_model_2_pred_0': 154.49939966201782, 'process_features_model_3_pred_0': 1.8438470363616943, 'predict_and_compile_model_3_pred_0': 119.05401635169983, 'process_features_model_4_pred_0': 1.7213144302368164, 'predict_and_compile_model_4_pred_0': 120.4289321899414, 'process_features_model_5_pred_0': 1.7541909217834473, 'predict_and_compile_model_5_pred_0': 121.65896153450012, 'relax_model_5_pred_0': 11.950814962387085}\n",
            "I0713 10:36:47.645804 136655768037184 parjax_cla_multi_GoogleColab.py:308] 7PZT AlphaFold structure prediction COMPLETE\n",
            "I0713 10:36:47.645932 136655768037184 parjax_cla_multi_GoogleColab.py:107] Predicting 8D27\n",
            "I0713 10:36:47.694541 136655768037184 parjax_cla_multi_GoogleColab.py:132] Running model model_1_pred_0 on 8D27\n",
            "I0713 10:36:51.589520 136655768037184 model.py:165] Running predict with shape(feat) = {'aatype': (4, 287), 'residue_index': (4, 287), 'seq_length': (4,), 'template_aatype': (4, 4, 287), 'template_all_atom_masks': (4, 4, 287, 37), 'template_all_atom_positions': (4, 4, 287, 37, 3), 'template_sum_probs': (4, 4, 1), 'is_distillation': (4,), 'seq_mask': (4, 287), 'msa_mask': (4, 508, 287), 'msa_row_mask': (4, 508), 'random_crop_to_size_seed': (4, 2), 'template_mask': (4, 4), 'template_pseudo_beta': (4, 4, 287, 3), 'template_pseudo_beta_mask': (4, 4, 287), 'atom14_atom_exists': (4, 287, 14), 'residx_atom14_to_atom37': (4, 287, 14), 'residx_atom37_to_atom14': (4, 287, 37), 'atom37_atom_exists': (4, 287, 37), 'extra_msa': (4, 5120, 287), 'extra_msa_mask': (4, 5120, 287), 'extra_msa_row_mask': (4, 5120), 'bert_mask': (4, 508, 287), 'true_msa': (4, 508, 287), 'extra_has_deletion': (4, 5120, 287), 'extra_deletion_value': (4, 5120, 287), 'msa_feat': (4, 508, 287, 49), 'target_feat': (4, 287, 22)}\n",
            "I0713 10:39:52.373187 136655768037184 model.py:175] Output shape was {'distogram': {'bin_edges': (63,), 'logits': (287, 287, 64)}, 'experimentally_resolved': {'logits': (287, 37)}, 'masked_msa': {'logits': (508, 287, 23)}, 'predicted_lddt': {'logits': (287, 50)}, 'structure_module': {'final_atom_mask': (287, 37), 'final_atom_positions': (287, 37, 3)}, 'plddt': (287,), 'ranking_confidence': ()}\n",
            "I0713 10:39:52.373433 136655768037184 parjax_cla_multi_GoogleColab.py:144] Total JAX model model_1_pred_0 on 8D27 predict time (includes compilation time, see --benchmark): 180.8s\n",
            "I0713 10:39:52.468229 136655768037184 parjax_cla_multi_GoogleColab.py:132] Running model model_2_pred_0 on 8D27\n",
            "I0713 10:39:56.488624 136655768037184 model.py:165] Running predict with shape(feat) = {'aatype': (4, 287), 'residue_index': (4, 287), 'seq_length': (4,), 'template_aatype': (4, 4, 287), 'template_all_atom_masks': (4, 4, 287, 37), 'template_all_atom_positions': (4, 4, 287, 37, 3), 'template_sum_probs': (4, 4, 1), 'is_distillation': (4,), 'seq_mask': (4, 287), 'msa_mask': (4, 508, 287), 'msa_row_mask': (4, 508), 'random_crop_to_size_seed': (4, 2), 'template_mask': (4, 4), 'template_pseudo_beta': (4, 4, 287, 3), 'template_pseudo_beta_mask': (4, 4, 287), 'atom14_atom_exists': (4, 287, 14), 'residx_atom14_to_atom37': (4, 287, 14), 'residx_atom37_to_atom14': (4, 287, 37), 'atom37_atom_exists': (4, 287, 37), 'extra_msa': (4, 1024, 287), 'extra_msa_mask': (4, 1024, 287), 'extra_msa_row_mask': (4, 1024), 'bert_mask': (4, 508, 287), 'true_msa': (4, 508, 287), 'extra_has_deletion': (4, 1024, 287), 'extra_deletion_value': (4, 1024, 287), 'msa_feat': (4, 508, 287, 49), 'target_feat': (4, 287, 22)}\n",
            "I0713 10:42:54.783141 136655768037184 model.py:175] Output shape was {'distogram': {'bin_edges': (63,), 'logits': (287, 287, 64)}, 'experimentally_resolved': {'logits': (287, 37)}, 'masked_msa': {'logits': (508, 287, 23)}, 'predicted_lddt': {'logits': (287, 50)}, 'structure_module': {'final_atom_mask': (287, 37), 'final_atom_positions': (287, 37, 3)}, 'plddt': (287,), 'ranking_confidence': ()}\n",
            "I0713 10:42:54.783360 136655768037184 parjax_cla_multi_GoogleColab.py:144] Total JAX model model_2_pred_0 on 8D27 predict time (includes compilation time, see --benchmark): 178.3s\n",
            "I0713 10:42:54.881111 136655768037184 parjax_cla_multi_GoogleColab.py:132] Running model model_3_pred_0 on 8D27\n",
            "I0713 10:42:58.322787 136655768037184 model.py:165] Running predict with shape(feat) = {'aatype': (4, 287), 'residue_index': (4, 287), 'seq_length': (4,), 'is_distillation': (4,), 'seq_mask': (4, 287), 'msa_mask': (4, 512, 287), 'msa_row_mask': (4, 512), 'random_crop_to_size_seed': (4, 2), 'atom14_atom_exists': (4, 287, 14), 'residx_atom14_to_atom37': (4, 287, 14), 'residx_atom37_to_atom14': (4, 287, 37), 'atom37_atom_exists': (4, 287, 37), 'extra_msa': (4, 5120, 287), 'extra_msa_mask': (4, 5120, 287), 'extra_msa_row_mask': (4, 5120), 'bert_mask': (4, 512, 287), 'true_msa': (4, 512, 287), 'extra_has_deletion': (4, 5120, 287), 'extra_deletion_value': (4, 5120, 287), 'msa_feat': (4, 512, 287, 49), 'target_feat': (4, 287, 22)}\n",
            "I0713 10:45:17.984368 136655768037184 model.py:175] Output shape was {'distogram': {'bin_edges': (63,), 'logits': (287, 287, 64)}, 'experimentally_resolved': {'logits': (287, 37)}, 'masked_msa': {'logits': (512, 287, 23)}, 'predicted_lddt': {'logits': (287, 50)}, 'structure_module': {'final_atom_mask': (287, 37), 'final_atom_positions': (287, 37, 3)}, 'plddt': (287,), 'ranking_confidence': ()}\n",
            "I0713 10:45:17.984607 136655768037184 parjax_cla_multi_GoogleColab.py:144] Total JAX model model_3_pred_0 on 8D27 predict time (includes compilation time, see --benchmark): 139.7s\n",
            "I0713 10:45:18.075898 136655768037184 parjax_cla_multi_GoogleColab.py:132] Running model model_4_pred_0 on 8D27\n",
            "I0713 10:45:21.550824 136655768037184 model.py:165] Running predict with shape(feat) = {'aatype': (4, 287), 'residue_index': (4, 287), 'seq_length': (4,), 'is_distillation': (4,), 'seq_mask': (4, 287), 'msa_mask': (4, 512, 287), 'msa_row_mask': (4, 512), 'random_crop_to_size_seed': (4, 2), 'atom14_atom_exists': (4, 287, 14), 'residx_atom14_to_atom37': (4, 287, 14), 'residx_atom37_to_atom14': (4, 287, 37), 'atom37_atom_exists': (4, 287, 37), 'extra_msa': (4, 5120, 287), 'extra_msa_mask': (4, 5120, 287), 'extra_msa_row_mask': (4, 5120), 'bert_mask': (4, 512, 287), 'true_msa': (4, 512, 287), 'extra_has_deletion': (4, 5120, 287), 'extra_deletion_value': (4, 5120, 287), 'msa_feat': (4, 512, 287, 49), 'target_feat': (4, 287, 22)}\n",
            "I0713 10:47:37.551611 136655768037184 model.py:175] Output shape was {'distogram': {'bin_edges': (63,), 'logits': (287, 287, 64)}, 'experimentally_resolved': {'logits': (287, 37)}, 'masked_msa': {'logits': (512, 287, 23)}, 'predicted_lddt': {'logits': (287, 50)}, 'structure_module': {'final_atom_mask': (287, 37), 'final_atom_positions': (287, 37, 3)}, 'plddt': (287,), 'ranking_confidence': ()}\n",
            "I0713 10:47:37.551825 136655768037184 parjax_cla_multi_GoogleColab.py:144] Total JAX model model_4_pred_0 on 8D27 predict time (includes compilation time, see --benchmark): 136.0s\n",
            "I0713 10:47:37.647608 136655768037184 parjax_cla_multi_GoogleColab.py:132] Running model model_5_pred_0 on 8D27\n",
            "I0713 10:47:41.260096 136655768037184 model.py:165] Running predict with shape(feat) = {'aatype': (4, 287), 'residue_index': (4, 287), 'seq_length': (4,), 'is_distillation': (4,), 'seq_mask': (4, 287), 'msa_mask': (4, 512, 287), 'msa_row_mask': (4, 512), 'random_crop_to_size_seed': (4, 2), 'atom14_atom_exists': (4, 287, 14), 'residx_atom14_to_atom37': (4, 287, 14), 'residx_atom37_to_atom14': (4, 287, 37), 'atom37_atom_exists': (4, 287, 37), 'extra_msa': (4, 1024, 287), 'extra_msa_mask': (4, 1024, 287), 'extra_msa_row_mask': (4, 1024), 'bert_mask': (4, 512, 287), 'true_msa': (4, 512, 287), 'extra_has_deletion': (4, 1024, 287), 'extra_deletion_value': (4, 1024, 287), 'msa_feat': (4, 512, 287, 49), 'target_feat': (4, 287, 22)}\n",
            "I0713 10:49:56.615522 136655768037184 model.py:175] Output shape was {'distogram': {'bin_edges': (63,), 'logits': (287, 287, 64)}, 'experimentally_resolved': {'logits': (287, 37)}, 'masked_msa': {'logits': (512, 287, 23)}, 'predicted_lddt': {'logits': (287, 50)}, 'structure_module': {'final_atom_mask': (287, 37), 'final_atom_positions': (287, 37, 3)}, 'plddt': (287,), 'ranking_confidence': ()}\n",
            "I0713 10:49:56.615758 136655768037184 parjax_cla_multi_GoogleColab.py:144] Total JAX model model_5_pred_0 on 8D27 predict time (includes compilation time, see --benchmark): 135.4s\n",
            "I0713 10:50:03.080818 136655768037184 amber_minimize.py:178] alterations info: {'nonstandard_residues': [], 'removed_heterogens': set(), 'missing_residues': {}, 'missing_heavy_atoms': {}, 'missing_terminals': {<Residue 286 (TYR) of chain 0>: ['OXT']}, 'Se_in_MET': [], 'removed_chains': {0: []}}\n",
            "I0713 10:50:03.589616 136655768037184 amber_minimize.py:408] Minimizing protein, attempt 1 of 100.\n",
            "I0713 10:50:04.248346 136655768037184 amber_minimize.py:69] Restraining 2251 / 4495 particles.\n",
            "I0713 10:50:08.553498 136655768037184 amber_minimize.py:178] alterations info: {'nonstandard_residues': [], 'removed_heterogens': set(), 'missing_residues': {}, 'missing_heavy_atoms': {}, 'missing_terminals': {}, 'Se_in_MET': [], 'removed_chains': {0: []}}\n",
            "I0713 10:50:11.927260 136655768037184 amber_minimize.py:500] Iteration completed: Einit 5867.28 Efinal -5028.08 Time 2.44 s num residue violations 0 num residue exclusions 0 \n",
            "I0713 10:50:12.073285 136655768037184 parjax_cla_multi_GoogleColab.py:231] Final timings for 8D27: {'process_features_model_1_pred_0': 3.8922290802001953, 'predict_and_compile_model_1_pred_0': 180.7864842414856, 'process_features_model_2_pred_0': 4.017717361450195, 'predict_and_compile_model_2_pred_0': 178.29724526405334, 'process_features_model_3_pred_0': 3.441380739212036, 'predict_and_compile_model_3_pred_0': 139.661954164505, 'process_features_model_4_pred_0': 3.4745867252349854, 'predict_and_compile_model_4_pred_0': 136.0011432170868, 'process_features_model_5_pred_0': 3.612164258956909, 'predict_and_compile_model_5_pred_0': 135.35581040382385, 'relax_model_3_pred_0': 15.355907917022705}\n",
            "I0713 10:50:12.074177 136655768037184 parjax_cla_multi_GoogleColab.py:308] 8D27 AlphaFold structure prediction COMPLETE\n"
          ]
        }
      ],
      "source": [
        "%%bash\n",
        "source activate parafold\n",
        "\n",
        "python parjax_cla_multi_GoogleColab.py \\\n",
        "  --fasta_paths=/content/jaxalpha/multi/8EM5/8EM5.fasta,/content/jaxalpha/multi/8PBV/8PBV.fasta,/content/jaxalpha/multi/7ROA/7ROA.fasta,/content/jaxalpha/multi/7PZT/7PZT.fasta,/content/jaxalpha/multi/8D27/8D27.fasta  \\\n",
        "  --output_dir=/content/jaxalpha/multi/out_multi_Z_A/11_15 \\\n",
        "  --parameter_path=/content/ParallelFold/params \\\n",
        "  --feature_files=/content/jaxalpha/multi/8EM5/feature.pkl,/content/jaxalpha/multi/8PBV/feature.pkl,/content/jaxalpha/multi/7ROA/feature.pkl,/content/jaxalpha/multi/7PZT/feature.pkl,/content/jaxalpha/multi/8D27/feature.pkl \\\n",
        "  --use_gpu_relax=true\n"
      ]
    },
    {
      "cell_type": "code",
      "source": [
        "log_execution_time(start_time, cell_title)"
      ],
      "metadata": {
        "id": "VHsqPxzNHonp"
      },
      "execution_count": 24,
      "outputs": []
    },
    {
      "cell_type": "code",
      "execution_count": 25,
      "metadata": {
        "id": "W-_pdPajkI_n"
      },
      "outputs": [],
      "source": [
        "#@title zip_output\n",
        "%%capture\n",
        "cell_title = \"zip_output\"\n",
        "start_time = time.time()\n",
        "\n",
        "import zipfile\n",
        "import os\n",
        "from google.colab import drive\n",
        "\n",
        "# Mount Google Drive\n",
        "drive.mount('/content/drive')\n",
        "\n",
        "# Define the folder to zip\n",
        "folder_to_zip = '/content/jaxalpha/multi/out_multi_Z_A/11_15'\n",
        "\n",
        "# Define the output zip file name and path (in Google Drive)\n",
        "output_filename = '/content/drive/My Drive/parjax_cla_multi_11_15_Z_A_A100.zip'\n",
        "\n",
        "# Create the zip file\n",
        "with zipfile.ZipFile(output_filename, 'w', zipfile.ZIP_DEFLATED) as zipf:\n",
        "    for root, dirs, files in os.walk(folder_to_zip):\n",
        "        for file in files:\n",
        "            zipf.write(os.path.join(root, file),\n",
        "                       os.path.relpath(os.path.join(root, file),\n",
        "                                       os.path.join(folder_to_zip, '..')))\n",
        "\n",
        "log_execution_time(start_time, cell_title)"
      ]
    },
    {
      "cell_type": "code",
      "source": [
        "#log_execution_time(code_start_time, from_beginning_to_end)"
      ],
      "metadata": {
        "id": "b-pu4avGY3cU"
      },
      "execution_count": 26,
      "outputs": []
    }
  ],
  "metadata": {
    "colab": {
      "provenance": [],
      "machine_shape": "hm",
      "gpuType": "A100",
      "include_colab_link": true
    },
    "kernelspec": {
      "display_name": "Python 3",
      "name": "python3"
    },
    "language_info": {
      "name": "python"
    },
    "accelerator": "GPU"
  },
  "nbformat": 4,
  "nbformat_minor": 0
}