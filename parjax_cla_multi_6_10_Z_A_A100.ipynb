{
  "cells": [
    {
      "cell_type": "markdown",
      "metadata": {
        "id": "view-in-github",
        "colab_type": "text"
      },
      "source": [
        "<a href=\"https://colab.research.google.com/github/mohfercolab/colab_protein_sample/blob/main/parjax_cla_multi_6_10_Z_A_A100.ipynb\" target=\"_parent\"><img src=\"https://colab.research.google.com/assets/colab-badge.svg\" alt=\"Open In Colab\"/></a>"
      ]
    },
    {
      "cell_type": "code",
      "source": [
        "#@title Initialize_time\n",
        "import time\n",
        "\n",
        "# Initialize an empty file\n",
        "with open('/content/time_cell.txt', 'w') as file:\n",
        "    file.write('')\n",
        "\n",
        "\n",
        "def log_execution_time(start_time, cell_title):\n",
        "    end_time = time.time()\n",
        "    execution_time = end_time - start_time\n",
        "\n",
        "    with open('/content/time_cell.txt', 'a') as file:\n",
        "        file.write(f\"execution_time_{cell_title}, {execution_time}\\n\")\n",
        "\n",
        "from_beginning_to_end = \"Start_running_the_code\"\n",
        "code_start_time = time.time()"
      ],
      "metadata": {
        "id": "el4dU4_088Xh",
        "cellView": "form"
      },
      "execution_count": 1,
      "outputs": []
    },
    {
      "cell_type": "code",
      "execution_count": 2,
      "metadata": {
        "id": "Iu_wXmRquKlk",
        "cellView": "form"
      },
      "outputs": [],
      "source": [
        "#@title clone\n",
        "%%capture\n",
        "cell_title = \"clone\"\n",
        "start_time = time.time()\n",
        "\n",
        "!git clone https://github.com/Zuricho/ParallelFold.git\n",
        "!git clone https://github.com/fereidoon27/jaxalpha.git\n",
        "\n",
        "log_execution_time(start_time, cell_title)"
      ]
    },
    {
      "cell_type": "code",
      "execution_count": 3,
      "metadata": {
        "collapsed": true,
        "id": "71M2Wr3NuZfM",
        "cellView": "form"
      },
      "outputs": [],
      "source": [
        "#@title Miniconda\n",
        "%%capture\n",
        "cell_title = \"Miniconda\"\n",
        "start_time = time.time()\n",
        "\n",
        "# Install Miniconda\n",
        "!wget https://repo.anaconda.com/miniconda/Miniconda3-latest-Linux-x86_64.sh\n",
        "!chmod +x Miniconda3-latest-Linux-x86_64.sh\n",
        "!bash ./Miniconda3-latest-Linux-x86_64.sh -b -f -p /usr/local\n",
        "\n",
        "# Initialize Conda\n",
        "import sys\n",
        "sys.path.append('/usr/local/lib/python3.8/site-packages')\n",
        "\n",
        "# Configure conda\n",
        "!conda init bash\n",
        "!source ~/.bashrc\n",
        "\n",
        "# Update conda\n",
        "!conda update conda -y\n",
        "\n",
        "log_execution_time(start_time, cell_title)"
      ]
    },
    {
      "cell_type": "code",
      "execution_count": 4,
      "metadata": {
        "collapsed": true,
        "id": "lr6PZXRiufLc",
        "cellView": "form"
      },
      "outputs": [],
      "source": [
        "#@title parafold_env\n",
        "%%capture\n",
        "cell_title = \"parafold_env\"\n",
        "start_time = time.time()\n",
        "\n",
        "# Recommend you to use python 3.8, version < 3.7 have missing packages, python versions newer than 3.8 were not tested\n",
        "!conda create -n parafold python=3.8 -y\n",
        "\n",
        "log_execution_time(start_time, cell_title)"
      ]
    },
    {
      "cell_type": "code",
      "execution_count": 5,
      "metadata": {
        "id": "ag5mSJ5fvZRA",
        "cellView": "form"
      },
      "outputs": [],
      "source": [
        "#@title testing_activate_parafold\n",
        "%%capture\n",
        "cell_title = \"testing_activate_parafold\"\n",
        "start_time = time.time()\n",
        "\n",
        "!source activate parafold && { \\\n",
        "    echo \"Setting up the parafold environment\"; \\\n",
        "    echo \"Current Python version:\"; \\\n",
        "    python --version; \\\n",
        "    }\n",
        "\n",
        "log_execution_time(start_time, cell_title)"
      ]
    },
    {
      "cell_type": "code",
      "execution_count": 6,
      "metadata": {
        "id": "qw3B2zQgxgw1",
        "cellView": "form"
      },
      "outputs": [],
      "source": [
        "#@title install_py3dmol\n",
        "%%capture\n",
        "cell_title = \"install_py3dmol\"\n",
        "start_time = time.time()\n",
        "\n",
        "#install py3dmol\n",
        "!source activate parafold && pip install py3dmol\n",
        "\n",
        "log_execution_time(start_time, cell_title)"
      ]
    },
    {
      "cell_type": "code",
      "execution_count": 7,
      "metadata": {
        "collapsed": true,
        "id": "nhH-cpF51ao4",
        "cellView": "form"
      },
      "outputs": [],
      "source": [
        "#@title install_openmm\n",
        "%%capture\n",
        "cell_title = \"install_openmm\"\n",
        "start_time = time.time()\n",
        "\n",
        "# openmm 7.7 is recommended (original alphafold using 7.5.1, but it is not supported now)\n",
        "!source activate parafold && conda install -c conda-forge openmm=7.7 pdbfixer -y\n",
        "\n",
        "log_execution_time(start_time, cell_title)"
      ]
    },
    {
      "cell_type": "code",
      "execution_count": 8,
      "metadata": {
        "collapsed": true,
        "id": "uW7VE2hi1jwl",
        "cellView": "form"
      },
      "outputs": [],
      "source": [
        "#@title install_requirements\n",
        "%%capture\n",
        "cell_title = \"install_requirements\"\n",
        "start_time = time.time()\n",
        "\n",
        "%cd ParallelFold\n",
        "#install requirements\n",
        "!source activate parafold && pip3 install -r requirements.txt\n",
        "\n",
        "log_execution_time(start_time, cell_title)"
      ]
    },
    {
      "cell_type": "code",
      "execution_count": 9,
      "metadata": {
        "collapsed": true,
        "id": "1P1qlWikHrT4",
        "cellView": "form"
      },
      "outputs": [],
      "source": [
        "#@title install_cuda_and_cudnn\n",
        "%%capture\n",
        "cell_title = \"install_cuda_and_cudnn\"\n",
        "start_time = time.time()\n",
        "\n",
        "# cudatoolkit 11.3.1 matches cudnn 8.2.1\n",
        "!source activate parafold && echo 'y' | conda install cudatoolkit=11.3 cudnn -y\n",
        "\n",
        "log_execution_time(start_time, cell_title)"
      ]
    },
    {
      "cell_type": "code",
      "execution_count": 10,
      "metadata": {
        "collapsed": true,
        "id": "BdbRAX2JI44X",
        "cellView": "form"
      },
      "outputs": [],
      "source": [
        "#@title downgrade_jaxlib\n",
        "%%capture\n",
        "cell_title = \"downgrade_jaxlib\"\n",
        "start_time = time.time()\n",
        "\n",
        "# downgrade jaxlib to the correct version, matches with cuda and cudnn version\n",
        "!source activate parafold && pip3 install --upgrade --no-cache-dir jax==0.3.25 jaxlib==0.3.25+cuda11.cudnn82 -f https://storage.googleapis.com/jax-releases/jax_cuda_releases.html\n",
        "\n",
        "log_execution_time(start_time, cell_title)"
      ]
    },
    {
      "cell_type": "code",
      "execution_count": 11,
      "metadata": {
        "collapsed": true,
        "id": "-O_Df8cdJAKj",
        "cellView": "form"
      },
      "outputs": [],
      "source": [
        "#@title packages_for_MSA\n",
        "%%capture\n",
        "cell_title = \"packages_for_MSA\"\n",
        "start_time = time.time()\n",
        "\n",
        "# install packages for multiple sequence alignment\n",
        "!source activate parafold && conda install -c bioconda hmmer=3.3.2 hhsuite=3.3.0 kalign2=2.04 -y\n",
        "\n",
        "log_execution_time(start_time, cell_title)"
      ]
    },
    {
      "cell_type": "code",
      "execution_count": 12,
      "metadata": {
        "collapsed": true,
        "id": "zmue22y1c7LC",
        "cellView": "form"
      },
      "outputs": [],
      "source": [
        "#@title aria2\n",
        "%%capture\n",
        "cell_title = \"aria2\"\n",
        "start_time = time.time()\n",
        "\n",
        "!source activate parafold && conda install aria2 -y\n",
        "\n",
        "log_execution_time(start_time, cell_title)"
      ]
    },
    {
      "cell_type": "code",
      "source": [
        "#@title alphafold_params\n",
        "%%capture\n",
        "cell_title = \"alphafold_params\"\n",
        "start_time = time.time()\n",
        "\n",
        "!source activate parafold && bash /content/ParallelFold/scripts/download_alphafold_params.sh /content/ParallelFold\n",
        "\n",
        "log_execution_time(start_time, cell_title)"
      ],
      "metadata": {
        "id": "iglOn5cGF7gC",
        "cellView": "form"
      },
      "execution_count": 13,
      "outputs": []
    },
    {
      "cell_type": "code",
      "execution_count": 14,
      "metadata": {
        "collapsed": true,
        "id": "IOE5ESGGOaT5",
        "colab": {
          "base_uri": "https://localhost:8080/"
        },
        "outputId": "7c3389fe-1f36-434a-89db-48b0fc5c1adb"
      },
      "outputs": [
        {
          "output_type": "stream",
          "name": "stdout",
          "text": [
            "/content/ParallelFold\n"
          ]
        }
      ],
      "source": [
        "#@title directory\n",
        "!mv /content/jaxalpha/parjax_cla_multi_GoogleColab.py /content/ParallelFold\n",
        "%cd /content/ParallelFold/\n",
        "#!chmod +x parjax_cla_multi_GoogleColab.sh"
      ]
    },
    {
      "cell_type": "code",
      "source": [
        "cell_title = \"prediction\"\n",
        "start_time = time.time()"
      ],
      "metadata": {
        "id": "QzSv4dVwHnr1"
      },
      "execution_count": 15,
      "outputs": []
    },
    {
      "cell_type": "code",
      "execution_count": 16,
      "metadata": {
        "collapsed": true,
        "id": "HiqjNrx6jnLE",
        "colab": {
          "base_uri": "https://localhost:8080/"
        },
        "outputId": "257bfa81-030e-4066-86e6-52c0cb90a664"
      },
      "outputs": [
        {
          "output_type": "stream",
          "name": "stderr",
          "text": [
            "I0713 08:45:05.451366 135137081931584 xla_bridge.py:353] Unable to initialize backend 'tpu_driver': NOT_FOUND: Unable to find driver in registry given worker: \n",
            "I0713 08:45:05.573354 135137081931584 xla_bridge.py:353] Unable to initialize backend 'rocm': NOT_FOUND: Could not find registered platform with name: \"rocm\". Available platform names are: Host CUDA Interpreter\n",
            "I0713 08:45:05.573782 135137081931584 xla_bridge.py:353] Unable to initialize backend 'tpu': module 'jaxlib.xla_extension' has no attribute 'get_tpu_client'\n",
            "I0713 08:45:05.573892 135137081931584 xla_bridge.py:353] Unable to initialize backend 'plugin': xla_extension has no attributes named get_plugin_device_client. Compile TensorFlow with //tensorflow/compiler/xla/python:enable_plugin_device set to true (defaults to false) to enable this.\n",
            "I0713 08:45:10.075582 135137081931584 parjax_cla_multi_GoogleColab.py:279] Have 5 models: ['model_1_pred_0', 'model_2_pred_0', 'model_3_pred_0', 'model_4_pred_0', 'model_5_pred_0']\n",
            "I0713 08:45:10.075762 135137081931584 parjax_cla_multi_GoogleColab.py:293] Using random seed 1552333207207329091 for the data pipeline\n",
            "I0713 08:45:10.075997 135137081931584 parjax_cla_multi_GoogleColab.py:107] Predicting 7CN6\n",
            "I0713 08:45:10.076839 135137081931584 parjax_cla_multi_GoogleColab.py:132] Running model model_1_pred_0 on 7CN6\n",
            "W0713 08:45:10.834721 135137081931584 deprecation.py:350] From /usr/local/envs/parafold/lib/python3.8/site-packages/tensorflow/python/autograph/pyct/static_analysis/liveness.py:83: Analyzer.lamba_check (from tensorflow.python.autograph.pyct.static_analysis.liveness) is deprecated and will be removed after 2023-09-23.\n",
            "Instructions for updating:\n",
            "Lambda fuctions will be no more assumed to be used in the statement where they are used, or at least in the same block. https://github.com/tensorflow/tensorflow/issues/56089\n",
            "I0713 08:45:13.578610 135137081931584 model.py:165] Running predict with shape(feat) = {'aatype': (4, 75), 'residue_index': (4, 75), 'seq_length': (4,), 'template_aatype': (4, 4, 75), 'template_all_atom_masks': (4, 4, 75, 37), 'template_all_atom_positions': (4, 4, 75, 37, 3), 'template_sum_probs': (4, 4, 1), 'is_distillation': (4,), 'seq_mask': (4, 75), 'msa_mask': (4, 508, 75), 'msa_row_mask': (4, 508), 'random_crop_to_size_seed': (4, 2), 'template_mask': (4, 4), 'template_pseudo_beta': (4, 4, 75, 3), 'template_pseudo_beta_mask': (4, 4, 75), 'atom14_atom_exists': (4, 75, 14), 'residx_atom14_to_atom37': (4, 75, 14), 'residx_atom37_to_atom14': (4, 75, 37), 'atom37_atom_exists': (4, 75, 37), 'extra_msa': (4, 5120, 75), 'extra_msa_mask': (4, 5120, 75), 'extra_msa_row_mask': (4, 5120), 'bert_mask': (4, 508, 75), 'true_msa': (4, 508, 75), 'extra_has_deletion': (4, 5120, 75), 'extra_deletion_value': (4, 5120, 75), 'msa_feat': (4, 508, 75, 49), 'target_feat': (4, 75, 22)}\n",
            "I0713 08:47:44.278598 135137081931584 model.py:175] Output shape was {'distogram': {'bin_edges': (63,), 'logits': (75, 75, 64)}, 'experimentally_resolved': {'logits': (75, 37)}, 'masked_msa': {'logits': (508, 75, 23)}, 'predicted_lddt': {'logits': (75, 50)}, 'structure_module': {'final_atom_mask': (75, 37), 'final_atom_positions': (75, 37, 3)}, 'plddt': (75,), 'ranking_confidence': ()}\n",
            "I0713 08:47:44.278784 135137081931584 parjax_cla_multi_GoogleColab.py:144] Total JAX model model_1_pred_0 on 7CN6 predict time (includes compilation time, see --benchmark): 150.7s\n",
            "I0713 08:47:44.295860 135137081931584 parjax_cla_multi_GoogleColab.py:132] Running model model_2_pred_0 on 7CN6\n",
            "I0713 08:47:46.250597 135137081931584 model.py:165] Running predict with shape(feat) = {'aatype': (4, 75), 'residue_index': (4, 75), 'seq_length': (4,), 'template_aatype': (4, 4, 75), 'template_all_atom_masks': (4, 4, 75, 37), 'template_all_atom_positions': (4, 4, 75, 37, 3), 'template_sum_probs': (4, 4, 1), 'is_distillation': (4,), 'seq_mask': (4, 75), 'msa_mask': (4, 508, 75), 'msa_row_mask': (4, 508), 'random_crop_to_size_seed': (4, 2), 'template_mask': (4, 4), 'template_pseudo_beta': (4, 4, 75, 3), 'template_pseudo_beta_mask': (4, 4, 75), 'atom14_atom_exists': (4, 75, 14), 'residx_atom14_to_atom37': (4, 75, 14), 'residx_atom37_to_atom14': (4, 75, 37), 'atom37_atom_exists': (4, 75, 37), 'extra_msa': (4, 1024, 75), 'extra_msa_mask': (4, 1024, 75), 'extra_msa_row_mask': (4, 1024), 'bert_mask': (4, 508, 75), 'true_msa': (4, 508, 75), 'extra_has_deletion': (4, 1024, 75), 'extra_deletion_value': (4, 1024, 75), 'msa_feat': (4, 508, 75, 49), 'target_feat': (4, 75, 22)}\n",
            "I0713 08:50:21.761238 135137081931584 model.py:175] Output shape was {'distogram': {'bin_edges': (63,), 'logits': (75, 75, 64)}, 'experimentally_resolved': {'logits': (75, 37)}, 'masked_msa': {'logits': (508, 75, 23)}, 'predicted_lddt': {'logits': (75, 50)}, 'structure_module': {'final_atom_mask': (75, 37), 'final_atom_positions': (75, 37, 3)}, 'plddt': (75,), 'ranking_confidence': ()}\n",
            "I0713 08:50:21.761439 135137081931584 parjax_cla_multi_GoogleColab.py:144] Total JAX model model_2_pred_0 on 7CN6 predict time (includes compilation time, see --benchmark): 155.5s\n",
            "I0713 08:50:21.778365 135137081931584 parjax_cla_multi_GoogleColab.py:132] Running model model_3_pred_0 on 7CN6\n",
            "I0713 08:50:23.330559 135137081931584 model.py:165] Running predict with shape(feat) = {'aatype': (4, 75), 'residue_index': (4, 75), 'seq_length': (4,), 'is_distillation': (4,), 'seq_mask': (4, 75), 'msa_mask': (4, 512, 75), 'msa_row_mask': (4, 512), 'random_crop_to_size_seed': (4, 2), 'atom14_atom_exists': (4, 75, 14), 'residx_atom14_to_atom37': (4, 75, 14), 'residx_atom37_to_atom14': (4, 75, 37), 'atom37_atom_exists': (4, 75, 37), 'extra_msa': (4, 5120, 75), 'extra_msa_mask': (4, 5120, 75), 'extra_msa_row_mask': (4, 5120), 'bert_mask': (4, 512, 75), 'true_msa': (4, 512, 75), 'extra_has_deletion': (4, 5120, 75), 'extra_deletion_value': (4, 5120, 75), 'msa_feat': (4, 512, 75, 49), 'target_feat': (4, 75, 22)}\n",
            "I0713 08:52:22.707272 135137081931584 model.py:175] Output shape was {'distogram': {'bin_edges': (63,), 'logits': (75, 75, 64)}, 'experimentally_resolved': {'logits': (75, 37)}, 'masked_msa': {'logits': (512, 75, 23)}, 'predicted_lddt': {'logits': (75, 50)}, 'structure_module': {'final_atom_mask': (75, 37), 'final_atom_positions': (75, 37, 3)}, 'plddt': (75,), 'ranking_confidence': ()}\n",
            "I0713 08:52:22.707488 135137081931584 parjax_cla_multi_GoogleColab.py:144] Total JAX model model_3_pred_0 on 7CN6 predict time (includes compilation time, see --benchmark): 119.4s\n",
            "I0713 08:52:22.724511 135137081931584 parjax_cla_multi_GoogleColab.py:132] Running model model_4_pred_0 on 7CN6\n",
            "I0713 08:52:24.354287 135137081931584 model.py:165] Running predict with shape(feat) = {'aatype': (4, 75), 'residue_index': (4, 75), 'seq_length': (4,), 'is_distillation': (4,), 'seq_mask': (4, 75), 'msa_mask': (4, 512, 75), 'msa_row_mask': (4, 512), 'random_crop_to_size_seed': (4, 2), 'atom14_atom_exists': (4, 75, 14), 'residx_atom14_to_atom37': (4, 75, 14), 'residx_atom37_to_atom14': (4, 75, 37), 'atom37_atom_exists': (4, 75, 37), 'extra_msa': (4, 5120, 75), 'extra_msa_mask': (4, 5120, 75), 'extra_msa_row_mask': (4, 5120), 'bert_mask': (4, 512, 75), 'true_msa': (4, 512, 75), 'extra_has_deletion': (4, 5120, 75), 'extra_deletion_value': (4, 5120, 75), 'msa_feat': (4, 512, 75, 49), 'target_feat': (4, 75, 22)}\n",
            "I0713 08:54:23.788711 135137081931584 model.py:175] Output shape was {'distogram': {'bin_edges': (63,), 'logits': (75, 75, 64)}, 'experimentally_resolved': {'logits': (75, 37)}, 'masked_msa': {'logits': (512, 75, 23)}, 'predicted_lddt': {'logits': (75, 50)}, 'structure_module': {'final_atom_mask': (75, 37), 'final_atom_positions': (75, 37, 3)}, 'plddt': (75,), 'ranking_confidence': ()}\n",
            "I0713 08:54:23.788928 135137081931584 parjax_cla_multi_GoogleColab.py:144] Total JAX model model_4_pred_0 on 7CN6 predict time (includes compilation time, see --benchmark): 119.4s\n",
            "I0713 08:54:23.806449 135137081931584 parjax_cla_multi_GoogleColab.py:132] Running model model_5_pred_0 on 7CN6\n",
            "I0713 08:54:25.441000 135137081931584 model.py:165] Running predict with shape(feat) = {'aatype': (4, 75), 'residue_index': (4, 75), 'seq_length': (4,), 'is_distillation': (4,), 'seq_mask': (4, 75), 'msa_mask': (4, 512, 75), 'msa_row_mask': (4, 512), 'random_crop_to_size_seed': (4, 2), 'atom14_atom_exists': (4, 75, 14), 'residx_atom14_to_atom37': (4, 75, 14), 'residx_atom37_to_atom14': (4, 75, 37), 'atom37_atom_exists': (4, 75, 37), 'extra_msa': (4, 1024, 75), 'extra_msa_mask': (4, 1024, 75), 'extra_msa_row_mask': (4, 1024), 'bert_mask': (4, 512, 75), 'true_msa': (4, 512, 75), 'extra_has_deletion': (4, 1024, 75), 'extra_deletion_value': (4, 1024, 75), 'msa_feat': (4, 512, 75, 49), 'target_feat': (4, 75, 22)}\n",
            "I0713 08:56:26.247364 135137081931584 model.py:175] Output shape was {'distogram': {'bin_edges': (63,), 'logits': (75, 75, 64)}, 'experimentally_resolved': {'logits': (75, 37)}, 'masked_msa': {'logits': (512, 75, 23)}, 'predicted_lddt': {'logits': (75, 50)}, 'structure_module': {'final_atom_mask': (75, 37), 'final_atom_positions': (75, 37, 3)}, 'plddt': (75,), 'ranking_confidence': ()}\n",
            "I0713 08:56:26.247571 135137081931584 parjax_cla_multi_GoogleColab.py:144] Total JAX model model_5_pred_0 on 7CN6 predict time (includes compilation time, see --benchmark): 120.8s\n",
            "W0713 08:56:26.390245 135137081931584 __init__.py:5] Warning: importing 'simtk.openmm' is deprecated.  Import 'openmm' instead.\n",
            "I0713 08:56:32.554991 135137081931584 amber_minimize.py:178] alterations info: {'nonstandard_residues': [], 'removed_heterogens': set(), 'missing_residues': {}, 'missing_heavy_atoms': {}, 'missing_terminals': {<Residue 74 (GLU) of chain 0>: ['OXT']}, 'Se_in_MET': [], 'removed_chains': {0: []}}\n",
            "I0713 08:56:32.646441 135137081931584 amber_minimize.py:408] Minimizing protein, attempt 1 of 100.\n",
            "I0713 08:56:32.963654 135137081931584 amber_minimize.py:69] Restraining 605 / 1192 particles.\n",
            "I0713 08:56:35.640254 135137081931584 amber_minimize.py:178] alterations info: {'nonstandard_residues': [], 'removed_heterogens': set(), 'missing_residues': {}, 'missing_heavy_atoms': {}, 'missing_terminals': {}, 'Se_in_MET': [], 'removed_chains': {0: []}}\n",
            "I0713 08:56:37.995089 135137081931584 amber_minimize.py:500] Iteration completed: Einit 2093.30 Efinal -1441.14 Time 2.11 s num residue violations 0 num residue exclusions 0 \n",
            "I0713 08:56:38.053572 135137081931584 parjax_cla_multi_GoogleColab.py:231] Final timings for 7CN6: {'process_features_model_1_pred_0': 3.5012733936309814, 'predict_and_compile_model_1_pred_0': 150.70055389404297, 'process_features_model_2_pred_0': 1.9540023803710938, 'predict_and_compile_model_2_pred_0': 155.51144099235535, 'process_features_model_3_pred_0': 1.5519227981567383, 'predict_and_compile_model_3_pred_0': 119.37704491615295, 'process_features_model_4_pred_0': 1.6295044422149658, 'predict_and_compile_model_4_pred_0': 119.43476867675781, 'process_features_model_5_pred_0': 1.634263515472412, 'predict_and_compile_model_5_pred_0': 120.80670475959778, 'relax_model_3_pred_0': 11.787567853927612}\n",
            "I0713 08:56:38.054263 135137081931584 parjax_cla_multi_GoogleColab.py:308] 7CN6 AlphaFold structure prediction COMPLETE\n",
            "I0713 08:56:38.054386 135137081931584 parjax_cla_multi_GoogleColab.py:107] Predicting 7JTL\n",
            "I0713 08:56:38.055056 135137081931584 parjax_cla_multi_GoogleColab.py:132] Running model model_1_pred_0 on 7JTL\n",
            "I0713 08:56:40.168210 135137081931584 model.py:165] Running predict with shape(feat) = {'aatype': (4, 107), 'residue_index': (4, 107), 'seq_length': (4,), 'template_aatype': (4, 4, 107), 'template_all_atom_masks': (4, 4, 107, 37), 'template_all_atom_positions': (4, 4, 107, 37, 3), 'template_sum_probs': (4, 4, 1), 'is_distillation': (4,), 'seq_mask': (4, 107), 'msa_mask': (4, 508, 107), 'msa_row_mask': (4, 508), 'random_crop_to_size_seed': (4, 2), 'template_mask': (4, 4), 'template_pseudo_beta': (4, 4, 107, 3), 'template_pseudo_beta_mask': (4, 4, 107), 'atom14_atom_exists': (4, 107, 14), 'residx_atom14_to_atom37': (4, 107, 14), 'residx_atom37_to_atom14': (4, 107, 37), 'atom37_atom_exists': (4, 107, 37), 'extra_msa': (4, 5120, 107), 'extra_msa_mask': (4, 5120, 107), 'extra_msa_row_mask': (4, 5120), 'bert_mask': (4, 508, 107), 'true_msa': (4, 508, 107), 'extra_has_deletion': (4, 5120, 107), 'extra_deletion_value': (4, 5120, 107), 'msa_feat': (4, 508, 107, 49), 'target_feat': (4, 107, 22)}\n",
            "I0713 08:59:27.510686 135137081931584 model.py:175] Output shape was {'distogram': {'bin_edges': (63,), 'logits': (107, 107, 64)}, 'experimentally_resolved': {'logits': (107, 37)}, 'masked_msa': {'logits': (508, 107, 23)}, 'predicted_lddt': {'logits': (107, 50)}, 'structure_module': {'final_atom_mask': (107, 37), 'final_atom_positions': (107, 37, 3)}, 'plddt': (107,), 'ranking_confidence': ()}\n",
            "I0713 08:59:27.510911 135137081931584 parjax_cla_multi_GoogleColab.py:144] Total JAX model model_1_pred_0 on 7JTL predict time (includes compilation time, see --benchmark): 167.3s\n",
            "I0713 08:59:27.536363 135137081931584 parjax_cla_multi_GoogleColab.py:132] Running model model_2_pred_0 on 7JTL\n",
            "I0713 08:59:29.728837 135137081931584 model.py:165] Running predict with shape(feat) = {'aatype': (4, 107), 'residue_index': (4, 107), 'seq_length': (4,), 'template_aatype': (4, 4, 107), 'template_all_atom_masks': (4, 4, 107, 37), 'template_all_atom_positions': (4, 4, 107, 37, 3), 'template_sum_probs': (4, 4, 1), 'is_distillation': (4,), 'seq_mask': (4, 107), 'msa_mask': (4, 508, 107), 'msa_row_mask': (4, 508), 'random_crop_to_size_seed': (4, 2), 'template_mask': (4, 4), 'template_pseudo_beta': (4, 4, 107, 3), 'template_pseudo_beta_mask': (4, 4, 107), 'atom14_atom_exists': (4, 107, 14), 'residx_atom14_to_atom37': (4, 107, 14), 'residx_atom37_to_atom14': (4, 107, 37), 'atom37_atom_exists': (4, 107, 37), 'extra_msa': (4, 1024, 107), 'extra_msa_mask': (4, 1024, 107), 'extra_msa_row_mask': (4, 1024), 'bert_mask': (4, 508, 107), 'true_msa': (4, 508, 107), 'extra_has_deletion': (4, 1024, 107), 'extra_deletion_value': (4, 1024, 107), 'msa_feat': (4, 508, 107, 49), 'target_feat': (4, 107, 22)}\n",
            "I0713 09:02:14.164088 135137081931584 model.py:175] Output shape was {'distogram': {'bin_edges': (63,), 'logits': (107, 107, 64)}, 'experimentally_resolved': {'logits': (107, 37)}, 'masked_msa': {'logits': (508, 107, 23)}, 'predicted_lddt': {'logits': (107, 50)}, 'structure_module': {'final_atom_mask': (107, 37), 'final_atom_positions': (107, 37, 3)}, 'plddt': (107,), 'ranking_confidence': ()}\n",
            "I0713 09:02:14.164304 135137081931584 parjax_cla_multi_GoogleColab.py:144] Total JAX model model_2_pred_0 on 7JTL predict time (includes compilation time, see --benchmark): 164.4s\n",
            "I0713 09:02:14.189013 135137081931584 parjax_cla_multi_GoogleColab.py:132] Running model model_3_pred_0 on 7JTL\n",
            "I0713 09:02:15.832613 135137081931584 model.py:165] Running predict with shape(feat) = {'aatype': (4, 107), 'residue_index': (4, 107), 'seq_length': (4,), 'is_distillation': (4,), 'seq_mask': (4, 107), 'msa_mask': (4, 512, 107), 'msa_row_mask': (4, 512), 'random_crop_to_size_seed': (4, 2), 'atom14_atom_exists': (4, 107, 14), 'residx_atom14_to_atom37': (4, 107, 14), 'residx_atom37_to_atom14': (4, 107, 37), 'atom37_atom_exists': (4, 107, 37), 'extra_msa': (4, 5120, 107), 'extra_msa_mask': (4, 5120, 107), 'extra_msa_row_mask': (4, 5120), 'bert_mask': (4, 512, 107), 'true_msa': (4, 512, 107), 'extra_has_deletion': (4, 5120, 107), 'extra_deletion_value': (4, 5120, 107), 'msa_feat': (4, 512, 107, 49), 'target_feat': (4, 107, 22)}\n",
            "I0713 09:04:17.562196 135137081931584 model.py:175] Output shape was {'distogram': {'bin_edges': (63,), 'logits': (107, 107, 64)}, 'experimentally_resolved': {'logits': (107, 37)}, 'masked_msa': {'logits': (512, 107, 23)}, 'predicted_lddt': {'logits': (107, 50)}, 'structure_module': {'final_atom_mask': (107, 37), 'final_atom_positions': (107, 37, 3)}, 'plddt': (107,), 'ranking_confidence': ()}\n",
            "I0713 09:04:17.562408 135137081931584 parjax_cla_multi_GoogleColab.py:144] Total JAX model model_3_pred_0 on 7JTL predict time (includes compilation time, see --benchmark): 121.7s\n",
            "I0713 09:04:17.588380 135137081931584 parjax_cla_multi_GoogleColab.py:132] Running model model_4_pred_0 on 7JTL\n",
            "I0713 09:04:19.306575 135137081931584 model.py:165] Running predict with shape(feat) = {'aatype': (4, 107), 'residue_index': (4, 107), 'seq_length': (4,), 'is_distillation': (4,), 'seq_mask': (4, 107), 'msa_mask': (4, 512, 107), 'msa_row_mask': (4, 512), 'random_crop_to_size_seed': (4, 2), 'atom14_atom_exists': (4, 107, 14), 'residx_atom14_to_atom37': (4, 107, 14), 'residx_atom37_to_atom14': (4, 107, 37), 'atom37_atom_exists': (4, 107, 37), 'extra_msa': (4, 5120, 107), 'extra_msa_mask': (4, 5120, 107), 'extra_msa_row_mask': (4, 5120), 'bert_mask': (4, 512, 107), 'true_msa': (4, 512, 107), 'extra_has_deletion': (4, 5120, 107), 'extra_deletion_value': (4, 5120, 107), 'msa_feat': (4, 512, 107, 49), 'target_feat': (4, 107, 22)}\n",
            "I0713 09:06:18.072183 135137081931584 model.py:175] Output shape was {'distogram': {'bin_edges': (63,), 'logits': (107, 107, 64)}, 'experimentally_resolved': {'logits': (107, 37)}, 'masked_msa': {'logits': (512, 107, 23)}, 'predicted_lddt': {'logits': (107, 50)}, 'structure_module': {'final_atom_mask': (107, 37), 'final_atom_positions': (107, 37, 3)}, 'plddt': (107,), 'ranking_confidence': ()}\n",
            "I0713 09:06:18.072390 135137081931584 parjax_cla_multi_GoogleColab.py:144] Total JAX model model_4_pred_0 on 7JTL predict time (includes compilation time, see --benchmark): 118.8s\n",
            "I0713 09:06:18.097193 135137081931584 parjax_cla_multi_GoogleColab.py:132] Running model model_5_pred_0 on 7JTL\n",
            "I0713 09:06:19.755513 135137081931584 model.py:165] Running predict with shape(feat) = {'aatype': (4, 107), 'residue_index': (4, 107), 'seq_length': (4,), 'is_distillation': (4,), 'seq_mask': (4, 107), 'msa_mask': (4, 512, 107), 'msa_row_mask': (4, 512), 'random_crop_to_size_seed': (4, 2), 'atom14_atom_exists': (4, 107, 14), 'residx_atom14_to_atom37': (4, 107, 14), 'residx_atom37_to_atom14': (4, 107, 37), 'atom37_atom_exists': (4, 107, 37), 'extra_msa': (4, 1024, 107), 'extra_msa_mask': (4, 1024, 107), 'extra_msa_row_mask': (4, 1024), 'bert_mask': (4, 512, 107), 'true_msa': (4, 512, 107), 'extra_has_deletion': (4, 1024, 107), 'extra_deletion_value': (4, 1024, 107), 'msa_feat': (4, 512, 107, 49), 'target_feat': (4, 107, 22)}\n",
            "I0713 09:08:18.504340 135137081931584 model.py:175] Output shape was {'distogram': {'bin_edges': (63,), 'logits': (107, 107, 64)}, 'experimentally_resolved': {'logits': (107, 37)}, 'masked_msa': {'logits': (512, 107, 23)}, 'predicted_lddt': {'logits': (107, 50)}, 'structure_module': {'final_atom_mask': (107, 37), 'final_atom_positions': (107, 37, 3)}, 'plddt': (107,), 'ranking_confidence': ()}\n",
            "I0713 09:08:18.504553 135137081931584 parjax_cla_multi_GoogleColab.py:144] Total JAX model model_5_pred_0 on 7JTL predict time (includes compilation time, see --benchmark): 118.7s\n",
            "I0713 09:08:23.410342 135137081931584 amber_minimize.py:178] alterations info: {'nonstandard_residues': [], 'removed_heterogens': set(), 'missing_residues': {}, 'missing_heavy_atoms': {}, 'missing_terminals': {<Residue 106 (ILE) of chain 0>: ['OXT']}, 'Se_in_MET': [], 'removed_chains': {0: []}}\n",
            "I0713 09:08:23.663899 135137081931584 amber_minimize.py:408] Minimizing protein, attempt 1 of 100.\n",
            "I0713 09:08:23.892598 135137081931584 amber_minimize.py:69] Restraining 858 / 1680 particles.\n",
            "I0713 09:08:26.962533 135137081931584 amber_minimize.py:178] alterations info: {'nonstandard_residues': [], 'removed_heterogens': set(), 'missing_residues': {}, 'missing_heavy_atoms': {}, 'missing_terminals': {}, 'Se_in_MET': [], 'removed_chains': {0: []}}\n",
            "I0713 09:08:28.997392 135137081931584 amber_minimize.py:500] Iteration completed: Einit 3284.66 Efinal -1701.07 Time 1.97 s num residue violations 0 num residue exclusions 0 \n",
            "I0713 09:08:29.052232 135137081931584 parjax_cla_multi_GoogleColab.py:231] Final timings for 7JTL: {'process_features_model_1_pred_0': 2.1116418838500977, 'predict_and_compile_model_1_pred_0': 167.34409356117249, 'process_features_model_2_pred_0': 2.1897594928741455, 'predict_and_compile_model_2_pred_0': 164.43801832199097, 'process_features_model_3_pred_0': 1.6433095932006836, 'predict_and_compile_model_3_pred_0': 121.72990918159485, 'process_features_model_4_pred_0': 1.7179296016693115, 'predict_and_compile_model_4_pred_0': 118.76594138145447, 'process_features_model_5_pred_0': 1.6580567359924316, 'predict_and_compile_model_5_pred_0': 118.74916338920593, 'relax_model_3_pred_0': 10.521471500396729}\n",
            "I0713 09:08:29.052897 135137081931584 parjax_cla_multi_GoogleColab.py:308] 7JTL AlphaFold structure prediction COMPLETE\n",
            "I0713 09:08:29.053015 135137081931584 parjax_cla_multi_GoogleColab.py:107] Predicting 7CWP\n",
            "I0713 09:08:29.054112 135137081931584 parjax_cla_multi_GoogleColab.py:132] Running model model_1_pred_0 on 7CWP\n",
            "I0713 09:08:31.165555 135137081931584 model.py:165] Running predict with shape(feat) = {'aatype': (4, 138), 'residue_index': (4, 138), 'seq_length': (4,), 'template_aatype': (4, 4, 138), 'template_all_atom_masks': (4, 4, 138, 37), 'template_all_atom_positions': (4, 4, 138, 37, 3), 'template_sum_probs': (4, 4, 1), 'is_distillation': (4,), 'seq_mask': (4, 138), 'msa_mask': (4, 508, 138), 'msa_row_mask': (4, 508), 'random_crop_to_size_seed': (4, 2), 'template_mask': (4, 4), 'template_pseudo_beta': (4, 4, 138, 3), 'template_pseudo_beta_mask': (4, 4, 138), 'atom14_atom_exists': (4, 138, 14), 'residx_atom14_to_atom37': (4, 138, 14), 'residx_atom37_to_atom14': (4, 138, 37), 'atom37_atom_exists': (4, 138, 37), 'extra_msa': (4, 5120, 138), 'extra_msa_mask': (4, 5120, 138), 'extra_msa_row_mask': (4, 5120), 'bert_mask': (4, 508, 138), 'true_msa': (4, 508, 138), 'extra_has_deletion': (4, 5120, 138), 'extra_deletion_value': (4, 5120, 138), 'msa_feat': (4, 508, 138, 49), 'target_feat': (4, 138, 22)}\n",
            "I0713 09:11:14.841741 135137081931584 model.py:175] Output shape was {'distogram': {'bin_edges': (63,), 'logits': (138, 138, 64)}, 'experimentally_resolved': {'logits': (138, 37)}, 'masked_msa': {'logits': (508, 138, 23)}, 'predicted_lddt': {'logits': (138, 50)}, 'structure_module': {'final_atom_mask': (138, 37), 'final_atom_positions': (138, 37, 3)}, 'plddt': (138,), 'ranking_confidence': ()}\n",
            "I0713 09:11:14.841943 135137081931584 parjax_cla_multi_GoogleColab.py:144] Total JAX model model_1_pred_0 on 7CWP predict time (includes compilation time, see --benchmark): 163.7s\n",
            "I0713 09:11:14.874205 135137081931584 parjax_cla_multi_GoogleColab.py:132] Running model model_2_pred_0 on 7CWP\n",
            "I0713 09:11:17.078752 135137081931584 model.py:165] Running predict with shape(feat) = {'aatype': (4, 138), 'residue_index': (4, 138), 'seq_length': (4,), 'template_aatype': (4, 4, 138), 'template_all_atom_masks': (4, 4, 138, 37), 'template_all_atom_positions': (4, 4, 138, 37, 3), 'template_sum_probs': (4, 4, 1), 'is_distillation': (4,), 'seq_mask': (4, 138), 'msa_mask': (4, 508, 138), 'msa_row_mask': (4, 508), 'random_crop_to_size_seed': (4, 2), 'template_mask': (4, 4), 'template_pseudo_beta': (4, 4, 138, 3), 'template_pseudo_beta_mask': (4, 4, 138), 'atom14_atom_exists': (4, 138, 14), 'residx_atom14_to_atom37': (4, 138, 14), 'residx_atom37_to_atom14': (4, 138, 37), 'atom37_atom_exists': (4, 138, 37), 'extra_msa': (4, 1024, 138), 'extra_msa_mask': (4, 1024, 138), 'extra_msa_row_mask': (4, 1024), 'bert_mask': (4, 508, 138), 'true_msa': (4, 508, 138), 'extra_has_deletion': (4, 1024, 138), 'extra_deletion_value': (4, 1024, 138), 'msa_feat': (4, 508, 138, 49), 'target_feat': (4, 138, 22)}\n",
            "I0713 09:13:58.723670 135137081931584 model.py:175] Output shape was {'distogram': {'bin_edges': (63,), 'logits': (138, 138, 64)}, 'experimentally_resolved': {'logits': (138, 37)}, 'masked_msa': {'logits': (508, 138, 23)}, 'predicted_lddt': {'logits': (138, 50)}, 'structure_module': {'final_atom_mask': (138, 37), 'final_atom_positions': (138, 37, 3)}, 'plddt': (138,), 'ranking_confidence': ()}\n",
            "I0713 09:13:58.723875 135137081931584 parjax_cla_multi_GoogleColab.py:144] Total JAX model model_2_pred_0 on 7CWP predict time (includes compilation time, see --benchmark): 161.6s\n",
            "I0713 09:13:58.756240 135137081931584 parjax_cla_multi_GoogleColab.py:132] Running model model_3_pred_0 on 7CWP\n",
            "I0713 09:14:00.449458 135137081931584 model.py:165] Running predict with shape(feat) = {'aatype': (4, 138), 'residue_index': (4, 138), 'seq_length': (4,), 'is_distillation': (4,), 'seq_mask': (4, 138), 'msa_mask': (4, 512, 138), 'msa_row_mask': (4, 512), 'random_crop_to_size_seed': (4, 2), 'atom14_atom_exists': (4, 138, 14), 'residx_atom14_to_atom37': (4, 138, 14), 'residx_atom37_to_atom14': (4, 138, 37), 'atom37_atom_exists': (4, 138, 37), 'extra_msa': (4, 5120, 138), 'extra_msa_mask': (4, 5120, 138), 'extra_msa_row_mask': (4, 5120), 'bert_mask': (4, 512, 138), 'true_msa': (4, 512, 138), 'extra_has_deletion': (4, 5120, 138), 'extra_deletion_value': (4, 5120, 138), 'msa_feat': (4, 512, 138, 49), 'target_feat': (4, 138, 22)}\n",
            "I0713 09:16:03.083175 135137081931584 model.py:175] Output shape was {'distogram': {'bin_edges': (63,), 'logits': (138, 138, 64)}, 'experimentally_resolved': {'logits': (138, 37)}, 'masked_msa': {'logits': (512, 138, 23)}, 'predicted_lddt': {'logits': (138, 50)}, 'structure_module': {'final_atom_mask': (138, 37), 'final_atom_positions': (138, 37, 3)}, 'plddt': (138,), 'ranking_confidence': ()}\n",
            "I0713 09:16:03.083372 135137081931584 parjax_cla_multi_GoogleColab.py:144] Total JAX model model_3_pred_0 on 7CWP predict time (includes compilation time, see --benchmark): 122.6s\n",
            "I0713 09:16:03.115745 135137081931584 parjax_cla_multi_GoogleColab.py:132] Running model model_4_pred_0 on 7CWP\n",
            "I0713 09:16:04.986724 135137081931584 model.py:165] Running predict with shape(feat) = {'aatype': (4, 138), 'residue_index': (4, 138), 'seq_length': (4,), 'is_distillation': (4,), 'seq_mask': (4, 138), 'msa_mask': (4, 512, 138), 'msa_row_mask': (4, 512), 'random_crop_to_size_seed': (4, 2), 'atom14_atom_exists': (4, 138, 14), 'residx_atom14_to_atom37': (4, 138, 14), 'residx_atom37_to_atom14': (4, 138, 37), 'atom37_atom_exists': (4, 138, 37), 'extra_msa': (4, 5120, 138), 'extra_msa_mask': (4, 5120, 138), 'extra_msa_row_mask': (4, 5120), 'bert_mask': (4, 512, 138), 'true_msa': (4, 512, 138), 'extra_has_deletion': (4, 5120, 138), 'extra_deletion_value': (4, 5120, 138), 'msa_feat': (4, 512, 138, 49), 'target_feat': (4, 138, 22)}\n",
            "I0713 09:18:07.011849 135137081931584 model.py:175] Output shape was {'distogram': {'bin_edges': (63,), 'logits': (138, 138, 64)}, 'experimentally_resolved': {'logits': (138, 37)}, 'masked_msa': {'logits': (512, 138, 23)}, 'predicted_lddt': {'logits': (138, 50)}, 'structure_module': {'final_atom_mask': (138, 37), 'final_atom_positions': (138, 37, 3)}, 'plddt': (138,), 'ranking_confidence': ()}\n",
            "I0713 09:18:07.012057 135137081931584 parjax_cla_multi_GoogleColab.py:144] Total JAX model model_4_pred_0 on 7CWP predict time (includes compilation time, see --benchmark): 122.0s\n",
            "I0713 09:18:07.044333 135137081931584 parjax_cla_multi_GoogleColab.py:132] Running model model_5_pred_0 on 7CWP\n",
            "I0713 09:18:08.864540 135137081931584 model.py:165] Running predict with shape(feat) = {'aatype': (4, 138), 'residue_index': (4, 138), 'seq_length': (4,), 'is_distillation': (4,), 'seq_mask': (4, 138), 'msa_mask': (4, 512, 138), 'msa_row_mask': (4, 512), 'random_crop_to_size_seed': (4, 2), 'atom14_atom_exists': (4, 138, 14), 'residx_atom14_to_atom37': (4, 138, 14), 'residx_atom37_to_atom14': (4, 138, 37), 'atom37_atom_exists': (4, 138, 37), 'extra_msa': (4, 1024, 138), 'extra_msa_mask': (4, 1024, 138), 'extra_msa_row_mask': (4, 1024), 'bert_mask': (4, 512, 138), 'true_msa': (4, 512, 138), 'extra_has_deletion': (4, 1024, 138), 'extra_deletion_value': (4, 1024, 138), 'msa_feat': (4, 512, 138, 49), 'target_feat': (4, 138, 22)}\n",
            "I0713 09:20:13.997986 135137081931584 model.py:175] Output shape was {'distogram': {'bin_edges': (63,), 'logits': (138, 138, 64)}, 'experimentally_resolved': {'logits': (138, 37)}, 'masked_msa': {'logits': (512, 138, 23)}, 'predicted_lddt': {'logits': (138, 50)}, 'structure_module': {'final_atom_mask': (138, 37), 'final_atom_positions': (138, 37, 3)}, 'plddt': (138,), 'ranking_confidence': ()}\n",
            "I0713 09:20:13.998273 135137081931584 parjax_cla_multi_GoogleColab.py:144] Total JAX model model_5_pred_0 on 7CWP predict time (includes compilation time, see --benchmark): 125.1s\n",
            "I0713 09:20:19.245168 135137081931584 amber_minimize.py:178] alterations info: {'nonstandard_residues': [], 'removed_heterogens': set(), 'missing_residues': {}, 'missing_heavy_atoms': {}, 'missing_terminals': {<Residue 137 (HIS) of chain 0>: ['OXT']}, 'Se_in_MET': [], 'removed_chains': {0: []}}\n",
            "I0713 09:20:19.529016 135137081931584 amber_minimize.py:408] Minimizing protein, attempt 1 of 100.\n",
            "I0713 09:20:19.916598 135137081931584 amber_minimize.py:69] Restraining 1034 / 2014 particles.\n",
            "I0713 09:20:23.212191 135137081931584 amber_minimize.py:178] alterations info: {'nonstandard_residues': [], 'removed_heterogens': set(), 'missing_residues': {}, 'missing_heavy_atoms': {}, 'missing_terminals': {}, 'Se_in_MET': [], 'removed_chains': {0: []}}\n",
            "I0713 09:20:25.393564 135137081931584 amber_minimize.py:500] Iteration completed: Einit 2890.71 Efinal -1828.83 Time 2.20 s num residue violations 0 num residue exclusions 0 \n",
            "I0713 09:20:25.459443 135137081931584 parjax_cla_multi_GoogleColab.py:231] Final timings for 7CWP: {'process_features_model_1_pred_0': 2.109494924545288, 'predict_and_compile_model_1_pred_0': 163.67823910713196, 'process_features_model_2_pred_0': 2.201960802078247, 'predict_and_compile_model_2_pred_0': 161.64757204055786, 'process_features_model_3_pred_0': 1.692943811416626, 'predict_and_compile_model_3_pred_0': 122.63404512405396, 'process_features_model_4_pred_0': 1.8706951141357422, 'predict_and_compile_model_4_pred_0': 122.02547121047974, 'process_features_model_5_pred_0': 1.8199248313903809, 'predict_and_compile_model_5_pred_0': 125.13386416435242, 'relax_model_3_pred_0': 11.427582502365112}\n",
            "I0713 09:20:25.460340 135137081931584 parjax_cla_multi_GoogleColab.py:308] 7CWP AlphaFold structure prediction COMPLETE\n",
            "I0713 09:20:25.460458 135137081931584 parjax_cla_multi_GoogleColab.py:107] Predicting 6Y4F\n",
            "I0713 09:20:25.461358 135137081931584 parjax_cla_multi_GoogleColab.py:132] Running model model_1_pred_0 on 6Y4F\n",
            "I0713 09:20:27.618542 135137081931584 model.py:165] Running predict with shape(feat) = {'aatype': (4, 141), 'residue_index': (4, 141), 'seq_length': (4,), 'template_aatype': (4, 4, 141), 'template_all_atom_masks': (4, 4, 141, 37), 'template_all_atom_positions': (4, 4, 141, 37, 3), 'template_sum_probs': (4, 4, 1), 'is_distillation': (4,), 'seq_mask': (4, 141), 'msa_mask': (4, 508, 141), 'msa_row_mask': (4, 508), 'random_crop_to_size_seed': (4, 2), 'template_mask': (4, 4), 'template_pseudo_beta': (4, 4, 141, 3), 'template_pseudo_beta_mask': (4, 4, 141), 'atom14_atom_exists': (4, 141, 14), 'residx_atom14_to_atom37': (4, 141, 14), 'residx_atom37_to_atom14': (4, 141, 37), 'atom37_atom_exists': (4, 141, 37), 'extra_msa': (4, 5120, 141), 'extra_msa_mask': (4, 5120, 141), 'extra_msa_row_mask': (4, 5120), 'bert_mask': (4, 508, 141), 'true_msa': (4, 508, 141), 'extra_has_deletion': (4, 5120, 141), 'extra_deletion_value': (4, 5120, 141), 'msa_feat': (4, 508, 141, 49), 'target_feat': (4, 141, 22)}\n",
            "I0713 09:23:16.153582 135137081931584 model.py:175] Output shape was {'distogram': {'bin_edges': (63,), 'logits': (141, 141, 64)}, 'experimentally_resolved': {'logits': (141, 37)}, 'masked_msa': {'logits': (508, 141, 23)}, 'predicted_lddt': {'logits': (141, 50)}, 'structure_module': {'final_atom_mask': (141, 37), 'final_atom_positions': (141, 37, 3)}, 'plddt': (141,), 'ranking_confidence': ()}\n",
            "I0713 09:23:16.153801 135137081931584 parjax_cla_multi_GoogleColab.py:144] Total JAX model model_1_pred_0 on 6Y4F predict time (includes compilation time, see --benchmark): 168.5s\n",
            "I0713 09:23:16.187390 135137081931584 parjax_cla_multi_GoogleColab.py:132] Running model model_2_pred_0 on 6Y4F\n",
            "I0713 09:23:18.576585 135137081931584 model.py:165] Running predict with shape(feat) = {'aatype': (4, 141), 'residue_index': (4, 141), 'seq_length': (4,), 'template_aatype': (4, 4, 141), 'template_all_atom_masks': (4, 4, 141, 37), 'template_all_atom_positions': (4, 4, 141, 37, 3), 'template_sum_probs': (4, 4, 1), 'is_distillation': (4,), 'seq_mask': (4, 141), 'msa_mask': (4, 508, 141), 'msa_row_mask': (4, 508), 'random_crop_to_size_seed': (4, 2), 'template_mask': (4, 4), 'template_pseudo_beta': (4, 4, 141, 3), 'template_pseudo_beta_mask': (4, 4, 141), 'atom14_atom_exists': (4, 141, 14), 'residx_atom14_to_atom37': (4, 141, 14), 'residx_atom37_to_atom14': (4, 141, 37), 'atom37_atom_exists': (4, 141, 37), 'extra_msa': (4, 1024, 141), 'extra_msa_mask': (4, 1024, 141), 'extra_msa_row_mask': (4, 1024), 'bert_mask': (4, 508, 141), 'true_msa': (4, 508, 141), 'extra_has_deletion': (4, 1024, 141), 'extra_deletion_value': (4, 1024, 141), 'msa_feat': (4, 508, 141, 49), 'target_feat': (4, 141, 22)}\n",
            "I0713 09:26:13.547397 135137081931584 model.py:175] Output shape was {'distogram': {'bin_edges': (63,), 'logits': (141, 141, 64)}, 'experimentally_resolved': {'logits': (141, 37)}, 'masked_msa': {'logits': (508, 141, 23)}, 'predicted_lddt': {'logits': (141, 50)}, 'structure_module': {'final_atom_mask': (141, 37), 'final_atom_positions': (141, 37, 3)}, 'plddt': (141,), 'ranking_confidence': ()}\n",
            "I0713 09:26:13.547657 135137081931584 parjax_cla_multi_GoogleColab.py:144] Total JAX model model_2_pred_0 on 6Y4F predict time (includes compilation time, see --benchmark): 175.0s\n",
            "I0713 09:26:13.582211 135137081931584 parjax_cla_multi_GoogleColab.py:132] Running model model_3_pred_0 on 6Y4F\n",
            "I0713 09:26:15.611322 135137081931584 model.py:165] Running predict with shape(feat) = {'aatype': (4, 141), 'residue_index': (4, 141), 'seq_length': (4,), 'is_distillation': (4,), 'seq_mask': (4, 141), 'msa_mask': (4, 512, 141), 'msa_row_mask': (4, 512), 'random_crop_to_size_seed': (4, 2), 'atom14_atom_exists': (4, 141, 14), 'residx_atom14_to_atom37': (4, 141, 14), 'residx_atom37_to_atom14': (4, 141, 37), 'atom37_atom_exists': (4, 141, 37), 'extra_msa': (4, 5120, 141), 'extra_msa_mask': (4, 5120, 141), 'extra_msa_row_mask': (4, 5120), 'bert_mask': (4, 512, 141), 'true_msa': (4, 512, 141), 'extra_has_deletion': (4, 5120, 141), 'extra_deletion_value': (4, 5120, 141), 'msa_feat': (4, 512, 141, 49), 'target_feat': (4, 141, 22)}\n",
            "I0713 09:28:28.635085 135137081931584 model.py:175] Output shape was {'distogram': {'bin_edges': (63,), 'logits': (141, 141, 64)}, 'experimentally_resolved': {'logits': (141, 37)}, 'masked_msa': {'logits': (512, 141, 23)}, 'predicted_lddt': {'logits': (141, 50)}, 'structure_module': {'final_atom_mask': (141, 37), 'final_atom_positions': (141, 37, 3)}, 'plddt': (141,), 'ranking_confidence': ()}\n",
            "I0713 09:28:28.635294 135137081931584 parjax_cla_multi_GoogleColab.py:144] Total JAX model model_3_pred_0 on 6Y4F predict time (includes compilation time, see --benchmark): 133.0s\n",
            "I0713 09:28:28.668969 135137081931584 parjax_cla_multi_GoogleColab.py:132] Running model model_4_pred_0 on 6Y4F\n",
            "I0713 09:28:30.456785 135137081931584 model.py:165] Running predict with shape(feat) = {'aatype': (4, 141), 'residue_index': (4, 141), 'seq_length': (4,), 'is_distillation': (4,), 'seq_mask': (4, 141), 'msa_mask': (4, 512, 141), 'msa_row_mask': (4, 512), 'random_crop_to_size_seed': (4, 2), 'atom14_atom_exists': (4, 141, 14), 'residx_atom14_to_atom37': (4, 141, 14), 'residx_atom37_to_atom14': (4, 141, 37), 'atom37_atom_exists': (4, 141, 37), 'extra_msa': (4, 5120, 141), 'extra_msa_mask': (4, 5120, 141), 'extra_msa_row_mask': (4, 5120), 'bert_mask': (4, 512, 141), 'true_msa': (4, 512, 141), 'extra_has_deletion': (4, 5120, 141), 'extra_deletion_value': (4, 5120, 141), 'msa_feat': (4, 512, 141, 49), 'target_feat': (4, 141, 22)}\n",
            "I0713 09:30:33.252942 135137081931584 model.py:175] Output shape was {'distogram': {'bin_edges': (63,), 'logits': (141, 141, 64)}, 'experimentally_resolved': {'logits': (141, 37)}, 'masked_msa': {'logits': (512, 141, 23)}, 'predicted_lddt': {'logits': (141, 50)}, 'structure_module': {'final_atom_mask': (141, 37), 'final_atom_positions': (141, 37, 3)}, 'plddt': (141,), 'ranking_confidence': ()}\n",
            "I0713 09:30:33.253193 135137081931584 parjax_cla_multi_GoogleColab.py:144] Total JAX model model_4_pred_0 on 6Y4F predict time (includes compilation time, see --benchmark): 122.8s\n",
            "I0713 09:30:33.286549 135137081931584 parjax_cla_multi_GoogleColab.py:132] Running model model_5_pred_0 on 6Y4F\n",
            "I0713 09:30:34.994145 135137081931584 model.py:165] Running predict with shape(feat) = {'aatype': (4, 141), 'residue_index': (4, 141), 'seq_length': (4,), 'is_distillation': (4,), 'seq_mask': (4, 141), 'msa_mask': (4, 512, 141), 'msa_row_mask': (4, 512), 'random_crop_to_size_seed': (4, 2), 'atom14_atom_exists': (4, 141, 14), 'residx_atom14_to_atom37': (4, 141, 14), 'residx_atom37_to_atom14': (4, 141, 37), 'atom37_atom_exists': (4, 141, 37), 'extra_msa': (4, 1024, 141), 'extra_msa_mask': (4, 1024, 141), 'extra_msa_row_mask': (4, 1024), 'bert_mask': (4, 512, 141), 'true_msa': (4, 512, 141), 'extra_has_deletion': (4, 1024, 141), 'extra_deletion_value': (4, 1024, 141), 'msa_feat': (4, 512, 141, 49), 'target_feat': (4, 141, 22)}\n",
            "I0713 09:32:35.678861 135137081931584 model.py:175] Output shape was {'distogram': {'bin_edges': (63,), 'logits': (141, 141, 64)}, 'experimentally_resolved': {'logits': (141, 37)}, 'masked_msa': {'logits': (512, 141, 23)}, 'predicted_lddt': {'logits': (141, 50)}, 'structure_module': {'final_atom_mask': (141, 37), 'final_atom_positions': (141, 37, 3)}, 'plddt': (141,), 'ranking_confidence': ()}\n",
            "I0713 09:32:35.679058 135137081931584 parjax_cla_multi_GoogleColab.py:144] Total JAX model model_5_pred_0 on 6Y4F predict time (includes compilation time, see --benchmark): 120.7s\n",
            "I0713 09:32:41.179116 135137081931584 amber_minimize.py:178] alterations info: {'nonstandard_residues': [], 'removed_heterogens': set(), 'missing_residues': {}, 'missing_heavy_atoms': {}, 'missing_terminals': {<Residue 140 (HIS) of chain 0>: ['OXT']}, 'Se_in_MET': [], 'removed_chains': {0: []}}\n",
            "I0713 09:32:41.469824 135137081931584 amber_minimize.py:408] Minimizing protein, attempt 1 of 100.\n",
            "I0713 09:32:41.747093 135137081931584 amber_minimize.py:69] Restraining 1097 / 2154 particles.\n",
            "I0713 09:32:45.293640 135137081931584 amber_minimize.py:178] alterations info: {'nonstandard_residues': [], 'removed_heterogens': set(), 'missing_residues': {}, 'missing_heavy_atoms': {}, 'missing_terminals': {}, 'Se_in_MET': [], 'removed_chains': {0: []}}\n",
            "I0713 09:32:47.455501 135137081931584 amber_minimize.py:500] Iteration completed: Einit 2889.64 Efinal -2870.94 Time 2.08 s num residue violations 0 num residue exclusions 0 \n",
            "I0713 09:32:47.525610 135137081931584 parjax_cla_multi_GoogleColab.py:231] Final timings for 6Y4F: {'process_features_model_1_pred_0': 2.153883457183838, 'predict_and_compile_model_1_pred_0': 168.53844833374023, 'process_features_model_2_pred_0': 2.3858277797698975, 'predict_and_compile_model_2_pred_0': 174.97427558898926, 'process_features_model_3_pred_0': 2.028808832168579, 'predict_and_compile_model_3_pred_0': 133.0241096019745, 'process_features_model_4_pred_0': 1.787503957748413, 'predict_and_compile_model_4_pred_0': 122.7965407371521, 'process_features_model_5_pred_0': 1.7073135375976562, 'predict_and_compile_model_5_pred_0': 120.68505644798279, 'relax_model_3_pred_0': 11.812095642089844}\n",
            "I0713 09:32:47.526443 135137081931584 parjax_cla_multi_GoogleColab.py:308] 6Y4F AlphaFold structure prediction COMPLETE\n",
            "I0713 09:32:47.526568 135137081931584 parjax_cla_multi_GoogleColab.py:107] Predicting 6ZYC\n",
            "I0713 09:32:47.527257 135137081931584 parjax_cla_multi_GoogleColab.py:132] Running model model_1_pred_0 on 6ZYC\n",
            "I0713 09:32:49.662760 135137081931584 model.py:165] Running predict with shape(feat) = {'aatype': (4, 148), 'residue_index': (4, 148), 'seq_length': (4,), 'template_aatype': (4, 4, 148), 'template_all_atom_masks': (4, 4, 148, 37), 'template_all_atom_positions': (4, 4, 148, 37, 3), 'template_sum_probs': (4, 4, 1), 'is_distillation': (4,), 'seq_mask': (4, 148), 'msa_mask': (4, 508, 148), 'msa_row_mask': (4, 508), 'random_crop_to_size_seed': (4, 2), 'template_mask': (4, 4), 'template_pseudo_beta': (4, 4, 148, 3), 'template_pseudo_beta_mask': (4, 4, 148), 'atom14_atom_exists': (4, 148, 14), 'residx_atom14_to_atom37': (4, 148, 14), 'residx_atom37_to_atom14': (4, 148, 37), 'atom37_atom_exists': (4, 148, 37), 'extra_msa': (4, 5120, 148), 'extra_msa_mask': (4, 5120, 148), 'extra_msa_row_mask': (4, 5120), 'bert_mask': (4, 508, 148), 'true_msa': (4, 508, 148), 'extra_has_deletion': (4, 5120, 148), 'extra_deletion_value': (4, 5120, 148), 'msa_feat': (4, 508, 148, 49), 'target_feat': (4, 148, 22)}\n",
            "I0713 09:35:25.503245 135137081931584 model.py:175] Output shape was {'distogram': {'bin_edges': (63,), 'logits': (148, 148, 64)}, 'experimentally_resolved': {'logits': (148, 37)}, 'masked_msa': {'logits': (508, 148, 23)}, 'predicted_lddt': {'logits': (148, 50)}, 'structure_module': {'final_atom_mask': (148, 37), 'final_atom_positions': (148, 37, 3)}, 'plddt': (148,), 'ranking_confidence': ()}\n",
            "I0713 09:35:25.503445 135137081931584 parjax_cla_multi_GoogleColab.py:144] Total JAX model model_1_pred_0 on 6ZYC predict time (includes compilation time, see --benchmark): 155.8s\n",
            "I0713 09:35:25.541009 135137081931584 parjax_cla_multi_GoogleColab.py:132] Running model model_2_pred_0 on 6ZYC\n",
            "I0713 09:35:27.691540 135137081931584 model.py:165] Running predict with shape(feat) = {'aatype': (4, 148), 'residue_index': (4, 148), 'seq_length': (4,), 'template_aatype': (4, 4, 148), 'template_all_atom_masks': (4, 4, 148, 37), 'template_all_atom_positions': (4, 4, 148, 37, 3), 'template_sum_probs': (4, 4, 1), 'is_distillation': (4,), 'seq_mask': (4, 148), 'msa_mask': (4, 508, 148), 'msa_row_mask': (4, 508), 'random_crop_to_size_seed': (4, 2), 'template_mask': (4, 4), 'template_pseudo_beta': (4, 4, 148, 3), 'template_pseudo_beta_mask': (4, 4, 148), 'atom14_atom_exists': (4, 148, 14), 'residx_atom14_to_atom37': (4, 148, 14), 'residx_atom37_to_atom14': (4, 148, 37), 'atom37_atom_exists': (4, 148, 37), 'extra_msa': (4, 1024, 148), 'extra_msa_mask': (4, 1024, 148), 'extra_msa_row_mask': (4, 1024), 'bert_mask': (4, 508, 148), 'true_msa': (4, 508, 148), 'extra_has_deletion': (4, 1024, 148), 'extra_deletion_value': (4, 1024, 148), 'msa_feat': (4, 508, 148, 49), 'target_feat': (4, 148, 22)}\n",
            "I0713 09:37:58.811157 135137081931584 model.py:175] Output shape was {'distogram': {'bin_edges': (63,), 'logits': (148, 148, 64)}, 'experimentally_resolved': {'logits': (148, 37)}, 'masked_msa': {'logits': (508, 148, 23)}, 'predicted_lddt': {'logits': (148, 50)}, 'structure_module': {'final_atom_mask': (148, 37), 'final_atom_positions': (148, 37, 3)}, 'plddt': (148,), 'ranking_confidence': ()}\n",
            "I0713 09:37:58.811371 135137081931584 parjax_cla_multi_GoogleColab.py:144] Total JAX model model_2_pred_0 on 6ZYC predict time (includes compilation time, see --benchmark): 151.1s\n",
            "I0713 09:37:58.847572 135137081931584 parjax_cla_multi_GoogleColab.py:132] Running model model_3_pred_0 on 6ZYC\n",
            "I0713 09:38:00.586217 135137081931584 model.py:165] Running predict with shape(feat) = {'aatype': (4, 148), 'residue_index': (4, 148), 'seq_length': (4,), 'is_distillation': (4,), 'seq_mask': (4, 148), 'msa_mask': (4, 512, 148), 'msa_row_mask': (4, 512), 'random_crop_to_size_seed': (4, 2), 'atom14_atom_exists': (4, 148, 14), 'residx_atom14_to_atom37': (4, 148, 14), 'residx_atom37_to_atom14': (4, 148, 37), 'atom37_atom_exists': (4, 148, 37), 'extra_msa': (4, 5120, 148), 'extra_msa_mask': (4, 5120, 148), 'extra_msa_row_mask': (4, 5120), 'bert_mask': (4, 512, 148), 'true_msa': (4, 512, 148), 'extra_has_deletion': (4, 5120, 148), 'extra_deletion_value': (4, 5120, 148), 'msa_feat': (4, 512, 148, 49), 'target_feat': (4, 148, 22)}\n",
            "I0713 09:39:57.663267 135137081931584 model.py:175] Output shape was {'distogram': {'bin_edges': (63,), 'logits': (148, 148, 64)}, 'experimentally_resolved': {'logits': (148, 37)}, 'masked_msa': {'logits': (512, 148, 23)}, 'predicted_lddt': {'logits': (148, 50)}, 'structure_module': {'final_atom_mask': (148, 37), 'final_atom_positions': (148, 37, 3)}, 'plddt': (148,), 'ranking_confidence': ()}\n",
            "I0713 09:39:57.663470 135137081931584 parjax_cla_multi_GoogleColab.py:144] Total JAX model model_3_pred_0 on 6ZYC predict time (includes compilation time, see --benchmark): 117.1s\n",
            "I0713 09:39:57.698550 135137081931584 parjax_cla_multi_GoogleColab.py:132] Running model model_4_pred_0 on 6ZYC\n",
            "I0713 09:39:59.399906 135137081931584 model.py:165] Running predict with shape(feat) = {'aatype': (4, 148), 'residue_index': (4, 148), 'seq_length': (4,), 'is_distillation': (4,), 'seq_mask': (4, 148), 'msa_mask': (4, 512, 148), 'msa_row_mask': (4, 512), 'random_crop_to_size_seed': (4, 2), 'atom14_atom_exists': (4, 148, 14), 'residx_atom14_to_atom37': (4, 148, 14), 'residx_atom37_to_atom14': (4, 148, 37), 'atom37_atom_exists': (4, 148, 37), 'extra_msa': (4, 5120, 148), 'extra_msa_mask': (4, 5120, 148), 'extra_msa_row_mask': (4, 5120), 'bert_mask': (4, 512, 148), 'true_msa': (4, 512, 148), 'extra_has_deletion': (4, 5120, 148), 'extra_deletion_value': (4, 5120, 148), 'msa_feat': (4, 512, 148, 49), 'target_feat': (4, 148, 22)}\n",
            "I0713 09:41:54.640725 135137081931584 model.py:175] Output shape was {'distogram': {'bin_edges': (63,), 'logits': (148, 148, 64)}, 'experimentally_resolved': {'logits': (148, 37)}, 'masked_msa': {'logits': (512, 148, 23)}, 'predicted_lddt': {'logits': (148, 50)}, 'structure_module': {'final_atom_mask': (148, 37), 'final_atom_positions': (148, 37, 3)}, 'plddt': (148,), 'ranking_confidence': ()}\n",
            "I0713 09:41:54.640941 135137081931584 parjax_cla_multi_GoogleColab.py:144] Total JAX model model_4_pred_0 on 6ZYC predict time (includes compilation time, see --benchmark): 115.2s\n",
            "I0713 09:41:54.676333 135137081931584 parjax_cla_multi_GoogleColab.py:132] Running model model_5_pred_0 on 6ZYC\n",
            "I0713 09:41:56.364005 135137081931584 model.py:165] Running predict with shape(feat) = {'aatype': (4, 148), 'residue_index': (4, 148), 'seq_length': (4,), 'is_distillation': (4,), 'seq_mask': (4, 148), 'msa_mask': (4, 512, 148), 'msa_row_mask': (4, 512), 'random_crop_to_size_seed': (4, 2), 'atom14_atom_exists': (4, 148, 14), 'residx_atom14_to_atom37': (4, 148, 14), 'residx_atom37_to_atom14': (4, 148, 37), 'atom37_atom_exists': (4, 148, 37), 'extra_msa': (4, 1024, 148), 'extra_msa_mask': (4, 1024, 148), 'extra_msa_row_mask': (4, 1024), 'bert_mask': (4, 512, 148), 'true_msa': (4, 512, 148), 'extra_has_deletion': (4, 1024, 148), 'extra_deletion_value': (4, 1024, 148), 'msa_feat': (4, 512, 148, 49), 'target_feat': (4, 148, 22)}\n",
            "I0713 09:43:50.867609 135137081931584 model.py:175] Output shape was {'distogram': {'bin_edges': (63,), 'logits': (148, 148, 64)}, 'experimentally_resolved': {'logits': (148, 37)}, 'masked_msa': {'logits': (512, 148, 23)}, 'predicted_lddt': {'logits': (148, 50)}, 'structure_module': {'final_atom_mask': (148, 37), 'final_atom_positions': (148, 37, 3)}, 'plddt': (148,), 'ranking_confidence': ()}\n",
            "I0713 09:43:50.867820 135137081931584 parjax_cla_multi_GoogleColab.py:144] Total JAX model model_5_pred_0 on 6ZYC predict time (includes compilation time, see --benchmark): 114.5s\n",
            "I0713 09:43:55.848704 135137081931584 amber_minimize.py:178] alterations info: {'nonstandard_residues': [], 'removed_heterogens': set(), 'missing_residues': {}, 'missing_heavy_atoms': {}, 'missing_terminals': {<Residue 147 (GLU) of chain 0>: ['OXT']}, 'Se_in_MET': [], 'removed_chains': {0: []}}\n",
            "I0713 09:43:56.020335 135137081931584 amber_minimize.py:408] Minimizing protein, attempt 1 of 100.\n",
            "I0713 09:43:56.445424 135137081931584 amber_minimize.py:69] Restraining 1171 / 2323 particles.\n",
            "I0713 09:43:59.845274 135137081931584 amber_minimize.py:178] alterations info: {'nonstandard_residues': [], 'removed_heterogens': set(), 'missing_residues': {}, 'missing_heavy_atoms': {}, 'missing_terminals': {}, 'Se_in_MET': [], 'removed_chains': {0: []}}\n",
            "I0713 09:44:02.131211 135137081931584 amber_minimize.py:500] Iteration completed: Einit 4203.05 Efinal -3431.63 Time 2.38 s num residue violations 0 num residue exclusions 0 \n",
            "I0713 09:44:02.206486 135137081931584 parjax_cla_multi_GoogleColab.py:231] Final timings for 6ZYC: {'process_features_model_1_pred_0': 2.133462429046631, 'predict_and_compile_model_1_pred_0': 155.8426229953766, 'process_features_model_2_pred_0': 2.1481099128723145, 'predict_and_compile_model_2_pred_0': 151.12207078933716, 'process_features_model_3_pred_0': 1.738353967666626, 'predict_and_compile_model_3_pred_0': 117.07739806175232, 'process_features_model_4_pred_0': 1.7010760307312012, 'predict_and_compile_model_4_pred_0': 115.24116611480713, 'process_features_model_5_pred_0': 1.6873950958251953, 'predict_and_compile_model_5_pred_0': 114.50394129753113, 'relax_model_3_pred_0': 11.30170726776123}\n",
            "I0713 09:44:02.207345 135137081931584 parjax_cla_multi_GoogleColab.py:308] 6ZYC AlphaFold structure prediction COMPLETE\n"
          ]
        }
      ],
      "source": [
        "%%bash\n",
        "source activate parafold\n",
        "\n",
        "python parjax_cla_multi_GoogleColab.py \\\n",
        "  --fasta_paths=/content/jaxalpha/multi/7CN6/7CN6.fasta,/content/jaxalpha/multi/7JTL/7JTL.fasta,/content/jaxalpha/multi/7CWP/7CWP.fasta,/content/jaxalpha/multi/6Y4F/6Y4F.fasta,/content/jaxalpha/multi/6ZYC/6ZYC.fasta  \\\n",
        "  --output_dir=/content/jaxalpha/multi/out_multi_Z_A/6_10 \\\n",
        "  --parameter_path=/content/ParallelFold/params \\\n",
        "  --feature_files=/content/jaxalpha/multi/7CN6/feature.pkl,/content/jaxalpha/multi/7JTL/feature.pkl,/content/jaxalpha/multi/7CWP/feature.pkl,/content/jaxalpha/multi/6Y4F/feature.pkl,/content/jaxalpha/multi/6ZYC/feature.pkl \\\n",
        "  --use_gpu_relax=true\n"
      ]
    },
    {
      "cell_type": "code",
      "source": [
        "log_execution_time(start_time, cell_title)"
      ],
      "metadata": {
        "id": "VHsqPxzNHonp"
      },
      "execution_count": 17,
      "outputs": []
    },
    {
      "cell_type": "code",
      "execution_count": 21,
      "metadata": {
        "id": "W-_pdPajkI_n"
      },
      "outputs": [],
      "source": [
        "#@title zip_output\n",
        "%%capture\n",
        "cell_title = \"zip_output\"\n",
        "start_time = time.time()\n",
        "\n",
        "import zipfile\n",
        "import os\n",
        "from google.colab import drive\n",
        "\n",
        "# Mount Google Drive\n",
        "drive.mount('/content/drive')\n",
        "\n",
        "# Define the folder to zip\n",
        "folder_to_zip = '/content/jaxalpha/multi/out_multi_Z_A/6_10'\n",
        "\n",
        "# Define the output zip file name and path (in Google Drive)\n",
        "output_filename = '/content/drive/My Drive/parjax_cla_multi_6_10_Z_A_A100.zip'\n",
        "\n",
        "# Create the zip file\n",
        "with zipfile.ZipFile(output_filename, 'w', zipfile.ZIP_DEFLATED) as zipf:\n",
        "    for root, dirs, files in os.walk(folder_to_zip):\n",
        "        for file in files:\n",
        "            zipf.write(os.path.join(root, file),\n",
        "                       os.path.relpath(os.path.join(root, file),\n",
        "                                       os.path.join(folder_to_zip, '..')))\n",
        "\n",
        "log_execution_time(start_time, cell_title)"
      ]
    },
    {
      "cell_type": "code",
      "source": [
        "log_execution_time(code_start_time, from_beginning_to_end)"
      ],
      "metadata": {
        "id": "b-pu4avGY3cU"
      },
      "execution_count": null,
      "outputs": []
    }
  ],
  "metadata": {
    "colab": {
      "provenance": [],
      "machine_shape": "hm",
      "gpuType": "A100",
      "include_colab_link": true
    },
    "kernelspec": {
      "display_name": "Python 3",
      "name": "python3"
    },
    "language_info": {
      "name": "python"
    },
    "accelerator": "GPU"
  },
  "nbformat": 4,
  "nbformat_minor": 0
}