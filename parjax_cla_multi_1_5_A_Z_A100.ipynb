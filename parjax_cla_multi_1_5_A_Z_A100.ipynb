{
  "cells": [
    {
      "cell_type": "markdown",
      "metadata": {
        "id": "view-in-github",
        "colab_type": "text"
      },
      "source": [
        "<a href=\"https://colab.research.google.com/github/mohfercolab/colab_protein_sample/blob/main/parjax_cla_multi_1_5_A_Z_A100.ipynb\" target=\"_parent\"><img src=\"https://colab.research.google.com/assets/colab-badge.svg\" alt=\"Open In Colab\"/></a>"
      ]
    },
    {
      "cell_type": "code",
      "source": [
        "#@title Initialize_time\n",
        "import time\n",
        "\n",
        "# Initialize an empty file\n",
        "with open('/content/time_cell_11_15_Z_A_A100.txt', 'w') as file:\n",
        "    file.write('')\n",
        "\n",
        "\n",
        "def log_execution_time(start_time, cell_title):\n",
        "    end_time = time.time()\n",
        "    execution_time = end_time - start_time\n",
        "\n",
        "    with open('/content/time_cell_11_15_Z_A_A100.txt', 'a') as file:\n",
        "        file.write(f\"execution_time_{cell_title}, {execution_time}\\n\")\n",
        "\n",
        "from_beginning_to_end = \"Start_running_the_code\"\n",
        "code_start_time = time.time()"
      ],
      "metadata": {
        "id": "el4dU4_088Xh"
      },
      "execution_count": null,
      "outputs": []
    },
    {
      "cell_type": "code",
      "execution_count": null,
      "metadata": {
        "id": "Iu_wXmRquKlk"
      },
      "outputs": [],
      "source": [
        "#@title clone\n",
        "%%capture\n",
        "cell_title = \"clone\"\n",
        "start_time = time.time()\n",
        "\n",
        "!git clone https://github.com/Zuricho/ParallelFold.git\n",
        "!git clone https://github.com/fereidoon27/jaxalpha.git\n",
        "\n",
        "log_execution_time(start_time, cell_title)"
      ]
    },
    {
      "cell_type": "code",
      "execution_count": null,
      "metadata": {
        "collapsed": true,
        "id": "71M2Wr3NuZfM",
        "cellView": "form"
      },
      "outputs": [],
      "source": [
        "#@title Miniconda\n",
        "%%capture\n",
        "cell_title = \"Miniconda\"\n",
        "start_time = time.time()\n",
        "\n",
        "# Install Miniconda\n",
        "!wget https://repo.anaconda.com/miniconda/Miniconda3-latest-Linux-x86_64.sh\n",
        "!chmod +x Miniconda3-latest-Linux-x86_64.sh\n",
        "!bash ./Miniconda3-latest-Linux-x86_64.sh -b -f -p /usr/local\n",
        "\n",
        "# Initialize Conda\n",
        "import sys\n",
        "sys.path.append('/usr/local/lib/python3.8/site-packages')\n",
        "\n",
        "# Configure conda\n",
        "!conda init bash\n",
        "!source ~/.bashrc\n",
        "\n",
        "# Update conda\n",
        "!conda update conda -y\n",
        "\n",
        "log_execution_time(start_time, cell_title)"
      ]
    },
    {
      "cell_type": "code",
      "execution_count": null,
      "metadata": {
        "collapsed": true,
        "id": "lr6PZXRiufLc",
        "cellView": "form"
      },
      "outputs": [],
      "source": [
        "#@title parafold_env\n",
        "%%capture\n",
        "cell_title = \"parafold_env\"\n",
        "start_time = time.time()\n",
        "\n",
        "# Recommend you to use python 3.8, version < 3.7 have missing packages, python versions newer than 3.8 were not tested\n",
        "!conda create -n parafold python=3.8 -y\n",
        "\n",
        "log_execution_time(start_time, cell_title)"
      ]
    },
    {
      "cell_type": "code",
      "execution_count": null,
      "metadata": {
        "id": "ag5mSJ5fvZRA",
        "cellView": "form"
      },
      "outputs": [],
      "source": [
        "#@title testing_activate_parafold\n",
        "%%capture\n",
        "cell_title = \"testing_activate_parafold\"\n",
        "start_time = time.time()\n",
        "\n",
        "!source activate parafold && { \\\n",
        "    echo \"Setting up the parafold environment\"; \\\n",
        "    echo \"Current Python version:\"; \\\n",
        "    python --version; \\\n",
        "    }\n",
        "\n",
        "log_execution_time(start_time, cell_title)"
      ]
    },
    {
      "cell_type": "code",
      "execution_count": null,
      "metadata": {
        "id": "qw3B2zQgxgw1",
        "cellView": "form"
      },
      "outputs": [],
      "source": [
        "#@title install_py3dmol\n",
        "%%capture\n",
        "cell_title = \"install_py3dmol\"\n",
        "start_time = time.time()\n",
        "\n",
        "#install py3dmol\n",
        "!source activate parafold && pip install py3dmol\n",
        "\n",
        "log_execution_time(start_time, cell_title)"
      ]
    },
    {
      "cell_type": "code",
      "execution_count": null,
      "metadata": {
        "collapsed": true,
        "id": "nhH-cpF51ao4",
        "cellView": "form"
      },
      "outputs": [],
      "source": [
        "#@title install_openmm\n",
        "%%capture\n",
        "cell_title = \"install_openmm\"\n",
        "start_time = time.time()\n",
        "\n",
        "# openmm 7.7 is recommended (original alphafold using 7.5.1, but it is not supported now)\n",
        "!source activate parafold && conda install -c conda-forge openmm=7.7 pdbfixer -y\n",
        "\n",
        "log_execution_time(start_time, cell_title)"
      ]
    },
    {
      "cell_type": "code",
      "execution_count": null,
      "metadata": {
        "collapsed": true,
        "id": "uW7VE2hi1jwl",
        "cellView": "form"
      },
      "outputs": [],
      "source": [
        "#@title install_requirements\n",
        "%%capture\n",
        "cell_title = \"install_requirements\"\n",
        "start_time = time.time()\n",
        "\n",
        "%cd ParallelFold\n",
        "#install requirements\n",
        "!source activate parafold && pip3 install -r requirements.txt\n",
        "\n",
        "log_execution_time(start_time, cell_title)"
      ]
    },
    {
      "cell_type": "code",
      "execution_count": null,
      "metadata": {
        "collapsed": true,
        "id": "1P1qlWikHrT4",
        "cellView": "form"
      },
      "outputs": [],
      "source": [
        "#@title install_cuda_and_cudnn\n",
        "%%capture\n",
        "cell_title = \"install_cuda_and_cudnn\"\n",
        "start_time = time.time()\n",
        "\n",
        "# cudatoolkit 11.3.1 matches cudnn 8.2.1\n",
        "!source activate parafold && echo 'y' | conda install cudatoolkit=11.3 cudnn -y\n",
        "\n",
        "log_execution_time(start_time, cell_title)"
      ]
    },
    {
      "cell_type": "code",
      "execution_count": null,
      "metadata": {
        "collapsed": true,
        "id": "BdbRAX2JI44X",
        "cellView": "form"
      },
      "outputs": [],
      "source": [
        "#@title downgrade_jaxlib\n",
        "%%capture\n",
        "cell_title = \"downgrade_jaxlib\"\n",
        "start_time = time.time()\n",
        "\n",
        "# downgrade jaxlib to the correct version, matches with cuda and cudnn version\n",
        "!source activate parafold && pip3 install --upgrade --no-cache-dir jax==0.3.25 jaxlib==0.3.25+cuda11.cudnn82 -f https://storage.googleapis.com/jax-releases/jax_cuda_releases.html\n",
        "\n",
        "log_execution_time(start_time, cell_title)"
      ]
    },
    {
      "cell_type": "code",
      "execution_count": null,
      "metadata": {
        "collapsed": true,
        "id": "-O_Df8cdJAKj",
        "cellView": "form"
      },
      "outputs": [],
      "source": [
        "#@title packages_for_MSA\n",
        "%%capture\n",
        "cell_title = \"packages_for_MSA\"\n",
        "start_time = time.time()\n",
        "\n",
        "# install packages for multiple sequence alignment\n",
        "!source activate parafold && conda install -c bioconda hmmer=3.3.2 hhsuite=3.3.0 kalign2=2.04 -y\n",
        "\n",
        "log_execution_time(start_time, cell_title)"
      ]
    },
    {
      "cell_type": "code",
      "execution_count": null,
      "metadata": {
        "collapsed": true,
        "id": "zmue22y1c7LC",
        "cellView": "form"
      },
      "outputs": [],
      "source": [
        "#@title aria2\n",
        "%%capture\n",
        "cell_title = \"aria2\"\n",
        "start_time = time.time()\n",
        "\n",
        "!source activate parafold && conda install aria2 -y\n",
        "\n",
        "log_execution_time(start_time, cell_title)"
      ]
    },
    {
      "cell_type": "code",
      "source": [
        "#@title alphafold_params\n",
        "%%capture\n",
        "cell_title = \"alphafold_params\"\n",
        "start_time = time.time()\n",
        "\n",
        "!source activate parafold && bash /content/ParallelFold/scripts/download_alphafold_params.sh /content/ParallelFold\n",
        "\n",
        "log_execution_time(start_time, cell_title)"
      ],
      "metadata": {
        "id": "iglOn5cGF7gC",
        "cellView": "form"
      },
      "execution_count": null,
      "outputs": []
    },
    {
      "cell_type": "code",
      "execution_count": null,
      "metadata": {
        "collapsed": true,
        "id": "IOE5ESGGOaT5"
      },
      "outputs": [],
      "source": [
        "#@title directory\n",
        "!mv /content/jaxalpha/parjax_cla_multi_GoogleColab.py /content/ParallelFold\n",
        "%cd /content/ParallelFold/\n",
        "#!chmod +x parjax_cla_multi_GoogleColab.sh"
      ]
    },
    {
      "cell_type": "code",
      "source": [
        "cell_title = \"prediction_1_5_A_Z_A100\"\n",
        "start_time = time.time()"
      ],
      "metadata": {
        "id": "QzSv4dVwHnr1"
      },
      "execution_count": 40,
      "outputs": []
    },
    {
      "cell_type": "code",
      "execution_count": 41,
      "metadata": {
        "collapsed": true,
        "id": "HiqjNrx6jnLE",
        "colab": {
          "base_uri": "https://localhost:8080/"
        },
        "outputId": "75a113d9-55b0-4135-f326-90700d6eb439"
      },
      "outputs": [
        {
          "output_type": "stream",
          "name": "stderr",
          "text": [
            "I0713 13:04:08.333365 132592598058816 xla_bridge.py:353] Unable to initialize backend 'tpu_driver': NOT_FOUND: Unable to find driver in registry given worker: \n",
            "I0713 13:04:08.444525 132592598058816 xla_bridge.py:353] Unable to initialize backend 'rocm': NOT_FOUND: Could not find registered platform with name: \"rocm\". Available platform names are: Interpreter Host CUDA\n",
            "I0713 13:04:08.444980 132592598058816 xla_bridge.py:353] Unable to initialize backend 'tpu': module 'jaxlib.xla_extension' has no attribute 'get_tpu_client'\n",
            "I0713 13:04:08.445160 132592598058816 xla_bridge.py:353] Unable to initialize backend 'plugin': xla_extension has no attributes named get_plugin_device_client. Compile TensorFlow with //tensorflow/compiler/xla/python:enable_plugin_device set to true (defaults to false) to enable this.\n",
            "I0713 13:04:13.014756 132592598058816 parjax_cla_multi_GoogleColab.py:279] Have 5 models: ['model_1_pred_0', 'model_2_pred_0', 'model_3_pred_0', 'model_4_pred_0', 'model_5_pred_0']\n",
            "I0713 13:04:13.014942 132592598058816 parjax_cla_multi_GoogleColab.py:293] Using random seed 1342297550638645520 for the data pipeline\n",
            "I0713 13:04:13.015207 132592598058816 parjax_cla_multi_GoogleColab.py:107] Predicting 6UF2\n",
            "I0713 13:04:13.016384 132592598058816 parjax_cla_multi_GoogleColab.py:132] Running model model_1_pred_0 on 6UF2\n",
            "W0713 13:04:13.791208 132592598058816 deprecation.py:350] From /usr/local/envs/parafold/lib/python3.8/site-packages/tensorflow/python/autograph/pyct/static_analysis/liveness.py:83: Analyzer.lamba_check (from tensorflow.python.autograph.pyct.static_analysis.liveness) is deprecated and will be removed after 2023-09-23.\n",
            "Instructions for updating:\n",
            "Lambda fuctions will be no more assumed to be used in the statement where they are used, or at least in the same block. https://github.com/tensorflow/tensorflow/issues/56089\n",
            "I0713 13:04:16.521669 132592598058816 model.py:165] Running predict with shape(feat) = {'aatype': (4, 125), 'residue_index': (4, 125), 'seq_length': (4,), 'template_aatype': (4, 4, 125), 'template_all_atom_masks': (4, 4, 125, 37), 'template_all_atom_positions': (4, 4, 125, 37, 3), 'template_sum_probs': (4, 4, 1), 'is_distillation': (4,), 'seq_mask': (4, 125), 'msa_mask': (4, 508, 125), 'msa_row_mask': (4, 508), 'random_crop_to_size_seed': (4, 2), 'template_mask': (4, 4), 'template_pseudo_beta': (4, 4, 125, 3), 'template_pseudo_beta_mask': (4, 4, 125), 'atom14_atom_exists': (4, 125, 14), 'residx_atom14_to_atom37': (4, 125, 14), 'residx_atom37_to_atom14': (4, 125, 37), 'atom37_atom_exists': (4, 125, 37), 'extra_msa': (4, 5120, 125), 'extra_msa_mask': (4, 5120, 125), 'extra_msa_row_mask': (4, 5120), 'bert_mask': (4, 508, 125), 'true_msa': (4, 508, 125), 'extra_has_deletion': (4, 5120, 125), 'extra_deletion_value': (4, 5120, 125), 'msa_feat': (4, 508, 125, 49), 'target_feat': (4, 125, 22)}\n",
            "I0713 13:06:47.631344 132592598058816 model.py:175] Output shape was {'distogram': {'bin_edges': (63,), 'logits': (125, 125, 64)}, 'experimentally_resolved': {'logits': (125, 37)}, 'masked_msa': {'logits': (508, 125, 23)}, 'predicted_lddt': {'logits': (125, 50)}, 'structure_module': {'final_atom_mask': (125, 37), 'final_atom_positions': (125, 37, 3)}, 'plddt': (125,), 'ranking_confidence': ()}\n",
            "I0713 13:06:47.631531 132592598058816 parjax_cla_multi_GoogleColab.py:144] Total JAX model model_1_pred_0 on 6UF2 predict time (includes compilation time, see --benchmark): 151.1s\n",
            "I0713 13:06:47.660643 132592598058816 parjax_cla_multi_GoogleColab.py:132] Running model model_2_pred_0 on 6UF2\n",
            "I0713 13:06:49.642446 132592598058816 model.py:165] Running predict with shape(feat) = {'aatype': (4, 125), 'residue_index': (4, 125), 'seq_length': (4,), 'template_aatype': (4, 4, 125), 'template_all_atom_masks': (4, 4, 125, 37), 'template_all_atom_positions': (4, 4, 125, 37, 3), 'template_sum_probs': (4, 4, 1), 'is_distillation': (4,), 'seq_mask': (4, 125), 'msa_mask': (4, 508, 125), 'msa_row_mask': (4, 508), 'random_crop_to_size_seed': (4, 2), 'template_mask': (4, 4), 'template_pseudo_beta': (4, 4, 125, 3), 'template_pseudo_beta_mask': (4, 4, 125), 'atom14_atom_exists': (4, 125, 14), 'residx_atom14_to_atom37': (4, 125, 14), 'residx_atom37_to_atom14': (4, 125, 37), 'atom37_atom_exists': (4, 125, 37), 'extra_msa': (4, 1024, 125), 'extra_msa_mask': (4, 1024, 125), 'extra_msa_row_mask': (4, 1024), 'bert_mask': (4, 508, 125), 'true_msa': (4, 508, 125), 'extra_has_deletion': (4, 1024, 125), 'extra_deletion_value': (4, 1024, 125), 'msa_feat': (4, 508, 125, 49), 'target_feat': (4, 125, 22)}\n",
            "I0713 13:09:27.269922 132592598058816 model.py:175] Output shape was {'distogram': {'bin_edges': (63,), 'logits': (125, 125, 64)}, 'experimentally_resolved': {'logits': (125, 37)}, 'masked_msa': {'logits': (508, 125, 23)}, 'predicted_lddt': {'logits': (125, 50)}, 'structure_module': {'final_atom_mask': (125, 37), 'final_atom_positions': (125, 37, 3)}, 'plddt': (125,), 'ranking_confidence': ()}\n",
            "I0713 13:09:27.270137 132592598058816 parjax_cla_multi_GoogleColab.py:144] Total JAX model model_2_pred_0 on 6UF2 predict time (includes compilation time, see --benchmark): 157.6s\n",
            "I0713 13:09:27.299377 132592598058816 parjax_cla_multi_GoogleColab.py:132] Running model model_3_pred_0 on 6UF2\n",
            "I0713 13:09:28.913196 132592598058816 model.py:165] Running predict with shape(feat) = {'aatype': (4, 125), 'residue_index': (4, 125), 'seq_length': (4,), 'is_distillation': (4,), 'seq_mask': (4, 125), 'msa_mask': (4, 512, 125), 'msa_row_mask': (4, 512), 'random_crop_to_size_seed': (4, 2), 'atom14_atom_exists': (4, 125, 14), 'residx_atom14_to_atom37': (4, 125, 14), 'residx_atom37_to_atom14': (4, 125, 37), 'atom37_atom_exists': (4, 125, 37), 'extra_msa': (4, 5120, 125), 'extra_msa_mask': (4, 5120, 125), 'extra_msa_row_mask': (4, 5120), 'bert_mask': (4, 512, 125), 'true_msa': (4, 512, 125), 'extra_has_deletion': (4, 5120, 125), 'extra_deletion_value': (4, 5120, 125), 'msa_feat': (4, 512, 125, 49), 'target_feat': (4, 125, 22)}\n",
            "I0713 13:11:31.138647 132592598058816 model.py:175] Output shape was {'distogram': {'bin_edges': (63,), 'logits': (125, 125, 64)}, 'experimentally_resolved': {'logits': (125, 37)}, 'masked_msa': {'logits': (512, 125, 23)}, 'predicted_lddt': {'logits': (125, 50)}, 'structure_module': {'final_atom_mask': (125, 37), 'final_atom_positions': (125, 37, 3)}, 'plddt': (125,), 'ranking_confidence': ()}\n",
            "I0713 13:11:31.138886 132592598058816 parjax_cla_multi_GoogleColab.py:144] Total JAX model model_3_pred_0 on 6UF2 predict time (includes compilation time, see --benchmark): 122.2s\n",
            "I0713 13:11:31.167969 132592598058816 parjax_cla_multi_GoogleColab.py:132] Running model model_4_pred_0 on 6UF2\n",
            "I0713 13:11:32.842888 132592598058816 model.py:165] Running predict with shape(feat) = {'aatype': (4, 125), 'residue_index': (4, 125), 'seq_length': (4,), 'is_distillation': (4,), 'seq_mask': (4, 125), 'msa_mask': (4, 512, 125), 'msa_row_mask': (4, 512), 'random_crop_to_size_seed': (4, 2), 'atom14_atom_exists': (4, 125, 14), 'residx_atom14_to_atom37': (4, 125, 14), 'residx_atom37_to_atom14': (4, 125, 37), 'atom37_atom_exists': (4, 125, 37), 'extra_msa': (4, 5120, 125), 'extra_msa_mask': (4, 5120, 125), 'extra_msa_row_mask': (4, 5120), 'bert_mask': (4, 512, 125), 'true_msa': (4, 512, 125), 'extra_has_deletion': (4, 5120, 125), 'extra_deletion_value': (4, 5120, 125), 'msa_feat': (4, 512, 125, 49), 'target_feat': (4, 125, 22)}\n",
            "I0713 13:13:34.241344 132592598058816 model.py:175] Output shape was {'distogram': {'bin_edges': (63,), 'logits': (125, 125, 64)}, 'experimentally_resolved': {'logits': (125, 37)}, 'masked_msa': {'logits': (512, 125, 23)}, 'predicted_lddt': {'logits': (125, 50)}, 'structure_module': {'final_atom_mask': (125, 37), 'final_atom_positions': (125, 37, 3)}, 'plddt': (125,), 'ranking_confidence': ()}\n",
            "I0713 13:13:34.241551 132592598058816 parjax_cla_multi_GoogleColab.py:144] Total JAX model model_4_pred_0 on 6UF2 predict time (includes compilation time, see --benchmark): 121.4s\n",
            "I0713 13:13:34.270996 132592598058816 parjax_cla_multi_GoogleColab.py:132] Running model model_5_pred_0 on 6UF2\n",
            "I0713 13:13:35.936146 132592598058816 model.py:165] Running predict with shape(feat) = {'aatype': (4, 125), 'residue_index': (4, 125), 'seq_length': (4,), 'is_distillation': (4,), 'seq_mask': (4, 125), 'msa_mask': (4, 512, 125), 'msa_row_mask': (4, 512), 'random_crop_to_size_seed': (4, 2), 'atom14_atom_exists': (4, 125, 14), 'residx_atom14_to_atom37': (4, 125, 14), 'residx_atom37_to_atom14': (4, 125, 37), 'atom37_atom_exists': (4, 125, 37), 'extra_msa': (4, 1024, 125), 'extra_msa_mask': (4, 1024, 125), 'extra_msa_row_mask': (4, 1024), 'bert_mask': (4, 512, 125), 'true_msa': (4, 512, 125), 'extra_has_deletion': (4, 1024, 125), 'extra_deletion_value': (4, 1024, 125), 'msa_feat': (4, 512, 125, 49), 'target_feat': (4, 125, 22)}\n",
            "I0713 13:15:39.667444 132592598058816 model.py:175] Output shape was {'distogram': {'bin_edges': (63,), 'logits': (125, 125, 64)}, 'experimentally_resolved': {'logits': (125, 37)}, 'masked_msa': {'logits': (512, 125, 23)}, 'predicted_lddt': {'logits': (125, 50)}, 'structure_module': {'final_atom_mask': (125, 37), 'final_atom_positions': (125, 37, 3)}, 'plddt': (125,), 'ranking_confidence': ()}\n",
            "I0713 13:15:39.667661 132592598058816 parjax_cla_multi_GoogleColab.py:144] Total JAX model model_5_pred_0 on 6UF2 predict time (includes compilation time, see --benchmark): 123.7s\n",
            "W0713 13:15:39.985609 132592598058816 __init__.py:5] Warning: importing 'simtk.openmm' is deprecated.  Import 'openmm' instead.\n",
            "I0713 13:15:44.766315 132592598058816 amber_minimize.py:178] alterations info: {'nonstandard_residues': [], 'removed_heterogens': set(), 'missing_residues': {}, 'missing_heavy_atoms': {}, 'missing_terminals': {<Residue 124 (SER) of chain 0>: ['OXT']}, 'Se_in_MET': [], 'removed_chains': {0: []}}\n",
            "I0713 13:15:45.032891 132592598058816 amber_minimize.py:408] Minimizing protein, attempt 1 of 100.\n",
            "I0713 13:15:45.295229 132592598058816 amber_minimize.py:69] Restraining 1016 / 2001 particles.\n",
            "I0713 13:15:48.391396 132592598058816 amber_minimize.py:178] alterations info: {'nonstandard_residues': [], 'removed_heterogens': set(), 'missing_residues': {}, 'missing_heavy_atoms': {}, 'missing_terminals': {}, 'Se_in_MET': [], 'removed_chains': {0: []}}\n",
            "I0713 13:15:50.829401 132592598058816 amber_minimize.py:500] Iteration completed: Einit 2713.38 Efinal -3367.87 Time 2.05 s num residue violations 0 num residue exclusions 0 \n",
            "I0713 13:15:50.909999 132592598058816 parjax_cla_multi_GoogleColab.py:231] Final timings for 6UF2: {'process_features_model_1_pred_0': 3.504774570465088, 'predict_and_compile_model_1_pred_0': 151.11025619506836, 'process_features_model_2_pred_0': 1.981494665145874, 'predict_and_compile_model_2_pred_0': 157.62784266471863, 'process_features_model_3_pred_0': 1.6135334968566895, 'predict_and_compile_model_3_pred_0': 122.22582173347473, 'process_features_model_4_pred_0': 1.6746330261230469, 'predict_and_compile_model_4_pred_0': 121.39879250526428, 'process_features_model_5_pred_0': 1.664811611175537, 'predict_and_compile_model_5_pred_0': 123.73168611526489, 'relax_model_3_pred_0': 11.21129035949707}\n",
            "I0713 13:15:50.910811 132592598058816 parjax_cla_multi_GoogleColab.py:308] 6UF2 AlphaFold structure prediction COMPLETE\n",
            "I0713 13:15:50.910929 132592598058816 parjax_cla_multi_GoogleColab.py:107] Predicting 2LHG\n",
            "I0713 13:15:50.911686 132592598058816 parjax_cla_multi_GoogleColab.py:132] Running model model_1_pred_0 on 2LHG\n",
            "I0713 13:15:53.004029 132592598058816 model.py:165] Running predict with shape(feat) = {'aatype': (4, 56), 'residue_index': (4, 56), 'seq_length': (4,), 'template_aatype': (4, 4, 56), 'template_all_atom_masks': (4, 4, 56, 37), 'template_all_atom_positions': (4, 4, 56, 37, 3), 'template_sum_probs': (4, 4, 1), 'is_distillation': (4,), 'seq_mask': (4, 56), 'msa_mask': (4, 508, 56), 'msa_row_mask': (4, 508), 'random_crop_to_size_seed': (4, 2), 'template_mask': (4, 4), 'template_pseudo_beta': (4, 4, 56, 3), 'template_pseudo_beta_mask': (4, 4, 56), 'atom14_atom_exists': (4, 56, 14), 'residx_atom14_to_atom37': (4, 56, 14), 'residx_atom37_to_atom14': (4, 56, 37), 'atom37_atom_exists': (4, 56, 37), 'extra_msa': (4, 5120, 56), 'extra_msa_mask': (4, 5120, 56), 'extra_msa_row_mask': (4, 5120), 'bert_mask': (4, 508, 56), 'true_msa': (4, 508, 56), 'extra_has_deletion': (4, 5120, 56), 'extra_deletion_value': (4, 5120, 56), 'msa_feat': (4, 508, 56, 49), 'target_feat': (4, 56, 22)}\n",
            "I0713 13:18:26.070891 132592598058816 model.py:175] Output shape was {'distogram': {'bin_edges': (63,), 'logits': (56, 56, 64)}, 'experimentally_resolved': {'logits': (56, 37)}, 'masked_msa': {'logits': (508, 56, 23)}, 'predicted_lddt': {'logits': (56, 50)}, 'structure_module': {'final_atom_mask': (56, 37), 'final_atom_positions': (56, 37, 3)}, 'plddt': (56,), 'ranking_confidence': ()}\n",
            "I0713 13:18:26.071126 132592598058816 parjax_cla_multi_GoogleColab.py:144] Total JAX model model_1_pred_0 on 2LHG predict time (includes compilation time, see --benchmark): 153.1s\n",
            "I0713 13:18:26.083594 132592598058816 parjax_cla_multi_GoogleColab.py:132] Running model model_2_pred_0 on 2LHG\n",
            "I0713 13:18:28.309998 132592598058816 model.py:165] Running predict with shape(feat) = {'aatype': (4, 56), 'residue_index': (4, 56), 'seq_length': (4,), 'template_aatype': (4, 4, 56), 'template_all_atom_masks': (4, 4, 56, 37), 'template_all_atom_positions': (4, 4, 56, 37, 3), 'template_sum_probs': (4, 4, 1), 'is_distillation': (4,), 'seq_mask': (4, 56), 'msa_mask': (4, 508, 56), 'msa_row_mask': (4, 508), 'random_crop_to_size_seed': (4, 2), 'template_mask': (4, 4), 'template_pseudo_beta': (4, 4, 56, 3), 'template_pseudo_beta_mask': (4, 4, 56), 'atom14_atom_exists': (4, 56, 14), 'residx_atom14_to_atom37': (4, 56, 14), 'residx_atom37_to_atom14': (4, 56, 37), 'atom37_atom_exists': (4, 56, 37), 'extra_msa': (4, 1024, 56), 'extra_msa_mask': (4, 1024, 56), 'extra_msa_row_mask': (4, 1024), 'bert_mask': (4, 508, 56), 'true_msa': (4, 508, 56), 'extra_has_deletion': (4, 1024, 56), 'extra_deletion_value': (4, 1024, 56), 'msa_feat': (4, 508, 56, 49), 'target_feat': (4, 56, 22)}\n",
            "I0713 13:20:59.406845 132592598058816 model.py:175] Output shape was {'distogram': {'bin_edges': (63,), 'logits': (56, 56, 64)}, 'experimentally_resolved': {'logits': (56, 37)}, 'masked_msa': {'logits': (508, 56, 23)}, 'predicted_lddt': {'logits': (56, 50)}, 'structure_module': {'final_atom_mask': (56, 37), 'final_atom_positions': (56, 37, 3)}, 'plddt': (56,), 'ranking_confidence': ()}\n",
            "I0713 13:20:59.407057 132592598058816 parjax_cla_multi_GoogleColab.py:144] Total JAX model model_2_pred_0 on 2LHG predict time (includes compilation time, see --benchmark): 151.1s\n",
            "I0713 13:20:59.419655 132592598058816 parjax_cla_multi_GoogleColab.py:132] Running model model_3_pred_0 on 2LHG\n",
            "I0713 13:21:01.105716 132592598058816 model.py:165] Running predict with shape(feat) = {'aatype': (4, 56), 'residue_index': (4, 56), 'seq_length': (4,), 'is_distillation': (4,), 'seq_mask': (4, 56), 'msa_mask': (4, 512, 56), 'msa_row_mask': (4, 512), 'random_crop_to_size_seed': (4, 2), 'atom14_atom_exists': (4, 56, 14), 'residx_atom14_to_atom37': (4, 56, 14), 'residx_atom37_to_atom14': (4, 56, 37), 'atom37_atom_exists': (4, 56, 37), 'extra_msa': (4, 5120, 56), 'extra_msa_mask': (4, 5120, 56), 'extra_msa_row_mask': (4, 5120), 'bert_mask': (4, 512, 56), 'true_msa': (4, 512, 56), 'extra_has_deletion': (4, 5120, 56), 'extra_deletion_value': (4, 5120, 56), 'msa_feat': (4, 512, 56, 49), 'target_feat': (4, 56, 22)}\n",
            "I0713 13:22:56.468194 132592598058816 model.py:175] Output shape was {'distogram': {'bin_edges': (63,), 'logits': (56, 56, 64)}, 'experimentally_resolved': {'logits': (56, 37)}, 'masked_msa': {'logits': (512, 56, 23)}, 'predicted_lddt': {'logits': (56, 50)}, 'structure_module': {'final_atom_mask': (56, 37), 'final_atom_positions': (56, 37, 3)}, 'plddt': (56,), 'ranking_confidence': ()}\n",
            "I0713 13:22:56.468411 132592598058816 parjax_cla_multi_GoogleColab.py:144] Total JAX model model_3_pred_0 on 2LHG predict time (includes compilation time, see --benchmark): 115.4s\n",
            "I0713 13:22:56.482493 132592598058816 parjax_cla_multi_GoogleColab.py:132] Running model model_4_pred_0 on 2LHG\n",
            "I0713 13:22:58.192155 132592598058816 model.py:165] Running predict with shape(feat) = {'aatype': (4, 56), 'residue_index': (4, 56), 'seq_length': (4,), 'is_distillation': (4,), 'seq_mask': (4, 56), 'msa_mask': (4, 512, 56), 'msa_row_mask': (4, 512), 'random_crop_to_size_seed': (4, 2), 'atom14_atom_exists': (4, 56, 14), 'residx_atom14_to_atom37': (4, 56, 14), 'residx_atom37_to_atom14': (4, 56, 37), 'atom37_atom_exists': (4, 56, 37), 'extra_msa': (4, 5120, 56), 'extra_msa_mask': (4, 5120, 56), 'extra_msa_row_mask': (4, 5120), 'bert_mask': (4, 512, 56), 'true_msa': (4, 512, 56), 'extra_has_deletion': (4, 5120, 56), 'extra_deletion_value': (4, 5120, 56), 'msa_feat': (4, 512, 56, 49), 'target_feat': (4, 56, 22)}\n",
            "I0713 13:24:53.131790 132592598058816 model.py:175] Output shape was {'distogram': {'bin_edges': (63,), 'logits': (56, 56, 64)}, 'experimentally_resolved': {'logits': (56, 37)}, 'masked_msa': {'logits': (512, 56, 23)}, 'predicted_lddt': {'logits': (56, 50)}, 'structure_module': {'final_atom_mask': (56, 37), 'final_atom_positions': (56, 37, 3)}, 'plddt': (56,), 'ranking_confidence': ()}\n",
            "I0713 13:24:53.132004 132592598058816 parjax_cla_multi_GoogleColab.py:144] Total JAX model model_4_pred_0 on 2LHG predict time (includes compilation time, see --benchmark): 114.9s\n",
            "I0713 13:24:53.144348 132592598058816 parjax_cla_multi_GoogleColab.py:132] Running model model_5_pred_0 on 2LHG\n",
            "I0713 13:24:54.882443 132592598058816 model.py:165] Running predict with shape(feat) = {'aatype': (4, 56), 'residue_index': (4, 56), 'seq_length': (4,), 'is_distillation': (4,), 'seq_mask': (4, 56), 'msa_mask': (4, 512, 56), 'msa_row_mask': (4, 512), 'random_crop_to_size_seed': (4, 2), 'atom14_atom_exists': (4, 56, 14), 'residx_atom14_to_atom37': (4, 56, 14), 'residx_atom37_to_atom14': (4, 56, 37), 'atom37_atom_exists': (4, 56, 37), 'extra_msa': (4, 1024, 56), 'extra_msa_mask': (4, 1024, 56), 'extra_msa_row_mask': (4, 1024), 'bert_mask': (4, 512, 56), 'true_msa': (4, 512, 56), 'extra_has_deletion': (4, 1024, 56), 'extra_deletion_value': (4, 1024, 56), 'msa_feat': (4, 512, 56, 49), 'target_feat': (4, 56, 22)}\n",
            "I0713 13:26:48.863985 132592598058816 model.py:175] Output shape was {'distogram': {'bin_edges': (63,), 'logits': (56, 56, 64)}, 'experimentally_resolved': {'logits': (56, 37)}, 'masked_msa': {'logits': (512, 56, 23)}, 'predicted_lddt': {'logits': (56, 50)}, 'structure_module': {'final_atom_mask': (56, 37), 'final_atom_positions': (56, 37, 3)}, 'plddt': (56,), 'ranking_confidence': ()}\n",
            "I0713 13:26:48.864213 132592598058816 parjax_cla_multi_GoogleColab.py:144] Total JAX model model_5_pred_0 on 2LHG predict time (includes compilation time, see --benchmark): 114.0s\n",
            "I0713 13:26:53.435084 132592598058816 amber_minimize.py:178] alterations info: {'nonstandard_residues': [], 'removed_heterogens': set(), 'missing_residues': {}, 'missing_heavy_atoms': {}, 'missing_terminals': {<Residue 55 (GLU) of chain 0>: ['OXT']}, 'Se_in_MET': [], 'removed_chains': {0: []}}\n",
            "I0713 13:26:53.629437 132592598058816 amber_minimize.py:408] Minimizing protein, attempt 1 of 100.\n",
            "I0713 13:26:53.783060 132592598058816 amber_minimize.py:69] Restraining 453 / 928 particles.\n",
            "I0713 13:26:56.149171 132592598058816 amber_minimize.py:178] alterations info: {'nonstandard_residues': [], 'removed_heterogens': set(), 'missing_residues': {}, 'missing_heavy_atoms': {}, 'missing_terminals': {}, 'Se_in_MET': [], 'removed_chains': {0: []}}\n",
            "I0713 13:26:58.226387 132592598058816 amber_minimize.py:500] Iteration completed: Einit 1779.92 Efinal -736.83 Time 1.70 s num residue violations 0 num residue exclusions 0 \n",
            "I0713 13:26:58.258318 132592598058816 parjax_cla_multi_GoogleColab.py:231] Final timings for 2LHG: {'process_features_model_1_pred_0': 2.0907680988311768, 'predict_and_compile_model_1_pred_0': 153.0685532093048, 'process_features_model_2_pred_0': 2.2240822315216064, 'predict_and_compile_model_2_pred_0': 151.0992488861084, 'process_features_model_3_pred_0': 1.6857683658599854, 'predict_and_compile_model_3_pred_0': 115.36282706260681, 'process_features_model_4_pred_0': 1.7093656063079834, 'predict_and_compile_model_4_pred_0': 114.93999004364014, 'process_features_model_5_pred_0': 1.7378249168395996, 'predict_and_compile_model_5_pred_0': 113.98190140724182, 'relax_model_5_pred_0': 9.380744695663452}\n",
            "I0713 13:26:58.258929 132592598058816 parjax_cla_multi_GoogleColab.py:308] 2LHG AlphaFold structure prediction COMPLETE\n",
            "I0713 13:26:58.259048 132592598058816 parjax_cla_multi_GoogleColab.py:107] Predicting 2LHE\n",
            "I0713 13:26:58.259816 132592598058816 parjax_cla_multi_GoogleColab.py:132] Running model model_1_pred_0 on 2LHE\n",
            "I0713 13:27:00.366094 132592598058816 model.py:165] Running predict with shape(feat) = {'aatype': (4, 56), 'residue_index': (4, 56), 'seq_length': (4,), 'template_aatype': (4, 4, 56), 'template_all_atom_masks': (4, 4, 56, 37), 'template_all_atom_positions': (4, 4, 56, 37, 3), 'template_sum_probs': (4, 4, 1), 'is_distillation': (4,), 'seq_mask': (4, 56), 'msa_mask': (4, 508, 56), 'msa_row_mask': (4, 508), 'random_crop_to_size_seed': (4, 2), 'template_mask': (4, 4), 'template_pseudo_beta': (4, 4, 56, 3), 'template_pseudo_beta_mask': (4, 4, 56), 'atom14_atom_exists': (4, 56, 14), 'residx_atom14_to_atom37': (4, 56, 14), 'residx_atom37_to_atom14': (4, 56, 37), 'atom37_atom_exists': (4, 56, 37), 'extra_msa': (4, 5120, 56), 'extra_msa_mask': (4, 5120, 56), 'extra_msa_row_mask': (4, 5120), 'bert_mask': (4, 508, 56), 'true_msa': (4, 508, 56), 'extra_has_deletion': (4, 5120, 56), 'extra_deletion_value': (4, 5120, 56), 'msa_feat': (4, 508, 56, 49), 'target_feat': (4, 56, 22)}\n",
            "I0713 13:27:07.862204 132592598058816 model.py:175] Output shape was {'distogram': {'bin_edges': (63,), 'logits': (56, 56, 64)}, 'experimentally_resolved': {'logits': (56, 37)}, 'masked_msa': {'logits': (508, 56, 23)}, 'predicted_lddt': {'logits': (56, 50)}, 'structure_module': {'final_atom_mask': (56, 37), 'final_atom_positions': (56, 37, 3)}, 'plddt': (56,), 'ranking_confidence': ()}\n",
            "I0713 13:27:07.862400 132592598058816 parjax_cla_multi_GoogleColab.py:144] Total JAX model model_1_pred_0 on 2LHE predict time (includes compilation time, see --benchmark): 7.5s\n",
            "I0713 13:27:07.875015 132592598058816 parjax_cla_multi_GoogleColab.py:132] Running model model_2_pred_0 on 2LHE\n",
            "I0713 13:27:09.955611 132592598058816 model.py:165] Running predict with shape(feat) = {'aatype': (4, 56), 'residue_index': (4, 56), 'seq_length': (4,), 'template_aatype': (4, 4, 56), 'template_all_atom_masks': (4, 4, 56, 37), 'template_all_atom_positions': (4, 4, 56, 37, 3), 'template_sum_probs': (4, 4, 1), 'is_distillation': (4,), 'seq_mask': (4, 56), 'msa_mask': (4, 508, 56), 'msa_row_mask': (4, 508), 'random_crop_to_size_seed': (4, 2), 'template_mask': (4, 4), 'template_pseudo_beta': (4, 4, 56, 3), 'template_pseudo_beta_mask': (4, 4, 56), 'atom14_atom_exists': (4, 56, 14), 'residx_atom14_to_atom37': (4, 56, 14), 'residx_atom37_to_atom14': (4, 56, 37), 'atom37_atom_exists': (4, 56, 37), 'extra_msa': (4, 1024, 56), 'extra_msa_mask': (4, 1024, 56), 'extra_msa_row_mask': (4, 1024), 'bert_mask': (4, 508, 56), 'true_msa': (4, 508, 56), 'extra_has_deletion': (4, 1024, 56), 'extra_deletion_value': (4, 1024, 56), 'msa_feat': (4, 508, 56, 49), 'target_feat': (4, 56, 22)}\n",
            "I0713 13:27:15.633600 132592598058816 model.py:175] Output shape was {'distogram': {'bin_edges': (63,), 'logits': (56, 56, 64)}, 'experimentally_resolved': {'logits': (56, 37)}, 'masked_msa': {'logits': (508, 56, 23)}, 'predicted_lddt': {'logits': (56, 50)}, 'structure_module': {'final_atom_mask': (56, 37), 'final_atom_positions': (56, 37, 3)}, 'plddt': (56,), 'ranking_confidence': ()}\n",
            "I0713 13:27:15.633801 132592598058816 parjax_cla_multi_GoogleColab.py:144] Total JAX model model_2_pred_0 on 2LHE predict time (includes compilation time, see --benchmark): 5.7s\n",
            "I0713 13:27:15.646182 132592598058816 parjax_cla_multi_GoogleColab.py:132] Running model model_3_pred_0 on 2LHE\n",
            "I0713 13:27:17.558958 132592598058816 model.py:165] Running predict with shape(feat) = {'aatype': (4, 56), 'residue_index': (4, 56), 'seq_length': (4,), 'is_distillation': (4,), 'seq_mask': (4, 56), 'msa_mask': (4, 512, 56), 'msa_row_mask': (4, 512), 'random_crop_to_size_seed': (4, 2), 'atom14_atom_exists': (4, 56, 14), 'residx_atom14_to_atom37': (4, 56, 14), 'residx_atom37_to_atom14': (4, 56, 37), 'atom37_atom_exists': (4, 56, 37), 'extra_msa': (4, 5120, 56), 'extra_msa_mask': (4, 5120, 56), 'extra_msa_row_mask': (4, 5120), 'bert_mask': (4, 512, 56), 'true_msa': (4, 512, 56), 'extra_has_deletion': (4, 5120, 56), 'extra_deletion_value': (4, 5120, 56), 'msa_feat': (4, 512, 56, 49), 'target_feat': (4, 56, 22)}\n",
            "I0713 13:27:25.174120 132592598058816 model.py:175] Output shape was {'distogram': {'bin_edges': (63,), 'logits': (56, 56, 64)}, 'experimentally_resolved': {'logits': (56, 37)}, 'masked_msa': {'logits': (512, 56, 23)}, 'predicted_lddt': {'logits': (56, 50)}, 'structure_module': {'final_atom_mask': (56, 37), 'final_atom_positions': (56, 37, 3)}, 'plddt': (56,), 'ranking_confidence': ()}\n",
            "I0713 13:27:25.174322 132592598058816 parjax_cla_multi_GoogleColab.py:144] Total JAX model model_3_pred_0 on 2LHE predict time (includes compilation time, see --benchmark): 7.6s\n",
            "I0713 13:27:25.186911 132592598058816 parjax_cla_multi_GoogleColab.py:132] Running model model_4_pred_0 on 2LHE\n",
            "I0713 13:27:26.736445 132592598058816 model.py:165] Running predict with shape(feat) = {'aatype': (4, 56), 'residue_index': (4, 56), 'seq_length': (4,), 'is_distillation': (4,), 'seq_mask': (4, 56), 'msa_mask': (4, 512, 56), 'msa_row_mask': (4, 512), 'random_crop_to_size_seed': (4, 2), 'atom14_atom_exists': (4, 56, 14), 'residx_atom14_to_atom37': (4, 56, 14), 'residx_atom37_to_atom14': (4, 56, 37), 'atom37_atom_exists': (4, 56, 37), 'extra_msa': (4, 5120, 56), 'extra_msa_mask': (4, 5120, 56), 'extra_msa_row_mask': (4, 5120), 'bert_mask': (4, 512, 56), 'true_msa': (4, 512, 56), 'extra_has_deletion': (4, 5120, 56), 'extra_deletion_value': (4, 5120, 56), 'msa_feat': (4, 512, 56, 49), 'target_feat': (4, 56, 22)}\n",
            "I0713 13:27:34.166134 132592598058816 model.py:175] Output shape was {'distogram': {'bin_edges': (63,), 'logits': (56, 56, 64)}, 'experimentally_resolved': {'logits': (56, 37)}, 'masked_msa': {'logits': (512, 56, 23)}, 'predicted_lddt': {'logits': (56, 50)}, 'structure_module': {'final_atom_mask': (56, 37), 'final_atom_positions': (56, 37, 3)}, 'plddt': (56,), 'ranking_confidence': ()}\n",
            "I0713 13:27:34.166324 132592598058816 parjax_cla_multi_GoogleColab.py:144] Total JAX model model_4_pred_0 on 2LHE predict time (includes compilation time, see --benchmark): 7.4s\n",
            "I0713 13:27:34.178853 132592598058816 parjax_cla_multi_GoogleColab.py:132] Running model model_5_pred_0 on 2LHE\n",
            "I0713 13:27:35.745815 132592598058816 model.py:165] Running predict with shape(feat) = {'aatype': (4, 56), 'residue_index': (4, 56), 'seq_length': (4,), 'is_distillation': (4,), 'seq_mask': (4, 56), 'msa_mask': (4, 512, 56), 'msa_row_mask': (4, 512), 'random_crop_to_size_seed': (4, 2), 'atom14_atom_exists': (4, 56, 14), 'residx_atom14_to_atom37': (4, 56, 14), 'residx_atom37_to_atom14': (4, 56, 37), 'atom37_atom_exists': (4, 56, 37), 'extra_msa': (4, 1024, 56), 'extra_msa_mask': (4, 1024, 56), 'extra_msa_row_mask': (4, 1024), 'bert_mask': (4, 512, 56), 'true_msa': (4, 512, 56), 'extra_has_deletion': (4, 1024, 56), 'extra_deletion_value': (4, 1024, 56), 'msa_feat': (4, 512, 56, 49), 'target_feat': (4, 56, 22)}\n",
            "I0713 13:27:41.330477 132592598058816 model.py:175] Output shape was {'distogram': {'bin_edges': (63,), 'logits': (56, 56, 64)}, 'experimentally_resolved': {'logits': (56, 37)}, 'masked_msa': {'logits': (512, 56, 23)}, 'predicted_lddt': {'logits': (56, 50)}, 'structure_module': {'final_atom_mask': (56, 37), 'final_atom_positions': (56, 37, 3)}, 'plddt': (56,), 'ranking_confidence': ()}\n",
            "I0713 13:27:41.330675 132592598058816 parjax_cla_multi_GoogleColab.py:144] Total JAX model model_5_pred_0 on 2LHE predict time (includes compilation time, see --benchmark): 5.6s\n",
            "I0713 13:27:46.117971 132592598058816 amber_minimize.py:178] alterations info: {'nonstandard_residues': [], 'removed_heterogens': set(), 'missing_residues': {}, 'missing_heavy_atoms': {}, 'missing_terminals': {<Residue 55 (GLU) of chain 0>: ['OXT']}, 'Se_in_MET': [], 'removed_chains': {0: []}}\n",
            "I0713 13:27:46.184075 132592598058816 amber_minimize.py:408] Minimizing protein, attempt 1 of 100.\n",
            "I0713 13:27:46.451515 132592598058816 amber_minimize.py:69] Restraining 450 / 919 particles.\n",
            "I0713 13:27:48.864346 132592598058816 amber_minimize.py:178] alterations info: {'nonstandard_residues': [], 'removed_heterogens': set(), 'missing_residues': {}, 'missing_heavy_atoms': {}, 'missing_terminals': {}, 'Se_in_MET': [], 'removed_chains': {0: []}}\n",
            "I0713 13:27:48.970617 132592598058816 amber_minimize.py:500] Iteration completed: Einit 1442.14 Efinal -980.82 Time 1.84 s num residue violations 0 num residue exclusions 0 \n",
            "I0713 13:27:49.003001 132592598058816 parjax_cla_multi_GoogleColab.py:231] Final timings for 2LHE: {'process_features_model_1_pred_0': 2.1041131019592285, 'predict_and_compile_model_1_pred_0': 7.498371839523315, 'process_features_model_2_pred_0': 2.0799074172973633, 'predict_and_compile_model_2_pred_0': 5.678699731826782, 'process_features_model_3_pred_0': 1.912508487701416, 'predict_and_compile_model_3_pred_0': 7.615495920181274, 'process_features_model_4_pred_0': 1.5492606163024902, 'predict_and_compile_model_4_pred_0': 7.430004835128784, 'process_features_model_5_pred_0': 1.5666897296905518, 'predict_and_compile_model_5_pred_0': 5.584992408752441, 'relax_model_4_pred_0': 7.658559799194336}\n",
            "I0713 13:27:49.003577 132592598058816 parjax_cla_multi_GoogleColab.py:308] 2LHE AlphaFold structure prediction COMPLETE\n",
            "I0713 13:27:49.003685 132592598058816 parjax_cla_multi_GoogleColab.py:107] Predicting 2LHD\n",
            "I0713 13:27:49.004478 132592598058816 parjax_cla_multi_GoogleColab.py:132] Running model model_1_pred_0 on 2LHD\n",
            "I0713 13:27:51.126640 132592598058816 model.py:165] Running predict with shape(feat) = {'aatype': (4, 56), 'residue_index': (4, 56), 'seq_length': (4,), 'template_aatype': (4, 4, 56), 'template_all_atom_masks': (4, 4, 56, 37), 'template_all_atom_positions': (4, 4, 56, 37, 3), 'template_sum_probs': (4, 4, 1), 'is_distillation': (4,), 'seq_mask': (4, 56), 'msa_mask': (4, 508, 56), 'msa_row_mask': (4, 508), 'random_crop_to_size_seed': (4, 2), 'template_mask': (4, 4), 'template_pseudo_beta': (4, 4, 56, 3), 'template_pseudo_beta_mask': (4, 4, 56), 'atom14_atom_exists': (4, 56, 14), 'residx_atom14_to_atom37': (4, 56, 14), 'residx_atom37_to_atom14': (4, 56, 37), 'atom37_atom_exists': (4, 56, 37), 'extra_msa': (4, 5120, 56), 'extra_msa_mask': (4, 5120, 56), 'extra_msa_row_mask': (4, 5120), 'bert_mask': (4, 508, 56), 'true_msa': (4, 508, 56), 'extra_has_deletion': (4, 5120, 56), 'extra_deletion_value': (4, 5120, 56), 'msa_feat': (4, 508, 56, 49), 'target_feat': (4, 56, 22)}\n",
            "I0713 13:27:58.658519 132592598058816 model.py:175] Output shape was {'distogram': {'bin_edges': (63,), 'logits': (56, 56, 64)}, 'experimentally_resolved': {'logits': (56, 37)}, 'masked_msa': {'logits': (508, 56, 23)}, 'predicted_lddt': {'logits': (56, 50)}, 'structure_module': {'final_atom_mask': (56, 37), 'final_atom_positions': (56, 37, 3)}, 'plddt': (56,), 'ranking_confidence': ()}\n",
            "I0713 13:27:58.658713 132592598058816 parjax_cla_multi_GoogleColab.py:144] Total JAX model model_1_pred_0 on 2LHD predict time (includes compilation time, see --benchmark): 7.5s\n",
            "I0713 13:27:58.671051 132592598058816 parjax_cla_multi_GoogleColab.py:132] Running model model_2_pred_0 on 2LHD\n",
            "I0713 13:28:01.053737 132592598058816 model.py:165] Running predict with shape(feat) = {'aatype': (4, 56), 'residue_index': (4, 56), 'seq_length': (4,), 'template_aatype': (4, 4, 56), 'template_all_atom_masks': (4, 4, 56, 37), 'template_all_atom_positions': (4, 4, 56, 37, 3), 'template_sum_probs': (4, 4, 1), 'is_distillation': (4,), 'seq_mask': (4, 56), 'msa_mask': (4, 508, 56), 'msa_row_mask': (4, 508), 'random_crop_to_size_seed': (4, 2), 'template_mask': (4, 4), 'template_pseudo_beta': (4, 4, 56, 3), 'template_pseudo_beta_mask': (4, 4, 56), 'atom14_atom_exists': (4, 56, 14), 'residx_atom14_to_atom37': (4, 56, 14), 'residx_atom37_to_atom14': (4, 56, 37), 'atom37_atom_exists': (4, 56, 37), 'extra_msa': (4, 1024, 56), 'extra_msa_mask': (4, 1024, 56), 'extra_msa_row_mask': (4, 1024), 'bert_mask': (4, 508, 56), 'true_msa': (4, 508, 56), 'extra_has_deletion': (4, 1024, 56), 'extra_deletion_value': (4, 1024, 56), 'msa_feat': (4, 508, 56, 49), 'target_feat': (4, 56, 22)}\n",
            "I0713 13:28:06.704282 132592598058816 model.py:175] Output shape was {'distogram': {'bin_edges': (63,), 'logits': (56, 56, 64)}, 'experimentally_resolved': {'logits': (56, 37)}, 'masked_msa': {'logits': (508, 56, 23)}, 'predicted_lddt': {'logits': (56, 50)}, 'structure_module': {'final_atom_mask': (56, 37), 'final_atom_positions': (56, 37, 3)}, 'plddt': (56,), 'ranking_confidence': ()}\n",
            "I0713 13:28:06.704477 132592598058816 parjax_cla_multi_GoogleColab.py:144] Total JAX model model_2_pred_0 on 2LHD predict time (includes compilation time, see --benchmark): 5.7s\n",
            "I0713 13:28:06.717090 132592598058816 parjax_cla_multi_GoogleColab.py:132] Running model model_3_pred_0 on 2LHD\n",
            "I0713 13:28:08.277761 132592598058816 model.py:165] Running predict with shape(feat) = {'aatype': (4, 56), 'residue_index': (4, 56), 'seq_length': (4,), 'is_distillation': (4,), 'seq_mask': (4, 56), 'msa_mask': (4, 512, 56), 'msa_row_mask': (4, 512), 'random_crop_to_size_seed': (4, 2), 'atom14_atom_exists': (4, 56, 14), 'residx_atom14_to_atom37': (4, 56, 14), 'residx_atom37_to_atom14': (4, 56, 37), 'atom37_atom_exists': (4, 56, 37), 'extra_msa': (4, 5120, 56), 'extra_msa_mask': (4, 5120, 56), 'extra_msa_row_mask': (4, 5120), 'bert_mask': (4, 512, 56), 'true_msa': (4, 512, 56), 'extra_has_deletion': (4, 5120, 56), 'extra_deletion_value': (4, 5120, 56), 'msa_feat': (4, 512, 56, 49), 'target_feat': (4, 56, 22)}\n",
            "I0713 13:28:15.729292 132592598058816 model.py:175] Output shape was {'distogram': {'bin_edges': (63,), 'logits': (56, 56, 64)}, 'experimentally_resolved': {'logits': (56, 37)}, 'masked_msa': {'logits': (512, 56, 23)}, 'predicted_lddt': {'logits': (56, 50)}, 'structure_module': {'final_atom_mask': (56, 37), 'final_atom_positions': (56, 37, 3)}, 'plddt': (56,), 'ranking_confidence': ()}\n",
            "I0713 13:28:15.729485 132592598058816 parjax_cla_multi_GoogleColab.py:144] Total JAX model model_3_pred_0 on 2LHD predict time (includes compilation time, see --benchmark): 7.5s\n",
            "I0713 13:28:15.742175 132592598058816 parjax_cla_multi_GoogleColab.py:132] Running model model_4_pred_0 on 2LHD\n",
            "I0713 13:28:17.248295 132592598058816 model.py:165] Running predict with shape(feat) = {'aatype': (4, 56), 'residue_index': (4, 56), 'seq_length': (4,), 'is_distillation': (4,), 'seq_mask': (4, 56), 'msa_mask': (4, 512, 56), 'msa_row_mask': (4, 512), 'random_crop_to_size_seed': (4, 2), 'atom14_atom_exists': (4, 56, 14), 'residx_atom14_to_atom37': (4, 56, 14), 'residx_atom37_to_atom14': (4, 56, 37), 'atom37_atom_exists': (4, 56, 37), 'extra_msa': (4, 5120, 56), 'extra_msa_mask': (4, 5120, 56), 'extra_msa_row_mask': (4, 5120), 'bert_mask': (4, 512, 56), 'true_msa': (4, 512, 56), 'extra_has_deletion': (4, 5120, 56), 'extra_deletion_value': (4, 5120, 56), 'msa_feat': (4, 512, 56, 49), 'target_feat': (4, 56, 22)}\n",
            "I0713 13:28:24.664369 132592598058816 model.py:175] Output shape was {'distogram': {'bin_edges': (63,), 'logits': (56, 56, 64)}, 'experimentally_resolved': {'logits': (56, 37)}, 'masked_msa': {'logits': (512, 56, 23)}, 'predicted_lddt': {'logits': (56, 50)}, 'structure_module': {'final_atom_mask': (56, 37), 'final_atom_positions': (56, 37, 3)}, 'plddt': (56,), 'ranking_confidence': ()}\n",
            "I0713 13:28:24.664551 132592598058816 parjax_cla_multi_GoogleColab.py:144] Total JAX model model_4_pred_0 on 2LHD predict time (includes compilation time, see --benchmark): 7.4s\n",
            "I0713 13:28:24.677119 132592598058816 parjax_cla_multi_GoogleColab.py:132] Running model model_5_pred_0 on 2LHD\n",
            "I0713 13:28:26.182770 132592598058816 model.py:165] Running predict with shape(feat) = {'aatype': (4, 56), 'residue_index': (4, 56), 'seq_length': (4,), 'is_distillation': (4,), 'seq_mask': (4, 56), 'msa_mask': (4, 512, 56), 'msa_row_mask': (4, 512), 'random_crop_to_size_seed': (4, 2), 'atom14_atom_exists': (4, 56, 14), 'residx_atom14_to_atom37': (4, 56, 14), 'residx_atom37_to_atom14': (4, 56, 37), 'atom37_atom_exists': (4, 56, 37), 'extra_msa': (4, 1024, 56), 'extra_msa_mask': (4, 1024, 56), 'extra_msa_row_mask': (4, 1024), 'bert_mask': (4, 512, 56), 'true_msa': (4, 512, 56), 'extra_has_deletion': (4, 1024, 56), 'extra_deletion_value': (4, 1024, 56), 'msa_feat': (4, 512, 56, 49), 'target_feat': (4, 56, 22)}\n",
            "I0713 13:28:31.736766 132592598058816 model.py:175] Output shape was {'distogram': {'bin_edges': (63,), 'logits': (56, 56, 64)}, 'experimentally_resolved': {'logits': (56, 37)}, 'masked_msa': {'logits': (512, 56, 23)}, 'predicted_lddt': {'logits': (56, 50)}, 'structure_module': {'final_atom_mask': (56, 37), 'final_atom_positions': (56, 37, 3)}, 'plddt': (56,), 'ranking_confidence': ()}\n",
            "I0713 13:28:31.736964 132592598058816 parjax_cla_multi_GoogleColab.py:144] Total JAX model model_5_pred_0 on 2LHD predict time (includes compilation time, see --benchmark): 5.6s\n",
            "I0713 13:28:36.328020 132592598058816 amber_minimize.py:178] alterations info: {'nonstandard_residues': [], 'removed_heterogens': set(), 'missing_residues': {}, 'missing_heavy_atoms': {}, 'missing_terminals': {<Residue 55 (GLU) of chain 0>: ['OXT']}, 'Se_in_MET': [], 'removed_chains': {0: []}}\n",
            "I0713 13:28:36.396339 132592598058816 amber_minimize.py:408] Minimizing protein, attempt 1 of 100.\n",
            "I0713 13:28:36.681302 132592598058816 amber_minimize.py:69] Restraining 452 / 923 particles.\n",
            "I0713 13:28:39.091819 132592598058816 amber_minimize.py:178] alterations info: {'nonstandard_residues': [], 'removed_heterogens': set(), 'missing_residues': {}, 'missing_heavy_atoms': {}, 'missing_terminals': {}, 'Se_in_MET': [], 'removed_chains': {0: []}}\n",
            "I0713 13:28:39.194981 132592598058816 amber_minimize.py:500] Iteration completed: Einit 1919.72 Efinal -588.23 Time 1.86 s num residue violations 0 num residue exclusions 0 \n",
            "I0713 13:28:39.226345 132592598058816 parjax_cla_multi_GoogleColab.py:231] Final timings for 2LHD: {'process_features_model_1_pred_0': 2.1199493408203125, 'predict_and_compile_model_1_pred_0': 7.534187078475952, 'process_features_model_2_pred_0': 2.3801801204681396, 'predict_and_compile_model_2_pred_0': 5.653087139129639, 'process_features_model_3_pred_0': 1.5603923797607422, 'predict_and_compile_model_3_pred_0': 7.451857805252075, 'process_features_model_4_pred_0': 1.5058507919311523, 'predict_and_compile_model_4_pred_0': 7.416386365890503, 'process_features_model_5_pred_0': 1.5053811073303223, 'predict_and_compile_model_5_pred_0': 5.55432391166687, 'relax_model_4_pred_0': 7.4758172035217285}\n",
            "I0713 13:28:39.226960 132592598058816 parjax_cla_multi_GoogleColab.py:308] 2LHD AlphaFold structure prediction COMPLETE\n",
            "I0713 13:28:39.227107 132592598058816 parjax_cla_multi_GoogleColab.py:107] Predicting 2LHC\n",
            "I0713 13:28:39.227911 132592598058816 parjax_cla_multi_GoogleColab.py:132] Running model model_1_pred_0 on 2LHC\n",
            "I0713 13:28:41.523871 132592598058816 model.py:165] Running predict with shape(feat) = {'aatype': (4, 56), 'residue_index': (4, 56), 'seq_length': (4,), 'template_aatype': (4, 4, 56), 'template_all_atom_masks': (4, 4, 56, 37), 'template_all_atom_positions': (4, 4, 56, 37, 3), 'template_sum_probs': (4, 4, 1), 'is_distillation': (4,), 'seq_mask': (4, 56), 'msa_mask': (4, 508, 56), 'msa_row_mask': (4, 508), 'random_crop_to_size_seed': (4, 2), 'template_mask': (4, 4), 'template_pseudo_beta': (4, 4, 56, 3), 'template_pseudo_beta_mask': (4, 4, 56), 'atom14_atom_exists': (4, 56, 14), 'residx_atom14_to_atom37': (4, 56, 14), 'residx_atom37_to_atom14': (4, 56, 37), 'atom37_atom_exists': (4, 56, 37), 'extra_msa': (4, 5120, 56), 'extra_msa_mask': (4, 5120, 56), 'extra_msa_row_mask': (4, 5120), 'bert_mask': (4, 508, 56), 'true_msa': (4, 508, 56), 'extra_has_deletion': (4, 5120, 56), 'extra_deletion_value': (4, 5120, 56), 'msa_feat': (4, 508, 56, 49), 'target_feat': (4, 56, 22)}\n",
            "I0713 13:28:49.037537 132592598058816 model.py:175] Output shape was {'distogram': {'bin_edges': (63,), 'logits': (56, 56, 64)}, 'experimentally_resolved': {'logits': (56, 37)}, 'masked_msa': {'logits': (508, 56, 23)}, 'predicted_lddt': {'logits': (56, 50)}, 'structure_module': {'final_atom_mask': (56, 37), 'final_atom_positions': (56, 37, 3)}, 'plddt': (56,), 'ranking_confidence': ()}\n",
            "I0713 13:28:49.037757 132592598058816 parjax_cla_multi_GoogleColab.py:144] Total JAX model model_1_pred_0 on 2LHC predict time (includes compilation time, see --benchmark): 7.5s\n",
            "I0713 13:28:49.050057 132592598058816 parjax_cla_multi_GoogleColab.py:132] Running model model_2_pred_0 on 2LHC\n",
            "I0713 13:28:51.108443 132592598058816 model.py:165] Running predict with shape(feat) = {'aatype': (4, 56), 'residue_index': (4, 56), 'seq_length': (4,), 'template_aatype': (4, 4, 56), 'template_all_atom_masks': (4, 4, 56, 37), 'template_all_atom_positions': (4, 4, 56, 37, 3), 'template_sum_probs': (4, 4, 1), 'is_distillation': (4,), 'seq_mask': (4, 56), 'msa_mask': (4, 508, 56), 'msa_row_mask': (4, 508), 'random_crop_to_size_seed': (4, 2), 'template_mask': (4, 4), 'template_pseudo_beta': (4, 4, 56, 3), 'template_pseudo_beta_mask': (4, 4, 56), 'atom14_atom_exists': (4, 56, 14), 'residx_atom14_to_atom37': (4, 56, 14), 'residx_atom37_to_atom14': (4, 56, 37), 'atom37_atom_exists': (4, 56, 37), 'extra_msa': (4, 1024, 56), 'extra_msa_mask': (4, 1024, 56), 'extra_msa_row_mask': (4, 1024), 'bert_mask': (4, 508, 56), 'true_msa': (4, 508, 56), 'extra_has_deletion': (4, 1024, 56), 'extra_deletion_value': (4, 1024, 56), 'msa_feat': (4, 508, 56, 49), 'target_feat': (4, 56, 22)}\n",
            "I0713 13:28:56.736022 132592598058816 model.py:175] Output shape was {'distogram': {'bin_edges': (63,), 'logits': (56, 56, 64)}, 'experimentally_resolved': {'logits': (56, 37)}, 'masked_msa': {'logits': (508, 56, 23)}, 'predicted_lddt': {'logits': (56, 50)}, 'structure_module': {'final_atom_mask': (56, 37), 'final_atom_positions': (56, 37, 3)}, 'plddt': (56,), 'ranking_confidence': ()}\n",
            "I0713 13:28:56.736255 132592598058816 parjax_cla_multi_GoogleColab.py:144] Total JAX model model_2_pred_0 on 2LHC predict time (includes compilation time, see --benchmark): 5.6s\n",
            "I0713 13:28:56.748703 132592598058816 parjax_cla_multi_GoogleColab.py:132] Running model model_3_pred_0 on 2LHC\n",
            "I0713 13:28:58.264848 132592598058816 model.py:165] Running predict with shape(feat) = {'aatype': (4, 56), 'residue_index': (4, 56), 'seq_length': (4,), 'is_distillation': (4,), 'seq_mask': (4, 56), 'msa_mask': (4, 512, 56), 'msa_row_mask': (4, 512), 'random_crop_to_size_seed': (4, 2), 'atom14_atom_exists': (4, 56, 14), 'residx_atom14_to_atom37': (4, 56, 14), 'residx_atom37_to_atom14': (4, 56, 37), 'atom37_atom_exists': (4, 56, 37), 'extra_msa': (4, 5120, 56), 'extra_msa_mask': (4, 5120, 56), 'extra_msa_row_mask': (4, 5120), 'bert_mask': (4, 512, 56), 'true_msa': (4, 512, 56), 'extra_has_deletion': (4, 5120, 56), 'extra_deletion_value': (4, 5120, 56), 'msa_feat': (4, 512, 56, 49), 'target_feat': (4, 56, 22)}\n",
            "I0713 13:29:05.738729 132592598058816 model.py:175] Output shape was {'distogram': {'bin_edges': (63,), 'logits': (56, 56, 64)}, 'experimentally_resolved': {'logits': (56, 37)}, 'masked_msa': {'logits': (512, 56, 23)}, 'predicted_lddt': {'logits': (56, 50)}, 'structure_module': {'final_atom_mask': (56, 37), 'final_atom_positions': (56, 37, 3)}, 'plddt': (56,), 'ranking_confidence': ()}\n",
            "I0713 13:29:05.738938 132592598058816 parjax_cla_multi_GoogleColab.py:144] Total JAX model model_3_pred_0 on 2LHC predict time (includes compilation time, see --benchmark): 7.5s\n",
            "I0713 13:29:05.751612 132592598058816 parjax_cla_multi_GoogleColab.py:132] Running model model_4_pred_0 on 2LHC\n",
            "I0713 13:29:07.271911 132592598058816 model.py:165] Running predict with shape(feat) = {'aatype': (4, 56), 'residue_index': (4, 56), 'seq_length': (4,), 'is_distillation': (4,), 'seq_mask': (4, 56), 'msa_mask': (4, 512, 56), 'msa_row_mask': (4, 512), 'random_crop_to_size_seed': (4, 2), 'atom14_atom_exists': (4, 56, 14), 'residx_atom14_to_atom37': (4, 56, 14), 'residx_atom37_to_atom14': (4, 56, 37), 'atom37_atom_exists': (4, 56, 37), 'extra_msa': (4, 5120, 56), 'extra_msa_mask': (4, 5120, 56), 'extra_msa_row_mask': (4, 5120), 'bert_mask': (4, 512, 56), 'true_msa': (4, 512, 56), 'extra_has_deletion': (4, 5120, 56), 'extra_deletion_value': (4, 5120, 56), 'msa_feat': (4, 512, 56, 49), 'target_feat': (4, 56, 22)}\n",
            "I0713 13:29:14.711389 132592598058816 model.py:175] Output shape was {'distogram': {'bin_edges': (63,), 'logits': (56, 56, 64)}, 'experimentally_resolved': {'logits': (56, 37)}, 'masked_msa': {'logits': (512, 56, 23)}, 'predicted_lddt': {'logits': (56, 50)}, 'structure_module': {'final_atom_mask': (56, 37), 'final_atom_positions': (56, 37, 3)}, 'plddt': (56,), 'ranking_confidence': ()}\n",
            "I0713 13:29:14.711584 132592598058816 parjax_cla_multi_GoogleColab.py:144] Total JAX model model_4_pred_0 on 2LHC predict time (includes compilation time, see --benchmark): 7.4s\n",
            "I0713 13:29:14.724078 132592598058816 parjax_cla_multi_GoogleColab.py:132] Running model model_5_pred_0 on 2LHC\n",
            "I0713 13:29:16.728453 132592598058816 model.py:165] Running predict with shape(feat) = {'aatype': (4, 56), 'residue_index': (4, 56), 'seq_length': (4,), 'is_distillation': (4,), 'seq_mask': (4, 56), 'msa_mask': (4, 512, 56), 'msa_row_mask': (4, 512), 'random_crop_to_size_seed': (4, 2), 'atom14_atom_exists': (4, 56, 14), 'residx_atom14_to_atom37': (4, 56, 14), 'residx_atom37_to_atom14': (4, 56, 37), 'atom37_atom_exists': (4, 56, 37), 'extra_msa': (4, 1024, 56), 'extra_msa_mask': (4, 1024, 56), 'extra_msa_row_mask': (4, 1024), 'bert_mask': (4, 512, 56), 'true_msa': (4, 512, 56), 'extra_has_deletion': (4, 1024, 56), 'extra_deletion_value': (4, 1024, 56), 'msa_feat': (4, 512, 56, 49), 'target_feat': (4, 56, 22)}\n",
            "I0713 13:29:22.318864 132592598058816 model.py:175] Output shape was {'distogram': {'bin_edges': (63,), 'logits': (56, 56, 64)}, 'experimentally_resolved': {'logits': (56, 37)}, 'masked_msa': {'logits': (512, 56, 23)}, 'predicted_lddt': {'logits': (56, 50)}, 'structure_module': {'final_atom_mask': (56, 37), 'final_atom_positions': (56, 37, 3)}, 'plddt': (56,), 'ranking_confidence': ()}\n",
            "I0713 13:29:22.319058 132592598058816 parjax_cla_multi_GoogleColab.py:144] Total JAX model model_5_pred_0 on 2LHC predict time (includes compilation time, see --benchmark): 5.6s\n",
            "I0713 13:29:26.884378 132592598058816 amber_minimize.py:178] alterations info: {'nonstandard_residues': [], 'removed_heterogens': set(), 'missing_residues': {}, 'missing_heavy_atoms': {}, 'missing_terminals': {<Residue 55 (GLU) of chain 0>: ['OXT']}, 'Se_in_MET': [], 'removed_chains': {0: []}}\n",
            "I0713 13:29:26.953674 132592598058816 amber_minimize.py:408] Minimizing protein, attempt 1 of 100.\n",
            "I0713 13:29:27.282876 132592598058816 amber_minimize.py:69] Restraining 448 / 921 particles.\n",
            "I0713 13:29:29.675613 132592598058816 amber_minimize.py:178] alterations info: {'nonstandard_residues': [], 'removed_heterogens': set(), 'missing_residues': {}, 'missing_heavy_atoms': {}, 'missing_terminals': {}, 'Se_in_MET': [], 'removed_chains': {0: []}}\n",
            "I0713 13:29:29.903452 132592598058816 amber_minimize.py:500] Iteration completed: Einit 1447.00 Efinal -620.13 Time 1.90 s num residue violations 0 num residue exclusions 0 \n",
            "I0713 13:29:29.935024 132592598058816 parjax_cla_multi_GoogleColab.py:231] Final timings for 2LHC: {'process_features_model_1_pred_0': 2.2936832904815674, 'predict_and_compile_model_1_pred_0': 7.516056060791016, 'process_features_model_2_pred_0': 2.0576815605163574, 'predict_and_compile_model_2_pred_0': 5.628373622894287, 'process_features_model_3_pred_0': 1.5158531665802002, 'predict_and_compile_model_3_pred_0': 7.474231719970703, 'process_features_model_4_pred_0': 1.5200202465057373, 'predict_and_compile_model_4_pred_0': 7.439797878265381, 'process_features_model_5_pred_0': 2.004101037979126, 'predict_and_compile_model_5_pred_0': 5.590734958648682, 'relax_model_4_pred_0': 7.602479696273804}\n",
            "I0713 13:29:29.935709 132592598058816 parjax_cla_multi_GoogleColab.py:308] 2LHC AlphaFold structure prediction COMPLETE\n"
          ]
        }
      ],
      "source": [
        "%%bash\n",
        "source activate parafold\n",
        "\n",
        "python parjax_cla_multi_GoogleColab.py \\\n",
        "  --fasta_paths=/content/jaxalpha/multi/6UF2/6UF2.fasta,/content/jaxalpha/multi/2LHG/2LHG.fasta,/content/jaxalpha/multi/2LHE/2LHE.fasta,/content/jaxalpha/multi/2LHD/2LHD.fasta,/content/jaxalpha/multi/2LHC/2LHC.fasta  \\\n",
        "  --output_dir=/content/jaxalpha/multi/out_multi_A_Z/1_5 \\\n",
        "  --parameter_path=/content/ParallelFold/params \\\n",
        "  --feature_files=/content/jaxalpha/multi/6UF2/feature.pkl,/content/jaxalpha/multi/2LHG/feature.pkl,/content/jaxalpha/multi/2LHE/feature.pkl,/content/jaxalpha/multi/2LHD/feature.pkl,/content/jaxalpha/multi/2LHC/feature.pkl \\\n",
        "  --use_gpu_relax=true\n",
        "\n"
      ]
    },
    {
      "cell_type": "code",
      "source": [
        "log_execution_time(start_time, cell_title)"
      ],
      "metadata": {
        "id": "VHsqPxzNHonp"
      },
      "execution_count": 42,
      "outputs": []
    },
    {
      "cell_type": "code",
      "execution_count": 43,
      "metadata": {
        "id": "W-_pdPajkI_n"
      },
      "outputs": [],
      "source": [
        "#@title zip_output\n",
        "%%capture\n",
        "cell_title = \"zip_output\"\n",
        "start_time = time.time()\n",
        "\n",
        "import zipfile\n",
        "import os\n",
        "from google.colab import drive\n",
        "\n",
        "# Mount Google Drive\n",
        "drive.mount('/content/drive')\n",
        "\n",
        "# Define the folder to zip\n",
        "folder_to_zip = '/content/jaxalpha/multi/out_multi_A_Z/1_5'\n",
        "\n",
        "# Define the output zip file name and path (in Google Drive)\n",
        "output_filename = '/content/drive/My Drive/parjax_cla_multi_1_5_A_Z_A100.zip'\n",
        "\n",
        "# Create the zip file\n",
        "with zipfile.ZipFile(output_filename, 'w', zipfile.ZIP_DEFLATED) as zipf:\n",
        "    for root, dirs, files in os.walk(folder_to_zip):\n",
        "        for file in files:\n",
        "            zipf.write(os.path.join(root, file),\n",
        "                       os.path.relpath(os.path.join(root, file),\n",
        "                                       os.path.join(folder_to_zip, '..')))\n",
        "\n",
        "log_execution_time(start_time, cell_title)"
      ]
    },
    {
      "cell_type": "code",
      "source": [
        "#log_execution_time(code_start_time, from_beginning_to_end)"
      ],
      "metadata": {
        "id": "b-pu4avGY3cU"
      },
      "execution_count": 44,
      "outputs": []
    }
  ],
  "metadata": {
    "colab": {
      "provenance": [],
      "machine_shape": "hm",
      "gpuType": "A100",
      "include_colab_link": true
    },
    "kernelspec": {
      "display_name": "Python 3",
      "name": "python3"
    },
    "language_info": {
      "name": "python"
    },
    "accelerator": "GPU"
  },
  "nbformat": 4,
  "nbformat_minor": 0
}