{
  "cells": [
    {
      "cell_type": "markdown",
      "metadata": {
        "id": "view-in-github",
        "colab_type": "text"
      },
      "source": [
        "<a href=\"https://colab.research.google.com/github/mohfercolab/colab_protein_sample/blob/main/benchmark_11_15_descend_T4.ipynb\" target=\"_parent\"><img src=\"https://colab.research.google.com/assets/colab-badge.svg\" alt=\"Open In Colab\"/></a>"
      ]
    },
    {
      "cell_type": "code",
      "source": [
        "#@title Initialize_time\n",
        "import time\n",
        "\n",
        "# Initialize an empty file\n",
        "with open('/content/time_cell_benchmark.txt', 'w') as file:\n",
        "    file.write('')\n",
        "\n",
        "\n",
        "def log_execution_time(start_time, cell_title):\n",
        "    end_time = time.time()\n",
        "    execution_time = end_time - start_time\n",
        "\n",
        "    with open('/content/time_cell_benchmark.txt', 'a') as file:\n",
        "        file.write(f\"execution_time_{cell_title}, {execution_time}\\n\")\n",
        "\n",
        "from_beginning_to_end = \"Start_running_the_code\"\n",
        "code_start_time = time.time()"
      ],
      "metadata": {
        "id": "el4dU4_088Xh",
        "cellView": "form"
      },
      "execution_count": 1,
      "outputs": []
    },
    {
      "cell_type": "code",
      "execution_count": 2,
      "metadata": {
        "id": "Iu_wXmRquKlk",
        "cellView": "form"
      },
      "outputs": [],
      "source": [
        "#@title clone\n",
        "%%capture\n",
        "cell_title = \"clone\"\n",
        "start_time = time.time()\n",
        "\n",
        "!git clone https://github.com/Zuricho/ParallelFold.git\n",
        "!git clone https://github.com/fereidoon27/jaxalpha.git\n",
        "\n",
        "log_execution_time(start_time, cell_title)"
      ]
    },
    {
      "cell_type": "code",
      "execution_count": 3,
      "metadata": {
        "collapsed": true,
        "id": "71M2Wr3NuZfM",
        "cellView": "form"
      },
      "outputs": [],
      "source": [
        "#@title Miniconda\n",
        "%%capture\n",
        "cell_title = \"Miniconda\"\n",
        "start_time = time.time()\n",
        "\n",
        "# Install Miniconda\n",
        "!wget https://repo.anaconda.com/miniconda/Miniconda3-latest-Linux-x86_64.sh\n",
        "!chmod +x Miniconda3-latest-Linux-x86_64.sh\n",
        "!bash ./Miniconda3-latest-Linux-x86_64.sh -b -f -p /usr/local\n",
        "\n",
        "# Initialize Conda\n",
        "import sys\n",
        "sys.path.append('/usr/local/lib/python3.8/site-packages')\n",
        "\n",
        "# Configure conda\n",
        "!conda init bash\n",
        "!source ~/.bashrc\n",
        "\n",
        "# Update conda\n",
        "!conda update conda -y\n",
        "\n",
        "log_execution_time(start_time, cell_title)"
      ]
    },
    {
      "cell_type": "code",
      "execution_count": 4,
      "metadata": {
        "collapsed": true,
        "id": "lr6PZXRiufLc",
        "cellView": "form"
      },
      "outputs": [],
      "source": [
        "#@title parafold_env\n",
        "%%capture\n",
        "cell_title = \"parafold_env\"\n",
        "start_time = time.time()\n",
        "\n",
        "# Recommend you to use python 3.8, version < 3.7 have missing packages, python versions newer than 3.8 were not tested\n",
        "!conda create -n parafold python=3.8 -y\n",
        "\n",
        "log_execution_time(start_time, cell_title)"
      ]
    },
    {
      "cell_type": "code",
      "execution_count": 5,
      "metadata": {
        "id": "ag5mSJ5fvZRA",
        "cellView": "form"
      },
      "outputs": [],
      "source": [
        "#@title testing_activate_parafold\n",
        "%%capture\n",
        "cell_title = \"testing_activate_parafold\"\n",
        "start_time = time.time()\n",
        "\n",
        "!source activate parafold && { \\\n",
        "    echo \"Setting up the parafold environment\"; \\\n",
        "    echo \"Current Python version:\"; \\\n",
        "    python --version; \\\n",
        "    }\n",
        "\n",
        "log_execution_time(start_time, cell_title)"
      ]
    },
    {
      "cell_type": "code",
      "execution_count": 6,
      "metadata": {
        "id": "qw3B2zQgxgw1",
        "cellView": "form"
      },
      "outputs": [],
      "source": [
        "#@title install_py3dmol\n",
        "%%capture\n",
        "cell_title = \"install_py3dmol\"\n",
        "start_time = time.time()\n",
        "\n",
        "#install py3dmol\n",
        "!source activate parafold && pip install py3dmol\n",
        "\n",
        "log_execution_time(start_time, cell_title)"
      ]
    },
    {
      "cell_type": "code",
      "execution_count": 7,
      "metadata": {
        "collapsed": true,
        "id": "nhH-cpF51ao4",
        "cellView": "form"
      },
      "outputs": [],
      "source": [
        "#@title install_openmm\n",
        "%%capture\n",
        "cell_title = \"install_openmm\"\n",
        "start_time = time.time()\n",
        "\n",
        "# openmm 7.7 is recommended (original alphafold using 7.5.1, but it is not supported now)\n",
        "!source activate parafold && conda install -c conda-forge openmm=7.7 pdbfixer -y\n",
        "\n",
        "log_execution_time(start_time, cell_title)"
      ]
    },
    {
      "cell_type": "code",
      "execution_count": 8,
      "metadata": {
        "collapsed": true,
        "id": "uW7VE2hi1jwl",
        "cellView": "form"
      },
      "outputs": [],
      "source": [
        "#@title install_requirements\n",
        "%%capture\n",
        "cell_title = \"install_requirements\"\n",
        "start_time = time.time()\n",
        "\n",
        "%cd ParallelFold\n",
        "#install requirements\n",
        "!source activate parafold && pip3 install -r requirements.txt\n",
        "\n",
        "log_execution_time(start_time, cell_title)"
      ]
    },
    {
      "cell_type": "code",
      "execution_count": 9,
      "metadata": {
        "collapsed": true,
        "id": "1P1qlWikHrT4",
        "cellView": "form"
      },
      "outputs": [],
      "source": [
        "#@title install_cuda_and_cudnn\n",
        "%%capture\n",
        "cell_title = \"install_cuda_and_cudnn\"\n",
        "start_time = time.time()\n",
        "\n",
        "# cudatoolkit 11.3.1 matches cudnn 8.2.1\n",
        "!source activate parafold && echo 'y' | conda install cudatoolkit=11.3 cudnn -y\n",
        "\n",
        "log_execution_time(start_time, cell_title)"
      ]
    },
    {
      "cell_type": "code",
      "execution_count": 10,
      "metadata": {
        "collapsed": true,
        "id": "BdbRAX2JI44X",
        "cellView": "form"
      },
      "outputs": [],
      "source": [
        "#@title downgrade_jaxlib\n",
        "%%capture\n",
        "cell_title = \"downgrade_jaxlib\"\n",
        "start_time = time.time()\n",
        "\n",
        "# downgrade jaxlib to the correct version, matches with cuda and cudnn version\n",
        "!source activate parafold && pip3 install --upgrade --no-cache-dir jax==0.3.25 jaxlib==0.3.25+cuda11.cudnn82 -f https://storage.googleapis.com/jax-releases/jax_cuda_releases.html\n",
        "\n",
        "log_execution_time(start_time, cell_title)"
      ]
    },
    {
      "cell_type": "code",
      "execution_count": 11,
      "metadata": {
        "collapsed": true,
        "id": "-O_Df8cdJAKj",
        "cellView": "form"
      },
      "outputs": [],
      "source": [
        "#@title packages_for_MSA\n",
        "%%capture\n",
        "cell_title = \"packages_for_MSA\"\n",
        "start_time = time.time()\n",
        "\n",
        "# install packages for multiple sequence alignment\n",
        "!source activate parafold && conda install -c bioconda hmmer=3.3.2 hhsuite=3.3.0 kalign2=2.04 -y\n",
        "\n",
        "log_execution_time(start_time, cell_title)"
      ]
    },
    {
      "cell_type": "code",
      "execution_count": 12,
      "metadata": {
        "collapsed": true,
        "id": "zmue22y1c7LC",
        "cellView": "form"
      },
      "outputs": [],
      "source": [
        "#@title aria2\n",
        "%%capture\n",
        "cell_title = \"aria2\"\n",
        "start_time = time.time()\n",
        "\n",
        "!source activate parafold && conda install aria2 -y\n",
        "\n",
        "log_execution_time(start_time, cell_title)"
      ]
    },
    {
      "cell_type": "code",
      "source": [
        "#@title alphafold_params\n",
        "%%capture\n",
        "cell_title = \"alphafold_params\"\n",
        "start_time = time.time()\n",
        "\n",
        "!source activate parafold && bash /content/ParallelFold/scripts/download_alphafold_params.sh /content/ParallelFold\n",
        "\n",
        "log_execution_time(start_time, cell_title)"
      ],
      "metadata": {
        "id": "iglOn5cGF7gC",
        "cellView": "form"
      },
      "execution_count": 13,
      "outputs": []
    },
    {
      "cell_type": "code",
      "execution_count": 14,
      "metadata": {
        "collapsed": true,
        "id": "IOE5ESGGOaT5",
        "colab": {
          "base_uri": "https://localhost:8080/"
        },
        "outputId": "4e6ccd03-399c-42fa-95d7-8171892b2b1c"
      },
      "outputs": [
        {
          "output_type": "stream",
          "name": "stdout",
          "text": [
            "/content/ParallelFold\n"
          ]
        }
      ],
      "source": [
        "#@title directory\n",
        "!mv /content/jaxalpha/parjax_cla_multi_GoogleColab.py /content/ParallelFold\n",
        "%cd /content/ParallelFold/\n",
        "#!chmod +x parjax_cla_multi_GoogleColab.sh"
      ]
    },
    {
      "cell_type": "code",
      "source": [
        "cell_title = \"benchmark_11_15_A_Z_T4\"\n",
        "start_time = time.time()"
      ],
      "metadata": {
        "id": "QzSv4dVwHnr1"
      },
      "execution_count": 15,
      "outputs": []
    },
    {
      "cell_type": "code",
      "execution_count": 16,
      "metadata": {
        "collapsed": true,
        "id": "HiqjNrx6jnLE",
        "colab": {
          "base_uri": "https://localhost:8080/"
        },
        "outputId": "bddbcb07-951b-4254-b15f-1301301a8f95"
      },
      "outputs": [
        {
          "output_type": "stream",
          "name": "stderr",
          "text": [
            "I0714 12:32:22.057948 139386310723392 xla_bridge.py:353] Unable to initialize backend 'tpu_driver': NOT_FOUND: Unable to find driver in registry given worker: \n",
            "I0714 12:32:22.301140 139386310723392 xla_bridge.py:353] Unable to initialize backend 'rocm': NOT_FOUND: Could not find registered platform with name: \"rocm\". Available platform names are: Host CUDA Interpreter\n",
            "I0714 12:32:22.301548 139386310723392 xla_bridge.py:353] Unable to initialize backend 'tpu': module 'jaxlib.xla_extension' has no attribute 'get_tpu_client'\n",
            "I0714 12:32:22.301644 139386310723392 xla_bridge.py:353] Unable to initialize backend 'plugin': xla_extension has no attributes named get_plugin_device_client. Compile TensorFlow with //tensorflow/compiler/xla/python:enable_plugin_device set to true (defaults to false) to enable this.\n",
            "I0714 12:32:26.137417 139386310723392 parjax_cla_multi_GoogleColab.py:279] Have 5 models: ['model_1_pred_0', 'model_2_pred_0', 'model_3_pred_0', 'model_4_pred_0', 'model_5_pred_0']\n",
            "I0714 12:32:26.137597 139386310723392 parjax_cla_multi_GoogleColab.py:293] Using random seed 115031781048223195 for the data pipeline\n",
            "I0714 12:32:26.137816 139386310723392 parjax_cla_multi_GoogleColab.py:107] Predicting 8D27\n",
            "I0714 12:32:26.179974 139386310723392 parjax_cla_multi_GoogleColab.py:132] Running model model_1_pred_0 on 8D27\n",
            "W0714 12:32:26.932372 139386310723392 deprecation.py:350] From /usr/local/envs/parafold/lib/python3.8/site-packages/tensorflow/python/autograph/pyct/static_analysis/liveness.py:83: Analyzer.lamba_check (from tensorflow.python.autograph.pyct.static_analysis.liveness) is deprecated and will be removed after 2023-09-23.\n",
            "Instructions for updating:\n",
            "Lambda fuctions will be no more assumed to be used in the statement where they are used, or at least in the same block. https://github.com/tensorflow/tensorflow/issues/56089\n",
            "I0714 12:32:31.950741 139386310723392 model.py:165] Running predict with shape(feat) = {'aatype': (4, 287), 'residue_index': (4, 287), 'seq_length': (4,), 'template_aatype': (4, 4, 287), 'template_all_atom_masks': (4, 4, 287, 37), 'template_all_atom_positions': (4, 4, 287, 37, 3), 'template_sum_probs': (4, 4, 1), 'is_distillation': (4,), 'seq_mask': (4, 287), 'msa_mask': (4, 508, 287), 'msa_row_mask': (4, 508), 'random_crop_to_size_seed': (4, 2), 'template_mask': (4, 4), 'template_pseudo_beta': (4, 4, 287, 3), 'template_pseudo_beta_mask': (4, 4, 287), 'atom14_atom_exists': (4, 287, 14), 'residx_atom14_to_atom37': (4, 287, 14), 'residx_atom37_to_atom14': (4, 287, 37), 'atom37_atom_exists': (4, 287, 37), 'extra_msa': (4, 5120, 287), 'extra_msa_mask': (4, 5120, 287), 'extra_msa_row_mask': (4, 5120), 'bert_mask': (4, 508, 287), 'true_msa': (4, 508, 287), 'extra_has_deletion': (4, 5120, 287), 'extra_deletion_value': (4, 5120, 287), 'msa_feat': (4, 508, 287, 49), 'target_feat': (4, 287, 22)}\n",
            "I0714 12:37:04.690396 139386310723392 model.py:175] Output shape was {'distogram': {'bin_edges': (63,), 'logits': (287, 287, 64)}, 'experimentally_resolved': {'logits': (287, 37)}, 'masked_msa': {'logits': (508, 287, 23)}, 'predicted_lddt': {'logits': (287, 50)}, 'structure_module': {'final_atom_mask': (287, 37), 'final_atom_positions': (287, 37, 3)}, 'plddt': (287,), 'ranking_confidence': ()}\n",
            "I0714 12:37:04.690608 139386310723392 parjax_cla_multi_GoogleColab.py:144] Total JAX model model_1_pred_0 on 8D27 predict time (includes compilation time, see --benchmark): 272.7s\n",
            "I0714 12:37:04.690736 139386310723392 model.py:165] Running predict with shape(feat) = {'aatype': (4, 287), 'residue_index': (4, 287), 'seq_length': (4,), 'template_aatype': (4, 4, 287), 'template_all_atom_masks': (4, 4, 287, 37), 'template_all_atom_positions': (4, 4, 287, 37, 3), 'template_sum_probs': (4, 4, 1), 'is_distillation': (4,), 'seq_mask': (4, 287), 'msa_mask': (4, 508, 287), 'msa_row_mask': (4, 508), 'random_crop_to_size_seed': (4, 2), 'template_mask': (4, 4), 'template_pseudo_beta': (4, 4, 287, 3), 'template_pseudo_beta_mask': (4, 4, 287), 'atom14_atom_exists': (4, 287, 14), 'residx_atom14_to_atom37': (4, 287, 14), 'residx_atom37_to_atom14': (4, 287, 37), 'atom37_atom_exists': (4, 287, 37), 'extra_msa': (4, 5120, 287), 'extra_msa_mask': (4, 5120, 287), 'extra_msa_row_mask': (4, 5120), 'bert_mask': (4, 508, 287), 'true_msa': (4, 508, 287), 'extra_has_deletion': (4, 5120, 287), 'extra_deletion_value': (4, 5120, 287), 'msa_feat': (4, 508, 287, 49), 'target_feat': (4, 287, 22)}\n",
            "I0714 12:39:10.375341 139386310723392 model.py:175] Output shape was {'distogram': {'bin_edges': (63,), 'logits': (287, 287, 64)}, 'experimentally_resolved': {'logits': (287, 37)}, 'masked_msa': {'logits': (508, 287, 23)}, 'predicted_lddt': {'logits': (287, 50)}, 'structure_module': {'final_atom_mask': (287, 37), 'final_atom_positions': (287, 37, 3)}, 'plddt': (287,), 'ranking_confidence': ()}\n",
            "I0714 12:39:10.375589 139386310723392 parjax_cla_multi_GoogleColab.py:154] Total JAX model model_1_pred_0 on 8D27 predict time (excludes compilation time): 125.7s\n",
            "I0714 12:39:10.452736 139386310723392 parjax_cla_multi_GoogleColab.py:132] Running model model_2_pred_0 on 8D27\n",
            "I0714 12:39:14.845300 139386310723392 model.py:165] Running predict with shape(feat) = {'aatype': (4, 287), 'residue_index': (4, 287), 'seq_length': (4,), 'template_aatype': (4, 4, 287), 'template_all_atom_masks': (4, 4, 287, 37), 'template_all_atom_positions': (4, 4, 287, 37, 3), 'template_sum_probs': (4, 4, 1), 'is_distillation': (4,), 'seq_mask': (4, 287), 'msa_mask': (4, 508, 287), 'msa_row_mask': (4, 508), 'random_crop_to_size_seed': (4, 2), 'template_mask': (4, 4), 'template_pseudo_beta': (4, 4, 287, 3), 'template_pseudo_beta_mask': (4, 4, 287), 'atom14_atom_exists': (4, 287, 14), 'residx_atom14_to_atom37': (4, 287, 14), 'residx_atom37_to_atom14': (4, 287, 37), 'atom37_atom_exists': (4, 287, 37), 'extra_msa': (4, 1024, 287), 'extra_msa_mask': (4, 1024, 287), 'extra_msa_row_mask': (4, 1024), 'bert_mask': (4, 508, 287), 'true_msa': (4, 508, 287), 'extra_has_deletion': (4, 1024, 287), 'extra_deletion_value': (4, 1024, 287), 'msa_feat': (4, 508, 287, 49), 'target_feat': (4, 287, 22)}\n",
            "I0714 12:43:29.022501 139386310723392 model.py:175] Output shape was {'distogram': {'bin_edges': (63,), 'logits': (287, 287, 64)}, 'experimentally_resolved': {'logits': (287, 37)}, 'masked_msa': {'logits': (508, 287, 23)}, 'predicted_lddt': {'logits': (287, 50)}, 'structure_module': {'final_atom_mask': (287, 37), 'final_atom_positions': (287, 37, 3)}, 'plddt': (287,), 'ranking_confidence': ()}\n",
            "I0714 12:43:29.022745 139386310723392 parjax_cla_multi_GoogleColab.py:144] Total JAX model model_2_pred_0 on 8D27 predict time (includes compilation time, see --benchmark): 254.2s\n",
            "I0714 12:43:29.022901 139386310723392 model.py:165] Running predict with shape(feat) = {'aatype': (4, 287), 'residue_index': (4, 287), 'seq_length': (4,), 'template_aatype': (4, 4, 287), 'template_all_atom_masks': (4, 4, 287, 37), 'template_all_atom_positions': (4, 4, 287, 37, 3), 'template_sum_probs': (4, 4, 1), 'is_distillation': (4,), 'seq_mask': (4, 287), 'msa_mask': (4, 508, 287), 'msa_row_mask': (4, 508), 'random_crop_to_size_seed': (4, 2), 'template_mask': (4, 4), 'template_pseudo_beta': (4, 4, 287, 3), 'template_pseudo_beta_mask': (4, 4, 287), 'atom14_atom_exists': (4, 287, 14), 'residx_atom14_to_atom37': (4, 287, 14), 'residx_atom37_to_atom14': (4, 287, 37), 'atom37_atom_exists': (4, 287, 37), 'extra_msa': (4, 1024, 287), 'extra_msa_mask': (4, 1024, 287), 'extra_msa_row_mask': (4, 1024), 'bert_mask': (4, 508, 287), 'true_msa': (4, 508, 287), 'extra_has_deletion': (4, 1024, 287), 'extra_deletion_value': (4, 1024, 287), 'msa_feat': (4, 508, 287, 49), 'target_feat': (4, 287, 22)}\n",
            "I0714 12:45:20.893067 139386310723392 model.py:175] Output shape was {'distogram': {'bin_edges': (63,), 'logits': (287, 287, 64)}, 'experimentally_resolved': {'logits': (287, 37)}, 'masked_msa': {'logits': (508, 287, 23)}, 'predicted_lddt': {'logits': (287, 50)}, 'structure_module': {'final_atom_mask': (287, 37), 'final_atom_positions': (287, 37, 3)}, 'plddt': (287,), 'ranking_confidence': ()}\n",
            "I0714 12:45:20.893296 139386310723392 parjax_cla_multi_GoogleColab.py:154] Total JAX model model_2_pred_0 on 8D27 predict time (excludes compilation time): 111.9s\n",
            "I0714 12:45:20.983263 139386310723392 parjax_cla_multi_GoogleColab.py:132] Running model model_3_pred_0 on 8D27\n",
            "I0714 12:45:24.872768 139386310723392 model.py:165] Running predict with shape(feat) = {'aatype': (4, 287), 'residue_index': (4, 287), 'seq_length': (4,), 'is_distillation': (4,), 'seq_mask': (4, 287), 'msa_mask': (4, 512, 287), 'msa_row_mask': (4, 512), 'random_crop_to_size_seed': (4, 2), 'atom14_atom_exists': (4, 287, 14), 'residx_atom14_to_atom37': (4, 287, 14), 'residx_atom37_to_atom14': (4, 287, 37), 'atom37_atom_exists': (4, 287, 37), 'extra_msa': (4, 5120, 287), 'extra_msa_mask': (4, 5120, 287), 'extra_msa_row_mask': (4, 5120), 'bert_mask': (4, 512, 287), 'true_msa': (4, 512, 287), 'extra_has_deletion': (4, 5120, 287), 'extra_deletion_value': (4, 5120, 287), 'msa_feat': (4, 512, 287, 49), 'target_feat': (4, 287, 22)}\n",
            "I0714 12:49:16.439653 139386310723392 model.py:175] Output shape was {'distogram': {'bin_edges': (63,), 'logits': (287, 287, 64)}, 'experimentally_resolved': {'logits': (287, 37)}, 'masked_msa': {'logits': (512, 287, 23)}, 'predicted_lddt': {'logits': (287, 50)}, 'structure_module': {'final_atom_mask': (287, 37), 'final_atom_positions': (287, 37, 3)}, 'plddt': (287,), 'ranking_confidence': ()}\n",
            "I0714 12:49:16.439862 139386310723392 parjax_cla_multi_GoogleColab.py:144] Total JAX model model_3_pred_0 on 8D27 predict time (includes compilation time, see --benchmark): 231.6s\n",
            "I0714 12:49:16.439985 139386310723392 model.py:165] Running predict with shape(feat) = {'aatype': (4, 287), 'residue_index': (4, 287), 'seq_length': (4,), 'is_distillation': (4,), 'seq_mask': (4, 287), 'msa_mask': (4, 512, 287), 'msa_row_mask': (4, 512), 'random_crop_to_size_seed': (4, 2), 'atom14_atom_exists': (4, 287, 14), 'residx_atom14_to_atom37': (4, 287, 14), 'residx_atom37_to_atom14': (4, 287, 37), 'atom37_atom_exists': (4, 287, 37), 'extra_msa': (4, 5120, 287), 'extra_msa_mask': (4, 5120, 287), 'extra_msa_row_mask': (4, 5120), 'bert_mask': (4, 512, 287), 'true_msa': (4, 512, 287), 'extra_has_deletion': (4, 5120, 287), 'extra_deletion_value': (4, 5120, 287), 'msa_feat': (4, 512, 287, 49), 'target_feat': (4, 287, 22)}\n",
            "I0714 12:51:19.025648 139386310723392 model.py:175] Output shape was {'distogram': {'bin_edges': (63,), 'logits': (287, 287, 64)}, 'experimentally_resolved': {'logits': (287, 37)}, 'masked_msa': {'logits': (512, 287, 23)}, 'predicted_lddt': {'logits': (287, 50)}, 'structure_module': {'final_atom_mask': (287, 37), 'final_atom_positions': (287, 37, 3)}, 'plddt': (287,), 'ranking_confidence': ()}\n",
            "I0714 12:51:19.025868 139386310723392 parjax_cla_multi_GoogleColab.py:154] Total JAX model model_3_pred_0 on 8D27 predict time (excludes compilation time): 122.6s\n",
            "I0714 12:51:19.111132 139386310723392 parjax_cla_multi_GoogleColab.py:132] Running model model_4_pred_0 on 8D27\n",
            "I0714 12:51:23.302882 139386310723392 model.py:165] Running predict with shape(feat) = {'aatype': (4, 287), 'residue_index': (4, 287), 'seq_length': (4,), 'is_distillation': (4,), 'seq_mask': (4, 287), 'msa_mask': (4, 512, 287), 'msa_row_mask': (4, 512), 'random_crop_to_size_seed': (4, 2), 'atom14_atom_exists': (4, 287, 14), 'residx_atom14_to_atom37': (4, 287, 14), 'residx_atom37_to_atom14': (4, 287, 37), 'atom37_atom_exists': (4, 287, 37), 'extra_msa': (4, 5120, 287), 'extra_msa_mask': (4, 5120, 287), 'extra_msa_row_mask': (4, 5120), 'bert_mask': (4, 512, 287), 'true_msa': (4, 512, 287), 'extra_has_deletion': (4, 5120, 287), 'extra_deletion_value': (4, 5120, 287), 'msa_feat': (4, 512, 287, 49), 'target_feat': (4, 287, 22)}\n",
            "I0714 12:55:12.522908 139386310723392 model.py:175] Output shape was {'distogram': {'bin_edges': (63,), 'logits': (287, 287, 64)}, 'experimentally_resolved': {'logits': (287, 37)}, 'masked_msa': {'logits': (512, 287, 23)}, 'predicted_lddt': {'logits': (287, 50)}, 'structure_module': {'final_atom_mask': (287, 37), 'final_atom_positions': (287, 37, 3)}, 'plddt': (287,), 'ranking_confidence': ()}\n",
            "I0714 12:55:12.523106 139386310723392 parjax_cla_multi_GoogleColab.py:144] Total JAX model model_4_pred_0 on 8D27 predict time (includes compilation time, see --benchmark): 229.2s\n",
            "I0714 12:55:12.523231 139386310723392 model.py:165] Running predict with shape(feat) = {'aatype': (4, 287), 'residue_index': (4, 287), 'seq_length': (4,), 'is_distillation': (4,), 'seq_mask': (4, 287), 'msa_mask': (4, 512, 287), 'msa_row_mask': (4, 512), 'random_crop_to_size_seed': (4, 2), 'atom14_atom_exists': (4, 287, 14), 'residx_atom14_to_atom37': (4, 287, 14), 'residx_atom37_to_atom14': (4, 287, 37), 'atom37_atom_exists': (4, 287, 37), 'extra_msa': (4, 5120, 287), 'extra_msa_mask': (4, 5120, 287), 'extra_msa_row_mask': (4, 5120), 'bert_mask': (4, 512, 287), 'true_msa': (4, 512, 287), 'extra_has_deletion': (4, 5120, 287), 'extra_deletion_value': (4, 5120, 287), 'msa_feat': (4, 512, 287, 49), 'target_feat': (4, 287, 22)}\n",
            "I0714 12:57:15.224927 139386310723392 model.py:175] Output shape was {'distogram': {'bin_edges': (63,), 'logits': (287, 287, 64)}, 'experimentally_resolved': {'logits': (287, 37)}, 'masked_msa': {'logits': (512, 287, 23)}, 'predicted_lddt': {'logits': (287, 50)}, 'structure_module': {'final_atom_mask': (287, 37), 'final_atom_positions': (287, 37, 3)}, 'plddt': (287,), 'ranking_confidence': ()}\n",
            "I0714 12:57:15.225151 139386310723392 parjax_cla_multi_GoogleColab.py:154] Total JAX model model_4_pred_0 on 8D27 predict time (excludes compilation time): 122.7s\n",
            "I0714 12:57:15.312812 139386310723392 parjax_cla_multi_GoogleColab.py:132] Running model model_5_pred_0 on 8D27\n",
            "I0714 12:57:19.165238 139386310723392 model.py:165] Running predict with shape(feat) = {'aatype': (4, 287), 'residue_index': (4, 287), 'seq_length': (4,), 'is_distillation': (4,), 'seq_mask': (4, 287), 'msa_mask': (4, 512, 287), 'msa_row_mask': (4, 512), 'random_crop_to_size_seed': (4, 2), 'atom14_atom_exists': (4, 287, 14), 'residx_atom14_to_atom37': (4, 287, 14), 'residx_atom37_to_atom14': (4, 287, 37), 'atom37_atom_exists': (4, 287, 37), 'extra_msa': (4, 1024, 287), 'extra_msa_mask': (4, 1024, 287), 'extra_msa_row_mask': (4, 1024), 'bert_mask': (4, 512, 287), 'true_msa': (4, 512, 287), 'extra_has_deletion': (4, 1024, 287), 'extra_deletion_value': (4, 1024, 287), 'msa_feat': (4, 512, 287, 49), 'target_feat': (4, 287, 22)}\n",
            "I0714 13:00:54.461898 139386310723392 model.py:175] Output shape was {'distogram': {'bin_edges': (63,), 'logits': (287, 287, 64)}, 'experimentally_resolved': {'logits': (287, 37)}, 'masked_msa': {'logits': (512, 287, 23)}, 'predicted_lddt': {'logits': (287, 50)}, 'structure_module': {'final_atom_mask': (287, 37), 'final_atom_positions': (287, 37, 3)}, 'plddt': (287,), 'ranking_confidence': ()}\n",
            "I0714 13:00:54.462140 139386310723392 parjax_cla_multi_GoogleColab.py:144] Total JAX model model_5_pred_0 on 8D27 predict time (includes compilation time, see --benchmark): 215.3s\n",
            "I0714 13:00:54.462286 139386310723392 model.py:165] Running predict with shape(feat) = {'aatype': (4, 287), 'residue_index': (4, 287), 'seq_length': (4,), 'is_distillation': (4,), 'seq_mask': (4, 287), 'msa_mask': (4, 512, 287), 'msa_row_mask': (4, 512), 'random_crop_to_size_seed': (4, 2), 'atom14_atom_exists': (4, 287, 14), 'residx_atom14_to_atom37': (4, 287, 14), 'residx_atom37_to_atom14': (4, 287, 37), 'atom37_atom_exists': (4, 287, 37), 'extra_msa': (4, 1024, 287), 'extra_msa_mask': (4, 1024, 287), 'extra_msa_row_mask': (4, 1024), 'bert_mask': (4, 512, 287), 'true_msa': (4, 512, 287), 'extra_has_deletion': (4, 1024, 287), 'extra_deletion_value': (4, 1024, 287), 'msa_feat': (4, 512, 287, 49), 'target_feat': (4, 287, 22)}\n",
            "I0714 13:02:42.826418 139386310723392 model.py:175] Output shape was {'distogram': {'bin_edges': (63,), 'logits': (287, 287, 64)}, 'experimentally_resolved': {'logits': (287, 37)}, 'masked_msa': {'logits': (512, 287, 23)}, 'predicted_lddt': {'logits': (287, 50)}, 'structure_module': {'final_atom_mask': (287, 37), 'final_atom_positions': (287, 37, 3)}, 'plddt': (287,), 'ranking_confidence': ()}\n",
            "I0714 13:02:42.826739 139386310723392 parjax_cla_multi_GoogleColab.py:154] Total JAX model model_5_pred_0 on 8D27 predict time (excludes compilation time): 108.4s\n",
            "W0714 13:02:43.398680 139386310723392 __init__.py:5] Warning: importing 'simtk.openmm' is deprecated.  Import 'openmm' instead.\n",
            "I0714 13:02:50.094191 139386310723392 amber_minimize.py:178] alterations info: {'nonstandard_residues': [], 'removed_heterogens': set(), 'missing_residues': {}, 'missing_heavy_atoms': {}, 'missing_terminals': {<Residue 286 (TYR) of chain 0>: ['OXT']}, 'Se_in_MET': [], 'removed_chains': {0: []}}\n",
            "I0714 13:02:50.733823 139386310723392 amber_minimize.py:408] Minimizing protein, attempt 1 of 100.\n",
            "I0714 13:02:51.384478 139386310723392 amber_minimize.py:69] Restraining 2251 / 4495 particles.\n",
            "I0714 13:02:55.194577 139386310723392 amber_minimize.py:178] alterations info: {'nonstandard_residues': [], 'removed_heterogens': set(), 'missing_residues': {}, 'missing_heavy_atoms': {}, 'missing_terminals': {}, 'Se_in_MET': [], 'removed_chains': {0: []}}\n",
            "I0714 13:02:58.588258 139386310723392 amber_minimize.py:500] Iteration completed: Einit 6790.75 Efinal -5081.92 Time 2.26 s num residue violations 0 num residue exclusions 0 \n",
            "I0714 13:02:58.738996 139386310723392 parjax_cla_multi_GoogleColab.py:231] Final timings for 8D27: {'process_features_model_1_pred_0': 5.770207405090332, 'predict_and_compile_model_1_pred_0': 272.740273475647, 'predict_benchmark_model_1_pred_0': 125.68492269515991, 'process_features_model_2_pred_0': 4.392225503921509, 'predict_and_compile_model_2_pred_0': 254.17763781547546, 'predict_benchmark_model_2_pred_0': 111.87048959732056, 'process_features_model_3_pred_0': 3.889228105545044, 'predict_and_compile_model_3_pred_0': 231.56722855567932, 'predict_benchmark_model_3_pred_0': 122.58594346046448, 'process_features_model_4_pred_0': 4.191471338272095, 'predict_and_compile_model_4_pred_0': 229.22036480903625, 'predict_benchmark_model_4_pred_0': 122.70197939872742, 'process_features_model_5_pred_0': 3.8521370887756348, 'predict_and_compile_model_5_pred_0': 215.29703736305237, 'predict_benchmark_model_5_pred_0': 108.36451315879822, 'relax_model_3_pred_0': 15.818950176239014}\n",
            "I0714 13:02:58.747045 139386310723392 parjax_cla_multi_GoogleColab.py:308] 8D27 AlphaFold structure prediction COMPLETE\n",
            "I0714 13:02:58.747193 139386310723392 parjax_cla_multi_GoogleColab.py:107] Predicting 7PZT\n",
            "I0714 13:02:58.748166 139386310723392 parjax_cla_multi_GoogleColab.py:132] Running model model_1_pred_0 on 7PZT\n",
            "I0714 13:03:00.702323 139386310723392 model.py:165] Running predict with shape(feat) = {'aatype': (4, 160), 'residue_index': (4, 160), 'seq_length': (4,), 'template_aatype': (4, 4, 160), 'template_all_atom_masks': (4, 4, 160, 37), 'template_all_atom_positions': (4, 4, 160, 37, 3), 'template_sum_probs': (4, 4, 1), 'is_distillation': (4,), 'seq_mask': (4, 160), 'msa_mask': (4, 508, 160), 'msa_row_mask': (4, 508), 'random_crop_to_size_seed': (4, 2), 'template_mask': (4, 4), 'template_pseudo_beta': (4, 4, 160, 3), 'template_pseudo_beta_mask': (4, 4, 160), 'atom14_atom_exists': (4, 160, 14), 'residx_atom14_to_atom37': (4, 160, 14), 'residx_atom37_to_atom14': (4, 160, 37), 'atom37_atom_exists': (4, 160, 37), 'extra_msa': (4, 5120, 160), 'extra_msa_mask': (4, 5120, 160), 'extra_msa_row_mask': (4, 5120), 'bert_mask': (4, 508, 160), 'true_msa': (4, 508, 160), 'extra_has_deletion': (4, 5120, 160), 'extra_deletion_value': (4, 5120, 160), 'msa_feat': (4, 508, 160, 49), 'target_feat': (4, 160, 22)}\n",
            "I0714 13:06:13.397711 139386310723392 model.py:175] Output shape was {'distogram': {'bin_edges': (63,), 'logits': (160, 160, 64)}, 'experimentally_resolved': {'logits': (160, 37)}, 'masked_msa': {'logits': (508, 160, 23)}, 'predicted_lddt': {'logits': (160, 50)}, 'structure_module': {'final_atom_mask': (160, 37), 'final_atom_positions': (160, 37, 3)}, 'plddt': (160,), 'ranking_confidence': ()}\n",
            "I0714 13:06:13.397948 139386310723392 parjax_cla_multi_GoogleColab.py:144] Total JAX model model_1_pred_0 on 7PZT predict time (includes compilation time, see --benchmark): 192.7s\n",
            "I0714 13:06:13.398094 139386310723392 model.py:165] Running predict with shape(feat) = {'aatype': (4, 160), 'residue_index': (4, 160), 'seq_length': (4,), 'template_aatype': (4, 4, 160), 'template_all_atom_masks': (4, 4, 160, 37), 'template_all_atom_positions': (4, 4, 160, 37, 3), 'template_sum_probs': (4, 4, 1), 'is_distillation': (4,), 'seq_mask': (4, 160), 'msa_mask': (4, 508, 160), 'msa_row_mask': (4, 508), 'random_crop_to_size_seed': (4, 2), 'template_mask': (4, 4), 'template_pseudo_beta': (4, 4, 160, 3), 'template_pseudo_beta_mask': (4, 4, 160), 'atom14_atom_exists': (4, 160, 14), 'residx_atom14_to_atom37': (4, 160, 14), 'residx_atom37_to_atom14': (4, 160, 37), 'atom37_atom_exists': (4, 160, 37), 'extra_msa': (4, 5120, 160), 'extra_msa_mask': (4, 5120, 160), 'extra_msa_row_mask': (4, 5120), 'bert_mask': (4, 508, 160), 'true_msa': (4, 508, 160), 'extra_has_deletion': (4, 5120, 160), 'extra_deletion_value': (4, 5120, 160), 'msa_feat': (4, 508, 160, 49), 'target_feat': (4, 160, 22)}\n",
            "I0714 13:06:57.185681 139386310723392 model.py:175] Output shape was {'distogram': {'bin_edges': (63,), 'logits': (160, 160, 64)}, 'experimentally_resolved': {'logits': (160, 37)}, 'masked_msa': {'logits': (508, 160, 23)}, 'predicted_lddt': {'logits': (160, 50)}, 'structure_module': {'final_atom_mask': (160, 37), 'final_atom_positions': (160, 37, 3)}, 'plddt': (160,), 'ranking_confidence': ()}\n",
            "I0714 13:06:57.185900 139386310723392 parjax_cla_multi_GoogleColab.py:154] Total JAX model model_1_pred_0 on 7PZT predict time (excludes compilation time): 43.8s\n",
            "I0714 13:06:57.224924 139386310723392 parjax_cla_multi_GoogleColab.py:132] Running model model_2_pred_0 on 7PZT\n",
            "I0714 13:06:59.220070 139386310723392 model.py:165] Running predict with shape(feat) = {'aatype': (4, 160), 'residue_index': (4, 160), 'seq_length': (4,), 'template_aatype': (4, 4, 160), 'template_all_atom_masks': (4, 4, 160, 37), 'template_all_atom_positions': (4, 4, 160, 37, 3), 'template_sum_probs': (4, 4, 1), 'is_distillation': (4,), 'seq_mask': (4, 160), 'msa_mask': (4, 508, 160), 'msa_row_mask': (4, 508), 'random_crop_to_size_seed': (4, 2), 'template_mask': (4, 4), 'template_pseudo_beta': (4, 4, 160, 3), 'template_pseudo_beta_mask': (4, 4, 160), 'atom14_atom_exists': (4, 160, 14), 'residx_atom14_to_atom37': (4, 160, 14), 'residx_atom37_to_atom14': (4, 160, 37), 'atom37_atom_exists': (4, 160, 37), 'extra_msa': (4, 1024, 160), 'extra_msa_mask': (4, 1024, 160), 'extra_msa_row_mask': (4, 1024), 'bert_mask': (4, 508, 160), 'true_msa': (4, 508, 160), 'extra_has_deletion': (4, 1024, 160), 'extra_deletion_value': (4, 1024, 160), 'msa_feat': (4, 508, 160, 49), 'target_feat': (4, 160, 22)}\n",
            "I0714 13:10:03.394140 139386310723392 model.py:175] Output shape was {'distogram': {'bin_edges': (63,), 'logits': (160, 160, 64)}, 'experimentally_resolved': {'logits': (160, 37)}, 'masked_msa': {'logits': (508, 160, 23)}, 'predicted_lddt': {'logits': (160, 50)}, 'structure_module': {'final_atom_mask': (160, 37), 'final_atom_positions': (160, 37, 3)}, 'plddt': (160,), 'ranking_confidence': ()}\n",
            "I0714 13:10:03.394345 139386310723392 parjax_cla_multi_GoogleColab.py:144] Total JAX model model_2_pred_0 on 7PZT predict time (includes compilation time, see --benchmark): 184.2s\n",
            "I0714 13:10:03.394492 139386310723392 model.py:165] Running predict with shape(feat) = {'aatype': (4, 160), 'residue_index': (4, 160), 'seq_length': (4,), 'template_aatype': (4, 4, 160), 'template_all_atom_masks': (4, 4, 160, 37), 'template_all_atom_positions': (4, 4, 160, 37, 3), 'template_sum_probs': (4, 4, 1), 'is_distillation': (4,), 'seq_mask': (4, 160), 'msa_mask': (4, 508, 160), 'msa_row_mask': (4, 508), 'random_crop_to_size_seed': (4, 2), 'template_mask': (4, 4), 'template_pseudo_beta': (4, 4, 160, 3), 'template_pseudo_beta_mask': (4, 4, 160), 'atom14_atom_exists': (4, 160, 14), 'residx_atom14_to_atom37': (4, 160, 14), 'residx_atom37_to_atom14': (4, 160, 37), 'atom37_atom_exists': (4, 160, 37), 'extra_msa': (4, 1024, 160), 'extra_msa_mask': (4, 1024, 160), 'extra_msa_row_mask': (4, 1024), 'bert_mask': (4, 508, 160), 'true_msa': (4, 508, 160), 'extra_has_deletion': (4, 1024, 160), 'extra_deletion_value': (4, 1024, 160), 'msa_feat': (4, 508, 160, 49), 'target_feat': (4, 160, 22)}\n",
            "I0714 13:10:43.149825 139386310723392 model.py:175] Output shape was {'distogram': {'bin_edges': (63,), 'logits': (160, 160, 64)}, 'experimentally_resolved': {'logits': (160, 37)}, 'masked_msa': {'logits': (508, 160, 23)}, 'predicted_lddt': {'logits': (160, 50)}, 'structure_module': {'final_atom_mask': (160, 37), 'final_atom_positions': (160, 37, 3)}, 'plddt': (160,), 'ranking_confidence': ()}\n",
            "I0714 13:10:43.150041 139386310723392 parjax_cla_multi_GoogleColab.py:154] Total JAX model model_2_pred_0 on 7PZT predict time (excludes compilation time): 39.8s\n",
            "I0714 13:10:43.188091 139386310723392 parjax_cla_multi_GoogleColab.py:132] Running model model_3_pred_0 on 7PZT\n",
            "I0714 13:10:44.754625 139386310723392 model.py:165] Running predict with shape(feat) = {'aatype': (4, 160), 'residue_index': (4, 160), 'seq_length': (4,), 'is_distillation': (4,), 'seq_mask': (4, 160), 'msa_mask': (4, 512, 160), 'msa_row_mask': (4, 512), 'random_crop_to_size_seed': (4, 2), 'atom14_atom_exists': (4, 160, 14), 'residx_atom14_to_atom37': (4, 160, 14), 'residx_atom37_to_atom14': (4, 160, 37), 'atom37_atom_exists': (4, 160, 37), 'extra_msa': (4, 5120, 160), 'extra_msa_mask': (4, 5120, 160), 'extra_msa_row_mask': (4, 5120), 'bert_mask': (4, 512, 160), 'true_msa': (4, 512, 160), 'extra_has_deletion': (4, 5120, 160), 'extra_deletion_value': (4, 5120, 160), 'msa_feat': (4, 512, 160, 49), 'target_feat': (4, 160, 22)}\n",
            "I0714 13:13:18.358886 139386310723392 model.py:175] Output shape was {'distogram': {'bin_edges': (63,), 'logits': (160, 160, 64)}, 'experimentally_resolved': {'logits': (160, 37)}, 'masked_msa': {'logits': (512, 160, 23)}, 'predicted_lddt': {'logits': (160, 50)}, 'structure_module': {'final_atom_mask': (160, 37), 'final_atom_positions': (160, 37, 3)}, 'plddt': (160,), 'ranking_confidence': ()}\n",
            "I0714 13:13:18.359089 139386310723392 parjax_cla_multi_GoogleColab.py:144] Total JAX model model_3_pred_0 on 7PZT predict time (includes compilation time, see --benchmark): 153.6s\n",
            "I0714 13:13:18.359226 139386310723392 model.py:165] Running predict with shape(feat) = {'aatype': (4, 160), 'residue_index': (4, 160), 'seq_length': (4,), 'is_distillation': (4,), 'seq_mask': (4, 160), 'msa_mask': (4, 512, 160), 'msa_row_mask': (4, 512), 'random_crop_to_size_seed': (4, 2), 'atom14_atom_exists': (4, 160, 14), 'residx_atom14_to_atom37': (4, 160, 14), 'residx_atom37_to_atom14': (4, 160, 37), 'atom37_atom_exists': (4, 160, 37), 'extra_msa': (4, 5120, 160), 'extra_msa_mask': (4, 5120, 160), 'extra_msa_row_mask': (4, 5120), 'bert_mask': (4, 512, 160), 'true_msa': (4, 512, 160), 'extra_has_deletion': (4, 5120, 160), 'extra_deletion_value': (4, 5120, 160), 'msa_feat': (4, 512, 160, 49), 'target_feat': (4, 160, 22)}\n",
            "I0714 13:14:01.615572 139386310723392 model.py:175] Output shape was {'distogram': {'bin_edges': (63,), 'logits': (160, 160, 64)}, 'experimentally_resolved': {'logits': (160, 37)}, 'masked_msa': {'logits': (512, 160, 23)}, 'predicted_lddt': {'logits': (160, 50)}, 'structure_module': {'final_atom_mask': (160, 37), 'final_atom_positions': (160, 37, 3)}, 'plddt': (160,), 'ranking_confidence': ()}\n",
            "I0714 13:14:01.615787 139386310723392 parjax_cla_multi_GoogleColab.py:154] Total JAX model model_3_pred_0 on 7PZT predict time (excludes compilation time): 43.3s\n",
            "I0714 13:14:01.653414 139386310723392 parjax_cla_multi_GoogleColab.py:132] Running model model_4_pred_0 on 7PZT\n",
            "I0714 13:14:03.228817 139386310723392 model.py:165] Running predict with shape(feat) = {'aatype': (4, 160), 'residue_index': (4, 160), 'seq_length': (4,), 'is_distillation': (4,), 'seq_mask': (4, 160), 'msa_mask': (4, 512, 160), 'msa_row_mask': (4, 512), 'random_crop_to_size_seed': (4, 2), 'atom14_atom_exists': (4, 160, 14), 'residx_atom14_to_atom37': (4, 160, 14), 'residx_atom37_to_atom14': (4, 160, 37), 'atom37_atom_exists': (4, 160, 37), 'extra_msa': (4, 5120, 160), 'extra_msa_mask': (4, 5120, 160), 'extra_msa_row_mask': (4, 5120), 'bert_mask': (4, 512, 160), 'true_msa': (4, 512, 160), 'extra_has_deletion': (4, 5120, 160), 'extra_deletion_value': (4, 5120, 160), 'msa_feat': (4, 512, 160, 49), 'target_feat': (4, 160, 22)}\n",
            "I0714 13:16:33.392866 139386310723392 model.py:175] Output shape was {'distogram': {'bin_edges': (63,), 'logits': (160, 160, 64)}, 'experimentally_resolved': {'logits': (160, 37)}, 'masked_msa': {'logits': (512, 160, 23)}, 'predicted_lddt': {'logits': (160, 50)}, 'structure_module': {'final_atom_mask': (160, 37), 'final_atom_positions': (160, 37, 3)}, 'plddt': (160,), 'ranking_confidence': ()}\n",
            "I0714 13:16:33.393077 139386310723392 parjax_cla_multi_GoogleColab.py:144] Total JAX model model_4_pred_0 on 7PZT predict time (includes compilation time, see --benchmark): 150.2s\n",
            "I0714 13:16:33.393229 139386310723392 model.py:165] Running predict with shape(feat) = {'aatype': (4, 160), 'residue_index': (4, 160), 'seq_length': (4,), 'is_distillation': (4,), 'seq_mask': (4, 160), 'msa_mask': (4, 512, 160), 'msa_row_mask': (4, 512), 'random_crop_to_size_seed': (4, 2), 'atom14_atom_exists': (4, 160, 14), 'residx_atom14_to_atom37': (4, 160, 14), 'residx_atom37_to_atom14': (4, 160, 37), 'atom37_atom_exists': (4, 160, 37), 'extra_msa': (4, 5120, 160), 'extra_msa_mask': (4, 5120, 160), 'extra_msa_row_mask': (4, 5120), 'bert_mask': (4, 512, 160), 'true_msa': (4, 512, 160), 'extra_has_deletion': (4, 5120, 160), 'extra_deletion_value': (4, 5120, 160), 'msa_feat': (4, 512, 160, 49), 'target_feat': (4, 160, 22)}\n",
            "I0714 13:17:16.626691 139386310723392 model.py:175] Output shape was {'distogram': {'bin_edges': (63,), 'logits': (160, 160, 64)}, 'experimentally_resolved': {'logits': (160, 37)}, 'masked_msa': {'logits': (512, 160, 23)}, 'predicted_lddt': {'logits': (160, 50)}, 'structure_module': {'final_atom_mask': (160, 37), 'final_atom_positions': (160, 37, 3)}, 'plddt': (160,), 'ranking_confidence': ()}\n",
            "I0714 13:17:16.626901 139386310723392 parjax_cla_multi_GoogleColab.py:154] Total JAX model model_4_pred_0 on 7PZT predict time (excludes compilation time): 43.2s\n",
            "I0714 13:17:16.665347 139386310723392 parjax_cla_multi_GoogleColab.py:132] Running model model_5_pred_0 on 7PZT\n",
            "I0714 13:17:18.235842 139386310723392 model.py:165] Running predict with shape(feat) = {'aatype': (4, 160), 'residue_index': (4, 160), 'seq_length': (4,), 'is_distillation': (4,), 'seq_mask': (4, 160), 'msa_mask': (4, 512, 160), 'msa_row_mask': (4, 512), 'random_crop_to_size_seed': (4, 2), 'atom14_atom_exists': (4, 160, 14), 'residx_atom14_to_atom37': (4, 160, 14), 'residx_atom37_to_atom14': (4, 160, 37), 'atom37_atom_exists': (4, 160, 37), 'extra_msa': (4, 1024, 160), 'extra_msa_mask': (4, 1024, 160), 'extra_msa_row_mask': (4, 1024), 'bert_mask': (4, 512, 160), 'true_msa': (4, 512, 160), 'extra_has_deletion': (4, 1024, 160), 'extra_deletion_value': (4, 1024, 160), 'msa_feat': (4, 512, 160, 49), 'target_feat': (4, 160, 22)}\n",
            "I0714 13:19:45.778819 139386310723392 model.py:175] Output shape was {'distogram': {'bin_edges': (63,), 'logits': (160, 160, 64)}, 'experimentally_resolved': {'logits': (160, 37)}, 'masked_msa': {'logits': (512, 160, 23)}, 'predicted_lddt': {'logits': (160, 50)}, 'structure_module': {'final_atom_mask': (160, 37), 'final_atom_positions': (160, 37, 3)}, 'plddt': (160,), 'ranking_confidence': ()}\n",
            "I0714 13:19:45.779031 139386310723392 parjax_cla_multi_GoogleColab.py:144] Total JAX model model_5_pred_0 on 7PZT predict time (includes compilation time, see --benchmark): 147.5s\n",
            "I0714 13:19:45.779164 139386310723392 model.py:165] Running predict with shape(feat) = {'aatype': (4, 160), 'residue_index': (4, 160), 'seq_length': (4,), 'is_distillation': (4,), 'seq_mask': (4, 160), 'msa_mask': (4, 512, 160), 'msa_row_mask': (4, 512), 'random_crop_to_size_seed': (4, 2), 'atom14_atom_exists': (4, 160, 14), 'residx_atom14_to_atom37': (4, 160, 14), 'residx_atom37_to_atom14': (4, 160, 37), 'atom37_atom_exists': (4, 160, 37), 'extra_msa': (4, 1024, 160), 'extra_msa_mask': (4, 1024, 160), 'extra_msa_row_mask': (4, 1024), 'bert_mask': (4, 512, 160), 'true_msa': (4, 512, 160), 'extra_has_deletion': (4, 1024, 160), 'extra_deletion_value': (4, 1024, 160), 'msa_feat': (4, 512, 160, 49), 'target_feat': (4, 160, 22)}\n",
            "I0714 13:20:24.935336 139386310723392 model.py:175] Output shape was {'distogram': {'bin_edges': (63,), 'logits': (160, 160, 64)}, 'experimentally_resolved': {'logits': (160, 37)}, 'masked_msa': {'logits': (512, 160, 23)}, 'predicted_lddt': {'logits': (160, 50)}, 'structure_module': {'final_atom_mask': (160, 37), 'final_atom_positions': (160, 37, 3)}, 'plddt': (160,), 'ranking_confidence': ()}\n",
            "I0714 13:20:24.935561 139386310723392 parjax_cla_multi_GoogleColab.py:154] Total JAX model model_5_pred_0 on 7PZT predict time (excludes compilation time): 39.2s\n",
            "I0714 13:20:29.227063 139386310723392 amber_minimize.py:178] alterations info: {'nonstandard_residues': [], 'removed_heterogens': set(), 'missing_residues': {}, 'missing_heavy_atoms': {}, 'missing_terminals': {<Residue 159 (LEU) of chain 0>: ['OXT']}, 'Se_in_MET': [], 'removed_chains': {0: []}}\n",
            "I0714 13:20:29.536715 139386310723392 amber_minimize.py:408] Minimizing protein, attempt 1 of 100.\n",
            "I0714 13:20:29.939903 139386310723392 amber_minimize.py:69] Restraining 1245 / 2476 particles.\n",
            "I0714 13:20:32.677620 139386310723392 amber_minimize.py:178] alterations info: {'nonstandard_residues': [], 'removed_heterogens': set(), 'missing_residues': {}, 'missing_heavy_atoms': {}, 'missing_terminals': {}, 'Se_in_MET': [], 'removed_chains': {0: []}}\n",
            "I0714 13:20:34.918005 139386310723392 amber_minimize.py:500] Iteration completed: Einit 3442.43 Efinal -3614.35 Time 2.01 s num residue violations 0 num residue exclusions 0 \n",
            "I0714 13:20:34.992000 139386310723392 parjax_cla_multi_GoogleColab.py:231] Final timings for 7PZT: {'process_features_model_1_pred_0': 1.9527196884155273, 'predict_and_compile_model_1_pred_0': 192.69695782661438, 'predict_benchmark_model_1_pred_0': 43.787888288497925, 'process_features_model_2_pred_0': 1.9932122230529785, 'predict_and_compile_model_2_pred_0': 184.1760585308075, 'predict_benchmark_model_2_pred_0': 39.75562906265259, 'process_features_model_3_pred_0': 1.5662221908569336, 'predict_and_compile_model_3_pred_0': 153.6046097278595, 'predict_benchmark_model_3_pred_0': 43.2566237449646, 'process_features_model_4_pred_0': 1.5751211643218994, 'predict_and_compile_model_4_pred_0': 150.16439938545227, 'predict_benchmark_model_4_pred_0': 43.23374962806702, 'process_features_model_5_pred_0': 1.5701966285705566, 'predict_and_compile_model_5_pred_0': 147.5433464050293, 'predict_benchmark_model_5_pred_0': 39.156461000442505, 'relax_model_5_pred_0': 10.01705265045166}\n",
            "I0714 13:20:34.996839 139386310723392 parjax_cla_multi_GoogleColab.py:308] 7PZT AlphaFold structure prediction COMPLETE\n",
            "I0714 13:20:34.996956 139386310723392 parjax_cla_multi_GoogleColab.py:107] Predicting 7ROA\n",
            "I0714 13:20:34.997656 139386310723392 parjax_cla_multi_GoogleColab.py:132] Running model model_1_pred_0 on 7ROA\n",
            "I0714 13:20:36.938594 139386310723392 model.py:165] Running predict with shape(feat) = {'aatype': (4, 136), 'residue_index': (4, 136), 'seq_length': (4,), 'template_aatype': (4, 4, 136), 'template_all_atom_masks': (4, 4, 136, 37), 'template_all_atom_positions': (4, 4, 136, 37, 3), 'template_sum_probs': (4, 4, 1), 'is_distillation': (4,), 'seq_mask': (4, 136), 'msa_mask': (4, 508, 136), 'msa_row_mask': (4, 508), 'random_crop_to_size_seed': (4, 2), 'template_mask': (4, 4), 'template_pseudo_beta': (4, 4, 136, 3), 'template_pseudo_beta_mask': (4, 4, 136), 'atom14_atom_exists': (4, 136, 14), 'residx_atom14_to_atom37': (4, 136, 14), 'residx_atom37_to_atom14': (4, 136, 37), 'atom37_atom_exists': (4, 136, 37), 'extra_msa': (4, 5120, 136), 'extra_msa_mask': (4, 5120, 136), 'extra_msa_row_mask': (4, 5120), 'bert_mask': (4, 508, 136), 'true_msa': (4, 508, 136), 'extra_has_deletion': (4, 5120, 136), 'extra_deletion_value': (4, 5120, 136), 'msa_feat': (4, 508, 136, 49), 'target_feat': (4, 136, 22)}\n",
            "I0714 13:23:41.554425 139386310723392 model.py:175] Output shape was {'distogram': {'bin_edges': (63,), 'logits': (136, 136, 64)}, 'experimentally_resolved': {'logits': (136, 37)}, 'masked_msa': {'logits': (508, 136, 23)}, 'predicted_lddt': {'logits': (136, 50)}, 'structure_module': {'final_atom_mask': (136, 37), 'final_atom_positions': (136, 37, 3)}, 'plddt': (136,), 'ranking_confidence': ()}\n",
            "I0714 13:23:41.554660 139386310723392 parjax_cla_multi_GoogleColab.py:144] Total JAX model model_1_pred_0 on 7ROA predict time (includes compilation time, see --benchmark): 184.6s\n",
            "I0714 13:23:41.554828 139386310723392 model.py:165] Running predict with shape(feat) = {'aatype': (4, 136), 'residue_index': (4, 136), 'seq_length': (4,), 'template_aatype': (4, 4, 136), 'template_all_atom_masks': (4, 4, 136, 37), 'template_all_atom_positions': (4, 4, 136, 37, 3), 'template_sum_probs': (4, 4, 1), 'is_distillation': (4,), 'seq_mask': (4, 136), 'msa_mask': (4, 508, 136), 'msa_row_mask': (4, 508), 'random_crop_to_size_seed': (4, 2), 'template_mask': (4, 4), 'template_pseudo_beta': (4, 4, 136, 3), 'template_pseudo_beta_mask': (4, 4, 136), 'atom14_atom_exists': (4, 136, 14), 'residx_atom14_to_atom37': (4, 136, 14), 'residx_atom37_to_atom14': (4, 136, 37), 'atom37_atom_exists': (4, 136, 37), 'extra_msa': (4, 5120, 136), 'extra_msa_mask': (4, 5120, 136), 'extra_msa_row_mask': (4, 5120), 'bert_mask': (4, 508, 136), 'true_msa': (4, 508, 136), 'extra_has_deletion': (4, 5120, 136), 'extra_deletion_value': (4, 5120, 136), 'msa_feat': (4, 508, 136, 49), 'target_feat': (4, 136, 22)}\n",
            "I0714 13:24:17.551761 139386310723392 model.py:175] Output shape was {'distogram': {'bin_edges': (63,), 'logits': (136, 136, 64)}, 'experimentally_resolved': {'logits': (136, 37)}, 'masked_msa': {'logits': (508, 136, 23)}, 'predicted_lddt': {'logits': (136, 50)}, 'structure_module': {'final_atom_mask': (136, 37), 'final_atom_positions': (136, 37, 3)}, 'plddt': (136,), 'ranking_confidence': ()}\n",
            "I0714 13:24:17.552011 139386310723392 parjax_cla_multi_GoogleColab.py:154] Total JAX model model_1_pred_0 on 7ROA predict time (excludes compilation time): 36.0s\n",
            "I0714 13:24:17.583566 139386310723392 parjax_cla_multi_GoogleColab.py:132] Running model model_2_pred_0 on 7ROA\n",
            "I0714 13:24:19.670957 139386310723392 model.py:165] Running predict with shape(feat) = {'aatype': (4, 136), 'residue_index': (4, 136), 'seq_length': (4,), 'template_aatype': (4, 4, 136), 'template_all_atom_masks': (4, 4, 136, 37), 'template_all_atom_positions': (4, 4, 136, 37, 3), 'template_sum_probs': (4, 4, 1), 'is_distillation': (4,), 'seq_mask': (4, 136), 'msa_mask': (4, 508, 136), 'msa_row_mask': (4, 508), 'random_crop_to_size_seed': (4, 2), 'template_mask': (4, 4), 'template_pseudo_beta': (4, 4, 136, 3), 'template_pseudo_beta_mask': (4, 4, 136), 'atom14_atom_exists': (4, 136, 14), 'residx_atom14_to_atom37': (4, 136, 14), 'residx_atom37_to_atom14': (4, 136, 37), 'atom37_atom_exists': (4, 136, 37), 'extra_msa': (4, 1024, 136), 'extra_msa_mask': (4, 1024, 136), 'extra_msa_row_mask': (4, 1024), 'bert_mask': (4, 508, 136), 'true_msa': (4, 508, 136), 'extra_has_deletion': (4, 1024, 136), 'extra_deletion_value': (4, 1024, 136), 'msa_feat': (4, 508, 136, 49), 'target_feat': (4, 136, 22)}\n",
            "I0714 13:27:19.763311 139386310723392 model.py:175] Output shape was {'distogram': {'bin_edges': (63,), 'logits': (136, 136, 64)}, 'experimentally_resolved': {'logits': (136, 37)}, 'masked_msa': {'logits': (508, 136, 23)}, 'predicted_lddt': {'logits': (136, 50)}, 'structure_module': {'final_atom_mask': (136, 37), 'final_atom_positions': (136, 37, 3)}, 'plddt': (136,), 'ranking_confidence': ()}\n",
            "I0714 13:27:19.763549 139386310723392 parjax_cla_multi_GoogleColab.py:144] Total JAX model model_2_pred_0 on 7ROA predict time (includes compilation time, see --benchmark): 180.1s\n",
            "I0714 13:27:19.763750 139386310723392 model.py:165] Running predict with shape(feat) = {'aatype': (4, 136), 'residue_index': (4, 136), 'seq_length': (4,), 'template_aatype': (4, 4, 136), 'template_all_atom_masks': (4, 4, 136, 37), 'template_all_atom_positions': (4, 4, 136, 37, 3), 'template_sum_probs': (4, 4, 1), 'is_distillation': (4,), 'seq_mask': (4, 136), 'msa_mask': (4, 508, 136), 'msa_row_mask': (4, 508), 'random_crop_to_size_seed': (4, 2), 'template_mask': (4, 4), 'template_pseudo_beta': (4, 4, 136, 3), 'template_pseudo_beta_mask': (4, 4, 136), 'atom14_atom_exists': (4, 136, 14), 'residx_atom14_to_atom37': (4, 136, 14), 'residx_atom37_to_atom14': (4, 136, 37), 'atom37_atom_exists': (4, 136, 37), 'extra_msa': (4, 1024, 136), 'extra_msa_mask': (4, 1024, 136), 'extra_msa_row_mask': (4, 1024), 'bert_mask': (4, 508, 136), 'true_msa': (4, 508, 136), 'extra_has_deletion': (4, 1024, 136), 'extra_deletion_value': (4, 1024, 136), 'msa_feat': (4, 508, 136, 49), 'target_feat': (4, 136, 22)}\n",
            "I0714 13:27:52.363417 139386310723392 model.py:175] Output shape was {'distogram': {'bin_edges': (63,), 'logits': (136, 136, 64)}, 'experimentally_resolved': {'logits': (136, 37)}, 'masked_msa': {'logits': (508, 136, 23)}, 'predicted_lddt': {'logits': (136, 50)}, 'structure_module': {'final_atom_mask': (136, 37), 'final_atom_positions': (136, 37, 3)}, 'plddt': (136,), 'ranking_confidence': ()}\n",
            "I0714 13:27:52.363640 139386310723392 parjax_cla_multi_GoogleColab.py:154] Total JAX model model_2_pred_0 on 7ROA predict time (excludes compilation time): 32.6s\n",
            "I0714 13:27:52.395691 139386310723392 parjax_cla_multi_GoogleColab.py:132] Running model model_3_pred_0 on 7ROA\n",
            "I0714 13:27:54.044011 139386310723392 model.py:165] Running predict with shape(feat) = {'aatype': (4, 136), 'residue_index': (4, 136), 'seq_length': (4,), 'is_distillation': (4,), 'seq_mask': (4, 136), 'msa_mask': (4, 512, 136), 'msa_row_mask': (4, 512), 'random_crop_to_size_seed': (4, 2), 'atom14_atom_exists': (4, 136, 14), 'residx_atom14_to_atom37': (4, 136, 14), 'residx_atom37_to_atom14': (4, 136, 37), 'atom37_atom_exists': (4, 136, 37), 'extra_msa': (4, 5120, 136), 'extra_msa_mask': (4, 5120, 136), 'extra_msa_row_mask': (4, 5120), 'bert_mask': (4, 512, 136), 'true_msa': (4, 512, 136), 'extra_has_deletion': (4, 5120, 136), 'extra_deletion_value': (4, 5120, 136), 'msa_feat': (4, 512, 136, 49), 'target_feat': (4, 136, 22)}\n",
            "I0714 13:30:20.020788 139386310723392 model.py:175] Output shape was {'distogram': {'bin_edges': (63,), 'logits': (136, 136, 64)}, 'experimentally_resolved': {'logits': (136, 37)}, 'masked_msa': {'logits': (512, 136, 23)}, 'predicted_lddt': {'logits': (136, 50)}, 'structure_module': {'final_atom_mask': (136, 37), 'final_atom_positions': (136, 37, 3)}, 'plddt': (136,), 'ranking_confidence': ()}\n",
            "I0714 13:30:20.020989 139386310723392 parjax_cla_multi_GoogleColab.py:144] Total JAX model model_3_pred_0 on 7ROA predict time (includes compilation time, see --benchmark): 146.0s\n",
            "I0714 13:30:20.021111 139386310723392 model.py:165] Running predict with shape(feat) = {'aatype': (4, 136), 'residue_index': (4, 136), 'seq_length': (4,), 'is_distillation': (4,), 'seq_mask': (4, 136), 'msa_mask': (4, 512, 136), 'msa_row_mask': (4, 512), 'random_crop_to_size_seed': (4, 2), 'atom14_atom_exists': (4, 136, 14), 'residx_atom14_to_atom37': (4, 136, 14), 'residx_atom37_to_atom14': (4, 136, 37), 'atom37_atom_exists': (4, 136, 37), 'extra_msa': (4, 5120, 136), 'extra_msa_mask': (4, 5120, 136), 'extra_msa_row_mask': (4, 5120), 'bert_mask': (4, 512, 136), 'true_msa': (4, 512, 136), 'extra_has_deletion': (4, 5120, 136), 'extra_deletion_value': (4, 5120, 136), 'msa_feat': (4, 512, 136, 49), 'target_feat': (4, 136, 22)}\n",
            "I0714 13:30:55.539028 139386310723392 model.py:175] Output shape was {'distogram': {'bin_edges': (63,), 'logits': (136, 136, 64)}, 'experimentally_resolved': {'logits': (136, 37)}, 'masked_msa': {'logits': (512, 136, 23)}, 'predicted_lddt': {'logits': (136, 50)}, 'structure_module': {'final_atom_mask': (136, 37), 'final_atom_positions': (136, 37, 3)}, 'plddt': (136,), 'ranking_confidence': ()}\n",
            "I0714 13:30:55.539244 139386310723392 parjax_cla_multi_GoogleColab.py:154] Total JAX model model_3_pred_0 on 7ROA predict time (excludes compilation time): 35.5s\n",
            "I0714 13:30:55.570785 139386310723392 parjax_cla_multi_GoogleColab.py:132] Running model model_4_pred_0 on 7ROA\n",
            "I0714 13:30:57.175771 139386310723392 model.py:165] Running predict with shape(feat) = {'aatype': (4, 136), 'residue_index': (4, 136), 'seq_length': (4,), 'is_distillation': (4,), 'seq_mask': (4, 136), 'msa_mask': (4, 512, 136), 'msa_row_mask': (4, 512), 'random_crop_to_size_seed': (4, 2), 'atom14_atom_exists': (4, 136, 14), 'residx_atom14_to_atom37': (4, 136, 14), 'residx_atom37_to_atom14': (4, 136, 37), 'atom37_atom_exists': (4, 136, 37), 'extra_msa': (4, 5120, 136), 'extra_msa_mask': (4, 5120, 136), 'extra_msa_row_mask': (4, 5120), 'bert_mask': (4, 512, 136), 'true_msa': (4, 512, 136), 'extra_has_deletion': (4, 5120, 136), 'extra_deletion_value': (4, 5120, 136), 'msa_feat': (4, 512, 136, 49), 'target_feat': (4, 136, 22)}\n",
            "I0714 13:33:19.994801 139386310723392 model.py:175] Output shape was {'distogram': {'bin_edges': (63,), 'logits': (136, 136, 64)}, 'experimentally_resolved': {'logits': (136, 37)}, 'masked_msa': {'logits': (512, 136, 23)}, 'predicted_lddt': {'logits': (136, 50)}, 'structure_module': {'final_atom_mask': (136, 37), 'final_atom_positions': (136, 37, 3)}, 'plddt': (136,), 'ranking_confidence': ()}\n",
            "I0714 13:33:19.995008 139386310723392 parjax_cla_multi_GoogleColab.py:144] Total JAX model model_4_pred_0 on 7ROA predict time (includes compilation time, see --benchmark): 142.8s\n",
            "I0714 13:33:19.995150 139386310723392 model.py:165] Running predict with shape(feat) = {'aatype': (4, 136), 'residue_index': (4, 136), 'seq_length': (4,), 'is_distillation': (4,), 'seq_mask': (4, 136), 'msa_mask': (4, 512, 136), 'msa_row_mask': (4, 512), 'random_crop_to_size_seed': (4, 2), 'atom14_atom_exists': (4, 136, 14), 'residx_atom14_to_atom37': (4, 136, 14), 'residx_atom37_to_atom14': (4, 136, 37), 'atom37_atom_exists': (4, 136, 37), 'extra_msa': (4, 5120, 136), 'extra_msa_mask': (4, 5120, 136), 'extra_msa_row_mask': (4, 5120), 'bert_mask': (4, 512, 136), 'true_msa': (4, 512, 136), 'extra_has_deletion': (4, 5120, 136), 'extra_deletion_value': (4, 5120, 136), 'msa_feat': (4, 512, 136, 49), 'target_feat': (4, 136, 22)}\n",
            "I0714 13:33:55.552442 139386310723392 model.py:175] Output shape was {'distogram': {'bin_edges': (63,), 'logits': (136, 136, 64)}, 'experimentally_resolved': {'logits': (136, 37)}, 'masked_msa': {'logits': (512, 136, 23)}, 'predicted_lddt': {'logits': (136, 50)}, 'structure_module': {'final_atom_mask': (136, 37), 'final_atom_positions': (136, 37, 3)}, 'plddt': (136,), 'ranking_confidence': ()}\n",
            "I0714 13:33:55.552699 139386310723392 parjax_cla_multi_GoogleColab.py:154] Total JAX model model_4_pred_0 on 7ROA predict time (excludes compilation time): 35.6s\n",
            "I0714 13:33:55.585098 139386310723392 parjax_cla_multi_GoogleColab.py:132] Running model model_5_pred_0 on 7ROA\n",
            "I0714 13:33:57.164513 139386310723392 model.py:165] Running predict with shape(feat) = {'aatype': (4, 136), 'residue_index': (4, 136), 'seq_length': (4,), 'is_distillation': (4,), 'seq_mask': (4, 136), 'msa_mask': (4, 512, 136), 'msa_row_mask': (4, 512), 'random_crop_to_size_seed': (4, 2), 'atom14_atom_exists': (4, 136, 14), 'residx_atom14_to_atom37': (4, 136, 14), 'residx_atom37_to_atom14': (4, 136, 37), 'atom37_atom_exists': (4, 136, 37), 'extra_msa': (4, 1024, 136), 'extra_msa_mask': (4, 1024, 136), 'extra_msa_row_mask': (4, 1024), 'bert_mask': (4, 512, 136), 'true_msa': (4, 512, 136), 'extra_has_deletion': (4, 1024, 136), 'extra_deletion_value': (4, 1024, 136), 'msa_feat': (4, 512, 136, 49), 'target_feat': (4, 136, 22)}\n",
            "I0714 13:36:17.987540 139386310723392 model.py:175] Output shape was {'distogram': {'bin_edges': (63,), 'logits': (136, 136, 64)}, 'experimentally_resolved': {'logits': (136, 37)}, 'masked_msa': {'logits': (512, 136, 23)}, 'predicted_lddt': {'logits': (136, 50)}, 'structure_module': {'final_atom_mask': (136, 37), 'final_atom_positions': (136, 37, 3)}, 'plddt': (136,), 'ranking_confidence': ()}\n",
            "I0714 13:36:17.987754 139386310723392 parjax_cla_multi_GoogleColab.py:144] Total JAX model model_5_pred_0 on 7ROA predict time (includes compilation time, see --benchmark): 140.8s\n",
            "I0714 13:36:17.987883 139386310723392 model.py:165] Running predict with shape(feat) = {'aatype': (4, 136), 'residue_index': (4, 136), 'seq_length': (4,), 'is_distillation': (4,), 'seq_mask': (4, 136), 'msa_mask': (4, 512, 136), 'msa_row_mask': (4, 512), 'random_crop_to_size_seed': (4, 2), 'atom14_atom_exists': (4, 136, 14), 'residx_atom14_to_atom37': (4, 136, 14), 'residx_atom37_to_atom14': (4, 136, 37), 'atom37_atom_exists': (4, 136, 37), 'extra_msa': (4, 1024, 136), 'extra_msa_mask': (4, 1024, 136), 'extra_msa_row_mask': (4, 1024), 'bert_mask': (4, 512, 136), 'true_msa': (4, 512, 136), 'extra_has_deletion': (4, 1024, 136), 'extra_deletion_value': (4, 1024, 136), 'msa_feat': (4, 512, 136, 49), 'target_feat': (4, 136, 22)}\n",
            "I0714 13:36:50.203079 139386310723392 model.py:175] Output shape was {'distogram': {'bin_edges': (63,), 'logits': (136, 136, 64)}, 'experimentally_resolved': {'logits': (136, 37)}, 'masked_msa': {'logits': (512, 136, 23)}, 'predicted_lddt': {'logits': (136, 50)}, 'structure_module': {'final_atom_mask': (136, 37), 'final_atom_positions': (136, 37, 3)}, 'plddt': (136,), 'ranking_confidence': ()}\n",
            "I0714 13:36:50.203336 139386310723392 parjax_cla_multi_GoogleColab.py:154] Total JAX model model_5_pred_0 on 7ROA predict time (excludes compilation time): 32.2s\n",
            "I0714 13:36:54.270785 139386310723392 amber_minimize.py:178] alterations info: {'nonstandard_residues': [], 'removed_heterogens': set(), 'missing_residues': {}, 'missing_heavy_atoms': {}, 'missing_terminals': {<Residue 135 (SER) of chain 0>: ['OXT']}, 'Se_in_MET': [], 'removed_chains': {0: []}}\n",
            "I0714 13:36:54.426539 139386310723392 amber_minimize.py:408] Minimizing protein, attempt 1 of 100.\n",
            "I0714 13:36:54.798889 139386310723392 amber_minimize.py:69] Restraining 1043 / 2082 particles.\n",
            "I0714 13:36:57.151743 139386310723392 amber_minimize.py:178] alterations info: {'nonstandard_residues': [], 'removed_heterogens': set(), 'missing_residues': {}, 'missing_heavy_atoms': {}, 'missing_terminals': {}, 'Se_in_MET': [], 'removed_chains': {0: []}}\n",
            "I0714 13:36:59.308609 139386310723392 amber_minimize.py:500] Iteration completed: Einit 5313.23 Efinal -2261.15 Time 1.83 s num residue violations 0 num residue exclusions 0 \n",
            "I0714 13:36:59.372246 139386310723392 parjax_cla_multi_GoogleColab.py:231] Final timings for 7ROA: {'process_features_model_1_pred_0': 1.9389491081237793, 'predict_and_compile_model_1_pred_0': 184.6179666519165, 'predict_benchmark_model_1_pred_0': 35.99727439880371, 'process_features_model_2_pred_0': 2.0850090980529785, 'predict_and_compile_model_2_pred_0': 180.0948088169098, 'predict_benchmark_model_2_pred_0': 32.599992752075195, 'process_features_model_3_pred_0': 1.6480212211608887, 'predict_and_compile_model_3_pred_0': 145.97713208198547, 'predict_benchmark_model_3_pred_0': 35.518194913864136, 'process_features_model_4_pred_0': 1.6047031879425049, 'predict_and_compile_model_4_pred_0': 142.81937980651855, 'predict_benchmark_model_4_pred_0': 35.5576274394989, 'process_features_model_5_pred_0': 1.579113483428955, 'predict_and_compile_model_5_pred_0': 140.8233892917633, 'predict_benchmark_model_5_pred_0': 32.215506076812744, 'relax_model_4_pred_0': 9.135730743408203}\n",
            "I0714 13:36:59.373006 139386310723392 parjax_cla_multi_GoogleColab.py:308] 7ROA AlphaFold structure prediction COMPLETE\n",
            "I0714 13:36:59.373129 139386310723392 parjax_cla_multi_GoogleColab.py:107] Predicting 8PBV\n",
            "I0714 13:36:59.380235 139386310723392 parjax_cla_multi_GoogleColab.py:132] Running model model_1_pred_0 on 8PBV\n",
            "I0714 13:37:01.396656 139386310723392 model.py:165] Running predict with shape(feat) = {'aatype': (4, 116), 'residue_index': (4, 116), 'seq_length': (4,), 'template_aatype': (4, 4, 116), 'template_all_atom_masks': (4, 4, 116, 37), 'template_all_atom_positions': (4, 4, 116, 37, 3), 'template_sum_probs': (4, 4, 1), 'is_distillation': (4,), 'seq_mask': (4, 116), 'msa_mask': (4, 508, 116), 'msa_row_mask': (4, 508), 'random_crop_to_size_seed': (4, 2), 'template_mask': (4, 4), 'template_pseudo_beta': (4, 4, 116, 3), 'template_pseudo_beta_mask': (4, 4, 116), 'atom14_atom_exists': (4, 116, 14), 'residx_atom14_to_atom37': (4, 116, 14), 'residx_atom37_to_atom14': (4, 116, 37), 'atom37_atom_exists': (4, 116, 37), 'extra_msa': (4, 5120, 116), 'extra_msa_mask': (4, 5120, 116), 'extra_msa_row_mask': (4, 5120), 'bert_mask': (4, 508, 116), 'true_msa': (4, 508, 116), 'extra_has_deletion': (4, 5120, 116), 'extra_deletion_value': (4, 5120, 116), 'msa_feat': (4, 508, 116, 49), 'target_feat': (4, 116, 22)}\n",
            "I0714 13:39:58.760351 139386310723392 model.py:175] Output shape was {'distogram': {'bin_edges': (63,), 'logits': (116, 116, 64)}, 'experimentally_resolved': {'logits': (116, 37)}, 'masked_msa': {'logits': (508, 116, 23)}, 'predicted_lddt': {'logits': (116, 50)}, 'structure_module': {'final_atom_mask': (116, 37), 'final_atom_positions': (116, 37, 3)}, 'plddt': (116,), 'ranking_confidence': ()}\n",
            "I0714 13:39:58.760561 139386310723392 parjax_cla_multi_GoogleColab.py:144] Total JAX model model_1_pred_0 on 8PBV predict time (includes compilation time, see --benchmark): 177.4s\n",
            "I0714 13:39:58.760719 139386310723392 model.py:165] Running predict with shape(feat) = {'aatype': (4, 116), 'residue_index': (4, 116), 'seq_length': (4,), 'template_aatype': (4, 4, 116), 'template_all_atom_masks': (4, 4, 116, 37), 'template_all_atom_positions': (4, 4, 116, 37, 3), 'template_sum_probs': (4, 4, 1), 'is_distillation': (4,), 'seq_mask': (4, 116), 'msa_mask': (4, 508, 116), 'msa_row_mask': (4, 508), 'random_crop_to_size_seed': (4, 2), 'template_mask': (4, 4), 'template_pseudo_beta': (4, 4, 116, 3), 'template_pseudo_beta_mask': (4, 4, 116), 'atom14_atom_exists': (4, 116, 14), 'residx_atom14_to_atom37': (4, 116, 14), 'residx_atom37_to_atom14': (4, 116, 37), 'atom37_atom_exists': (4, 116, 37), 'extra_msa': (4, 5120, 116), 'extra_msa_mask': (4, 5120, 116), 'extra_msa_row_mask': (4, 5120), 'bert_mask': (4, 508, 116), 'true_msa': (4, 508, 116), 'extra_has_deletion': (4, 5120, 116), 'extra_deletion_value': (4, 5120, 116), 'msa_feat': (4, 508, 116, 49), 'target_feat': (4, 116, 22)}\n",
            "I0714 13:40:27.795489 139386310723392 model.py:175] Output shape was {'distogram': {'bin_edges': (63,), 'logits': (116, 116, 64)}, 'experimentally_resolved': {'logits': (116, 37)}, 'masked_msa': {'logits': (508, 116, 23)}, 'predicted_lddt': {'logits': (116, 50)}, 'structure_module': {'final_atom_mask': (116, 37), 'final_atom_positions': (116, 37, 3)}, 'plddt': (116,), 'ranking_confidence': ()}\n",
            "I0714 13:40:27.795700 139386310723392 parjax_cla_multi_GoogleColab.py:154] Total JAX model model_1_pred_0 on 8PBV predict time (excludes compilation time): 29.0s\n",
            "I0714 13:40:27.821273 139386310723392 parjax_cla_multi_GoogleColab.py:132] Running model model_2_pred_0 on 8PBV\n",
            "I0714 13:40:29.838162 139386310723392 model.py:165] Running predict with shape(feat) = {'aatype': (4, 116), 'residue_index': (4, 116), 'seq_length': (4,), 'template_aatype': (4, 4, 116), 'template_all_atom_masks': (4, 4, 116, 37), 'template_all_atom_positions': (4, 4, 116, 37, 3), 'template_sum_probs': (4, 4, 1), 'is_distillation': (4,), 'seq_mask': (4, 116), 'msa_mask': (4, 508, 116), 'msa_row_mask': (4, 508), 'random_crop_to_size_seed': (4, 2), 'template_mask': (4, 4), 'template_pseudo_beta': (4, 4, 116, 3), 'template_pseudo_beta_mask': (4, 4, 116), 'atom14_atom_exists': (4, 116, 14), 'residx_atom14_to_atom37': (4, 116, 14), 'residx_atom37_to_atom14': (4, 116, 37), 'atom37_atom_exists': (4, 116, 37), 'extra_msa': (4, 1024, 116), 'extra_msa_mask': (4, 1024, 116), 'extra_msa_row_mask': (4, 1024), 'bert_mask': (4, 508, 116), 'true_msa': (4, 508, 116), 'extra_has_deletion': (4, 1024, 116), 'extra_deletion_value': (4, 1024, 116), 'msa_feat': (4, 508, 116, 49), 'target_feat': (4, 116, 22)}\n",
            "I0714 13:43:17.252042 139386310723392 model.py:175] Output shape was {'distogram': {'bin_edges': (63,), 'logits': (116, 116, 64)}, 'experimentally_resolved': {'logits': (116, 37)}, 'masked_msa': {'logits': (508, 116, 23)}, 'predicted_lddt': {'logits': (116, 50)}, 'structure_module': {'final_atom_mask': (116, 37), 'final_atom_positions': (116, 37, 3)}, 'plddt': (116,), 'ranking_confidence': ()}\n",
            "I0714 13:43:17.252254 139386310723392 parjax_cla_multi_GoogleColab.py:144] Total JAX model model_2_pred_0 on 8PBV predict time (includes compilation time, see --benchmark): 167.4s\n",
            "I0714 13:43:17.252401 139386310723392 model.py:165] Running predict with shape(feat) = {'aatype': (4, 116), 'residue_index': (4, 116), 'seq_length': (4,), 'template_aatype': (4, 4, 116), 'template_all_atom_masks': (4, 4, 116, 37), 'template_all_atom_positions': (4, 4, 116, 37, 3), 'template_sum_probs': (4, 4, 1), 'is_distillation': (4,), 'seq_mask': (4, 116), 'msa_mask': (4, 508, 116), 'msa_row_mask': (4, 508), 'random_crop_to_size_seed': (4, 2), 'template_mask': (4, 4), 'template_pseudo_beta': (4, 4, 116, 3), 'template_pseudo_beta_mask': (4, 4, 116), 'atom14_atom_exists': (4, 116, 14), 'residx_atom14_to_atom37': (4, 116, 14), 'residx_atom37_to_atom14': (4, 116, 37), 'atom37_atom_exists': (4, 116, 37), 'extra_msa': (4, 1024, 116), 'extra_msa_mask': (4, 1024, 116), 'extra_msa_row_mask': (4, 1024), 'bert_mask': (4, 508, 116), 'true_msa': (4, 508, 116), 'extra_has_deletion': (4, 1024, 116), 'extra_deletion_value': (4, 1024, 116), 'msa_feat': (4, 508, 116, 49), 'target_feat': (4, 116, 22)}\n",
            "I0714 13:43:43.521571 139386310723392 model.py:175] Output shape was {'distogram': {'bin_edges': (63,), 'logits': (116, 116, 64)}, 'experimentally_resolved': {'logits': (116, 37)}, 'masked_msa': {'logits': (508, 116, 23)}, 'predicted_lddt': {'logits': (116, 50)}, 'structure_module': {'final_atom_mask': (116, 37), 'final_atom_positions': (116, 37, 3)}, 'plddt': (116,), 'ranking_confidence': ()}\n",
            "I0714 13:43:43.521770 139386310723392 parjax_cla_multi_GoogleColab.py:154] Total JAX model model_2_pred_0 on 8PBV predict time (excludes compilation time): 26.3s\n",
            "I0714 13:43:43.547425 139386310723392 parjax_cla_multi_GoogleColab.py:132] Running model model_3_pred_0 on 8PBV\n",
            "I0714 13:43:45.178295 139386310723392 model.py:165] Running predict with shape(feat) = {'aatype': (4, 116), 'residue_index': (4, 116), 'seq_length': (4,), 'is_distillation': (4,), 'seq_mask': (4, 116), 'msa_mask': (4, 512, 116), 'msa_row_mask': (4, 512), 'random_crop_to_size_seed': (4, 2), 'atom14_atom_exists': (4, 116, 14), 'residx_atom14_to_atom37': (4, 116, 14), 'residx_atom37_to_atom14': (4, 116, 37), 'atom37_atom_exists': (4, 116, 37), 'extra_msa': (4, 5120, 116), 'extra_msa_mask': (4, 5120, 116), 'extra_msa_row_mask': (4, 5120), 'bert_mask': (4, 512, 116), 'true_msa': (4, 512, 116), 'extra_has_deletion': (4, 5120, 116), 'extra_deletion_value': (4, 5120, 116), 'msa_feat': (4, 512, 116, 49), 'target_feat': (4, 116, 22)}\n",
            "I0714 13:45:59.348993 139386310723392 model.py:175] Output shape was {'distogram': {'bin_edges': (63,), 'logits': (116, 116, 64)}, 'experimentally_resolved': {'logits': (116, 37)}, 'masked_msa': {'logits': (512, 116, 23)}, 'predicted_lddt': {'logits': (116, 50)}, 'structure_module': {'final_atom_mask': (116, 37), 'final_atom_positions': (116, 37, 3)}, 'plddt': (116,), 'ranking_confidence': ()}\n",
            "I0714 13:45:59.349197 139386310723392 parjax_cla_multi_GoogleColab.py:144] Total JAX model model_3_pred_0 on 8PBV predict time (includes compilation time, see --benchmark): 134.2s\n",
            "I0714 13:45:59.349322 139386310723392 model.py:165] Running predict with shape(feat) = {'aatype': (4, 116), 'residue_index': (4, 116), 'seq_length': (4,), 'is_distillation': (4,), 'seq_mask': (4, 116), 'msa_mask': (4, 512, 116), 'msa_row_mask': (4, 512), 'random_crop_to_size_seed': (4, 2), 'atom14_atom_exists': (4, 116, 14), 'residx_atom14_to_atom37': (4, 116, 14), 'residx_atom37_to_atom14': (4, 116, 37), 'atom37_atom_exists': (4, 116, 37), 'extra_msa': (4, 5120, 116), 'extra_msa_mask': (4, 5120, 116), 'extra_msa_row_mask': (4, 5120), 'bert_mask': (4, 512, 116), 'true_msa': (4, 512, 116), 'extra_has_deletion': (4, 5120, 116), 'extra_deletion_value': (4, 5120, 116), 'msa_feat': (4, 512, 116, 49), 'target_feat': (4, 116, 22)}\n",
            "I0714 13:46:28.105310 139386310723392 model.py:175] Output shape was {'distogram': {'bin_edges': (63,), 'logits': (116, 116, 64)}, 'experimentally_resolved': {'logits': (116, 37)}, 'masked_msa': {'logits': (512, 116, 23)}, 'predicted_lddt': {'logits': (116, 50)}, 'structure_module': {'final_atom_mask': (116, 37), 'final_atom_positions': (116, 37, 3)}, 'plddt': (116,), 'ranking_confidence': ()}\n",
            "I0714 13:46:28.105535 139386310723392 parjax_cla_multi_GoogleColab.py:154] Total JAX model model_3_pred_0 on 8PBV predict time (excludes compilation time): 28.8s\n",
            "I0714 13:46:28.131609 139386310723392 parjax_cla_multi_GoogleColab.py:132] Running model model_4_pred_0 on 8PBV\n",
            "I0714 13:46:29.790211 139386310723392 model.py:165] Running predict with shape(feat) = {'aatype': (4, 116), 'residue_index': (4, 116), 'seq_length': (4,), 'is_distillation': (4,), 'seq_mask': (4, 116), 'msa_mask': (4, 512, 116), 'msa_row_mask': (4, 512), 'random_crop_to_size_seed': (4, 2), 'atom14_atom_exists': (4, 116, 14), 'residx_atom14_to_atom37': (4, 116, 14), 'residx_atom37_to_atom14': (4, 116, 37), 'atom37_atom_exists': (4, 116, 37), 'extra_msa': (4, 5120, 116), 'extra_msa_mask': (4, 5120, 116), 'extra_msa_row_mask': (4, 5120), 'bert_mask': (4, 512, 116), 'true_msa': (4, 512, 116), 'extra_has_deletion': (4, 5120, 116), 'extra_deletion_value': (4, 5120, 116), 'msa_feat': (4, 512, 116, 49), 'target_feat': (4, 116, 22)}\n",
            "I0714 13:48:43.475741 139386310723392 model.py:175] Output shape was {'distogram': {'bin_edges': (63,), 'logits': (116, 116, 64)}, 'experimentally_resolved': {'logits': (116, 37)}, 'masked_msa': {'logits': (512, 116, 23)}, 'predicted_lddt': {'logits': (116, 50)}, 'structure_module': {'final_atom_mask': (116, 37), 'final_atom_positions': (116, 37, 3)}, 'plddt': (116,), 'ranking_confidence': ()}\n",
            "I0714 13:48:43.475940 139386310723392 parjax_cla_multi_GoogleColab.py:144] Total JAX model model_4_pred_0 on 8PBV predict time (includes compilation time, see --benchmark): 133.7s\n",
            "I0714 13:48:43.476062 139386310723392 model.py:165] Running predict with shape(feat) = {'aatype': (4, 116), 'residue_index': (4, 116), 'seq_length': (4,), 'is_distillation': (4,), 'seq_mask': (4, 116), 'msa_mask': (4, 512, 116), 'msa_row_mask': (4, 512), 'random_crop_to_size_seed': (4, 2), 'atom14_atom_exists': (4, 116, 14), 'residx_atom14_to_atom37': (4, 116, 14), 'residx_atom37_to_atom14': (4, 116, 37), 'atom37_atom_exists': (4, 116, 37), 'extra_msa': (4, 5120, 116), 'extra_msa_mask': (4, 5120, 116), 'extra_msa_row_mask': (4, 5120), 'bert_mask': (4, 512, 116), 'true_msa': (4, 512, 116), 'extra_has_deletion': (4, 5120, 116), 'extra_deletion_value': (4, 5120, 116), 'msa_feat': (4, 512, 116, 49), 'target_feat': (4, 116, 22)}\n",
            "I0714 13:49:12.364847 139386310723392 model.py:175] Output shape was {'distogram': {'bin_edges': (63,), 'logits': (116, 116, 64)}, 'experimentally_resolved': {'logits': (116, 37)}, 'masked_msa': {'logits': (512, 116, 23)}, 'predicted_lddt': {'logits': (116, 50)}, 'structure_module': {'final_atom_mask': (116, 37), 'final_atom_positions': (116, 37, 3)}, 'plddt': (116,), 'ranking_confidence': ()}\n",
            "I0714 13:49:12.365047 139386310723392 parjax_cla_multi_GoogleColab.py:154] Total JAX model model_4_pred_0 on 8PBV predict time (excludes compilation time): 28.9s\n",
            "I0714 13:49:12.390565 139386310723392 parjax_cla_multi_GoogleColab.py:132] Running model model_5_pred_0 on 8PBV\n",
            "I0714 13:49:13.971227 139386310723392 model.py:165] Running predict with shape(feat) = {'aatype': (4, 116), 'residue_index': (4, 116), 'seq_length': (4,), 'is_distillation': (4,), 'seq_mask': (4, 116), 'msa_mask': (4, 512, 116), 'msa_row_mask': (4, 512), 'random_crop_to_size_seed': (4, 2), 'atom14_atom_exists': (4, 116, 14), 'residx_atom14_to_atom37': (4, 116, 14), 'residx_atom37_to_atom14': (4, 116, 37), 'atom37_atom_exists': (4, 116, 37), 'extra_msa': (4, 1024, 116), 'extra_msa_mask': (4, 1024, 116), 'extra_msa_row_mask': (4, 1024), 'bert_mask': (4, 512, 116), 'true_msa': (4, 512, 116), 'extra_has_deletion': (4, 1024, 116), 'extra_deletion_value': (4, 1024, 116), 'msa_feat': (4, 512, 116, 49), 'target_feat': (4, 116, 22)}\n",
            "I0714 13:51:27.149780 139386310723392 model.py:175] Output shape was {'distogram': {'bin_edges': (63,), 'logits': (116, 116, 64)}, 'experimentally_resolved': {'logits': (116, 37)}, 'masked_msa': {'logits': (512, 116, 23)}, 'predicted_lddt': {'logits': (116, 50)}, 'structure_module': {'final_atom_mask': (116, 37), 'final_atom_positions': (116, 37, 3)}, 'plddt': (116,), 'ranking_confidence': ()}\n",
            "I0714 13:51:27.149982 139386310723392 parjax_cla_multi_GoogleColab.py:144] Total JAX model model_5_pred_0 on 8PBV predict time (includes compilation time, see --benchmark): 133.2s\n",
            "I0714 13:51:27.150118 139386310723392 model.py:165] Running predict with shape(feat) = {'aatype': (4, 116), 'residue_index': (4, 116), 'seq_length': (4,), 'is_distillation': (4,), 'seq_mask': (4, 116), 'msa_mask': (4, 512, 116), 'msa_row_mask': (4, 512), 'random_crop_to_size_seed': (4, 2), 'atom14_atom_exists': (4, 116, 14), 'residx_atom14_to_atom37': (4, 116, 14), 'residx_atom37_to_atom14': (4, 116, 37), 'atom37_atom_exists': (4, 116, 37), 'extra_msa': (4, 1024, 116), 'extra_msa_mask': (4, 1024, 116), 'extra_msa_row_mask': (4, 1024), 'bert_mask': (4, 512, 116), 'true_msa': (4, 512, 116), 'extra_has_deletion': (4, 1024, 116), 'extra_deletion_value': (4, 1024, 116), 'msa_feat': (4, 512, 116, 49), 'target_feat': (4, 116, 22)}\n",
            "I0714 13:51:53.242446 139386310723392 model.py:175] Output shape was {'distogram': {'bin_edges': (63,), 'logits': (116, 116, 64)}, 'experimentally_resolved': {'logits': (116, 37)}, 'masked_msa': {'logits': (512, 116, 23)}, 'predicted_lddt': {'logits': (116, 50)}, 'structure_module': {'final_atom_mask': (116, 37), 'final_atom_positions': (116, 37, 3)}, 'plddt': (116,), 'ranking_confidence': ()}\n",
            "I0714 13:51:53.242750 139386310723392 parjax_cla_multi_GoogleColab.py:154] Total JAX model model_5_pred_0 on 8PBV predict time (excludes compilation time): 26.1s\n",
            "I0714 13:51:57.279586 139386310723392 amber_minimize.py:178] alterations info: {'nonstandard_residues': [], 'removed_heterogens': set(), 'missing_residues': {}, 'missing_heavy_atoms': {}, 'missing_terminals': {<Residue 115 (GLN) of chain 0>: ['OXT']}, 'Se_in_MET': [], 'removed_chains': {0: []}}\n",
            "I0714 13:51:57.402986 139386310723392 amber_minimize.py:408] Minimizing protein, attempt 1 of 100.\n",
            "I0714 13:51:57.757062 139386310723392 amber_minimize.py:69] Restraining 915 / 1820 particles.\n",
            "I0714 13:51:59.848262 139386310723392 amber_minimize.py:178] alterations info: {'nonstandard_residues': [], 'removed_heterogens': set(), 'missing_residues': {}, 'missing_heavy_atoms': {}, 'missing_terminals': {}, 'Se_in_MET': [], 'removed_chains': {0: []}}\n",
            "I0714 13:52:01.689906 139386310723392 amber_minimize.py:500] Iteration completed: Einit 4399.23 Efinal -2416.54 Time 1.68 s num residue violations 0 num residue exclusions 0 \n",
            "I0714 13:52:01.862807 139386310723392 parjax_cla_multi_GoogleColab.py:231] Final timings for 8PBV: {'process_features_model_1_pred_0': 2.0144240856170654, 'predict_and_compile_model_1_pred_0': 177.36579942703247, 'predict_benchmark_model_1_pred_0': 29.035073280334473, 'process_features_model_2_pred_0': 2.014672040939331, 'predict_and_compile_model_2_pred_0': 167.41616702079773, 'predict_benchmark_model_2_pred_0': 26.26945161819458, 'process_features_model_3_pred_0': 1.630575180053711, 'predict_and_compile_model_3_pred_0': 134.17103815078735, 'predict_benchmark_model_3_pred_0': 28.756263494491577, 'process_features_model_4_pred_0': 1.6583120822906494, 'predict_and_compile_model_4_pred_0': 133.6858937740326, 'predict_benchmark_model_4_pred_0': 28.889047384262085, 'process_features_model_5_pred_0': 1.5803818702697754, 'predict_and_compile_model_5_pred_0': 133.17890214920044, 'predict_benchmark_model_5_pred_0': 26.092698335647583, 'relax_model_5_pred_0': 8.592720985412598}\n",
            "I0714 13:52:01.863410 139386310723392 parjax_cla_multi_GoogleColab.py:308] 8PBV AlphaFold structure prediction COMPLETE\n",
            "I0714 13:52:01.863516 139386310723392 parjax_cla_multi_GoogleColab.py:107] Predicting 8EM5\n",
            "I0714 13:52:01.883702 139386310723392 parjax_cla_multi_GoogleColab.py:132] Running model model_1_pred_0 on 8EM5\n",
            "I0714 13:52:03.912451 139386310723392 model.py:165] Running predict with shape(feat) = {'aatype': (4, 103), 'residue_index': (4, 103), 'seq_length': (4,), 'template_aatype': (4, 4, 103), 'template_all_atom_masks': (4, 4, 103, 37), 'template_all_atom_positions': (4, 4, 103, 37, 3), 'template_sum_probs': (4, 4, 1), 'is_distillation': (4,), 'seq_mask': (4, 103), 'msa_mask': (4, 508, 103), 'msa_row_mask': (4, 508), 'random_crop_to_size_seed': (4, 2), 'template_mask': (4, 4), 'template_pseudo_beta': (4, 4, 103, 3), 'template_pseudo_beta_mask': (4, 4, 103), 'atom14_atom_exists': (4, 103, 14), 'residx_atom14_to_atom37': (4, 103, 14), 'residx_atom37_to_atom14': (4, 103, 37), 'atom37_atom_exists': (4, 103, 37), 'extra_msa': (4, 5120, 103), 'extra_msa_mask': (4, 5120, 103), 'extra_msa_row_mask': (4, 5120), 'bert_mask': (4, 508, 103), 'true_msa': (4, 508, 103), 'extra_has_deletion': (4, 5120, 103), 'extra_deletion_value': (4, 5120, 103), 'msa_feat': (4, 508, 103, 49), 'target_feat': (4, 103, 22)}\n",
            "I0714 13:55:07.775116 139386310723392 model.py:175] Output shape was {'distogram': {'bin_edges': (63,), 'logits': (103, 103, 64)}, 'experimentally_resolved': {'logits': (103, 37)}, 'masked_msa': {'logits': (508, 103, 23)}, 'predicted_lddt': {'logits': (103, 50)}, 'structure_module': {'final_atom_mask': (103, 37), 'final_atom_positions': (103, 37, 3)}, 'plddt': (103,), 'ranking_confidence': ()}\n",
            "I0714 13:55:07.775332 139386310723392 parjax_cla_multi_GoogleColab.py:144] Total JAX model model_1_pred_0 on 8EM5 predict time (includes compilation time, see --benchmark): 183.9s\n",
            "I0714 13:55:07.775587 139386310723392 model.py:165] Running predict with shape(feat) = {'aatype': (4, 103), 'residue_index': (4, 103), 'seq_length': (4,), 'template_aatype': (4, 4, 103), 'template_all_atom_masks': (4, 4, 103, 37), 'template_all_atom_positions': (4, 4, 103, 37, 3), 'template_sum_probs': (4, 4, 1), 'is_distillation': (4,), 'seq_mask': (4, 103), 'msa_mask': (4, 508, 103), 'msa_row_mask': (4, 508), 'random_crop_to_size_seed': (4, 2), 'template_mask': (4, 4), 'template_pseudo_beta': (4, 4, 103, 3), 'template_pseudo_beta_mask': (4, 4, 103), 'atom14_atom_exists': (4, 103, 14), 'residx_atom14_to_atom37': (4, 103, 14), 'residx_atom37_to_atom14': (4, 103, 37), 'atom37_atom_exists': (4, 103, 37), 'extra_msa': (4, 5120, 103), 'extra_msa_mask': (4, 5120, 103), 'extra_msa_row_mask': (4, 5120), 'bert_mask': (4, 508, 103), 'true_msa': (4, 508, 103), 'extra_has_deletion': (4, 5120, 103), 'extra_deletion_value': (4, 5120, 103), 'msa_feat': (4, 508, 103, 49), 'target_feat': (4, 103, 22)}\n",
            "I0714 13:55:34.492129 139386310723392 model.py:175] Output shape was {'distogram': {'bin_edges': (63,), 'logits': (103, 103, 64)}, 'experimentally_resolved': {'logits': (103, 37)}, 'masked_msa': {'logits': (508, 103, 23)}, 'predicted_lddt': {'logits': (103, 50)}, 'structure_module': {'final_atom_mask': (103, 37), 'final_atom_positions': (103, 37, 3)}, 'plddt': (103,), 'ranking_confidence': ()}\n",
            "I0714 13:55:34.492352 139386310723392 parjax_cla_multi_GoogleColab.py:154] Total JAX model model_1_pred_0 on 8EM5 predict time (excludes compilation time): 26.7s\n",
            "I0714 13:55:34.525634 139386310723392 parjax_cla_multi_GoogleColab.py:132] Running model model_2_pred_0 on 8EM5\n",
            "I0714 13:55:36.707750 139386310723392 model.py:165] Running predict with shape(feat) = {'aatype': (4, 103), 'residue_index': (4, 103), 'seq_length': (4,), 'template_aatype': (4, 4, 103), 'template_all_atom_masks': (4, 4, 103, 37), 'template_all_atom_positions': (4, 4, 103, 37, 3), 'template_sum_probs': (4, 4, 1), 'is_distillation': (4,), 'seq_mask': (4, 103), 'msa_mask': (4, 508, 103), 'msa_row_mask': (4, 508), 'random_crop_to_size_seed': (4, 2), 'template_mask': (4, 4), 'template_pseudo_beta': (4, 4, 103, 3), 'template_pseudo_beta_mask': (4, 4, 103), 'atom14_atom_exists': (4, 103, 14), 'residx_atom14_to_atom37': (4, 103, 14), 'residx_atom37_to_atom14': (4, 103, 37), 'atom37_atom_exists': (4, 103, 37), 'extra_msa': (4, 1024, 103), 'extra_msa_mask': (4, 1024, 103), 'extra_msa_row_mask': (4, 1024), 'bert_mask': (4, 508, 103), 'true_msa': (4, 508, 103), 'extra_has_deletion': (4, 1024, 103), 'extra_deletion_value': (4, 1024, 103), 'msa_feat': (4, 508, 103, 49), 'target_feat': (4, 103, 22)}\n",
            "I0714 13:58:32.560940 139386310723392 model.py:175] Output shape was {'distogram': {'bin_edges': (63,), 'logits': (103, 103, 64)}, 'experimentally_resolved': {'logits': (103, 37)}, 'masked_msa': {'logits': (508, 103, 23)}, 'predicted_lddt': {'logits': (103, 50)}, 'structure_module': {'final_atom_mask': (103, 37), 'final_atom_positions': (103, 37, 3)}, 'plddt': (103,), 'ranking_confidence': ()}\n",
            "I0714 13:58:32.561164 139386310723392 parjax_cla_multi_GoogleColab.py:144] Total JAX model model_2_pred_0 on 8EM5 predict time (includes compilation time, see --benchmark): 175.9s\n",
            "I0714 13:58:32.561327 139386310723392 model.py:165] Running predict with shape(feat) = {'aatype': (4, 103), 'residue_index': (4, 103), 'seq_length': (4,), 'template_aatype': (4, 4, 103), 'template_all_atom_masks': (4, 4, 103, 37), 'template_all_atom_positions': (4, 4, 103, 37, 3), 'template_sum_probs': (4, 4, 1), 'is_distillation': (4,), 'seq_mask': (4, 103), 'msa_mask': (4, 508, 103), 'msa_row_mask': (4, 508), 'random_crop_to_size_seed': (4, 2), 'template_mask': (4, 4), 'template_pseudo_beta': (4, 4, 103, 3), 'template_pseudo_beta_mask': (4, 4, 103), 'atom14_atom_exists': (4, 103, 14), 'residx_atom14_to_atom37': (4, 103, 14), 'residx_atom37_to_atom14': (4, 103, 37), 'atom37_atom_exists': (4, 103, 37), 'extra_msa': (4, 1024, 103), 'extra_msa_mask': (4, 1024, 103), 'extra_msa_row_mask': (4, 1024), 'bert_mask': (4, 508, 103), 'true_msa': (4, 508, 103), 'extra_has_deletion': (4, 1024, 103), 'extra_deletion_value': (4, 1024, 103), 'msa_feat': (4, 508, 103, 49), 'target_feat': (4, 103, 22)}\n",
            "I0714 13:58:56.692305 139386310723392 model.py:175] Output shape was {'distogram': {'bin_edges': (63,), 'logits': (103, 103, 64)}, 'experimentally_resolved': {'logits': (103, 37)}, 'masked_msa': {'logits': (508, 103, 23)}, 'predicted_lddt': {'logits': (103, 50)}, 'structure_module': {'final_atom_mask': (103, 37), 'final_atom_positions': (103, 37, 3)}, 'plddt': (103,), 'ranking_confidence': ()}\n",
            "I0714 13:58:56.692538 139386310723392 parjax_cla_multi_GoogleColab.py:154] Total JAX model model_2_pred_0 on 8EM5 predict time (excludes compilation time): 24.1s\n",
            "I0714 13:58:56.714297 139386310723392 parjax_cla_multi_GoogleColab.py:132] Running model model_3_pred_0 on 8EM5\n",
            "I0714 13:58:58.432284 139386310723392 model.py:165] Running predict with shape(feat) = {'aatype': (4, 103), 'residue_index': (4, 103), 'seq_length': (4,), 'is_distillation': (4,), 'seq_mask': (4, 103), 'msa_mask': (4, 512, 103), 'msa_row_mask': (4, 512), 'random_crop_to_size_seed': (4, 2), 'atom14_atom_exists': (4, 103, 14), 'residx_atom14_to_atom37': (4, 103, 14), 'residx_atom37_to_atom14': (4, 103, 37), 'atom37_atom_exists': (4, 103, 37), 'extra_msa': (4, 5120, 103), 'extra_msa_mask': (4, 5120, 103), 'extra_msa_row_mask': (4, 5120), 'bert_mask': (4, 512, 103), 'true_msa': (4, 512, 103), 'extra_has_deletion': (4, 5120, 103), 'extra_deletion_value': (4, 5120, 103), 'msa_feat': (4, 512, 103, 49), 'target_feat': (4, 103, 22)}\n",
            "I0714 14:01:17.630595 139386310723392 model.py:175] Output shape was {'distogram': {'bin_edges': (63,), 'logits': (103, 103, 64)}, 'experimentally_resolved': {'logits': (103, 37)}, 'masked_msa': {'logits': (512, 103, 23)}, 'predicted_lddt': {'logits': (103, 50)}, 'structure_module': {'final_atom_mask': (103, 37), 'final_atom_positions': (103, 37, 3)}, 'plddt': (103,), 'ranking_confidence': ()}\n",
            "I0714 14:01:17.630819 139386310723392 parjax_cla_multi_GoogleColab.py:144] Total JAX model model_3_pred_0 on 8EM5 predict time (includes compilation time, see --benchmark): 139.2s\n",
            "I0714 14:01:17.630947 139386310723392 model.py:165] Running predict with shape(feat) = {'aatype': (4, 103), 'residue_index': (4, 103), 'seq_length': (4,), 'is_distillation': (4,), 'seq_mask': (4, 103), 'msa_mask': (4, 512, 103), 'msa_row_mask': (4, 512), 'random_crop_to_size_seed': (4, 2), 'atom14_atom_exists': (4, 103, 14), 'residx_atom14_to_atom37': (4, 103, 14), 'residx_atom37_to_atom14': (4, 103, 37), 'atom37_atom_exists': (4, 103, 37), 'extra_msa': (4, 5120, 103), 'extra_msa_mask': (4, 5120, 103), 'extra_msa_row_mask': (4, 5120), 'bert_mask': (4, 512, 103), 'true_msa': (4, 512, 103), 'extra_has_deletion': (4, 5120, 103), 'extra_deletion_value': (4, 5120, 103), 'msa_feat': (4, 512, 103, 49), 'target_feat': (4, 103, 22)}\n",
            "I0714 14:01:44.290864 139386310723392 model.py:175] Output shape was {'distogram': {'bin_edges': (63,), 'logits': (103, 103, 64)}, 'experimentally_resolved': {'logits': (103, 37)}, 'masked_msa': {'logits': (512, 103, 23)}, 'predicted_lddt': {'logits': (103, 50)}, 'structure_module': {'final_atom_mask': (103, 37), 'final_atom_positions': (103, 37, 3)}, 'plddt': (103,), 'ranking_confidence': ()}\n",
            "I0714 14:01:44.291065 139386310723392 parjax_cla_multi_GoogleColab.py:154] Total JAX model model_3_pred_0 on 8EM5 predict time (excludes compilation time): 26.7s\n",
            "I0714 14:01:44.319363 139386310723392 parjax_cla_multi_GoogleColab.py:132] Running model model_4_pred_0 on 8EM5\n",
            "I0714 14:01:46.079571 139386310723392 model.py:165] Running predict with shape(feat) = {'aatype': (4, 103), 'residue_index': (4, 103), 'seq_length': (4,), 'is_distillation': (4,), 'seq_mask': (4, 103), 'msa_mask': (4, 512, 103), 'msa_row_mask': (4, 512), 'random_crop_to_size_seed': (4, 2), 'atom14_atom_exists': (4, 103, 14), 'residx_atom14_to_atom37': (4, 103, 14), 'residx_atom37_to_atom14': (4, 103, 37), 'atom37_atom_exists': (4, 103, 37), 'extra_msa': (4, 5120, 103), 'extra_msa_mask': (4, 5120, 103), 'extra_msa_row_mask': (4, 5120), 'bert_mask': (4, 512, 103), 'true_msa': (4, 512, 103), 'extra_has_deletion': (4, 5120, 103), 'extra_deletion_value': (4, 5120, 103), 'msa_feat': (4, 512, 103, 49), 'target_feat': (4, 103, 22)}\n",
            "I0714 14:04:01.934189 139386310723392 model.py:175] Output shape was {'distogram': {'bin_edges': (63,), 'logits': (103, 103, 64)}, 'experimentally_resolved': {'logits': (103, 37)}, 'masked_msa': {'logits': (512, 103, 23)}, 'predicted_lddt': {'logits': (103, 50)}, 'structure_module': {'final_atom_mask': (103, 37), 'final_atom_positions': (103, 37, 3)}, 'plddt': (103,), 'ranking_confidence': ()}\n",
            "I0714 14:04:01.934388 139386310723392 parjax_cla_multi_GoogleColab.py:144] Total JAX model model_4_pred_0 on 8EM5 predict time (includes compilation time, see --benchmark): 135.9s\n",
            "I0714 14:04:01.934509 139386310723392 model.py:165] Running predict with shape(feat) = {'aatype': (4, 103), 'residue_index': (4, 103), 'seq_length': (4,), 'is_distillation': (4,), 'seq_mask': (4, 103), 'msa_mask': (4, 512, 103), 'msa_row_mask': (4, 512), 'random_crop_to_size_seed': (4, 2), 'atom14_atom_exists': (4, 103, 14), 'residx_atom14_to_atom37': (4, 103, 14), 'residx_atom37_to_atom14': (4, 103, 37), 'atom37_atom_exists': (4, 103, 37), 'extra_msa': (4, 5120, 103), 'extra_msa_mask': (4, 5120, 103), 'extra_msa_row_mask': (4, 5120), 'bert_mask': (4, 512, 103), 'true_msa': (4, 512, 103), 'extra_has_deletion': (4, 5120, 103), 'extra_deletion_value': (4, 5120, 103), 'msa_feat': (4, 512, 103, 49), 'target_feat': (4, 103, 22)}\n",
            "I0714 14:04:28.606331 139386310723392 model.py:175] Output shape was {'distogram': {'bin_edges': (63,), 'logits': (103, 103, 64)}, 'experimentally_resolved': {'logits': (103, 37)}, 'masked_msa': {'logits': (512, 103, 23)}, 'predicted_lddt': {'logits': (103, 50)}, 'structure_module': {'final_atom_mask': (103, 37), 'final_atom_positions': (103, 37, 3)}, 'plddt': (103,), 'ranking_confidence': ()}\n",
            "I0714 14:04:28.606640 139386310723392 parjax_cla_multi_GoogleColab.py:154] Total JAX model model_4_pred_0 on 8EM5 predict time (excludes compilation time): 26.7s\n",
            "I0714 14:04:28.638485 139386310723392 parjax_cla_multi_GoogleColab.py:132] Running model model_5_pred_0 on 8EM5\n",
            "I0714 14:04:30.354017 139386310723392 model.py:165] Running predict with shape(feat) = {'aatype': (4, 103), 'residue_index': (4, 103), 'seq_length': (4,), 'is_distillation': (4,), 'seq_mask': (4, 103), 'msa_mask': (4, 512, 103), 'msa_row_mask': (4, 512), 'random_crop_to_size_seed': (4, 2), 'atom14_atom_exists': (4, 103, 14), 'residx_atom14_to_atom37': (4, 103, 14), 'residx_atom37_to_atom14': (4, 103, 37), 'atom37_atom_exists': (4, 103, 37), 'extra_msa': (4, 1024, 103), 'extra_msa_mask': (4, 1024, 103), 'extra_msa_row_mask': (4, 1024), 'bert_mask': (4, 512, 103), 'true_msa': (4, 512, 103), 'extra_has_deletion': (4, 1024, 103), 'extra_deletion_value': (4, 1024, 103), 'msa_feat': (4, 512, 103, 49), 'target_feat': (4, 103, 22)}\n",
            "I0714 14:06:45.368197 139386310723392 model.py:175] Output shape was {'distogram': {'bin_edges': (63,), 'logits': (103, 103, 64)}, 'experimentally_resolved': {'logits': (103, 37)}, 'masked_msa': {'logits': (512, 103, 23)}, 'predicted_lddt': {'logits': (103, 50)}, 'structure_module': {'final_atom_mask': (103, 37), 'final_atom_positions': (103, 37, 3)}, 'plddt': (103,), 'ranking_confidence': ()}\n",
            "I0714 14:06:45.368422 139386310723392 parjax_cla_multi_GoogleColab.py:144] Total JAX model model_5_pred_0 on 8EM5 predict time (includes compilation time, see --benchmark): 135.0s\n",
            "I0714 14:06:45.368560 139386310723392 model.py:165] Running predict with shape(feat) = {'aatype': (4, 103), 'residue_index': (4, 103), 'seq_length': (4,), 'is_distillation': (4,), 'seq_mask': (4, 103), 'msa_mask': (4, 512, 103), 'msa_row_mask': (4, 512), 'random_crop_to_size_seed': (4, 2), 'atom14_atom_exists': (4, 103, 14), 'residx_atom14_to_atom37': (4, 103, 14), 'residx_atom37_to_atom14': (4, 103, 37), 'atom37_atom_exists': (4, 103, 37), 'extra_msa': (4, 1024, 103), 'extra_msa_mask': (4, 1024, 103), 'extra_msa_row_mask': (4, 1024), 'bert_mask': (4, 512, 103), 'true_msa': (4, 512, 103), 'extra_has_deletion': (4, 1024, 103), 'extra_deletion_value': (4, 1024, 103), 'msa_feat': (4, 512, 103, 49), 'target_feat': (4, 103, 22)}\n",
            "I0714 14:07:09.441676 139386310723392 model.py:175] Output shape was {'distogram': {'bin_edges': (63,), 'logits': (103, 103, 64)}, 'experimentally_resolved': {'logits': (103, 37)}, 'masked_msa': {'logits': (512, 103, 23)}, 'predicted_lddt': {'logits': (103, 50)}, 'structure_module': {'final_atom_mask': (103, 37), 'final_atom_positions': (103, 37, 3)}, 'plddt': (103,), 'ranking_confidence': ()}\n",
            "I0714 14:07:09.441888 139386310723392 parjax_cla_multi_GoogleColab.py:154] Total JAX model model_5_pred_0 on 8EM5 predict time (excludes compilation time): 24.1s\n",
            "I0714 14:07:13.423176 139386310723392 amber_minimize.py:178] alterations info: {'nonstandard_residues': [], 'removed_heterogens': set(), 'missing_residues': {}, 'missing_heavy_atoms': {}, 'missing_terminals': {<Residue 102 (ALA) of chain 0>: ['OXT']}, 'Se_in_MET': [], 'removed_chains': {0: []}}\n",
            "I0714 14:07:13.654041 139386310723392 amber_minimize.py:408] Minimizing protein, attempt 1 of 100.\n",
            "I0714 14:07:13.847114 139386310723392 amber_minimize.py:69] Restraining 771 / 1522 particles.\n",
            "I0714 14:07:15.850759 139386310723392 amber_minimize.py:178] alterations info: {'nonstandard_residues': [], 'removed_heterogens': set(), 'missing_residues': {}, 'missing_heavy_atoms': {}, 'missing_terminals': {}, 'Se_in_MET': [], 'removed_chains': {0: []}}\n",
            "I0714 14:07:17.649383 139386310723392 amber_minimize.py:500] Iteration completed: Einit 18781.95 Efinal -1478.54 Time 1.45 s num residue violations 0 num residue exclusions 0 \n",
            "I0714 14:07:17.696571 139386310723392 parjax_cla_multi_GoogleColab.py:231] Final timings for 8EM5: {'process_features_model_1_pred_0': 2.0269830226898193, 'predict_and_compile_model_1_pred_0': 183.86453914642334, 'predict_benchmark_model_1_pred_0': 26.716912746429443, 'process_features_model_2_pred_0': 2.1796982288360596, 'predict_and_compile_model_2_pred_0': 175.85568523406982, 'predict_benchmark_model_2_pred_0': 24.131290674209595, 'process_features_model_3_pred_0': 1.717714786529541, 'predict_and_compile_model_3_pred_0': 139.19867491722107, 'predict_benchmark_model_3_pred_0': 26.66018295288086, 'process_features_model_4_pred_0': 1.7599210739135742, 'predict_and_compile_model_4_pred_0': 135.85496425628662, 'predict_benchmark_model_4_pred_0': 26.672182083129883, 'process_features_model_5_pred_0': 1.7152535915374756, 'predict_and_compile_model_5_pred_0': 135.01453399658203, 'predict_benchmark_model_5_pred_0': 24.073405981063843, 'relax_model_4_pred_0': 8.224481344223022}\n",
            "I0714 14:07:17.697167 139386310723392 parjax_cla_multi_GoogleColab.py:308] 8EM5 AlphaFold structure prediction COMPLETE\n"
          ]
        }
      ],
      "source": [
        "%%bash\n",
        "source activate parafold\n",
        "\n",
        "python parjax_cla_multi_GoogleColab.py \\\n",
        "  --fasta_paths=/content/jaxalpha/multi/8D27/8D27.fasta,/content/jaxalpha/multi/7PZT/7PZT.fasta,/content/jaxalpha/multi/7ROA/7ROA.fasta,/content/jaxalpha/multi/8PBV/8PBV.fasta,/content/jaxalpha/multi/8EM5/8EM5.fasta  \\\n",
        "  --output_dir=/content/jaxalpha/multi/out_multi_A_Z/11_15 \\\n",
        "  --parameter_path=/content/ParallelFold/params \\\n",
        "  --feature_files=/content/jaxalpha/multi/8D27/feature.pkl,/content/jaxalpha/multi/7PZT/feature.pkl,/content/jaxalpha/multi/7ROA/feature.pkl,/content/jaxalpha/multi/8PBV/feature.pkl,/content/jaxalpha/multi/8EM5/feature.pkl \\\n",
        "  --use_gpu_relax=true \\\n",
        "  --benchmark=true\n",
        "\n"
      ]
    },
    {
      "cell_type": "code",
      "source": [
        "log_execution_time(start_time, cell_title)\n",
        "log_execution_time(code_start_time, from_beginning_to_end)"
      ],
      "metadata": {
        "id": "VHsqPxzNHonp"
      },
      "execution_count": 17,
      "outputs": []
    },
    {
      "cell_type": "code",
      "execution_count": 18,
      "metadata": {
        "id": "W-_pdPajkI_n"
      },
      "outputs": [],
      "source": [
        "#@title zip_output\n",
        "%%capture\n",
        "cell_title = \"zip_output\"\n",
        "start_time = time.time()\n",
        "\n",
        "import zipfile\n",
        "import os\n",
        "from google.colab import drive\n",
        "\n",
        "# Mount Google Drive\n",
        "drive.mount('/content/drive')\n",
        "\n",
        "!cp /content/time_cell_benchmark.txt /content/jaxalpha/multi/out_multi_A_Z/11_15\n",
        "# Define the folder to zip\n",
        "folder_to_zip = '/content/jaxalpha/multi/out_multi_A_Z/11_15'\n",
        "\n",
        "# Define the output zip file name and path (in Google Drive)\n",
        "output_filename = '/content/drive/My Drive/benchmark_11_15_A_Z_T4.zip'\n",
        "\n",
        "# Create the zip file\n",
        "with zipfile.ZipFile(output_filename, 'w', zipfile.ZIP_DEFLATED) as zipf:\n",
        "    for root, dirs, files in os.walk(folder_to_zip):\n",
        "        for file in files:\n",
        "            zipf.write(os.path.join(root, file),\n",
        "                       os.path.relpath(os.path.join(root, file),\n",
        "                                       os.path.join(folder_to_zip, '..')))\n",
        "\n",
        "log_execution_time(start_time, cell_title)"
      ]
    }
  ],
  "metadata": {
    "colab": {
      "provenance": [],
      "machine_shape": "hm",
      "gpuType": "T4",
      "include_colab_link": true
    },
    "kernelspec": {
      "display_name": "Python 3",
      "name": "python3"
    },
    "language_info": {
      "name": "python"
    },
    "accelerator": "GPU"
  },
  "nbformat": 4,
  "nbformat_minor": 0
}